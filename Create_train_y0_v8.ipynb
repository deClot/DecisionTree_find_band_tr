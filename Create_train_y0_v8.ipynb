{
 "cells": [
  {
   "cell_type": "code",
   "execution_count": 101,
   "metadata": {},
   "outputs": [],
   "source": [
    "import random\n",
    "import csv\n",
    "import numpy as np\n"
   ]
  },
  {
   "cell_type": "code",
   "execution_count": 103,
   "metadata": {},
   "outputs": [],
   "source": [
    "band_name = 'v8'\n",
    "max_numbers = 500\n",
    "data_0 = []"
   ]
  },
  {
   "cell_type": "code",
   "execution_count": 98,
   "metadata": {},
   "outputs": [],
   "source": [
    "for i in range(max_numbers):\n",
    "    ini = random.uniform(0, 3.5)\n",
    "    #print(ini)\n",
    "    \n",
    "    deltas = deltas = [0] + [(lambda x: random.uniform(0, 0.3))(x) for x in range(5)]\n",
    "    #print(deltas)\n",
    "    new = []\n",
    "    for delta in deltas:\n",
    "        ini = ini + delta\n",
    "        new.append(ini)\n",
    "    data_0.append(new + [0.])\n",
    "    \n",
    "    ini = random.uniform(0, 3.5) \n",
    "    new = []\n",
    "    for delta in deltas:\n",
    "        ini = ini - delta\n",
    "        new.append(ini)\n",
    "    #print(new)\n",
    "    data_0.append(new + [0.])\n",
    "        \n"
   ]
  },
  {
   "cell_type": "code",
   "execution_count": 99,
   "metadata": {},
   "outputs": [
    {
     "name": "stdout",
     "output_type": "stream",
     "text": [
      "1000\n"
     ]
    }
   ],
   "source": [
    "print(len(data_0))"
   ]
  },
  {
   "cell_type": "code",
   "execution_count": 105,
   "metadata": {},
   "outputs": [],
   "source": [
    "data_train = np.array(data_0)\n",
    "\n",
    "file_csv = open('sources/train_y0_rand_'+band_name+'.csv', 'w', newline='')\n",
    "filewriter = csv.writer(file_csv, delimiter=',',\n",
    "                            quotechar='|', quoting=csv.QUOTE_MINIMAL)\n",
    "filewriter.writerow([1,2,3,4,5,6,'Y'])\n",
    "for i in range(data_train.shape[0]):\n",
    "    filewriter.writerow(data_train[i,:])\n",
    "    \n",
    "file_csv.close()\n",
    "  "
   ]
  },
  {
   "cell_type": "code",
   "execution_count": null,
   "metadata": {},
   "outputs": [],
   "source": []
  },
  {
   "cell_type": "code",
   "execution_count": 9,
   "metadata": {},
   "outputs": [],
   "source": [
    "def create_deltas(line, y_label=False):\n",
    "    if y_label == True:\n",
    "        line = line[:-1]\n",
    "    deltas = [0]\n",
    "    for i in range(len(line)-1):\n",
    "        delta = line[i] - line[i+1]\n",
    "        deltas.append(delta)\n",
    "    return deltas\n"
   ]
  },
  {
   "cell_type": "code",
   "execution_count": 104,
   "metadata": {},
   "outputs": [],
   "source": [
    "sequence_v3 = [-0.377, -0.231, -0.2,   -0.155,  0.027,  0.402]\n",
    "sequence_v4 = [-0.483, -0.476, -0.335, -0.11,   0.059,  0.169]"
   ]
  },
  {
   "cell_type": "code",
   "execution_count": 10,
   "metadata": {},
   "outputs": [
    {
     "name": "stdout",
     "output_type": "stream",
     "text": [
      "[0, -0.146, -0.031, -0.04500000000000001, -0.182, -0.375]\n",
      "[0, -0.007000000000000006, -0.14099999999999996, -0.22500000000000003, -0.16899999999999998, -0.11000000000000001]\n"
     ]
    }
   ],
   "source": [
    "deltas_v3 = create_deltas(sequence_v3)\n",
    "print(deltas_v3)\n",
    "\n",
    "deltas_v4 = create_deltas(sequence_v4)\n",
    "print(deltas_v4)"
   ]
  }
 ],
 "metadata": {
  "kernelspec": {
   "display_name": "Python 3",
   "language": "python",
   "name": "python3"
  },
  "language_info": {
   "codemirror_mode": {
    "name": "ipython",
    "version": 3
   },
   "file_extension": ".py",
   "mimetype": "text/x-python",
   "name": "python",
   "nbconvert_exporter": "python",
   "pygments_lexer": "ipython3",
   "version": "3.7.0"
  }
 },
 "nbformat": 4,
 "nbformat_minor": 2
}
