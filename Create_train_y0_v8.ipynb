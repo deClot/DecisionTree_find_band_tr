{
 "cells": [
  {
   "cell_type": "code",
   "execution_count": 1,
   "metadata": {},
   "outputs": [],
   "source": [
    "import random\n",
    "import csv\n",
    "import numpy as np\n"
   ]
  },
  {
   "cell_type": "code",
   "execution_count": 2,
   "metadata": {},
   "outputs": [],
   "source": [
    "band_name = 'v8'\n",
    "max_numbers = 500\n",
    "data_0 = []"
   ]
  },
  {
   "cell_type": "code",
   "execution_count": 8,
   "metadata": {},
   "outputs": [],
   "source": [
    "def calculate_deltas(line):\n",
    "    deltas = [0]\n",
    "    for i in range(len(line)-1):\n",
    "        delta = line[i] - line[i+1]\n",
    "        deltas.append(delta)\n",
    "    return deltas"
   ]
  },
  {
   "cell_type": "code",
   "execution_count": 42,
   "metadata": {},
   "outputs": [],
   "source": [
    "def create_random_sequences(max_numbers, out=False):\n",
    "    data_0 = []\n",
    "    for i in range(max_numbers):\n",
    "        ini = random.uniform(0, 3.5)  #range for First value for sequence\n",
    "        deltas = [0] + [(lambda x: random.uniform(0, 0.3))(x) for x in range(5)]\n",
    "\n",
    "        new = []\n",
    "        for delta in deltas:\n",
    "            ini = ini + delta\n",
    "            new.append(ini)\n",
    "        \n",
    "        y = get_labels_y0_line(new, out=out)\n",
    "        data_0.append(new + y)\n",
    "        \n",
    "        ini = random.uniform(0, 3.5) \n",
    "        new = []\n",
    "        for delta in deltas:\n",
    "            ini = ini - delta\n",
    "            new.append(ini)\n",
    "            \n",
    "        y = get_labels_y0_line(new, out=out)\n",
    "        data_0.append(new + y)\n",
    "    return data_0\n",
    "\n",
    "        \n",
    "def get_labels_y0_line(line, out=False):\n",
    "    deltas = calculate_deltas(line)\n",
    "    deltas2 = calculate_deltas(deltas[1:])[1:]\n",
    "    \n",
    "    if out is True:\n",
    "        print('line', line)\n",
    "        print('d', deltas)\n",
    "        print('d2', deltas2)\n",
    "        \n",
    "    y = [1,1]\n",
    "    for delta in deltas2:\n",
    "        if abs(delta) > 0.02:\n",
    "            y.append(0)\n",
    "            break\n",
    "        else:\n",
    "            y.append(1)\n",
    "    while len(y) != 6:\n",
    "        y.append(0)\n",
    "    \n",
    "    return y\n"
   ]
  },
  {
   "cell_type": "code",
   "execution_count": 46,
   "metadata": {},
   "outputs": [
    {
     "name": "stdout",
     "output_type": "stream",
     "text": [
      "50000\n"
     ]
    }
   ],
   "source": [
    "data_0= create_random_sequences(25000, out=False)\n",
    "print(len(data_0))"
   ]
  },
  {
   "cell_type": "code",
   "execution_count": 47,
   "metadata": {},
   "outputs": [],
   "source": [
    "data_train = np.array(data_0)\n",
    "\n",
    "file_csv = open('sources/train_y0_rand.csv', 'w', newline='')\n",
    "filewriter = csv.writer(file_csv, delimiter=',',\n",
    "                            quotechar='|', quoting=csv.QUOTE_MINIMAL)\n",
    "filewriter.writerow([1,2,3,4,5,6,'Y1','Y2','Y3','Y4','Y5','Y6'])\n",
    "for i in range(data_train.shape[0]):\n",
    "    filewriter.writerow(data_train[i,:])\n",
    "    \n",
    "file_csv.close()\n",
    "  "
   ]
  },
  {
   "cell_type": "code",
   "execution_count": 108,
   "metadata": {},
   "outputs": [],
   "source": []
  },
  {
   "cell_type": "code",
   "execution_count": 110,
   "metadata": {},
   "outputs": [
    {
     "name": "stdout",
     "output_type": "stream",
     "text": [
      "9634\n"
     ]
    }
   ],
   "source": [
    "with open('sources/train_y1_v8.csv', 'r') as file_y1:\n",
    "    reader = csv.reader(file_y1)\n",
    "    data = list(reader)\n",
    "data2 = []\n",
    "for i in range(1, len(data)):\n",
    "    data2.append(list(map(float, data[i])))\n",
    "data = data2    \n",
    "print(len(data))"
   ]
  },
  {
   "cell_type": "code",
   "execution_count": 89,
   "metadata": {},
   "outputs": [],
   "source": [
    "def change_one_value_in_sequence(line_ini, i, delta=0):\n",
    "    line_add = line_ini.copy()\n",
    "    line_add[i] = line_ini[i] + delta\n",
    "    y_index = i + 6\n",
    "    for j in range(y_index, len(line_ini)):\n",
    "        line_add[j] = 0.\n",
    "    #print(line_add)\n",
    "    return line_add\n",
    "    "
   ]
  },
  {
   "cell_type": "code",
   "execution_count": 119,
   "metadata": {},
   "outputs": [
    {
     "name": "stdout",
     "output_type": "stream",
     "text": [
      "25692\n"
     ]
    }
   ],
   "source": [
    "data_add = []\n",
    "for i in range(2, 6):\n",
    "    delta = 0.01\n",
    "    for j, line in enumerate(data):\n",
    "        if (j+1) % 3 == 0:\n",
    "            continue\n",
    "        #print(j,delta)\n",
    "        line_add = change_one_value_in_sequence(line, i, delta=delta)\n",
    "        data_add.append(line_add)\n",
    "        delta *= (-1)        \n",
    "print(len(data_add))\n"
   ]
  },
  {
   "cell_type": "code",
   "execution_count": 121,
   "metadata": {},
   "outputs": [],
   "source": [
    "data_train = np.array(data_add)\n",
    "\n",
    "file_csv = open('sources/train_y0_change_1_to_close.csv', 'w', newline='')\n",
    "filewriter = csv.writer(file_csv, delimiter=',',\n",
    "                            quotechar='|', quoting=csv.QUOTE_MINIMAL)\n",
    "filewriter.writerow([1,2,3,4,5,6,'Y1','Y2','Y3','Y4','Y5','Y6'])\n",
    "for i in range(data_train.shape[0]):\n",
    "    filewriter.writerow(data_train[i,:])\n",
    "    \n",
    "file_csv.close()\n",
    "  "
   ]
  },
  {
   "cell_type": "code",
   "execution_count": null,
   "metadata": {},
   "outputs": [],
   "source": []
  }
 ],
 "metadata": {
  "kernelspec": {
   "display_name": "Python 3",
   "language": "python",
   "name": "python3"
  },
  "language_info": {
   "codemirror_mode": {
    "name": "ipython",
    "version": 3
   },
   "file_extension": ".py",
   "mimetype": "text/x-python",
   "name": "python",
   "nbconvert_exporter": "python",
   "pygments_lexer": "ipython3",
   "version": "3.7.0"
  }
 },
 "nbformat": 4,
 "nbformat_minor": 2
}
