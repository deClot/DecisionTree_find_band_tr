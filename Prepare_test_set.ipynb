{
  "nbformat": 4,
  "nbformat_minor": 0,
  "metadata": {
    "colab": {
      "name": "Prepare_test_set.ipynb",
      "version": "0.3.2",
      "provenance": [],
      "collapsed_sections": []
    },
    "language_info": {
      "codemirror_mode": {
        "name": "ipython",
        "version": 3
      },
      "file_extension": ".py",
      "mimetype": "text/x-python",
      "name": "python",
      "nbconvert_exporter": "python",
      "pygments_lexer": "ipython3",
      "version": "3.7.0"
    },
    "kernelspec": {
      "display_name": "Python 3",
      "language": "python",
      "name": "python3"
    },
    "accelerator": "GPU"
  },
  "cells": [
    {
      "metadata": {
        "colab_type": "code",
        "id": "X6mAiK35DqMU",
        "outputId": "0b5af5d4-9fe0-40c7-fa24-b4cb11e277a6",
        "colab": {
          "resources": {
            "http://localhost:8080/nbextensions/google.colab/files.js": {
              "data": "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",
              "ok": true,
              "headers": [
                [
                  "content-type",
                  "application/javascript"
                ]
              ],
              "status": 200,
              "status_text": ""
            }
          },
          "base_uri": "https://localhost:8080/",
          "height": 74
        }
      },
      "cell_type": "code",
      "source": [
        "#files to open: GRU_sequence_weights.h5, folder Search/search, output, train.csv\n",
        "\n",
        "from google.colab import files\n",
        "\n",
        "uploaded = files.upload()\n"
      ],
      "execution_count": 15,
      "outputs": [
        {
          "output_type": "display_data",
          "data": {
            "text/html": [
              "\n",
              "     <input type=\"file\" id=\"files-32c5ceed-1855-4530-a1fa-d8c22c7d5cb3\" name=\"files[]\" multiple disabled />\n",
              "     <output id=\"result-32c5ceed-1855-4530-a1fa-d8c22c7d5cb3\">\n",
              "      Upload widget is only available when the cell has been executed in the\n",
              "      current browser session. Please rerun this cell to enable.\n",
              "      </output>\n",
              "      <script src=\"/nbextensions/google.colab/files.js\"></script> "
            ],
            "text/plain": [
              "<IPython.core.display.HTML object>"
            ]
          },
          "metadata": {
            "tags": []
          }
        },
        {
          "output_type": "stream",
          "text": [
            "Saving train.csv to train.csv\n"
          ],
          "name": "stdout"
        }
      ]
    },
    {
      "metadata": {
        "id": "s0Xtsth6E7Zr",
        "colab_type": "code",
        "colab": {}
      },
      "cell_type": "code",
      "source": [
        "import os\n",
        "import shutil \n",
        "import numpy as np\n",
        "import pandas as pd\n",
        "from sklearn.preprocessing import StandardScaler\n",
        "\n",
        "\n",
        "def deltas_in_search(file_name = 'search'):\n",
        "    file_search = open(file_name, 'r')\n",
        "\n",
        "    count = 0\n",
        "    for line in file_search:\n",
        "        count +=1\n",
        "        if count == 5:\n",
        "            break\n",
        "        continue\n",
        "\n",
        "    deltas = {}\n",
        "\n",
        "    for line in file_search:\n",
        "        if line.find('Searching') != -1:\n",
        "            J0 = int(line.split()[1])\n",
        "            deltas[J0] = []\n",
        "            E0 = float(line.split()[-1])\n",
        "            continue\n",
        "\n",
        "        if line.find('No') != -1 or \\\n",
        "           len(line.split()) == 0 or \\\n",
        "           int(line.split()[0]) != int(J0) - 1:\n",
        "            continue\n",
        "\n",
        "        try:\n",
        "            E = float(line.split()[-1])\n",
        "            delta = round(E - E0, 3)\n",
        "            deltas[J0].append(delta)\n",
        "        except ValueError:\n",
        "            break\n",
        "            \n",
        "    return deltas\n"
      ],
      "execution_count": 0,
      "outputs": []
    },
    {
      "metadata": {
        "colab_type": "code",
        "id": "KjdJPCVvfm4c",
        "colab": {
          "base_uri": "https://localhost:8080/",
          "height": 231
        },
        "outputId": "1881e5d1-d580-44c1-d9f9-165d9e7d7937"
      },
      "cell_type": "code",
      "source": [
        "import csv\n",
        "import random\n",
        "random.seed(227)\n",
        "\n",
        "file_csv = open('output_predictions', 'w', newline='')\n",
        "\n",
        "filewriter = csv.writer(file_csv, delimiter=',',\n",
        "                            quotechar='|', quoting=csv.QUOTE_MINIMAL)\n",
        "filewriter.writerow([1,2,3,4,5,6])\n",
        "for i in range(int(len(data)/2), len(data)):\n",
        "    filewriter.writerow(data[i])\n",
        "\n",
        "#files.download('train.csv')"
      ],
      "execution_count": 4,
      "outputs": [
        {
          "output_type": "error",
          "ename": "NameError",
          "evalue": "ignored",
          "traceback": [
            "\u001b[0;31m---------------------------------------------------------------------------\u001b[0m",
            "\u001b[0;31mNameError\u001b[0m                                 Traceback (most recent call last)",
            "\u001b[0;32m<ipython-input-4-49dfd05ad09f>\u001b[0m in \u001b[0;36m<module>\u001b[0;34m()\u001b[0m\n\u001b[1;32m      8\u001b[0m                             quotechar='|', quoting=csv.QUOTE_MINIMAL)\n\u001b[1;32m      9\u001b[0m \u001b[0mfilewriter\u001b[0m\u001b[0;34m.\u001b[0m\u001b[0mwriterow\u001b[0m\u001b[0;34m(\u001b[0m\u001b[0;34m[\u001b[0m\u001b[0;36m1\u001b[0m\u001b[0;34m,\u001b[0m\u001b[0;36m2\u001b[0m\u001b[0;34m,\u001b[0m\u001b[0;36m3\u001b[0m\u001b[0;34m,\u001b[0m\u001b[0;36m4\u001b[0m\u001b[0;34m,\u001b[0m\u001b[0;36m5\u001b[0m\u001b[0;34m,\u001b[0m\u001b[0;36m6\u001b[0m\u001b[0;34m]\u001b[0m\u001b[0;34m)\u001b[0m\u001b[0;34m\u001b[0m\u001b[0;34m\u001b[0m\u001b[0m\n\u001b[0;32m---> 10\u001b[0;31m \u001b[0;32mfor\u001b[0m \u001b[0mi\u001b[0m \u001b[0;32min\u001b[0m \u001b[0mrange\u001b[0m\u001b[0;34m(\u001b[0m\u001b[0mint\u001b[0m\u001b[0;34m(\u001b[0m\u001b[0mlen\u001b[0m\u001b[0;34m(\u001b[0m\u001b[0mdata\u001b[0m\u001b[0;34m)\u001b[0m\u001b[0;34m/\u001b[0m\u001b[0;36m2\u001b[0m\u001b[0;34m)\u001b[0m\u001b[0;34m,\u001b[0m \u001b[0mlen\u001b[0m\u001b[0;34m(\u001b[0m\u001b[0mdata\u001b[0m\u001b[0;34m)\u001b[0m\u001b[0;34m)\u001b[0m\u001b[0;34m:\u001b[0m\u001b[0;34m\u001b[0m\u001b[0;34m\u001b[0m\u001b[0m\n\u001b[0m\u001b[1;32m     11\u001b[0m     \u001b[0mfilewriter\u001b[0m\u001b[0;34m.\u001b[0m\u001b[0mwriterow\u001b[0m\u001b[0;34m(\u001b[0m\u001b[0mdata\u001b[0m\u001b[0;34m[\u001b[0m\u001b[0mi\u001b[0m\u001b[0;34m]\u001b[0m\u001b[0;34m)\u001b[0m\u001b[0;34m\u001b[0m\u001b[0;34m\u001b[0m\u001b[0m\n\u001b[1;32m     12\u001b[0m \u001b[0;34m\u001b[0m\u001b[0m\n",
            "\u001b[0;31mNameError\u001b[0m: name 'data' is not defined"
          ]
        }
      ]
    },
    {
      "metadata": {
        "colab_type": "code",
        "id": "cZUpGGAkgMsz",
        "colab": {}
      },
      "cell_type": "code",
      "source": [
        "file_csv.close()\n",
        "files.download('test.csv')\n"
      ],
      "execution_count": 0,
      "outputs": []
    },
    {
      "metadata": {
        "id": "BeKlXHSNE7ZL",
        "colab_type": "code",
        "outputId": "25dd044d-2f9f-4b22-8435-829fcd2bf171",
        "colab": {
          "base_uri": "https://localhost:8080/",
          "height": 34
        }
      },
      "cell_type": "code",
      "source": [
        "from keras.models import Model\n",
        "from keras.layers import Dense, Input, GRU\n",
        "\n",
        "\n",
        "def model_GRU(input_shape, Ty):\n",
        "    i = Input(shape=input_shape, dtype='float32')\n",
        "    X = GRU(32, return_sequences=False)(i)\n",
        "    #X = LSTM(16, return_sequences=Flase)(i)\n",
        "    X = Dense(Ty, activation='sigmoid')(X)\n",
        "    model = Model(inputs=[i], outputs=X)\n",
        "    \n",
        "    return model"
      ],
      "execution_count": 5,
      "outputs": [
        {
          "output_type": "stream",
          "text": [
            "Using TensorFlow backend.\n"
          ],
          "name": "stderr"
        }
      ]
    },
    {
      "metadata": {
        "colab_type": "code",
        "id": "N6-yubn2x0eZ",
        "colab": {}
      },
      "cell_type": "code",
      "source": [
        "# LSTM model"
      ],
      "execution_count": 0,
      "outputs": []
    },
    {
      "metadata": {
        "id": "A3A-jKMgE7ZR",
        "colab_type": "code",
        "outputId": "dc370187-3a89-4bb7-d942-06412ef517c1",
        "colab": {}
      },
      "cell_type": "code",
      "source": [
        "Tx, Ty =  6, 1\n",
        "\n",
        "LSTM_model = model((Tx,1),Ty)\n",
        "print(LSTM_model.summary())\n",
        "LSTM_model.compile(loss='binary_crossentropy', optimizer='adam', metrics=['accuracy'])\n",
        "\n",
        "LSTM_model.load_weights('sources/LSTM_sequence_weights.h5')"
      ],
      "execution_count": 0,
      "outputs": [
        {
          "output_type": "stream",
          "text": [
            "_________________________________________________________________\n",
            "Layer (type)                 Output Shape              Param #   \n",
            "=================================================================\n",
            "input_1 (InputLayer)         (None, 6, 1)              0         \n",
            "_________________________________________________________________\n",
            "lstm_1 (LSTM)                (None, 16)                1152      \n",
            "_________________________________________________________________\n",
            "dense_1 (Dense)              (None, 1)                 17        \n",
            "=================================================================\n",
            "Total params: 1,169\n",
            "Trainable params: 1,169\n",
            "Non-trainable params: 0\n",
            "_________________________________________________________________\n",
            "None\n"
          ],
          "name": "stdout"
        }
      ]
    },
    {
      "metadata": {
        "id": "FT9hA_ADE7Zb",
        "colab_type": "text"
      },
      "cell_type": "markdown",
      "source": [
        "# GRU model"
      ]
    },
    {
      "metadata": {
        "id": "97tLt2UZE7Zb",
        "colab_type": "code",
        "colab": {}
      },
      "cell_type": "code",
      "source": [
        "Tx, Ty =  6, 1\n",
        "\n",
        "GRU_model = model_GRU((Tx,1),Ty)\n",
        "#print(LSTM_model.summary())\n",
        "GRU_model.compile(loss='binary_crossentropy', optimizer='adam', metrics=['accuracy'])\n",
        "\n",
        "#GRU_model.load_weights('sources/GRU_sequence_weights.h5')\n",
        "GRU_model.load_weights('GRU_sequence_weights.h5')"
      ],
      "execution_count": 0,
      "outputs": []
    },
    {
      "metadata": {
        "id": "fXXbFAWWE7Zt",
        "colab_type": "text"
      },
      "cell_type": "markdown",
      "source": [
        "# Calculate deltas on base on ready search file"
      ]
    },
    {
      "metadata": {
        "id": "csuIysSxE7Zu",
        "colab_type": "code",
        "colab": {}
      },
      "cell_type": "code",
      "source": [
        "seria_name, quan_num = 'J1J-1', [1, 1, 0]\n",
        "peak_file = 'expfile_st'"
      ],
      "execution_count": 0,
      "outputs": []
    },
    {
      "metadata": {
        "id": "zAeTMm0IE7Zw",
        "colab_type": "code",
        "colab": {
          "base_uri": "https://localhost:8080/",
          "height": 54
        },
        "outputId": "caa3a829-b202-420e-8058-5097e276626a"
      },
      "cell_type": "code",
      "source": [
        "deltas = deltas_in_search()\n",
        "print(deltas)"
      ],
      "execution_count": 19,
      "outputs": [
        {
          "output_type": "stream",
          "text": [
            "{1: [-0.504, -0.499, -0.489, -0.484, -0.462, -0.448, -0.44, -0.419, -0.391, -0.385, -0.38, -0.333, -0.327, -0.289, -0.262, -0.244, -0.233, -0.224, -0.193, -0.147, -0.117, -0.088, -0.066, -0.056, -0.042, -0.011, -0.001, 0.003, 0.047, 0.075, 0.091, 0.131, 0.136, 0.201, 0.216, 0.256, 0.285, 0.327, 0.332, 0.346, 0.388, 0.398, 0.407, 0.413, 0.424, 0.434, 0.472], 2: [-0.496, -0.486, -0.481, -0.472, -0.464, -0.453, -0.438, -0.435, -0.426, -0.421, -0.417, -0.411, -0.405, -0.391, -0.38, -0.361, -0.343, -0.332, -0.323, -0.314, -0.309, -0.289, -0.283, -0.268, -0.248, -0.243, -0.227, -0.212, -0.201, -0.194, -0.182, -0.171, -0.164, -0.159, -0.125, -0.119, -0.114, -0.108, -0.047, -0.036, -0.031, -0.021, -0.005, 0.034, 0.048, 0.067, 0.072, 0.076, 0.086, 0.103, 0.116, 0.124, 0.141, 0.145, 0.152, 0.161, 0.166, 0.18, 0.197, 0.21, 0.247, 0.251, 0.257, 0.275, 0.281, 0.285, 0.295, 0.312, 0.324, 0.335, 0.353, 0.358, 0.363, 0.375, 0.392, 0.397, 0.402, 0.419, 0.432, 0.439, 0.444, 0.448, 0.454, 0.478, 0.484, 0.497], 3: [-0.501, -0.491, -0.478, -0.462, -0.456, -0.452, -0.438, -0.433, -0.43, -0.403, -0.399, -0.394, -0.348, -0.333, -0.328, -0.321, -0.315, -0.31, -0.299, -0.277, -0.267, -0.262, -0.248, -0.243, -0.238, -0.232, -0.202, -0.196, -0.19, -0.156, -0.133, -0.122, -0.11, -0.104, -0.097, -0.09, -0.079, -0.052, -0.048, -0.027, -0.01, -0.001, 0.035, 0.041, 0.05, 0.055, 0.061, 0.097, 0.108, 0.114, 0.119, 0.124, 0.13, 0.153, 0.162, 0.177, 0.209, 0.216, 0.222, 0.227, 0.233, 0.243, 0.249, 0.271, 0.286, 0.31, 0.323, 0.333, 0.341, 0.357, 0.422, 0.464, 0.47, 0.475, 0.479, 0.485, 0.501], 4: [-0.5, -0.496, -0.49, -0.485, -0.477, -0.465, -0.459, -0.454, -0.44, -0.434, -0.428, -0.42, -0.414, -0.409, -0.393, -0.386, -0.381, -0.375, -0.365, -0.357, -0.346, -0.334, -0.328, -0.323, -0.285, -0.279, -0.269, -0.25, -0.233, -0.216, -0.209, -0.19, -0.185, -0.136, -0.131, -0.124, -0.107, -0.102, -0.097, -0.091, -0.087, -0.081, -0.05, -0.044, -0.039, -0.034, -0.029, -0.01, 0.002, 0.007, 0.032, 0.061, 0.072, 0.082, 0.093, 0.099, 0.11, 0.115, 0.12, 0.125, 0.13, 0.14, 0.153, 0.161, 0.168, 0.173, 0.205, 0.209, 0.219, 0.224, 0.233, 0.243, 0.249, 0.257, 0.261, 0.267, 0.285, 0.312, 0.362, 0.369, 0.389, 0.394, 0.399, 0.408, 0.414, 0.419, 0.435, 0.44, 0.45, 0.456, 0.46, 0.465, 0.482, 0.498, 0.507], 5: [-0.486, -0.481, -0.476, -0.47, -0.464, -0.46, -0.433, -0.425, -0.416, -0.41, -0.401, -0.396, -0.391, -0.383, -0.365, -0.36, -0.354, -0.349, -0.302, -0.295, -0.285, -0.278, -0.272, -0.268, -0.262, -0.258, -0.253, -0.247, -0.242, -0.223, -0.215, -0.19, -0.157, -0.152, -0.136, -0.118, -0.105, -0.086, -0.068, -0.048, -0.042, -0.025, -0.0, 0.004, 0.01, 0.016, 0.039, 0.045, 0.059, 0.067, 0.073, 0.095, 0.104, 0.137, 0.148, 0.174, 0.198, 0.202, 0.222, 0.245, 0.249, 0.276, 0.282, 0.291, 0.312, 0.319, 0.324, 0.328, 0.36, 0.37, 0.375, 0.39, 0.398, 0.416, 0.425, 0.43, 0.436, 0.455, 0.474, 0.493], 6: [-0.502, -0.495, -0.483, -0.444, -0.439, -0.412, -0.407, -0.399, -0.394, -0.378, -0.371, -0.366, -0.36, -0.346, -0.337, -0.327, -0.318, -0.304, -0.297, -0.288, -0.253, -0.237, -0.231, -0.202, -0.192, -0.167, -0.158, -0.152, -0.147, -0.141, -0.135, -0.122, -0.095, -0.085, -0.079, -0.055, -0.013, -0.0, 0.006, 0.05, 0.058, 0.101, 0.113, 0.124, 0.129, 0.134, 0.141, 0.161, 0.166, 0.199, 0.205, 0.215, 0.245, 0.267, 0.273, 0.287, 0.299, 0.301, 0.312, 0.329, 0.34, 0.353, 0.357, 0.372, 0.376, 0.382, 0.386, 0.401, 0.45, 0.461, 0.466, 0.47, 0.476]}\n"
          ],
          "name": "stdout"
        }
      ]
    },
    {
      "metadata": {
        "id": "GXcADACPE7Z0",
        "colab_type": "text"
      },
      "cell_type": "markdown",
      "source": [
        "# Make sequences and PREDICTION "
      ]
    },
    {
      "metadata": {
        "id": "51oWV4h8E7Z1",
        "colab_type": "code",
        "outputId": "cef1bc51-1fe6-468c-ac05-3243e49bd3cf",
        "colab": {
          "base_uri": "https://localhost:8080/",
          "height": 34
        }
      },
      "cell_type": "code",
      "source": [
        "numb_seq = 1\n",
        "for k,v in deltas.items():\n",
        "    numb_seq *= len(deltas[k])\n",
        "print(numb_seq/1000000,  'millions')"
      ],
      "execution_count": 20,
      "outputs": [
        {
          "output_type": "stream",
          "text": [
            "172672.6232 millions\n"
          ],
          "name": "stdout"
        }
      ]
    },
    {
      "metadata": {
        "id": "QJkI4b6UE7Z-",
        "colab_type": "code",
        "colab": {}
      },
      "cell_type": "code",
      "source": [
        "max_numb = 10000"
      ],
      "execution_count": 0,
      "outputs": []
    },
    {
      "metadata": {
        "id": "C696MAtqE7aC",
        "colab_type": "code",
        "colab": {}
      },
      "cell_type": "code",
      "source": [
        "data_train = pd.read_csv('train.csv')\n",
        "X = data_train.drop(['Y'], axis='columns').values\n",
        "\n",
        "ss = StandardScaler()\n",
        "X = ss.fit_transform(X)\n"
      ],
      "execution_count": 0,
      "outputs": []
    },
    {
      "metadata": {
        "id": "f3Q1JwUHE7aF",
        "colab_type": "code",
        "outputId": "808246dd-7ea0-452b-bd9a-60acb791739a",
        "colab": {
          "base_uri": "https://localhost:8080/",
          "height": 2835
        }
      },
      "cell_type": "code",
      "source": [
        "keys = list(deltas.keys())\n",
        "ini_key = keys[0]\n",
        "sequence = []\n",
        "#data = []\n",
        "counter = 0\n",
        "exit = False\n",
        "\n",
        "def tree_2(k, seq_ini, counter=counter):\n",
        "    for v in deltas[k]:\n",
        "        sequence = seq_ini.copy()\n",
        "        sequence.append(v)\n",
        "        if counter % 500000 == 0:\n",
        "                print('!',counter)\n",
        "                #a=input()\n",
        "        if len(sequence) == len(deltas.items()):\n",
        "            counter += 1\n",
        "            sequence_np = np.array([sequence])\n",
        "            sequence_np = ss.transform(sequence_np)\n",
        "            sequence_np = np.expand_dims(sequence_np, axis=2)\n",
        "            prediction = GRU_model.predict(sequence_np)\n",
        "\n",
        "            if prediction > 0.6: \n",
        "                print(prediction, sequence)\n",
        "\n",
        "        else:\n",
        "            counter = tree_2(k+1, sequence,counter=counter)\n",
        "        \n",
        "    return counter\n",
        "        \n",
        "tree_2(ini_key,sequence, counter=counter)"
      ],
      "execution_count": 23,
      "outputs": [
        {
          "output_type": "stream",
          "text": [
            "! 0\n",
            "! 0\n",
            "! 0\n",
            "! 0\n",
            "! 0\n",
            "! 0\n",
            "[[0.70833385]] [-0.504, -0.496, -0.501, -0.5, -0.486, -0.502]\n",
            "[[0.6555739]] [-0.504, -0.496, -0.501, -0.5, -0.486, -0.495]\n",
            "[[0.7138525]] [-0.504, -0.496, -0.501, -0.5, -0.481, -0.502]\n",
            "[[0.6619129]] [-0.504, -0.496, -0.501, -0.5, -0.481, -0.495]\n",
            "[[0.7194118]] [-0.504, -0.496, -0.501, -0.5, -0.476, -0.502]\n",
            "[[0.66831505]] [-0.504, -0.496, -0.501, -0.5, -0.476, -0.495]\n",
            "[[0.72584677]] [-0.504, -0.496, -0.501, -0.5, -0.47, -0.502]\n",
            "[[0.6760545]] [-0.504, -0.496, -0.501, -0.5, -0.47, -0.495]\n",
            "[[0.7296161]] [-0.504, -0.496, -0.501, -0.5, -0.464, -0.502]\n",
            "[[0.6832176]] [-0.504, -0.496, -0.501, -0.5, -0.464, -0.495]\n",
            "[[0.7321668]] [-0.504, -0.496, -0.501, -0.5, -0.46, -0.502]\n",
            "[[0.6870963]] [-0.504, -0.496, -0.501, -0.5, -0.46, -0.495]\n",
            "[[0.76262784]] [-0.504, -0.496, -0.501, -0.5, -0.433, -0.502]\n",
            "[[0.7228775]] [-0.504, -0.496, -0.501, -0.5, -0.433, -0.495]\n",
            "[[0.6395359]] [-0.504, -0.496, -0.501, -0.5, -0.433, -0.483]\n",
            "[[0.77102464]] [-0.504, -0.496, -0.501, -0.5, -0.425, -0.502]\n",
            "[[0.73450047]] [-0.504, -0.496, -0.501, -0.5, -0.425, -0.495]\n",
            "[[0.65486676]] [-0.504, -0.496, -0.501, -0.5, -0.425, -0.483]\n",
            "[[0.78326863]] [-0.504, -0.496, -0.501, -0.5, -0.416, -0.502]\n",
            "[[0.74861646]] [-0.504, -0.496, -0.501, -0.5, -0.416, -0.495]\n",
            "[[0.6742565]] [-0.504, -0.496, -0.501, -0.5, -0.416, -0.483]\n",
            "[[0.79347926]] [-0.504, -0.496, -0.501, -0.5, -0.41, -0.502]\n",
            "[[0.76003265]] [-0.504, -0.496, -0.501, -0.5, -0.41, -0.495]\n",
            "[[0.68993074]] [-0.504, -0.496, -0.501, -0.5, -0.41, -0.483]\n",
            "[[0.8086581]] [-0.504, -0.496, -0.501, -0.5, -0.401, -0.502]\n",
            "[[0.77711326]] [-0.504, -0.496, -0.501, -0.5, -0.401, -0.495]\n",
            "[[0.7103061]] [-0.504, -0.496, -0.501, -0.5, -0.401, -0.483]\n",
            "[[0.81648684]] [-0.504, -0.496, -0.501, -0.5, -0.396, -0.502]\n",
            "[[0.786094]] [-0.504, -0.496, -0.501, -0.5, -0.396, -0.495]\n",
            "[[0.72115266]] [-0.504, -0.496, -0.501, -0.5, -0.396, -0.483]\n",
            "[[0.82348794]] [-0.504, -0.496, -0.501, -0.5, -0.391, -0.502]\n",
            "[[0.79452956]] [-0.504, -0.496, -0.501, -0.5, -0.391, -0.495]\n",
            "[[0.7315863]] [-0.504, -0.496, -0.501, -0.5, -0.391, -0.483]\n",
            "[[0.8364273]] [-0.504, -0.496, -0.501, -0.5, -0.383, -0.502]\n",
            "[[0.8094663]] [-0.504, -0.496, -0.501, -0.5, -0.383, -0.495]\n",
            "[[0.75053954]] [-0.504, -0.496, -0.501, -0.5, -0.383, -0.483]\n",
            "[[0.8538861]] [-0.504, -0.496, -0.501, -0.5, -0.365, -0.502]\n",
            "[[0.83166146]] [-0.504, -0.496, -0.501, -0.5, -0.365, -0.495]\n",
            "[[0.7833542]] [-0.504, -0.496, -0.501, -0.5, -0.365, -0.483]\n",
            "[[0.8567953]] [-0.504, -0.496, -0.501, -0.5, -0.36, -0.502]\n",
            "[[0.8352099]] [-0.504, -0.496, -0.501, -0.5, -0.36, -0.495]\n",
            "[[0.78823745]] [-0.504, -0.496, -0.501, -0.5, -0.36, -0.483]\n",
            "[[0.85948145]] [-0.504, -0.496, -0.501, -0.5, -0.354, -0.502]\n",
            "[[0.83855027]] [-0.504, -0.496, -0.501, -0.5, -0.354, -0.495]\n",
            "[[0.79295963]] [-0.504, -0.496, -0.501, -0.5, -0.354, -0.483]\n",
            "[[0.8611207]] [-0.504, -0.496, -0.501, -0.5, -0.349, -0.502]\n",
            "[[0.84065706]] [-0.504, -0.496, -0.501, -0.5, -0.349, -0.495]\n",
            "[[0.7960668]] [-0.504, -0.496, -0.501, -0.5, -0.349, -0.483]\n",
            "[[0.82117426]] [-0.504, -0.496, -0.501, -0.5, -0.302, -0.502]\n",
            "[[0.80018103]] [-0.504, -0.496, -0.501, -0.5, -0.302, -0.495]\n",
            "[[0.7547604]] [-0.504, -0.496, -0.501, -0.5, -0.302, -0.483]\n",
            "[[0.8040314]] [-0.504, -0.496, -0.501, -0.5, -0.295, -0.502]\n",
            "[[0.78210664]] [-0.504, -0.496, -0.501, -0.5, -0.295, -0.495]\n",
            "[[0.7349382]] [-0.504, -0.496, -0.501, -0.5, -0.295, -0.483]\n",
            "[[0.77307576]] [-0.504, -0.496, -0.501, -0.5, -0.285, -0.502]\n",
            "[[0.7495662]] [-0.504, -0.496, -0.501, -0.5, -0.285, -0.495]\n",
            "[[0.69959337]] [-0.504, -0.496, -0.501, -0.5, -0.285, -0.483]\n",
            "[[0.7468755]] [-0.504, -0.496, -0.501, -0.5, -0.278, -0.502]\n",
            "[[0.7211815]] [-0.504, -0.496, -0.501, -0.5, -0.278, -0.495]\n",
            "[[0.66915977]] [-0.504, -0.496, -0.501, -0.5, -0.278, -0.483]\n",
            "[[0.72098166]] [-0.504, -0.496, -0.501, -0.5, -0.272, -0.502]\n",
            "[[0.6942433]] [-0.504, -0.496, -0.501, -0.5, -0.272, -0.495]\n",
            "[[0.63903904]] [-0.504, -0.496, -0.501, -0.5, -0.272, -0.483]\n",
            "[[0.70149094]] [-0.504, -0.496, -0.501, -0.5, -0.268, -0.502]\n",
            "[[0.67417175]] [-0.504, -0.496, -0.501, -0.5, -0.268, -0.495]\n",
            "[[0.6175509]] [-0.504, -0.496, -0.501, -0.5, -0.268, -0.483]\n",
            "[[0.66898674]] [-0.504, -0.496, -0.501, -0.5, -0.262, -0.502]\n",
            "[[0.6406762]] [-0.504, -0.496, -0.501, -0.5, -0.262, -0.495]\n",
            "[[0.6451433]] [-0.504, -0.496, -0.501, -0.5, -0.258, -0.502]\n",
            "[[0.6161742]] [-0.504, -0.496, -0.501, -0.5, -0.258, -0.495]\n",
            "[[0.6129989]] [-0.504, -0.496, -0.501, -0.5, -0.253, -0.502]\n"
          ],
          "name": "stdout"
        },
        {
          "output_type": "error",
          "ename": "KeyboardInterrupt",
          "evalue": "ignored",
          "traceback": [
            "\u001b[0;31m---------------------------------------------------------------------------\u001b[0m",
            "\u001b[0;31mKeyboardInterrupt\u001b[0m                         Traceback (most recent call last)",
            "\u001b[0;32m<ipython-input-23-bec2010f5045>\u001b[0m in \u001b[0;36m<module>\u001b[0;34m()\u001b[0m\n\u001b[1;32m     28\u001b[0m     \u001b[0;32mreturn\u001b[0m \u001b[0mcounter\u001b[0m\u001b[0;34m\u001b[0m\u001b[0;34m\u001b[0m\u001b[0m\n\u001b[1;32m     29\u001b[0m \u001b[0;34m\u001b[0m\u001b[0m\n\u001b[0;32m---> 30\u001b[0;31m \u001b[0mtree_2\u001b[0m\u001b[0;34m(\u001b[0m\u001b[0mini_key\u001b[0m\u001b[0;34m,\u001b[0m\u001b[0msequence\u001b[0m\u001b[0;34m,\u001b[0m \u001b[0mcounter\u001b[0m\u001b[0;34m=\u001b[0m\u001b[0mcounter\u001b[0m\u001b[0;34m)\u001b[0m\u001b[0;34m\u001b[0m\u001b[0;34m\u001b[0m\u001b[0m\n\u001b[0m",
            "\u001b[0;32m<ipython-input-23-bec2010f5045>\u001b[0m in \u001b[0;36mtree_2\u001b[0;34m(k, seq_ini, counter)\u001b[0m\n\u001b[1;32m     24\u001b[0m \u001b[0;34m\u001b[0m\u001b[0m\n\u001b[1;32m     25\u001b[0m         \u001b[0;32melse\u001b[0m\u001b[0;34m:\u001b[0m\u001b[0;34m\u001b[0m\u001b[0;34m\u001b[0m\u001b[0m\n\u001b[0;32m---> 26\u001b[0;31m             \u001b[0mcounter\u001b[0m \u001b[0;34m=\u001b[0m \u001b[0mtree_2\u001b[0m\u001b[0;34m(\u001b[0m\u001b[0mk\u001b[0m\u001b[0;34m+\u001b[0m\u001b[0;36m1\u001b[0m\u001b[0;34m,\u001b[0m \u001b[0msequence\u001b[0m\u001b[0;34m,\u001b[0m\u001b[0mcounter\u001b[0m\u001b[0;34m=\u001b[0m\u001b[0mcounter\u001b[0m\u001b[0;34m)\u001b[0m\u001b[0;34m\u001b[0m\u001b[0;34m\u001b[0m\u001b[0m\n\u001b[0m\u001b[1;32m     27\u001b[0m \u001b[0;34m\u001b[0m\u001b[0m\n\u001b[1;32m     28\u001b[0m     \u001b[0;32mreturn\u001b[0m \u001b[0mcounter\u001b[0m\u001b[0;34m\u001b[0m\u001b[0;34m\u001b[0m\u001b[0m\n",
            "\u001b[0;32m<ipython-input-23-bec2010f5045>\u001b[0m in \u001b[0;36mtree_2\u001b[0;34m(k, seq_ini, counter)\u001b[0m\n\u001b[1;32m     24\u001b[0m \u001b[0;34m\u001b[0m\u001b[0m\n\u001b[1;32m     25\u001b[0m         \u001b[0;32melse\u001b[0m\u001b[0;34m:\u001b[0m\u001b[0;34m\u001b[0m\u001b[0;34m\u001b[0m\u001b[0m\n\u001b[0;32m---> 26\u001b[0;31m             \u001b[0mcounter\u001b[0m \u001b[0;34m=\u001b[0m \u001b[0mtree_2\u001b[0m\u001b[0;34m(\u001b[0m\u001b[0mk\u001b[0m\u001b[0;34m+\u001b[0m\u001b[0;36m1\u001b[0m\u001b[0;34m,\u001b[0m \u001b[0msequence\u001b[0m\u001b[0;34m,\u001b[0m\u001b[0mcounter\u001b[0m\u001b[0;34m=\u001b[0m\u001b[0mcounter\u001b[0m\u001b[0;34m)\u001b[0m\u001b[0;34m\u001b[0m\u001b[0;34m\u001b[0m\u001b[0m\n\u001b[0m\u001b[1;32m     27\u001b[0m \u001b[0;34m\u001b[0m\u001b[0m\n\u001b[1;32m     28\u001b[0m     \u001b[0;32mreturn\u001b[0m \u001b[0mcounter\u001b[0m\u001b[0;34m\u001b[0m\u001b[0;34m\u001b[0m\u001b[0m\n",
            "\u001b[0;32m<ipython-input-23-bec2010f5045>\u001b[0m in \u001b[0;36mtree_2\u001b[0;34m(k, seq_ini, counter)\u001b[0m\n\u001b[1;32m     24\u001b[0m \u001b[0;34m\u001b[0m\u001b[0m\n\u001b[1;32m     25\u001b[0m         \u001b[0;32melse\u001b[0m\u001b[0;34m:\u001b[0m\u001b[0;34m\u001b[0m\u001b[0;34m\u001b[0m\u001b[0m\n\u001b[0;32m---> 26\u001b[0;31m             \u001b[0mcounter\u001b[0m \u001b[0;34m=\u001b[0m \u001b[0mtree_2\u001b[0m\u001b[0;34m(\u001b[0m\u001b[0mk\u001b[0m\u001b[0;34m+\u001b[0m\u001b[0;36m1\u001b[0m\u001b[0;34m,\u001b[0m \u001b[0msequence\u001b[0m\u001b[0;34m,\u001b[0m\u001b[0mcounter\u001b[0m\u001b[0;34m=\u001b[0m\u001b[0mcounter\u001b[0m\u001b[0;34m)\u001b[0m\u001b[0;34m\u001b[0m\u001b[0;34m\u001b[0m\u001b[0m\n\u001b[0m\u001b[1;32m     27\u001b[0m \u001b[0;34m\u001b[0m\u001b[0m\n\u001b[1;32m     28\u001b[0m     \u001b[0;32mreturn\u001b[0m \u001b[0mcounter\u001b[0m\u001b[0;34m\u001b[0m\u001b[0;34m\u001b[0m\u001b[0m\n",
            "\u001b[0;32m<ipython-input-23-bec2010f5045>\u001b[0m in \u001b[0;36mtree_2\u001b[0;34m(k, seq_ini, counter)\u001b[0m\n\u001b[1;32m     24\u001b[0m \u001b[0;34m\u001b[0m\u001b[0m\n\u001b[1;32m     25\u001b[0m         \u001b[0;32melse\u001b[0m\u001b[0;34m:\u001b[0m\u001b[0;34m\u001b[0m\u001b[0;34m\u001b[0m\u001b[0m\n\u001b[0;32m---> 26\u001b[0;31m             \u001b[0mcounter\u001b[0m \u001b[0;34m=\u001b[0m \u001b[0mtree_2\u001b[0m\u001b[0;34m(\u001b[0m\u001b[0mk\u001b[0m\u001b[0;34m+\u001b[0m\u001b[0;36m1\u001b[0m\u001b[0;34m,\u001b[0m \u001b[0msequence\u001b[0m\u001b[0;34m,\u001b[0m\u001b[0mcounter\u001b[0m\u001b[0;34m=\u001b[0m\u001b[0mcounter\u001b[0m\u001b[0;34m)\u001b[0m\u001b[0;34m\u001b[0m\u001b[0;34m\u001b[0m\u001b[0m\n\u001b[0m\u001b[1;32m     27\u001b[0m \u001b[0;34m\u001b[0m\u001b[0m\n\u001b[1;32m     28\u001b[0m     \u001b[0;32mreturn\u001b[0m \u001b[0mcounter\u001b[0m\u001b[0;34m\u001b[0m\u001b[0;34m\u001b[0m\u001b[0m\n",
            "\u001b[0;32m<ipython-input-23-bec2010f5045>\u001b[0m in \u001b[0;36mtree_2\u001b[0;34m(k, seq_ini, counter)\u001b[0m\n\u001b[1;32m     24\u001b[0m \u001b[0;34m\u001b[0m\u001b[0m\n\u001b[1;32m     25\u001b[0m         \u001b[0;32melse\u001b[0m\u001b[0;34m:\u001b[0m\u001b[0;34m\u001b[0m\u001b[0;34m\u001b[0m\u001b[0m\n\u001b[0;32m---> 26\u001b[0;31m             \u001b[0mcounter\u001b[0m \u001b[0;34m=\u001b[0m \u001b[0mtree_2\u001b[0m\u001b[0;34m(\u001b[0m\u001b[0mk\u001b[0m\u001b[0;34m+\u001b[0m\u001b[0;36m1\u001b[0m\u001b[0;34m,\u001b[0m \u001b[0msequence\u001b[0m\u001b[0;34m,\u001b[0m\u001b[0mcounter\u001b[0m\u001b[0;34m=\u001b[0m\u001b[0mcounter\u001b[0m\u001b[0;34m)\u001b[0m\u001b[0;34m\u001b[0m\u001b[0;34m\u001b[0m\u001b[0m\n\u001b[0m\u001b[1;32m     27\u001b[0m \u001b[0;34m\u001b[0m\u001b[0m\n\u001b[1;32m     28\u001b[0m     \u001b[0;32mreturn\u001b[0m \u001b[0mcounter\u001b[0m\u001b[0;34m\u001b[0m\u001b[0;34m\u001b[0m\u001b[0m\n",
            "\u001b[0;32m<ipython-input-23-bec2010f5045>\u001b[0m in \u001b[0;36mtree_2\u001b[0;34m(k, seq_ini, counter)\u001b[0m\n\u001b[1;32m     18\u001b[0m             \u001b[0msequence_np\u001b[0m \u001b[0;34m=\u001b[0m \u001b[0mss\u001b[0m\u001b[0;34m.\u001b[0m\u001b[0mtransform\u001b[0m\u001b[0;34m(\u001b[0m\u001b[0msequence_np\u001b[0m\u001b[0;34m)\u001b[0m\u001b[0;34m\u001b[0m\u001b[0;34m\u001b[0m\u001b[0m\n\u001b[1;32m     19\u001b[0m             \u001b[0msequence_np\u001b[0m \u001b[0;34m=\u001b[0m \u001b[0mnp\u001b[0m\u001b[0;34m.\u001b[0m\u001b[0mexpand_dims\u001b[0m\u001b[0;34m(\u001b[0m\u001b[0msequence_np\u001b[0m\u001b[0;34m,\u001b[0m \u001b[0maxis\u001b[0m\u001b[0;34m=\u001b[0m\u001b[0;36m2\u001b[0m\u001b[0;34m)\u001b[0m\u001b[0;34m\u001b[0m\u001b[0;34m\u001b[0m\u001b[0m\n\u001b[0;32m---> 20\u001b[0;31m             \u001b[0mprediction\u001b[0m \u001b[0;34m=\u001b[0m \u001b[0mGRU_model\u001b[0m\u001b[0;34m.\u001b[0m\u001b[0mpredict\u001b[0m\u001b[0;34m(\u001b[0m\u001b[0msequence_np\u001b[0m\u001b[0;34m)\u001b[0m\u001b[0;34m\u001b[0m\u001b[0;34m\u001b[0m\u001b[0m\n\u001b[0m\u001b[1;32m     21\u001b[0m \u001b[0;34m\u001b[0m\u001b[0m\n\u001b[1;32m     22\u001b[0m             \u001b[0;32mif\u001b[0m \u001b[0mprediction\u001b[0m \u001b[0;34m>\u001b[0m \u001b[0;36m0.6\u001b[0m\u001b[0;34m:\u001b[0m\u001b[0;34m\u001b[0m\u001b[0;34m\u001b[0m\u001b[0m\n",
            "\u001b[0;32m/usr/local/lib/python3.6/dist-packages/keras/engine/training.py\u001b[0m in \u001b[0;36mpredict\u001b[0;34m(self, x, batch_size, verbose, steps)\u001b[0m\n\u001b[1;32m   1167\u001b[0m                                             \u001b[0mbatch_size\u001b[0m\u001b[0;34m=\u001b[0m\u001b[0mbatch_size\u001b[0m\u001b[0;34m,\u001b[0m\u001b[0;34m\u001b[0m\u001b[0;34m\u001b[0m\u001b[0m\n\u001b[1;32m   1168\u001b[0m                                             \u001b[0mverbose\u001b[0m\u001b[0;34m=\u001b[0m\u001b[0mverbose\u001b[0m\u001b[0;34m,\u001b[0m\u001b[0;34m\u001b[0m\u001b[0;34m\u001b[0m\u001b[0m\n\u001b[0;32m-> 1169\u001b[0;31m                                             steps=steps)\n\u001b[0m\u001b[1;32m   1170\u001b[0m \u001b[0;34m\u001b[0m\u001b[0m\n\u001b[1;32m   1171\u001b[0m     def train_on_batch(self, x, y,\n",
            "\u001b[0;32m/usr/local/lib/python3.6/dist-packages/keras/engine/training_arrays.py\u001b[0m in \u001b[0;36mpredict_loop\u001b[0;34m(model, f, ins, batch_size, verbose, steps)\u001b[0m\n\u001b[1;32m    292\u001b[0m                 \u001b[0mins_batch\u001b[0m\u001b[0;34m[\u001b[0m\u001b[0mi\u001b[0m\u001b[0;34m]\u001b[0m \u001b[0;34m=\u001b[0m \u001b[0mins_batch\u001b[0m\u001b[0;34m[\u001b[0m\u001b[0mi\u001b[0m\u001b[0;34m]\u001b[0m\u001b[0;34m.\u001b[0m\u001b[0mtoarray\u001b[0m\u001b[0;34m(\u001b[0m\u001b[0;34m)\u001b[0m\u001b[0;34m\u001b[0m\u001b[0;34m\u001b[0m\u001b[0m\n\u001b[1;32m    293\u001b[0m \u001b[0;34m\u001b[0m\u001b[0m\n\u001b[0;32m--> 294\u001b[0;31m             \u001b[0mbatch_outs\u001b[0m \u001b[0;34m=\u001b[0m \u001b[0mf\u001b[0m\u001b[0;34m(\u001b[0m\u001b[0mins_batch\u001b[0m\u001b[0;34m)\u001b[0m\u001b[0;34m\u001b[0m\u001b[0;34m\u001b[0m\u001b[0m\n\u001b[0m\u001b[1;32m    295\u001b[0m             \u001b[0mbatch_outs\u001b[0m \u001b[0;34m=\u001b[0m \u001b[0mto_list\u001b[0m\u001b[0;34m(\u001b[0m\u001b[0mbatch_outs\u001b[0m\u001b[0;34m)\u001b[0m\u001b[0;34m\u001b[0m\u001b[0;34m\u001b[0m\u001b[0m\n\u001b[1;32m    296\u001b[0m             \u001b[0;32mif\u001b[0m \u001b[0mbatch_index\u001b[0m \u001b[0;34m==\u001b[0m \u001b[0;36m0\u001b[0m\u001b[0;34m:\u001b[0m\u001b[0;34m\u001b[0m\u001b[0;34m\u001b[0m\u001b[0m\n",
            "\u001b[0;32m/usr/local/lib/python3.6/dist-packages/keras/backend/tensorflow_backend.py\u001b[0m in \u001b[0;36m__call__\u001b[0;34m(self, inputs)\u001b[0m\n\u001b[1;32m   2713\u001b[0m                 \u001b[0;32mreturn\u001b[0m \u001b[0mself\u001b[0m\u001b[0;34m.\u001b[0m\u001b[0m_legacy_call\u001b[0m\u001b[0;34m(\u001b[0m\u001b[0minputs\u001b[0m\u001b[0;34m)\u001b[0m\u001b[0;34m\u001b[0m\u001b[0;34m\u001b[0m\u001b[0m\n\u001b[1;32m   2714\u001b[0m \u001b[0;34m\u001b[0m\u001b[0m\n\u001b[0;32m-> 2715\u001b[0;31m             \u001b[0;32mreturn\u001b[0m \u001b[0mself\u001b[0m\u001b[0;34m.\u001b[0m\u001b[0m_call\u001b[0m\u001b[0;34m(\u001b[0m\u001b[0minputs\u001b[0m\u001b[0;34m)\u001b[0m\u001b[0;34m\u001b[0m\u001b[0;34m\u001b[0m\u001b[0m\n\u001b[0m\u001b[1;32m   2716\u001b[0m         \u001b[0;32melse\u001b[0m\u001b[0;34m:\u001b[0m\u001b[0;34m\u001b[0m\u001b[0;34m\u001b[0m\u001b[0m\n\u001b[1;32m   2717\u001b[0m             \u001b[0;32mif\u001b[0m \u001b[0mpy_any\u001b[0m\u001b[0;34m(\u001b[0m\u001b[0mis_tensor\u001b[0m\u001b[0;34m(\u001b[0m\u001b[0mx\u001b[0m\u001b[0;34m)\u001b[0m \u001b[0;32mfor\u001b[0m \u001b[0mx\u001b[0m \u001b[0;32min\u001b[0m \u001b[0minputs\u001b[0m\u001b[0;34m)\u001b[0m\u001b[0;34m:\u001b[0m\u001b[0;34m\u001b[0m\u001b[0;34m\u001b[0m\u001b[0m\n",
            "\u001b[0;32m/usr/local/lib/python3.6/dist-packages/keras/backend/tensorflow_backend.py\u001b[0m in \u001b[0;36m_call\u001b[0;34m(self, inputs)\u001b[0m\n\u001b[1;32m   2673\u001b[0m             \u001b[0mfetched\u001b[0m \u001b[0;34m=\u001b[0m \u001b[0mself\u001b[0m\u001b[0;34m.\u001b[0m\u001b[0m_callable_fn\u001b[0m\u001b[0;34m(\u001b[0m\u001b[0;34m*\u001b[0m\u001b[0marray_vals\u001b[0m\u001b[0;34m,\u001b[0m \u001b[0mrun_metadata\u001b[0m\u001b[0;34m=\u001b[0m\u001b[0mself\u001b[0m\u001b[0;34m.\u001b[0m\u001b[0mrun_metadata\u001b[0m\u001b[0;34m)\u001b[0m\u001b[0;34m\u001b[0m\u001b[0;34m\u001b[0m\u001b[0m\n\u001b[1;32m   2674\u001b[0m         \u001b[0;32melse\u001b[0m\u001b[0;34m:\u001b[0m\u001b[0;34m\u001b[0m\u001b[0;34m\u001b[0m\u001b[0m\n\u001b[0;32m-> 2675\u001b[0;31m             \u001b[0mfetched\u001b[0m \u001b[0;34m=\u001b[0m \u001b[0mself\u001b[0m\u001b[0;34m.\u001b[0m\u001b[0m_callable_fn\u001b[0m\u001b[0;34m(\u001b[0m\u001b[0;34m*\u001b[0m\u001b[0marray_vals\u001b[0m\u001b[0;34m)\u001b[0m\u001b[0;34m\u001b[0m\u001b[0;34m\u001b[0m\u001b[0m\n\u001b[0m\u001b[1;32m   2676\u001b[0m         \u001b[0;32mreturn\u001b[0m \u001b[0mfetched\u001b[0m\u001b[0;34m[\u001b[0m\u001b[0;34m:\u001b[0m\u001b[0mlen\u001b[0m\u001b[0;34m(\u001b[0m\u001b[0mself\u001b[0m\u001b[0;34m.\u001b[0m\u001b[0moutputs\u001b[0m\u001b[0;34m)\u001b[0m\u001b[0;34m]\u001b[0m\u001b[0;34m\u001b[0m\u001b[0;34m\u001b[0m\u001b[0m\n\u001b[1;32m   2677\u001b[0m \u001b[0;34m\u001b[0m\u001b[0m\n",
            "\u001b[0;32m/usr/local/lib/python3.6/dist-packages/tensorflow/python/client/session.py\u001b[0m in \u001b[0;36m__call__\u001b[0;34m(self, *args, **kwargs)\u001b[0m\n\u001b[1;32m   1437\u001b[0m           ret = tf_session.TF_SessionRunCallable(\n\u001b[1;32m   1438\u001b[0m               \u001b[0mself\u001b[0m\u001b[0;34m.\u001b[0m\u001b[0m_session\u001b[0m\u001b[0;34m.\u001b[0m\u001b[0m_session\u001b[0m\u001b[0;34m,\u001b[0m \u001b[0mself\u001b[0m\u001b[0;34m.\u001b[0m\u001b[0m_handle\u001b[0m\u001b[0;34m,\u001b[0m \u001b[0margs\u001b[0m\u001b[0;34m,\u001b[0m \u001b[0mstatus\u001b[0m\u001b[0;34m,\u001b[0m\u001b[0;34m\u001b[0m\u001b[0;34m\u001b[0m\u001b[0m\n\u001b[0;32m-> 1439\u001b[0;31m               run_metadata_ptr)\n\u001b[0m\u001b[1;32m   1440\u001b[0m         \u001b[0;32mif\u001b[0m \u001b[0mrun_metadata\u001b[0m\u001b[0;34m:\u001b[0m\u001b[0;34m\u001b[0m\u001b[0;34m\u001b[0m\u001b[0m\n\u001b[1;32m   1441\u001b[0m           \u001b[0mproto_data\u001b[0m \u001b[0;34m=\u001b[0m \u001b[0mtf_session\u001b[0m\u001b[0;34m.\u001b[0m\u001b[0mTF_GetBuffer\u001b[0m\u001b[0;34m(\u001b[0m\u001b[0mrun_metadata_ptr\u001b[0m\u001b[0;34m)\u001b[0m\u001b[0;34m\u001b[0m\u001b[0;34m\u001b[0m\u001b[0m\n",
            "\u001b[0;31mKeyboardInterrupt\u001b[0m: "
          ]
        }
      ]
    },
    {
      "metadata": {
        "id": "JteUp7_wE7aH",
        "colab_type": "code",
        "colab": {}
      },
      "cell_type": "code",
      "source": [
        ""
      ],
      "execution_count": 0,
      "outputs": []
    },
    {
      "metadata": {
        "id": "zKGjE2rUE7aJ",
        "colab_type": "text"
      },
      "cell_type": "markdown",
      "source": [
        ""
      ]
    }
  ]
}