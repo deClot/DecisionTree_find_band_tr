{
 "cells": [
  {
   "cell_type": "code",
   "execution_count": 4,
   "metadata": {},
   "outputs": [],
   "source": [
    "dir_source = 'sources/'\n",
    "txt = '.txt'\n",
    "\n",
    "def make_search(file_asym, J, Ka, Kc, band_name, v=1):\n",
    "    file_name = 'res_' + band_name + '.res'\n",
    "    file_res = open (dir_source + file_name, 'r')\n",
    "    #file_asym = open(dir + file_name + txt, 'w')\n",
    "    #file_ini = open('ini.DAT', 'r')\n",
    "\n",
    "    '''parameters = file_ini.readline()\n",
    "    no, v = map(int, parameters.split())\n",
    "\n",
    "    parameters = file_ini.readline()\n",
    "    J, Ka, Kc = map(int, parameters.split())\n",
    "    '''\n",
    "\n",
    "    counter = 0\n",
    "    max_counter = 6\n",
    "\n",
    "    #if no == 1:\n",
    "    for line in file_res:\n",
    "        if len(line) == 0: # Нулевая длина обозначает конец файла (EOF)\n",
    "            break\n",
    "\n",
    "        line_split = list(map(int, line.replace ('J=','').split()[2:6]))\n",
    "\n",
    "        if line_split[0] == v and line_split[1] == J and line_split[2] == Ka \\\n",
    "               and line_split[3] == Kc:\n",
    "            counter += 1\n",
    "            if counter > max_counter:\n",
    "                break\n",
    "\n",
    "            #print ('%s' %(line))\n",
    "            file_asym.write ('%s%s' %(line[:10], line[11:]))\n",
    "            J = J + 1\n",
    "            Kc = Kc + 1\n",
    "\n",
    "    #file_ini.close()\n",
    "    file_res.close()\n",
    "    file_asym.close()\n"
   ]
  },
  {
   "cell_type": "code",
   "execution_count": 5,
   "metadata": {},
   "outputs": [],
   "source": [
    "# BAND NAME\n",
    "band_name = 'v6'"
   ]
  },
  {
   "cell_type": "code",
   "execution_count": 7,
   "metadata": {},
   "outputs": [
    {
     "name": "stdout",
     "output_type": "stream",
     "text": [
      "/home/declo/Downloads/DecisionTree_find_band_tr\n"
     ]
    },
    {
     "ename": "IsADirectoryError",
     "evalue": "[Errno 21] Is a directory: 'Search/RES_files'",
     "output_type": "error",
     "traceback": [
      "\u001b[0;31m---------------------------------------------------------------------------\u001b[0m",
      "\u001b[0;31mIsADirectoryError\u001b[0m                         Traceback (most recent call last)",
      "\u001b[0;32m<ipython-input-7-2ed4a895e91f>\u001b[0m in \u001b[0;36m<module>\u001b[0;34m\u001b[0m\n\u001b[1;32m     21\u001b[0m \u001b[0mfiles\u001b[0m \u001b[0;34m=\u001b[0m \u001b[0mos\u001b[0m\u001b[0;34m.\u001b[0m\u001b[0mlistdir\u001b[0m\u001b[0;34m(\u001b[0m\u001b[0mdir_search\u001b[0m\u001b[0;34m)\u001b[0m\u001b[0;34m\u001b[0m\u001b[0m\n\u001b[1;32m     22\u001b[0m \u001b[0;32mfor\u001b[0m \u001b[0mfile\u001b[0m \u001b[0;32min\u001b[0m \u001b[0mfiles\u001b[0m\u001b[0;34m:\u001b[0m\u001b[0;34m\u001b[0m\u001b[0m\n\u001b[0;32m---> 23\u001b[0;31m     \u001b[0mshutil\u001b[0m\u001b[0;34m.\u001b[0m\u001b[0mcopyfile\u001b[0m\u001b[0;34m(\u001b[0m\u001b[0mdir_search\u001b[0m\u001b[0;34m+\u001b[0m\u001b[0mfile\u001b[0m\u001b[0;34m,\u001b[0m  \u001b[0mos\u001b[0m\u001b[0;34m.\u001b[0m\u001b[0mgetcwd\u001b[0m\u001b[0;34m(\u001b[0m\u001b[0;34m)\u001b[0m\u001b[0;34m+\u001b[0m\u001b[0;34m'/'\u001b[0m\u001b[0;34m+\u001b[0m\u001b[0mfile\u001b[0m\u001b[0;34m)\u001b[0m\u001b[0;34m\u001b[0m\u001b[0m\n\u001b[0m\u001b[1;32m     24\u001b[0m \u001b[0;34m\u001b[0m\u001b[0m\n\u001b[1;32m     25\u001b[0m \u001b[0;32mfor\u001b[0m \u001b[0mk\u001b[0m\u001b[0;34m,\u001b[0m \u001b[0mv\u001b[0m \u001b[0;32min\u001b[0m \u001b[0mini_data\u001b[0m\u001b[0;34m.\u001b[0m\u001b[0mitems\u001b[0m\u001b[0;34m(\u001b[0m\u001b[0;34m)\u001b[0m\u001b[0;34m:\u001b[0m\u001b[0;34m\u001b[0m\u001b[0m\n",
      "\u001b[0;32m/usr/lib/python3.7/shutil.py\u001b[0m in \u001b[0;36mcopyfile\u001b[0;34m(src, dst, follow_symlinks)\u001b[0m\n\u001b[1;32m    118\u001b[0m         \u001b[0mos\u001b[0m\u001b[0;34m.\u001b[0m\u001b[0msymlink\u001b[0m\u001b[0;34m(\u001b[0m\u001b[0mos\u001b[0m\u001b[0;34m.\u001b[0m\u001b[0mreadlink\u001b[0m\u001b[0;34m(\u001b[0m\u001b[0msrc\u001b[0m\u001b[0;34m)\u001b[0m\u001b[0;34m,\u001b[0m \u001b[0mdst\u001b[0m\u001b[0;34m)\u001b[0m\u001b[0;34m\u001b[0m\u001b[0m\n\u001b[1;32m    119\u001b[0m     \u001b[0;32melse\u001b[0m\u001b[0;34m:\u001b[0m\u001b[0;34m\u001b[0m\u001b[0m\n\u001b[0;32m--> 120\u001b[0;31m         \u001b[0;32mwith\u001b[0m \u001b[0mopen\u001b[0m\u001b[0;34m(\u001b[0m\u001b[0msrc\u001b[0m\u001b[0;34m,\u001b[0m \u001b[0;34m'rb'\u001b[0m\u001b[0;34m)\u001b[0m \u001b[0;32mas\u001b[0m \u001b[0mfsrc\u001b[0m\u001b[0;34m:\u001b[0m\u001b[0;34m\u001b[0m\u001b[0m\n\u001b[0m\u001b[1;32m    121\u001b[0m             \u001b[0;32mwith\u001b[0m \u001b[0mopen\u001b[0m\u001b[0;34m(\u001b[0m\u001b[0mdst\u001b[0m\u001b[0;34m,\u001b[0m \u001b[0;34m'wb'\u001b[0m\u001b[0;34m)\u001b[0m \u001b[0;32mas\u001b[0m \u001b[0mfdst\u001b[0m\u001b[0;34m:\u001b[0m\u001b[0;34m\u001b[0m\u001b[0m\n\u001b[1;32m    122\u001b[0m                 \u001b[0mcopyfileobj\u001b[0m\u001b[0;34m(\u001b[0m\u001b[0mfsrc\u001b[0m\u001b[0;34m,\u001b[0m \u001b[0mfdst\u001b[0m\u001b[0;34m)\u001b[0m\u001b[0;34m\u001b[0m\u001b[0m\n",
      "\u001b[0;31mIsADirectoryError\u001b[0m: [Errno 21] Is a directory: 'Search/RES_files'"
     ]
    }
   ],
   "source": [
    "ini_data = {'J0J' : [0, 0, 0],\n",
    "            'J1J' : [1, 1, 1],\n",
    "           'J1J-1' : [1, 1, 0],\n",
    "           'J2J-1' : [2, 2, 1],\n",
    "           'J2J-2' : [2, 2, 0],\n",
    "           'J3J-2' : [3, 3, 1],\n",
    "           'J3J-3' : [3, 3, 0],\n",
    "           'J4J-3' : [4, 4, 1],\n",
    "           'J4J-4' : [4, 4, 0],\n",
    "           'J5J-4' : [5, 5, 1],\n",
    "            'J5J-5' : [5, 5, 0]}\n",
    "            \n",
    "\n",
    "import shutil \n",
    "import os\n",
    "\n",
    "dir_search = 'Search/'\n",
    "dir_search_files = 'Search_files/'\n",
    "\n",
    "print(os.getcwd())\n",
    "files = os.listdir(dir_search)\n",
    "for file in files:\n",
    "    shutil.copyfile(dir_search+file,  os.getcwd()+'/'+file)\n",
    "    \n",
    "for k, v in ini_data.items():\n",
    "    file_asym = open('ASYM', 'r')\n",
    "    \n",
    "    line = ''\n",
    "    for i in range(5):\n",
    "        line += file_asym.readline()\n",
    "        \n",
    "    file_asym.close()\n",
    "    file_asym = open('ASYM', 'w')\n",
    "    file_asym.write(line)\n",
    "        \n",
    "    make_search(file_asym, *v, band_name)\n",
    "    file_asym.close()\n",
    "        \n",
    "    !wine ASYM.EXE\n",
    "    !wine SEARCH.exe\n",
    "    \n",
    "    shutil.copyfile(os.getcwd()+'/search',  dir_search_files+'search_'+k)\n",
    "    \n",
    "for file in files:\n",
    "    os.remove(os.getcwd()+'/'+file)"
   ]
  },
  {
   "cell_type": "code",
   "execution_count": null,
   "metadata": {},
   "outputs": [],
   "source": []
  }
 ],
 "metadata": {
  "kernelspec": {
   "display_name": "Python 3",
   "language": "python",
   "name": "python3"
  },
  "language_info": {
   "codemirror_mode": {
    "name": "ipython",
    "version": 3
   },
   "file_extension": ".py",
   "mimetype": "text/x-python",
   "name": "python",
   "nbconvert_exporter": "python",
   "pygments_lexer": "ipython3",
   "version": "3.7.0"
  }
 },
 "nbformat": 4,
 "nbformat_minor": 2
}
