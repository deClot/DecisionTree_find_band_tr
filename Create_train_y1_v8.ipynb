{
 "cells": [
  {
   "cell_type": "code",
   "execution_count": 121,
   "metadata": {},
   "outputs": [],
   "source": [
    "import os\n",
    "import shutil \n",
    "import csv\n",
    "import numpy as np\n",
    "#import numpy as np\n",
    "#import pandas as pd\n",
    "#from sklearn.preprocessing import StandardScaler\n",
    "from utils import *"
   ]
  },
  {
   "cell_type": "code",
   "execution_count": 179,
   "metadata": {},
   "outputs": [],
   "source": [
    "band_name = 'v8'  \n",
    "window_size = 6 "
   ]
  },
  {
   "cell_type": "code",
   "execution_count": 180,
   "metadata": {},
   "outputs": [
    {
     "name": "stdout",
     "output_type": "stream",
     "text": [
      "10\n",
      "[[3.6325600000000122, 3.630423999999948, 3.626299999999901, 3.6202769999999873, 3.613411000000042, 3.605570999999941, 3.598645000000033, 3.5925459999999703, 3.5861169999999447, 3.5819499999998925, 3.5790140000000292, 3.5772160000000213, 3.5766069999999672, 3.577682999999979, 3.579494000000068, 3.5832960000000185, 3.5874300000000403, 3.5926919999999427, 3.5994069999999283], [3.5875939999999673, 3.5860830000000306, 3.58442500000001, 3.5824029999999993, 3.580515000000105, 3.5785640000000285, 3.5768000000000484, 3.575134000000048, 3.574037999999973, 3.5739620000000514, 3.573853999999983, 3.574555000000032, 3.578021999999919, 3.578895999999986, 3.5815470000000005, 3.586221000000023, 3.591946000000007, 3.5999000000001615], [3.5837850000000344, 3.5758050000000594, 3.5654899999999543, 3.5505940000000464, 3.5326430000000073, 3.5115349999999808, 3.4878740000000334, 3.4620459999999866, 3.434436000000005, 3.4057840000000397, 3.3765769999999975, 3.3477499999999054, 3.319975000000113, 3.2937349999999697, 3.2677349999999024, 3.2440110000000004, 3.221604999999954, 3.200664000000188, 3.178484000000026, 3.1620900000000347, 3.145907999999963, 3.127174999999852, 3.1107710000001134, 3.0947960000000876], [3.448470999999927, 3.440607, 3.4330040000000963, 3.422003000000018, 3.4114909999999554, 3.3970500000000357, 3.3815510000000586, 3.364966000000095, 3.3471419999999625, 3.3279249999999365, 3.311189000000013, 3.29076299999997, 3.2726050000001123, 3.250727999999981, 3.230442000000039, 3.2143619999999373, 3.196476999999959, 3.1761589999998705, 3.15839700000015, 3.141471000000138, 3.124981999999818, 3.1091129999999794, 3.0942519999998694, 3.082149999999956, 3.065168999999969], [3.445925999999986, 3.440537000000063, 3.429734999999937, 3.415903000000071, 3.3999959999999874, 3.3773109999999633, 3.3510980000000927, 3.3183879999999135, 3.283633000000009, 3.243678999999929, 3.20049999999992, 3.15657699999997, 3.1078180000001794, 3.0575309999999263, 3.0062360000001718, 2.9540210000000116, 2.9036599999999453, 2.8538330000001224, 2.8035479999998643, 2.754455999999891, 2.710055999999895, 2.664925999999923, 2.620881000000054, 2.578072999999904, 2.5370000000000346, 2.496259000000009, 2.455176000000165], [3.2195669999999836, 3.21067400000004, 3.200597000000016, 3.185585999999944, 3.170441000000096, 3.151206000000002, 3.129639999999995, 3.106076999999914, 3.080654999999979, 3.052994000000126, 3.0233840000000782, 2.9904730000000654, 2.9573609999999917, 2.9225240000000667, 2.886447999999973, 2.8481759999999667, 2.809832000000142, 2.7703369999999268, 2.7323599999999715, 2.691364999999905, 2.652415000000019, 2.61282499999993, 2.573425000000043, 2.531409000000167, 2.492123999999876, 2.4519809999999325], [3.2189109999999346, 3.2102479999999787, 3.1989569999999503, 3.1845730000000003, 3.1680439999998953, 3.1478399999999738, 3.1264190000000553, 3.0979790000000094, 3.0659619999998995, 3.030044000000089, 2.988935000000083, 2.9427689999999984, 2.8903969999998935, 2.8353819999999814, 2.772412999999915, 2.706863999999996, 2.6389630000001034, 2.5664019999999255, 2.493829999999889, 2.4184079999999994, 2.3423239999999623, 2.266399999999976, 2.188147000000072, 2.137632000000167, 2.0545640000000276, 1.9822459999998046, 1.9146690000000035, 1.846031000000039], [2.9045959999999695, 2.893030000000067, 2.878926999999976, 2.8631800000000567, 2.840485000000058, 2.823082999999997, 2.8003499999999804, 2.7736569999999574, 2.7438740000000053, 2.714913999999908, 2.6780080000000908, 2.6419479999999567, 2.602245999999923, 2.5591139999999086, 2.5123630000000503, 2.466378000000077, 2.4148129999998673, 2.361695999999938, 2.308416999999963, 2.2526479999999083, 2.1919110000001183, 2.1343160000001262, 2.086379000000079, 2.021331999999802, 1.9570730000000367], [2.877448999999956, 2.8614350000000286, 2.8437040000000025, 2.824549999999931, 2.800956000000042, 2.7742889999999534, 2.7449440000000322, 2.7113540000000285, 2.6731740000000173, 2.63474199999996, 2.588429000000133, 2.5380660000000717, 2.483054999999922, 2.4215220000000954, 2.35665199999994, 2.283141999999998, 2.205744999999979, 2.123307999999952, 2.0354859999999917, 1.9416309999999157, 1.8461859999999888, 1.7527149999998528, 1.6334119999999075], [2.5006490000000667, 2.4881749999999556, 2.4711130000000594, 2.452592999999979, 2.432851000000028, 2.409806000000117, 2.385167999999794]]\n"
     ]
    }
   ],
   "source": [
    "path = 'sources/Ini_sources/'\n",
    "#print(os.getcwd())\n",
    "data_1 = make_sequences_y1(band_name, path, band_name)\n",
    "print(len(data_1))\n",
    "print(data_1)"
   ]
  },
  {
   "cell_type": "code",
   "execution_count": 4,
   "metadata": {},
   "outputs": [
    {
     "data": {
      "text/plain": [
       "\" Writing out initial sequences\\nfile_ini = open('sources/Ini_sources/sequences_'+band_name, 'w')\\nfor line in data_1:\\n    file_ini.write(str(line) +'\\n')\\n    \\nfile_ini.close()\\n\""
      ]
     },
     "execution_count": 4,
     "metadata": {},
     "output_type": "execute_result"
    }
   ],
   "source": [
    "''' Writing out initial sequences\n",
    "file_ini = open('sources/Ini_sources/sequences_'+band_name, 'w')\n",
    "for line in data_1:\n",
    "    file_ini.write(str(line) +'\\n')\n",
    "    \n",
    "file_ini.close()\n",
    "'''"
   ]
  },
  {
   "cell_type": "code",
   "execution_count": 181,
   "metadata": {},
   "outputs": [
    {
     "name": "stdout",
     "output_type": "stream",
     "text": [
      "[3, 8]\n"
     ]
    }
   ],
   "source": [
    "from decimal import Decimal, ROUND_HALF_UP, getcontext\n",
    "getcontext().rounding = ROUND_HALF_UP\n",
    "l = len(data_1)\n",
    "h = int(round(Decimal(l)/2,0))\n",
    "i = int(round(Decimal(h)/2,0))\n",
    "indexes = [i, l-(h-i)]\n",
    "print(indexes)"
   ]
  },
  {
   "cell_type": "code",
   "execution_count": 182,
   "metadata": {},
   "outputs": [
    {
     "name": "stdout",
     "output_type": "stream",
     "text": [
      "5\n"
     ]
    }
   ],
   "source": [
    "train = data_1[:indexes[0]] + data_1[indexes[1]:]\n",
    "test  = data_1[indexes[0]:indexes[1]]\n",
    "print(len(train))"
   ]
  },
  {
   "cell_type": "code",
   "execution_count": 183,
   "metadata": {},
   "outputs": [
    {
     "data": {
      "text/plain": [
       "\"\\ndata_test_1 = get_x(test, window_size=window_size)\\n\\nfile_csv = open('sources/test_y1_'+band_name+'.csv', 'w', newline='')\\nfilewriter = csv.writer(file_csv, delimiter=',',\\n                            quotechar='|', quoting=csv.QUOTE_MINIMAL)\\n#filewriter.writerow([1,2,3,4,5,6,'Y'])\\nfilewriter.writerow([1,2,3,4,5,6,'Y1','Y2','Y3','Y4','Y5','Y6'])\\nfor i in range(data_test_1.shape[0]):\\n    filewriter.writerow(data_test_1[i,:])\\nfile_csv.close()\\n\""
      ]
     },
     "execution_count": 183,
     "metadata": {},
     "output_type": "execute_result"
    }
   ],
   "source": [
    "'''\n",
    "data_test_1 = get_x(test, window_size=window_size)\n",
    "\n",
    "file_csv = open('sources/test_y1_'+band_name+'.csv', 'w', newline='')\n",
    "filewriter = csv.writer(file_csv, delimiter=',',\n",
    "                            quotechar='|', quoting=csv.QUOTE_MINIMAL)\n",
    "#filewriter.writerow([1,2,3,4,5,6,'Y'])\n",
    "filewriter.writerow([1,2,3,4,5,6,'Y1','Y2','Y3','Y4','Y5','Y6'])\n",
    "for i in range(data_test_1.shape[0]):\n",
    "    filewriter.writerow(data_test_1[i,:])\n",
    "file_csv.close()\n",
    "'''"
   ]
  },
  {
   "cell_type": "markdown",
   "metadata": {},
   "source": [
    "# Creating additional samples for train set"
   ]
  },
  {
   "cell_type": "code",
   "execution_count": 184,
   "metadata": {},
   "outputs": [],
   "source": [
    "from statistics import mean \n",
    "\n",
    "def check_data_uniform_chaning(data, out=False):\n",
    "    data_to_continue = []\n",
    "    for line in data:\n",
    "        flag = True\n",
    "        temp = line[1] - line[0]\n",
    "        if temp > 0:\n",
    "            for i in range(1, len(line[:-1])):\n",
    "                if line[i+1] < line[i]:\n",
    "                    flag = False\n",
    "                    break\n",
    "        else:\n",
    "            for i in range(1,len(line[:-1])):\n",
    "                if line[i+1] > line[i]:\n",
    "                    flag = False\n",
    "                    break\n",
    "        if flag is False:\n",
    "            if out is True: print(line)\n",
    "            new = []\n",
    "            #m = mean(line)\n",
    "            #for i in line:\n",
    "            #    new.append(i-m)\n",
    "            #print(new)\n",
    "        else:\n",
    "            data_to_continue.append(line)\n",
    "    return data_to_continue\n"
   ]
  },
  {
   "cell_type": "code",
   "execution_count": 185,
   "metadata": {},
   "outputs": [],
   "source": [
    "def get_labels_y1(data):\n",
    "    data_new = []\n",
    "    for i in range(len(data)):\n",
    "        data_new.append(data[i] + [1,1,1,1,1,1])\n",
    "    return data_new"
   ]
  },
  {
   "cell_type": "code",
   "execution_count": 186,
   "metadata": {},
   "outputs": [],
   "source": [
    "def negative_sequences(data):\n",
    "    data_new = []\n",
    "    for el in data:\n",
    "        seq = []\n",
    "        for cell in el:\n",
    "            seq.append(-cell)\n",
    "        data_new.append(seq)\n",
    "\n",
    "    return data_new"
   ]
  },
  {
   "cell_type": "code",
   "execution_count": 187,
   "metadata": {},
   "outputs": [],
   "source": [
    "def reverse_sequences(data, out=False):\n",
    "    data_new = []\n",
    "    for line in data:\n",
    "        line_new = line[::-1]\n",
    "        if out is True:\n",
    "            print('ini:\\t', line)\n",
    "            print('reversed:\\t', line_new)\n",
    "        data_new.append(line_new)\n",
    "    return data_new"
   ]
  },
  {
   "cell_type": "code",
   "execution_count": 188,
   "metadata": {},
   "outputs": [],
   "source": [
    "def calculate_deltas(line):\n",
    "    deltas = [0]\n",
    "    for i in range(len(line)-1):\n",
    "        delta = line[i] - line[i+1]\n",
    "        deltas.append(delta)\n",
    "    return deltas\n",
    "\n",
    "def create_shift_in_deltas(data, shift, out=False):\n",
    "    data_add = []\n",
    "\n",
    "    for line in data:\n",
    "        deltas = calculate_deltas(line)\n",
    "        min_delta = min(deltas[1:])\n",
    "        if abs(shift) > abs(min_delta):\n",
    "            continue\n",
    "        new = [line[0]]\n",
    "        ini = line[0]\n",
    "        for i in range(1, len(line)):\n",
    "            ini = ini - deltas[i] - shift\n",
    "            new.append(ini)\n",
    "        if out is True:\n",
    "            print('ini:\\t', line)\n",
    "            print('ini deltas:\\t', deltas)\n",
    "            print('new:\\t', new)\n",
    "            #d = calculate_deltas(new)\n",
    "            #print(d)\n",
    "            #d2 = calculate_deltas(d[1:])\n",
    "            #print(d2)\n",
    "            #print(min(d2))\n",
    "        data_add.append(new)\n",
    "    \n",
    "    return data_add"
   ]
  },
  {
   "cell_type": "code",
   "execution_count": 189,
   "metadata": {},
   "outputs": [
    {
     "data": {
      "text/plain": [
       "31"
      ]
     },
     "execution_count": 189,
     "metadata": {},
     "output_type": "execute_result"
    }
   ],
   "source": [
    "file_csv = open('sources/train_y1_'+band_name+'.csv', 'w', newline='')\n",
    "filewriter = csv.writer(file_csv, delimiter=',',\n",
    "                            quotechar='|', quoting=csv.QUOTE_MINIMAL)\n",
    "filewriter.writerow([1,2,3,4,5,6,'Y1','Y2','Y3','Y4','Y5','Y6'])\n"
   ]
  },
  {
   "cell_type": "code",
   "execution_count": 190,
   "metadata": {},
   "outputs": [
    {
     "name": "stdout",
     "output_type": "stream",
     "text": [
      "ini:\t\t 61\n",
      "negative:\t 61\n",
      "total:\t\t 122\n"
     ]
    }
   ],
   "source": [
    "data = get_x(train, window_size=window_size).tolist()\n",
    "print('ini:\\t\\t', len(data))\n",
    "\n",
    "data_add_negative = negative_sequences(data)\n",
    "print('negative:\\t', len(data_add_negative))\n",
    "\n",
    "data += data_add_negative\n",
    "print('total:\\t\\t', len(data))\n",
    "\n",
    "data_out = get_labels_y1(data)\n",
    "\n",
    "data_out = np.array(data_out)\n",
    "for i in range(data_out.shape[0]):\n",
    "    filewriter.writerow(data_out[i,:])\n"
   ]
  },
  {
   "cell_type": "code",
   "execution_count": 191,
   "metadata": {},
   "outputs": [
    {
     "name": "stdout",
     "output_type": "stream",
     "text": [
      "only uniform changing in sequence:\t 106\n"
     ]
    }
   ],
   "source": [
    "data = check_data_uniform_chaning(data, out=False)\n",
    "print('only uniform changing in sequence:\\t', len(data))   "
   ]
  },
  {
   "cell_type": "code",
   "execution_count": 192,
   "metadata": {},
   "outputs": [
    {
     "name": "stdout",
     "output_type": "stream",
     "text": [
      "ini:\t\t 106\n",
      "reversed:\t 106\n",
      "total:\t\t 212\n"
     ]
    }
   ],
   "source": [
    "data_add_reversed = reverse_sequences(data, out=False)\n",
    "print('ini:\\t\\t', len(data))\n",
    "print('reversed:\\t', len(data_add_reversed))\n",
    "\n",
    "data += data_add_reversed\n",
    "print('total:\\t\\t', len(data))"
   ]
  },
  {
   "cell_type": "code",
   "execution_count": 193,
   "metadata": {},
   "outputs": [
    {
     "name": "stdout",
     "output_type": "stream",
     "text": [
      "ini:\t\t 212\n",
      "shifted:\t 9300\n",
      "total:\t\t 9512\n"
     ]
    }
   ],
   "source": [
    "print('ini:\\t\\t', len(data))\n",
    "shifts = [i for i in np.arange(-0.015, 0.015, 0.0005) if abs(i) > 0.00001]\n",
    "data_add_res = []\n",
    "for shift in shifts:\n",
    "    data_add = create_shift_in_deltas(data, shift, out=False)\n",
    "    data_add_res += data_add\n",
    "print('shifted:\\t', len(data_add_res))\n",
    "\n",
    "data += data_add_res\n",
    "print('total:\\t\\t', len(data))"
   ]
  },
  {
   "cell_type": "code",
   "execution_count": 194,
   "metadata": {},
   "outputs": [],
   "source": [
    "data_out = get_labels_y1(data)\n",
    "\n",
    "data_out = np.array(data_out)\n",
    "for i in range(data_out.shape[0]):\n",
    "    filewriter.writerow(data_out[i,:])\n",
    "    "
   ]
  },
  {
   "cell_type": "code",
   "execution_count": 195,
   "metadata": {},
   "outputs": [],
   "source": [
    "file_csv.close()"
   ]
  },
  {
   "cell_type": "code",
   "execution_count": null,
   "metadata": {},
   "outputs": [],
   "source": [
    "'''Muliplicate deltas by 10s\n",
    "data_add = []\n",
    "for line in data:\n",
    "    deltas = create_deltas(line, y_label=True)\n",
    "    #print(line)\n",
    "    #print('d ', deltas)\n",
    "    if all(delta <= 0.1 for delta in deltas) is True:\n",
    "        cell_max = m\n",
    "        ax(map(abs,deltas))\n",
    "        cell_min = min(map(abs,deltas[1:]))\n",
    "        while (cell_max < 0.05):\n",
    "            deltas = [d*10 for d in deltas]\n",
    "            cell_max *= 10\n",
    "            new = []\n",
    "            ini = line[0]\n",
    "            for i in range(len(deltas)):\n",
    "                ini = ini - deltas[i]\n",
    "                new.append(ini)\n",
    "            new.append(1.)\n",
    "            if abs(line[0] - 3.5738) <= 0.0001:\n",
    "                print(line)\n",
    "                print(create_deltas(line, y_label=True))\n",
    "                print('1', new)\n",
    "    \n",
    "            #print('n ',new)\n",
    "            data_add.append(new)\n",
    "            \n",
    "            if cell_min >= 0.002:\n",
    "                deltas2 = [d/2 for d in deltas]\n",
    "                new = []\n",
    "                #print('1', deltas)\n",
    "                #print('2',deltas2)\n",
    "                ini = line[0]\n",
    "                for i in range(len(deltas2)):\n",
    "                    ini = ini - deltas2[i]\n",
    "                    new.append(ini)\n",
    "                new.append(1.)\n",
    "                if abs(line[0] - 3.5738) <= 0.0001:\n",
    "                    print('2',new)\n",
    "                #print('n ',new)\n",
    "                data_add.append(new)\n",
    "            \n",
    "print(len(data_add))\n",
    "'''"
   ]
  },
  {
   "cell_type": "code",
   "execution_count": null,
   "metadata": {},
   "outputs": [],
   "source": []
  }
 ],
 "metadata": {
  "kernelspec": {
   "display_name": "Python 3",
   "language": "python",
   "name": "python3"
  },
  "language_info": {
   "codemirror_mode": {
    "name": "ipython",
    "version": 3
   },
   "file_extension": ".py",
   "mimetype": "text/x-python",
   "name": "python",
   "nbconvert_exporter": "python",
   "pygments_lexer": "ipython3",
   "version": "3.7.0"
  }
 },
 "nbformat": 4,
 "nbformat_minor": 2
}
