{
 "cells": [
  {
   "cell_type": "code",
   "execution_count": 1,
   "metadata": {},
   "outputs": [
    {
     "name": "stderr",
     "output_type": "stream",
     "text": [
      "Using TensorFlow backend.\n"
     ]
    }
   ],
   "source": [
    "import os\n",
    "import shutil \n",
    "import csv\n",
    "import numpy as np\n",
    "#import numpy as np\n",
    "#import pandas as pd\n",
    "#from sklearn.preprocessing import StandardScaler\n",
    "from utils import *"
   ]
  },
  {
   "cell_type": "code",
   "execution_count": 7,
   "metadata": {},
   "outputs": [],
   "source": [
    "def get_labels_y1(data):\n",
    "    data_new = []\n",
    "    print(len(data))\n",
    "    for i in range(len(data)):\n",
    "        data_new.append(data[i] + [1,1,1,1,1,1])\n",
    "        \n",
    "    return data_new"
   ]
  },
  {
   "cell_type": "code",
   "execution_count": 2,
   "metadata": {},
   "outputs": [],
   "source": [
    "band_name = 'v3'  \n",
    "window_size = 6 "
   ]
  },
  {
   "cell_type": "code",
   "execution_count": 3,
   "metadata": {},
   "outputs": [
    {
     "name": "stdout",
     "output_type": "stream",
     "text": [
      "16\n",
      "[[2.4605200000000877, 2.4666939999999613, 2.4781299999999646, 2.4949169999999867, 2.5168509999998605, 2.5409810000001016, 2.5749949999999444, 2.610016000000087, 2.6477270000000317, 2.6896099999999024, 2.734294000000091, 2.7827760000000126, 2.834677000000056, 2.8897729999998774, 2.9384440000001177, 3.00591600000007, 3.073649999999816, 3.143542000000025, 3.216996999999992, 3.2950650000000223, 3.385539000000108], [2.497233999999935, 2.505493000000115, 2.5208950000001096, 2.5371829999999136, 2.5582950000000437, 2.5884540000001834, 2.620439999999917, 2.655993999999964, 2.695167999999967, 2.7391020000000026, 2.786493999999948, 2.8373350000001665, 2.8943719999999757], [2.500084999999899, 2.5129750000000968, 2.5340899999998783, 2.5633940000000166, 2.595263000000159, 2.6357949999999164, 2.68797399999994, 2.7343960000000607, 2.7921759999999267, 2.8572240000000875, 2.9255269999998745, 2.99732999999992, 3.0770649999999478, 3.1554849999999988, 3.2395950000000084, 3.3270410000000084, 3.420815000000175, 3.51471400000014, 3.617273999999952, 3.726229999999987, 3.842018000000053, 3.964414999999917, 4.1000709999998435, 4.252246000000014], [2.602090999999973, 2.61969699999986, 2.644424000000072, 2.6727230000001327, 2.7084310000000187, 2.748429999999871, 2.794371000000183, 2.84690599999999, 2.899501999999984, 2.9589750000000095, 3.0225490000000264, 3.0915929999998752, 3.164175000000114, 3.243028000000095, 3.3249620000001414, 3.4124719999999797, 3.5054670000001806, 3.6024090000000797, 3.7080869999999777], [2.602386000000024, 2.6205170000000635, 2.6452449999999317, 2.680723000000171, 2.7159560000000056, 2.760960999999952, 2.818997999999965, 2.879707999999937, 2.947253000000046, 3.024528999999802, 3.112469999999803, 3.2019169999998667, 3.2999079999999594, 3.3996510000001763, 3.5166759999999613, 3.6235710000000836, 3.751019999999926, 3.877973000000111, 4.013308000000052, 4.157666000000063, 4.3155759999999646, 4.490786000000071], [2.775237000000061, 2.799784000000045, 2.831617000000051, 2.8675060000000485, 2.914590999999973, 2.9618359999999484, 3.016210000000001, 3.079257000000098, 3.1516849999998158, 3.2217840000000706, 3.3054939999999533, 3.383722999999918, 3.4768310000001748, 3.569254000000001, 3.669518000000153, 3.7744360000001507, 3.8846920000000864, 4.001726999999846, 4.125630000000001, 4.257974999999988, 4.409895000000006], [2.774460999999974, 2.799827999999934, 2.8305970000001253, 2.8670029999998405, 2.9126440000000002, 2.9631400000000667, 3.020639000000074, 3.0828989999999976, 3.156581999999844, 3.2358339999998407, 3.3221349999998893, 3.4169090000000324, 3.518136999999797, 3.6202719999998862, 3.7348129999998037, 3.8462339999998676, 3.95026299999995], [3.016646000000037, 3.0482500000000528, 3.0867769999999837, 3.132470000000012, 3.1842450000001463, 3.2427430000000186, 3.3093200000000706, 3.3858769999999367, 3.4613939999999275, 3.5456340000000637, 3.6393580000001293, 3.734858000000031, 3.840216000000055, 3.9478540000000066, 4.068123000000014, 4.188787999999931, 4.31818300000009, 4.455825999999888, 4.600307000000157, 4.756077999999889], [3.0166139999998904, 3.048031999999921, 3.085698999999977, 3.1321550000000116, 3.183273999999983, 3.243889999999965, 3.3114459999999326, 3.3822989999998754, 3.4609639999998763, 3.5475639999999657, 3.6383539999999357, 3.7367119999998977, 3.8406890000001113, 3.9541860000001634, 4.07173499999999, 4.186251999999968, 4.293642000000091, 4.4057520000001205, 4.518254999999954, 4.634227999999894], [3.32334899999978, 3.364894999999933, 3.412943000000041, 3.4676629999999022, 3.529651000000058, 3.598075999999992, 3.6715679999999793, 3.753154999999879, 3.8379019999999855, 3.9314030000000457, 4.029262999999901, 4.132517000000007, 4.24064599999997, 4.3538599999999406, 4.472191000000066, 4.5920629999998255, 4.715097000000014], [3.6720470000000205, 3.7519979999999578, 3.835514000000103, 3.931678000000147, 4.0278350000000955, 4.132717999999841, 4.239417999999887, 4.348534999999856, 4.466158000000178, 4.583836000000019, 4.69288100000017], [3.698806999999988, 3.7521589999998923, 3.8126819999999952, 3.8797550000001593, 3.954668999999967, 4.041584000000057, 4.124125999999933, 4.219573999999966, 4.323542000000089, 4.4287279999998646, 4.545133000000078, 4.66218200000003, 4.786681000000044, 4.922849000000042, 5.050118000000111, 5.191169999999829, 5.332488000000012, 5.485089000000016, 5.636567999999897, 5.800162999999884, 5.9581439999999475, 6.125000999999884, 6.285706000000118], [4.429333000000042, 4.541455000000042, 4.660511000000042, 4.787245999999868, 4.9167600000000675, 5.047055, 5.18444199999999, 5.332497999999987, 5.4761130000001685, 5.62190099999998, 5.770164999999906, 5.922707000000173, 6.074776999999813, 6.219777999999906], [4.1426819999999225, 4.211968999999954, 4.291027999999869, 4.377977999999985, 4.471886999999924, 4.574067000000014, 4.677756999999929, 4.7961689999999635, 4.922144000000117, 5.051647000000003, 5.185056999999915, 5.325632000000041, 5.465471999999863, 5.6207070000000385, 5.787019999999984, 5.934696000000031, 6.099923999999874, 6.2575990000000274, 6.434704000000011], [5.47260499999993, 5.617475000000013, 5.790199999999913, 5.936635000000024, 6.096350999999913, 6.265672000000222, 6.429840999999897, 6.6009559999999965, 6.771799999999985, 6.941037999999935, 7.108656999999994], [4.650951000000077, 4.754165000000057, 4.867158999999901, 4.988240000000133, 5.117709999999988, 5.254567000000179, 5.399842000000035, 5.54973700000005, 5.705870000000004, 5.8684639999999035, 6.035179999999855, 6.2070719999999255, 6.383280000000013, 6.564808999999968, 6.742918000000145, 6.929648999999927, 7.113594000000148, 7.310746999999992]]\n"
     ]
    }
   ],
   "source": [
    "path = 'sources/Ini_sources/'\n",
    "#print(os.getcwd())\n",
    "data_1 = make_sequences_y1(band_name, path, band_name)\n",
    "print(len(data_1))\n",
    "print(data_1)"
   ]
  },
  {
   "cell_type": "code",
   "execution_count": 287,
   "metadata": {},
   "outputs": [
    {
     "data": {
      "text/plain": [
       "\" Writing out initial sequences\\nfile_ini = open('sources/Ini_sources/sequences_'+band_name, 'w')\\nfor line in data_1:\\n    file_ini.write(str(line) +'\\n')\\n    \\nfile_ini.close()\\n\\n\""
      ]
     },
     "execution_count": 287,
     "metadata": {},
     "output_type": "execute_result"
    }
   ],
   "source": [
    "''' Writing out initial sequences\n",
    "file_ini = open('sources/Ini_sources/sequences_'+band_name, 'w')\n",
    "for line in data_1:\n",
    "    file_ini.write(str(line) +'\\n')\n",
    "    \n",
    "file_ini.close()\n",
    "\n",
    "'''"
   ]
  },
  {
   "cell_type": "code",
   "execution_count": 4,
   "metadata": {},
   "outputs": [
    {
     "name": "stdout",
     "output_type": "stream",
     "text": [
      "[4, 12]\n",
      "8\n"
     ]
    }
   ],
   "source": [
    "from decimal import Decimal, ROUND_HALF_UP, getcontext\n",
    "\n",
    "if band_name == 'v3':\n",
    "    getcontext().rounding = ROUND_HALF_UP\n",
    "    l = len(data_1)\n",
    "    h = int(round(Decimal(l)/2,0))\n",
    "    i = int(round(Decimal(h)/2,0))\n",
    "    indexes = [i, l-(h-i)]\n",
    "    print(indexes)\n",
    "    \n",
    "    train = data_1[:indexes[0]] + data_1[indexes[1]:]\n",
    "    test  = data_1[indexes[0]:indexes[1]]\n",
    "    print(len(train))"
   ]
  },
  {
   "cell_type": "code",
   "execution_count": 8,
   "metadata": {},
   "outputs": [
    {
     "name": "stdout",
     "output_type": "stream",
     "text": [
      "103\n"
     ]
    }
   ],
   "source": [
    "if band_name != 'v3':\n",
    "    test = data_1\n",
    "data_test_1 = get_x(test, window_size=window_size).tolist()\n",
    "data_out = get_labels_y1(data_test_1)\n",
    "\n",
    "data_out = np.array(data_out)\n",
    "\n",
    "file_csv = open('sources/test_y1_'+band_name+'.csv', 'w', newline='')\n",
    "filewriter = csv.writer(file_csv, delimiter=',',\n",
    "                            quotechar='|', quoting=csv.QUOTE_MINIMAL)\n",
    "filewriter.writerow([1,2,3,4,5,6,'Y1','Y2','Y3','Y4','Y5','Y6'])\n",
    "for i in range(data_out.shape[0]):\n",
    "    filewriter.writerow(data_out[i,:])\n",
    "file_csv.close()\n"
   ]
  },
  {
   "cell_type": "markdown",
   "metadata": {},
   "source": [
    "# Creating additional samples for train set"
   ]
  },
  {
   "cell_type": "code",
   "execution_count": 9,
   "metadata": {},
   "outputs": [],
   "source": [
    "from statistics import mean \n",
    "\n",
    "def check_data_uniform_chaning(data, out=False):\n",
    "    data_to_continue = []\n",
    "    for line in data:\n",
    "        flag = True\n",
    "        temp = line[1] - line[0]\n",
    "        if temp > 0:\n",
    "            for i in range(1, len(line[:-1])):\n",
    "                if line[i+1] < line[i]:\n",
    "                    flag = False\n",
    "                    break\n",
    "        else:\n",
    "            for i in range(1,len(line[:-1])):\n",
    "                if line[i+1] > line[i]:\n",
    "                    flag = False\n",
    "                    break\n",
    "        if flag is False:\n",
    "            if out is True: print(line)\n",
    "            new = []\n",
    "            #m = mean(line)\n",
    "            #for i in line:\n",
    "            #    new.append(i-m)\n",
    "            #print(new)\n",
    "        else:\n",
    "            data_to_continue.append(line)\n",
    "    return data_to_continue\n"
   ]
  },
  {
   "cell_type": "code",
   "execution_count": 10,
   "metadata": {},
   "outputs": [],
   "source": [
    "def negative_sequences(data):\n",
    "    data_new = []\n",
    "    for el in data:\n",
    "        seq = []\n",
    "        for cell in el:\n",
    "            seq.append(-cell)\n",
    "        data_new.append(seq)\n",
    "\n",
    "    return data_new"
   ]
  },
  {
   "cell_type": "code",
   "execution_count": 11,
   "metadata": {},
   "outputs": [],
   "source": [
    "def reverse_sequences(data, out=False):\n",
    "    data_new = []\n",
    "    for line in data:\n",
    "        line_new = line[::-1]\n",
    "        if out is True:\n",
    "            print('ini:\\t', line)\n",
    "            print('reversed:\\t', line_new)\n",
    "        data_new.append(line_new)\n",
    "    return data_new"
   ]
  },
  {
   "cell_type": "code",
   "execution_count": 12,
   "metadata": {},
   "outputs": [],
   "source": [
    "def calculate_deltas(line):\n",
    "    deltas = [0]\n",
    "    for i in range(len(line)-1):\n",
    "        delta = line[i] - line[i+1]\n",
    "        deltas.append(delta)\n",
    "    return deltas\n",
    "\n",
    "def create_shift_in_deltas(data, shift, out=False):\n",
    "    data_add = []\n",
    "\n",
    "    for line in data:\n",
    "        deltas = calculate_deltas(line)\n",
    "        min_delta = min(deltas[1:])\n",
    "        if abs(shift) > abs(min_delta):\n",
    "            continue\n",
    "        new = [line[0]]\n",
    "        ini = line[0]\n",
    "        for i in range(1, len(line)):\n",
    "            ini = ini - deltas[i] - shift\n",
    "            new.append(ini)\n",
    "        if out is True:\n",
    "            print('ini:\\t', line)\n",
    "            print('ini deltas:\\t', deltas)\n",
    "            print('new:\\t', new)\n",
    "            #d = calculate_deltas(new)\n",
    "            #print(d)\n",
    "            #d2 = calculate_deltas(d[1:])\n",
    "            #print(d2)\n",
    "            #print(min(d2))\n",
    "        data_add.append(new)\n",
    "    \n",
    "    return data_add"
   ]
  },
  {
   "cell_type": "code",
   "execution_count": 13,
   "metadata": {},
   "outputs": [
    {
     "data": {
      "text/plain": [
       "31"
      ]
     },
     "execution_count": 13,
     "metadata": {},
     "output_type": "execute_result"
    }
   ],
   "source": [
    "file_csv = open('sources/train_y1_'+band_name+'.csv', 'w', newline='')\n",
    "filewriter = csv.writer(file_csv, delimiter=',',\n",
    "                            quotechar='|', quoting=csv.QUOTE_MINIMAL)\n",
    "filewriter.writerow([1,2,3,4,5,6,'Y1','Y2','Y3','Y4','Y5','Y6'])\n"
   ]
  },
  {
   "cell_type": "code",
   "execution_count": 14,
   "metadata": {},
   "outputs": [
    {
     "name": "stdout",
     "output_type": "stream",
     "text": [
      "ini:\t\t 91\n",
      "negative:\t 91\n",
      "total:\t\t 182\n",
      "182\n"
     ]
    }
   ],
   "source": [
    "data = get_x(train, window_size=window_size).tolist()\n",
    "print('ini:\\t\\t', len(data))\n",
    "\n",
    "data_add_negative = negative_sequences(data)\n",
    "print('negative:\\t', len(data_add_negative))\n",
    "\n",
    "data += data_add_negative\n",
    "print('total:\\t\\t', len(data))\n",
    "\n",
    "data_out = get_labels_y1(data)\n",
    "\n",
    "data_out = np.array(data_out)\n",
    "for i in range(data_out.shape[0]):\n",
    "    filewriter.writerow(data_out[i,:])\n"
   ]
  },
  {
   "cell_type": "code",
   "execution_count": 15,
   "metadata": {},
   "outputs": [
    {
     "name": "stdout",
     "output_type": "stream",
     "text": [
      "only uniform changing in sequence:\t 182\n"
     ]
    }
   ],
   "source": [
    "data = check_data_uniform_chaning(data, out=False)\n",
    "print('only uniform changing in sequence:\\t', len(data))   "
   ]
  },
  {
   "cell_type": "code",
   "execution_count": 16,
   "metadata": {},
   "outputs": [
    {
     "name": "stdout",
     "output_type": "stream",
     "text": [
      "ini:\t\t 182\n",
      "reversed:\t 182\n",
      "total:\t\t 364\n"
     ]
    }
   ],
   "source": [
    "data_add_reversed = reverse_sequences(data, out=False)\n",
    "print('ini:\\t\\t', len(data))\n",
    "print('reversed:\\t', len(data_add_reversed))\n",
    "\n",
    "data += data_add_reversed\n",
    "print('total:\\t\\t', len(data))"
   ]
  },
  {
   "cell_type": "code",
   "execution_count": 17,
   "metadata": {},
   "outputs": [
    {
     "name": "stdout",
     "output_type": "stream",
     "text": [
      "ini:\t\t 364\n",
      "shifted:\t 21304\n",
      "total:\t\t 21668\n"
     ]
    }
   ],
   "source": [
    "print('ini:\\t\\t', len(data))\n",
    "shifts = [i for i in np.arange(-0.015, 0.015, 0.0005) if abs(i) > 0.00001]\n",
    "data_add_res = []\n",
    "for shift in shifts:\n",
    "    data_add = create_shift_in_deltas(data, shift, out=False)\n",
    "    data_add_res += data_add\n",
    "print('shifted:\\t', len(data_add_res))\n",
    "\n",
    "data += data_add_res\n",
    "print('total:\\t\\t', len(data))"
   ]
  },
  {
   "cell_type": "code",
   "execution_count": 18,
   "metadata": {},
   "outputs": [
    {
     "name": "stdout",
     "output_type": "stream",
     "text": [
      "21668\n"
     ]
    }
   ],
   "source": [
    "data_out = get_labels_y1(data)\n",
    "\n",
    "data_out = np.array(data_out)\n",
    "for i in range(data_out.shape[0]):\n",
    "    filewriter.writerow(data_out[i,:])\n",
    "    "
   ]
  },
  {
   "cell_type": "code",
   "execution_count": 19,
   "metadata": {},
   "outputs": [],
   "source": [
    "file_csv.close()"
   ]
  },
  {
   "cell_type": "code",
   "execution_count": null,
   "metadata": {},
   "outputs": [],
   "source": [
    "'''Muliplicate deltas by 10s\n",
    "data_add = []\n",
    "for line in data:\n",
    "    deltas = create_deltas(line, y_label=True)\n",
    "    #print(line)\n",
    "    #print('d ', deltas)\n",
    "    if all(delta <= 0.1 for delta in deltas) is True:\n",
    "        cell_max = m\n",
    "        ax(map(abs,deltas))\n",
    "        cell_min = min(map(abs,deltas[1:]))\n",
    "        while (cell_max < 0.05):\n",
    "            deltas = [d*10 for d in deltas]\n",
    "            cell_max *= 10\n",
    "            new = []\n",
    "            ini = line[0]\n",
    "            for i in range(len(deltas)):\n",
    "                ini = ini - deltas[i]\n",
    "                new.append(ini)\n",
    "            new.append(1.)\n",
    "            if abs(line[0] - 3.5738) <= 0.0001:\n",
    "                print(line)\n",
    "                print(create_deltas(line, y_label=True))\n",
    "                print('1', new)\n",
    "    \n",
    "            #print('n ',new)\n",
    "            data_add.append(new)\n",
    "            \n",
    "            if cell_min >= 0.002:\n",
    "                deltas2 = [d/2 for d in deltas]\n",
    "                new = []\n",
    "                #print('1', deltas)\n",
    "                #print('2',deltas2)\n",
    "                ini = line[0]\n",
    "                for i in range(len(deltas2)):\n",
    "                    ini = ini - deltas2[i]\n",
    "                    new.append(ini)\n",
    "                new.append(1.)\n",
    "                if abs(line[0] - 3.5738) <= 0.0001:\n",
    "                    print('2',new)\n",
    "                #print('n ',new)\n",
    "                data_add.append(new)\n",
    "            \n",
    "print(len(data_add))\n",
    "'''"
   ]
  },
  {
   "cell_type": "code",
   "execution_count": null,
   "metadata": {},
   "outputs": [],
   "source": []
  }
 ],
 "metadata": {
  "kernelspec": {
   "display_name": "Python 3",
   "language": "python",
   "name": "python3"
  },
  "language_info": {
   "codemirror_mode": {
    "name": "ipython",
    "version": 3
   },
   "file_extension": ".py",
   "mimetype": "text/x-python",
   "name": "python",
   "nbconvert_exporter": "python",
   "pygments_lexer": "ipython3",
   "version": "3.7.0"
  }
 },
 "nbformat": 4,
 "nbformat_minor": 2
}
