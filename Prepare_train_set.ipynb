{
  "nbformat": 4,
  "nbformat_minor": 0,
  "metadata": {
    "colab": {
      "name": "Prepare_train_set.ipynb",
      "version": "0.3.2",
      "provenance": [],
      "collapsed_sections": [],
      "toc_visible": true
    },
    "kernelspec": {
      "display_name": "Python 3",
      "language": "python",
      "name": "python3"
    },
    "accelerator": "GPU"
  },
  "cells": [
    {
      "metadata": {
        "id": "Vm1g73kjb_8s",
        "colab_type": "text"
      },
      "cell_type": "markdown",
      "source": [
        "** For google colab**\n",
        "\n"
      ]
    },
    {
      "metadata": {
        "id": "cdbW-1zzcnAP",
        "colab_type": "text"
      },
      "cell_type": "markdown",
      "source": [
        "# Y = 0 Labels from v7"
      ]
    },
    {
      "metadata": {
        "colab_type": "code",
        "id": "z1GiZVUSDqMH",
        "colab": {}
      },
      "cell_type": "code",
      "source": [
        "def deltas_in_search(file_name):\n",
        "    file = open(file_name, 'r')\n",
        "\n",
        "    count = 0\n",
        "    for line in file:\n",
        "        count +=1\n",
        "        if count == 5:\n",
        "            break\n",
        "        continue\n",
        "\n",
        "    deltas = {}\n",
        "    indexes = {}\n",
        "    upper = {}\n",
        "    \n",
        "    index = 0\n",
        "    for line in file:\n",
        "        if line.find('Searching') != -1:\n",
        "            J0 = line.split()[1]\n",
        "            deltas[J0] = []\n",
        "            index += 1\n",
        "            indexes[J0] = index\n",
        "            E0 = float(line.split()[-1])\n",
        "            continue\n",
        "\n",
        "        if line.find('No') != -1:\n",
        "            continue\n",
        "\n",
        "        if len(line.split()) == 0:\n",
        "            continue\n",
        "\n",
        "        if int(line.split()[0]) != int(J0) - 1:\n",
        "            continue\n",
        "\n",
        "        try:\n",
        "            E = float(line.split()[-1])\n",
        "            delta = round(E - E0, 3)\n",
        "            deltas[J0].append(delta)\n",
        "        except ValueError:\n",
        "            break\n",
        "    return deltas, indexes\n"
      ],
      "execution_count": 0,
      "outputs": []
    },
    {
      "metadata": {
        "colab_type": "code",
        "id": "X6mAiK35DqMU",
        "outputId": "8cbd8ba3-f570-44f1-fd93-b2093264b55f",
        "colab": {
          "resources": {
            "http://localhost:8080/nbextensions/google.colab/files.js": {
              "data": "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",
              "ok": true,
              "headers": [
                [
                  "content-type",
                  "application/javascript"
                ]
              ],
              "status": 200,
              "status_text": ""
            }
          },
          "base_uri": "https://localhost:8080/",
          "height": 162
        }
      },
      "cell_type": "code",
      "source": [
        "import os\n",
        "\n",
        "dir_search = 'Search_files/'\n",
        "#files = os.listdir(dir_search)\n",
        "\n",
        "from google.colab import files\n",
        "\n",
        "uploaded = files.upload()\n",
        "#print(uploaded)\n",
        "\n",
        "#for file in files:\n",
        "deltas, indexes = deltas_in_search('search_J2J-1')\n",
        "print(deltas)\n",
        "print(indexes)\n",
        "print(len(deltas))\n",
        "    "
      ],
      "execution_count": 5,
      "outputs": [
        {
          "output_type": "display_data",
          "data": {
            "text/html": [
              "\n",
              "     <input type=\"file\" id=\"files-d1b07373-6701-4a7a-bf7d-43bc7c1c4178\" name=\"files[]\" multiple disabled />\n",
              "     <output id=\"result-d1b07373-6701-4a7a-bf7d-43bc7c1c4178\">\n",
              "      Upload widget is only available when the cell has been executed in the\n",
              "      current browser session. Please rerun this cell to enable.\n",
              "      </output>\n",
              "      <script src=\"/nbextensions/google.colab/files.js\"></script> "
            ],
            "text/plain": [
              "<IPython.core.display.HTML object>"
            ]
          },
          "metadata": {
            "tags": []
          }
        },
        {
          "output_type": "stream",
          "text": [
            "Saving search_J2J-1 to search_J2J-1 (2)\n",
            "{'search_J2J-1': b'Range    : 5.000\\r\\nAccuracy : 0.001\\r\\nControl file  : C2HD3gr   \\r\\nSpectrum file : w         \\r\\n\\r\\n Searching   2  2  1 near    736.77805\\r\\n No   1:   1  1  1        3.45881  reg   728.319 -   738.319\\r\\n No   2:   2  1  1        6.60191  reg   725.176 -   735.176\\r\\n No   3:   3  3  1       27.70521  reg   704.073 -   714.073\\r\\n  1  1  1   728.42314 85.2   731.88195    2  1  1   725.27920 81.8   731.88111\\r\\n  1  1  1   728.77654 40.1   732.23535    2  1  1   725.63280 69.5   732.23471\\r\\n  1  1  1   728.78628 76.1   732.24509    2  1  1   725.64235 77.7   732.24426\\r\\n  1  1  1   729.10680 86.6   732.56561    2  1  1   725.96384 82.6   732.56575\\r\\n  1  1  1   729.40324 79.9   732.86205    2  1  1   726.25982 54.3   732.86173\\r\\n  1  1  1   729.40848 89.9   732.86729    2  1  1   726.26588 66.0   732.86779\\r\\n                                          3  3  1   705.16138 88.3   732.86659\\r\\n  1  1  1   729.52970 72.5   732.98851    2  1  1   726.38572 60.7   732.98763\\r\\n  1  1  1   729.53555 88.3   732.99436    2  1  1   726.39149 87.5   732.99340\\r\\n  1  1  1   729.93148 86.1   733.39029    2  1  1   726.78800 79.5   733.38991\\r\\n  1  1  1   729.98836 89.6   733.44717    2  1  1   726.84436 88.1   733.44627\\r\\n  1  1  1   730.08480 86.4   733.54361    2  1  1   726.94142 48.9   733.54333\\r\\n  1  1  1   730.34190 80.2   733.80071    2  1  1   727.19834 89.4   733.80025\\r\\n  1  1  1   730.42547 54.8   733.88428    2  1  1   727.28262 89.5   733.88453\\r\\n  1  1  1   730.43664 60.7   733.89545    2  1  1   727.29384 63.9   733.89575\\r\\n  1  1  1   730.55170 84.5   734.01051    2  1  1   727.40788 89.8   734.00979\\r\\n  1  1  1   730.76333 84.5   734.22214    2  1  1   727.61965 45.1   734.22156\\r\\n  1  1  1   731.09574 47.4   734.55455    3  3  1   706.84911 89.1   734.55432\\r\\n  1  1  1   732.73266 86.3   736.19147    2  1  1   729.59005 81.8   736.19196\\r\\n  1  1  1   732.77963 73.7   736.23844    3  3  1   708.53413 88.4   736.23934\\r\\n  1  1  1   733.58811 81.5   737.04692    2  1  1   730.44497 86.0   737.04688\\r\\n                                          3  3  1   709.34220 77.8   737.04741\\r\\n  1  1  1   733.63876 71.5   737.09757    2  1  1   730.49509 88.6   737.09700\\r\\n  1  1  1   734.08275 86.8   737.54156    3  3  1   709.83687 73.1   737.54208\\r\\n  1  1  1   734.14723 49.0   737.60604    2  1  1   731.00498 89.8   737.60689\\r\\n  1  1  1   734.64165 90.0   738.10046    3  3  1   710.39567 49.0   738.10088\\r\\n  1  1  1   735.28900 84.2   738.74781    3  3  1   711.04251 62.2   738.74772\\r\\n  1  1  1   735.50393 81.5   738.96274    2  1  1   732.36047 89.2   738.96238\\r\\n  1  1  1   735.51352 90.0   738.97233    2  1  1   732.37106 69.9   738.97297\\r\\n                                          3  3  1   711.26672 87.6   738.97193\\r\\n  1  1  1   735.53323 27.3   738.99204    3  3  1   711.28674 79.5   738.99195\\r\\n  1  1  1   735.57075 85.2   739.02956    2  1  1   732.42695 83.7   739.02886\\r\\n  1  1  1   735.66004 88.3   739.11885    3  3  1   711.41373 85.0   739.11894\\r\\n  1  1  1   735.99614 89.8   739.45495    2  1  1   732.85356 46.4   739.45547\\r\\n  1  1  1   736.05538 81.0   739.51419    2  1  1   732.91154 64.2   739.51345\\r\\n  1  1  1   736.16759  6.0   739.62640    3  3  1   711.92144 88.0   739.62665\\r\\n  1  1  1   736.18123 88.6   739.64004    2  1  1   733.03725 89.7   739.63916\\r\\n  1  1  1   736.26868 57.5   739.72749    2  1  1   733.12596 81.3   739.72787\\r\\n  1  1  1   737.13829 89.8   740.59710    2  1  1   733.99467 73.0   740.59658\\r\\n  1  1  1   737.42433 85.1   740.88314    2  1  1   734.28192 41.5   740.88383\\r\\n  1  1  1   737.55464 44.8   741.01345    3  3  1   713.30901 73.5   741.01422\\r\\n  1  1  1   737.95868 81.7   741.41749    2  1  1   734.81477 87.5   741.41668\\r\\n  1  1  1   737.98815 88.2   741.44696    2  1  1   734.84460 83.1   741.44651\\r\\n  1  1  1   738.23629 86.7   741.69510    2  1  1   735.09290 84.1   741.69481\\r\\n  2  1  1   725.43020 31.4   732.03211    3  3  1   704.32702 89.1   732.03223\\r\\n  2  1  1   725.80029 87.7   732.40220    3  3  1   704.69676 82.5   732.40197\\r\\n  2  1  1   725.91703 68.5   732.51894    3  3  1   704.81315 71.0   732.51836\\r\\n  2  1  1   726.24030 43.8   732.84221    3  3  1   705.13794 85.9   732.84315\\r\\n  2  1  1   726.65462 55.0   733.25653    3  3  1   705.55180 85.8   733.25701\\r\\n  2  1  1   727.52978 86.9   734.13169    3  3  1   706.42736 79.5   734.13257\\r\\n  2  1  1   727.61442 53.6   734.21633    3  3  1   706.51065 74.7   734.21586\\r\\n  2  1  1   728.36494 88.8   734.96685    3  3  1   707.26225 72.8   734.96746\\r\\n  2  1  1   728.59677 86.0   735.19868    3  3  1   707.49391 64.9   735.19912\\r\\n  2  1  1   728.74267 82.8   735.34458    3  3  1   707.64025 87.0   735.34546\\r\\n  2  1  1   728.78628 76.1   735.38819    3  3  1   707.68333 87.9   735.38854\\r\\n  2  1  1   729.02836 89.6   735.63027    3  3  1   707.92422 72.6   735.62943\\r\\n  2  1  1   729.09722 80.8   735.69913    3  3  1   707.99325 80.6   735.69846\\r\\n  2  1  1   729.36083 37.1   735.96274    3  3  1   708.25720 87.1   735.96241\\r\\n  2  1  1   730.44497 86.0   737.04688    3  3  1   709.34220 77.8   737.04741\\r\\n  2  1  1   730.80051 83.0   737.40242    3  3  1   709.69760 84.1   737.40281\\r\\n  2  1  1   731.26520 87.0   737.86711    3  3  1   710.16247 78.2   737.86768\\r\\n  2  1  1   732.70939 79.7   739.31130    3  3  1   711.60585 82.3   739.31106\\r\\n  2  1  1   732.89064 36.9   739.49255    3  3  1   711.78712 71.3   739.49233\\r\\n  2  1  1   734.25126 89.1   740.85317    3  3  1   713.14715 79.4   740.85236\\r\\n  2  1  1   734.71647 85.1   741.31838    3  3  1   713.61311 85.5   741.31832\\r\\n  2  1  1   734.73613 89.0   741.33804    3  3  1   713.63190 79.0   741.33711\\r\\n  2  1  1   734.85948 88.8   741.46139    3  3  1   713.75530 67.8   741.46051\\r\\n\\r\\n Searching   3  2  2 near    740.97774\\r\\n No   1:   2  1  2        6.08707  reg   729.891 -   739.891\\r\\n No   2:   3  1  2       11.05245  reg   724.925 -   734.925\\r\\n No   3:   4  3  2       33.32401  reg   702.654 -   712.654\\r\\n  2  1  2   729.91090 69.6   735.99797    3  1  2   724.94560 81.2   735.99805\\r\\n  2  1  2   729.91702 86.1   736.00409    3  1  2   724.95101 20.0   736.00346\\r\\n  2  1  2   730.08480 86.4   736.17187    3  1  2   725.11872 87.6   736.17117\\r\\n  2  1  2   730.22496 79.0   736.31203    3  1  2   725.25862 43.3   736.31107\\r\\n  2  1  2   730.36163 78.5   736.44870    4  3  2   703.12405 65.0   736.44806\\r\\n  2  1  2   730.43664 60.7   736.52371    3  1  2   725.47117 31.1   736.52362\\r\\n  2  1  2   730.44497 86.0   736.53204    4  3  2   703.20727 76.5   736.53128\\r\\n  2  1  2   730.87159 85.2   736.95866    3  1  2   725.90635 86.3   736.95880\\r\\n  2  1  2   730.89597 88.8   736.98304    3  1  2   725.92959 88.0   736.98204\\r\\n  2  1  2   730.92264 73.0   737.00971    3  1  2   725.95820 66.0   737.01065\\r\\n  2  1  2   731.00498 89.8   737.09205    3  1  2   726.04031 87.3   737.09276\\r\\n  2  1  2   731.03347 76.2   737.12054    3  1  2   726.06900 57.0   737.12145\\r\\n  2  1  2   731.25615 84.1   737.34322    3  1  2   726.29023 75.5   737.34268\\r\\n  2  1  2   731.54889 87.5   737.63596    4  3  2   704.31215 88.3   737.63616\\r\\n  2  1  2   732.33156 64.3   738.41863    4  3  2   705.09460 69.3   738.41861\\r\\n  2  1  2   732.59677 73.5   738.68384    3  1  2   727.63217 88.5   738.68462\\r\\n  2  1  2   732.67381 84.8   738.76088    3  1  2   727.70913 84.9   738.76158\\r\\n  2  1  2   732.77963 73.7   738.86670    4  3  2   705.54266 86.6   738.86667\\r\\n  2  1  2   733.99467 73.0   740.08174    3  1  2   729.02836 89.6   740.08081\\r\\n  2  1  2   734.14723 49.0   740.23430    3  1  2   729.18173 87.5   740.23418\\r\\n  2  1  2   734.83758 79.4   740.92465    4  3  2   707.60079 34.6   740.92480\\r\\n  2  1  2   735.09290 84.1   741.17997    3  1  2   730.12783 53.9   741.18028\\r\\n  2  1  2   735.18001 72.9   741.26708    4  3  2   707.94292 67.5   741.26693\\r\\n  2  1  2   735.31410 87.2   741.40117    4  3  2   708.07661 78.3   741.40062\\r\\n  2  1  2   735.39125 88.1   741.47832    3  1  2   730.42547 54.8   741.47792\\r\\n  2  1  2   735.55879 44.3   741.64586    3  1  2   730.59265 88.3   741.64510\\r\\n  2  1  2   735.85542 86.0   741.94249    3  1  2   730.89032 52.0   741.94277\\r\\n  2  1  2   735.98862 69.4   742.07569    3  1  2   731.02395 85.9   742.07640\\r\\n  2  1  2   736.22063 89.8   742.30770    3  1  2   731.25615 84.1   742.30860\\r\\n  2  1  2   736.26868 57.5   742.35575    4  3  2   709.03264 89.6   742.35665\\r\\n  2  1  2   736.57866 86.8   742.66573    4  3  2   709.34220 77.8   742.66621\\r\\n  2  1  2   737.62159 67.1   743.70866    4  3  2   710.38560 89.2   743.70961\\r\\n  2  1  2   738.49456 20.7   744.58163    3  1  2   733.52954 89.8   744.58199\\r\\n  2  1  2   738.50072 88.8   744.58779    3  1  2   733.53523 33.0   744.58768\\r\\n  2  1  2   738.61586 86.2   744.70293    4  3  2   711.37980 78.7   744.70381\\r\\n  2  1  2   739.29747 88.5   745.38454    4  3  2   712.06027 89.3   745.38428\\r\\n  2  1  2   739.82568 77.6   745.91275    3  1  2   734.85948 88.8   745.91193\\r\\n  2  1  2   739.83283 81.8   745.91990    4  3  2   712.59523 78.5   745.91924\\r\\n  2  1  2   739.85063 78.6   745.93770    3  1  2   734.88539 89.4   745.93784\\r\\n  2  1  2   739.85960 46.0   745.94667    3  1  2   734.89463 90.0   745.94708\\r\\n  3  1  2   724.97939 88.9   736.03184    4  3  2   702.70821 78.3   736.03222\\r\\n  3  1  2   725.11412 86.8   736.16657    4  3  2   702.84224 85.2   736.16625\\r\\n  3  1  2   725.57722 59.6   736.62967    4  3  2   703.30580 85.7   736.62981\\r\\n  3  1  2   726.45075 73.7   737.50320    4  3  2   704.17931 35.5   737.50332\\r\\n  3  1  2   726.48999 88.7   737.54244    4  3  2   704.21905 14.7   737.54306\\r\\n  3  1  2   726.58905 60.5   737.64150    4  3  2   704.31682 84.1   737.64083\\r\\n  3  1  2   728.62514 87.0   739.67759    4  3  2   706.35301 84.3   739.67702\\r\\n  3  1  2   728.67028 82.6   739.72273    4  3  2   706.39953 79.0   739.72354\\r\\n  3  1  2   728.78243 89.4   739.83488    4  3  2   706.51065 74.7   739.83466\\r\\n  3  1  2   729.34550 81.2   740.39795    4  3  2   707.07383 23.3   740.39784\\r\\n  3  1  2   729.91090 69.6   740.96335    4  3  2   707.64025 87.0   740.96426\\r\\n  3  1  2   729.99320 88.7   741.04565    4  3  2   707.72114 51.2   741.04515\\r\\n  3  1  2   730.55170 84.5   741.60415    4  3  2   708.27998 84.6   741.60399\\r\\n  3  1  2   731.29358 80.6   742.34603    4  3  2   709.02209 86.4   742.34610\\r\\n  3  1  2   731.31349 88.6   742.36594    4  3  2   709.04213 70.2   742.36614\\r\\n  3  1  2   732.59677 73.5   743.64922    4  3  2   710.32543 89.8   743.64944\\r\\n  3  1  2   732.73266 86.3   743.78511    4  3  2   710.46049 76.4   743.78450\\r\\n  3  1  2   732.75455 83.3   743.80700    4  3  2   710.48368 66.9   743.80769\\r\\n  3  1  2   733.42709 78.0   744.47954    4  3  2   711.15476 88.2   744.47877\\r\\n  3  1  2   733.55846 41.9   744.61091    4  3  2   711.28674 79.5   744.61075\\r\\n  3  1  2   734.17073 77.6   745.22318    4  3  2   711.89846 56.1   745.22247\\r\\n\\r\\n Searching   4  2  3 near    746.56924\\r\\n No   1:   3  1  3       10.02318  reg   731.546 -   741.546\\r\\n No   2:   4  1  3       16.97345  reg   724.596 -   734.596\\r\\n No   3:   5  3  3       40.35448  reg   701.215 -   711.215\\r\\n  3  1  3   731.78194 49.3   741.80512    5  3  3   701.45081 88.7   741.80529\\r\\n  3  1  3   731.90303 78.5   741.92621    5  3  3   701.57161 89.1   741.92609\\r\\n  3  1  3   732.17932 72.5   742.20250    5  3  3   701.84751 78.0   742.20199\\r\\n  3  1  3   732.25546 87.4   742.27864    4  1  3   725.30462 34.4   742.27807\\r\\n  3  1  3   732.33156 64.3   742.35474    5  3  3   702.00080 85.2   742.35528\\r\\n  3  1  3   732.42695 83.7   742.45013    5  3  3   702.09663 86.5   742.45111\\r\\n  3  1  3   732.53987 88.4   742.56305    5  3  3   702.20901 63.0   742.56349\\r\\n  3  1  3   732.75455 83.3   742.77773    4  1  3   725.80491 87.2   742.77836\\r\\n  3  1  3   732.90205 30.1   742.92523    4  1  3   725.95235 85.5   742.92580\\r\\n  3  1  3   732.91691 57.0   742.94009    5  3  3   702.58499 86.8   742.93947\\r\\n  3  1  3   732.93207 75.6   742.95525    5  3  3   702.60015 71.3   742.95463\\r\\n  3  1  3   733.08459 67.1   743.10777    4  1  3   726.13371 47.1   743.10716\\r\\n                                          5  3  3   702.75248 76.9   743.10696\\r\\n  3  1  3   733.63876 71.5   743.66194    4  1  3   726.68895 83.7   743.66240\\r\\n  3  1  3   733.75980 41.5   743.78298    4  1  3   726.81032 87.0   743.78377\\r\\n  3  1  3   734.08275 86.8   744.10593    4  1  3   727.13269 84.6   744.10614\\r\\n  3  1  3   734.34795 73.7   744.37113    4  1  3   727.39709 88.1   744.37054\\r\\n  3  1  3   734.73613 89.0   744.75931    4  1  3   727.78495 85.1   744.75840\\r\\n  3  1  3   734.79427 89.7   744.81745    4  1  3   727.84393 83.6   744.81738\\r\\n  3  1  3   734.81477 87.5   744.83795    4  1  3   727.86442 86.4   744.83787\\r\\n  3  1  3   734.89463 90.0   744.91781    4  1  3   727.94368 90.0   744.91713\\r\\n  3  1  3   734.90042 34.5   744.92360    5  3  3   704.57002 38.9   744.92450\\r\\n  3  1  3   735.02737 79.7   745.05055    5  3  3   704.69676 82.5   745.05124\\r\\n  3  1  3   735.66004 88.3   745.68322    4  1  3   728.70982 65.4   745.68327\\r\\n  3  1  3   736.94366 89.1   746.96684    4  1  3   729.99320 88.7   746.96665\\r\\n  3  1  3   737.03473 80.7   747.05791    4  1  3   730.08480 86.4   747.05825\\r\\n  3  1  3   737.15283 86.3   747.17601    4  1  3   730.20202 77.0   747.17547\\r\\n  3  1  3   737.58329 86.6   747.60647    5  3  3   707.25157 89.7   747.60605\\r\\n  3  1  3   737.71376 76.1   747.73694    4  1  3   730.76333 84.5   747.73678\\r\\n                                          5  3  3   707.38341 75.1   747.73789\\r\\n  3  1  3   739.49278 74.1   749.51596    5  3  3   709.16232 59.5   749.51680\\r\\n  3  1  3   739.58636 89.7   749.60954    4  1  3   732.63651 86.3   749.60996\\r\\n                                          5  3  3   709.25475 73.4   749.60923\\r\\n  3  1  3   740.00544 87.8   750.02862    5  3  3   709.67321 82.5   750.02769\\r\\n  3  1  3   740.47900 30.2   750.50218    4  1  3   733.52954 89.8   750.50299\\r\\n  3  1  3   740.65066 89.2   750.67384    5  3  3   710.31974 36.2   750.67422\\r\\n  3  1  3   740.65686 74.8   750.68004    4  1  3   733.70620 84.6   750.67965\\r\\n                                          5  3  3   710.32543 89.8   750.67991\\r\\n  3  1  3   740.72765 87.9   750.75083    5  3  3   710.39567 49.0   750.75015\\r\\n  3  1  3   741.24070 88.0   751.26388    5  3  3   710.91035 89.6   751.26483\\r\\n  4  1  3   725.11412 86.8   742.08757    5  3  3   701.73332 83.2   742.08780\\r\\n  4  1  3   725.12897 49.9   742.10242    5  3  3   701.74833 89.0   742.10281\\r\\n  4  1  3   725.71556 66.5   742.68901    5  3  3   702.33539 89.9   742.68987\\r\\n  4  1  3   725.81979 54.7   742.79324    5  3  3   702.43809 88.7   742.79257\\r\\n  4  1  3   726.13371 47.1   743.10716    5  3  3   702.75248 76.9   743.10696\\r\\n  4  1  3   726.58905 60.5   743.56250    5  3  3   703.20727 76.5   743.56175\\r\\n  4  1  3   726.92005 85.1   743.89350    5  3  3   703.53989 82.4   743.89437\\r\\n  4  1  3   727.00674 78.1   743.98019    5  3  3   703.62533 66.4   743.97981\\r\\n  4  1  3   727.11298 46.5   744.08643    5  3  3   703.73122 60.4   744.08570\\r\\n  4  1  3   727.45385 84.7   744.42730    5  3  3   704.07293 85.1   744.42741\\r\\n  4  1  3   727.47049 89.2   744.44394    5  3  3   704.08883 85.1   744.44331\\r\\n  4  1  3   727.51181 88.8   744.48526    5  3  3   704.13102 82.7   744.48550\\r\\n  4  1  3   727.69276 84.3   744.66621    5  3  3   704.31215 88.3   744.66663\\r\\n  4  1  3   727.83152 86.8   744.80497    5  3  3   704.44967 84.9   744.80415\\r\\n  4  1  3   728.25097 85.9   745.22442    5  3  3   704.87046 72.9   745.22494\\r\\n  4  1  3   728.39516 88.1   745.36861    5  3  3   705.01382 63.9   745.36829\\r\\n  4  1  3   729.34550 81.2   746.31895    5  3  3   705.96504 73.7   746.31952\\r\\n  4  1  3   732.63651 86.3   749.60996    5  3  3   709.25475 73.4   749.60923\\r\\n  4  1  3   732.73266 86.3   749.70611    5  3  3   709.35116 65.0   749.70564\\r\\n  4  1  3   732.89064 36.9   749.86409    5  3  3   709.50913 67.5   749.86361\\r\\n  4  1  3   733.12596 81.3   750.09941    5  3  3   709.74469 68.4   750.09917\\r\\n  4  1  3   733.70620 84.6   750.67965    5  3  3   710.32543 89.8   750.67991\\r\\n  4  1  3   734.01782 73.1   750.99127    5  3  3   710.63618 40.6   750.99066\\r\\n  4  1  3   734.17073 77.6   751.14418    5  3  3   710.78998 89.2   751.14446\\r\\n\\r\\n Searching   5  2  4 near    753.54562\\r\\n No   1:   4  1  4       15.26012  reg   733.285 -   743.285\\r\\n No   2:   5  1  4       24.35254  reg   724.193 -   734.193\\r\\n No   3:   6  3  4       48.79940  reg   699.746 -   709.746\\r\\n  4  1  4   733.52954 89.8   748.78966    6  3  4   699.99061 89.8   748.79001\\r\\n  4  1  4   733.58811 81.5   748.84823    5  1  4   724.49503 83.5   748.84757\\r\\n  4  1  4   733.63876 71.5   748.89888    5  1  4   724.54597 86.6   748.89851\\r\\n  4  1  4   733.70620 84.6   748.96632    5  1  4   724.61297 77.9   748.96551\\r\\n  4  1  4   734.08275 86.8   749.34287    6  3  4   700.54317 66.1   749.34257\\r\\n  4  1  4   734.20729 25.4   749.46741    5  1  4   725.11412 86.8   749.46666\\r\\n  4  1  4   734.28192 41.5   749.54204    6  3  4   700.74208 90.0   749.54148\\r\\n  4  1  4   734.64165 90.0   749.90177    5  1  4   725.54950 56.4   749.90204\\r\\n  4  1  4   734.71647 85.1   749.97659    5  1  4   725.62325 28.7   749.97579\\r\\n  4  1  4   735.02737 79.7   750.28749    5  1  4   725.93545 38.2   750.28799\\r\\n  4  1  4   735.09290 84.1   750.35302    6  3  4   701.55315 63.5   750.35255\\r\\n  4  1  4   735.54345 79.0   750.80357    5  1  4   726.45075 73.7   750.80329\\r\\n  4  1  4   735.63664 88.9   750.89676    6  3  4   702.09663 86.5   750.89603\\r\\n  4  1  4   735.64860 88.3   750.90872    6  3  4   702.11021 63.1   750.90961\\r\\n  4  1  4   735.65576 89.8   750.91588    6  3  4   702.11714 69.4   750.91654\\r\\n  4  1  4   735.72514 84.7   750.98526    5  1  4   726.63223 51.5   750.98477\\r\\n  4  1  4   735.88000 78.9   751.14012    5  1  4   726.78800 79.5   751.14054\\r\\n                                          6  3  4   702.34095 56.5   751.14035\\r\\n  4  1  4   735.99614 89.8   751.25626    6  3  4   702.45731 84.9   751.25671\\r\\n  4  1  4   736.05538 81.0   751.31550    5  1  4   726.96220 83.2   751.31474\\r\\n  4  1  4   736.18123 88.6   751.44135    5  1  4   727.08856 88.1   751.44110\\r\\n  4  1  4   736.20562 26.6   751.46574    5  1  4   727.11298 46.5   751.46552\\r\\n  4  1  4   736.55747 85.4   751.81759    5  1  4   727.46494 28.8   751.81748\\r\\n  4  1  4   736.89239 35.7   752.15251    5  1  4   727.80058 88.8   752.15312\\r\\n  4  1  4   736.93079 80.8   752.19091    5  1  4   727.83875 73.2   752.19129\\r\\n  4  1  4   737.42433 85.1   752.68445    6  3  4   703.88550 89.2   752.68490\\r\\n  4  1  4   737.85480 63.2   753.11492    5  1  4   728.76274 35.0   753.11528\\r\\n  4  1  4   737.88610 87.1   753.14622    6  3  4   704.34642 46.9   753.14582\\r\\n  4  1  4   737.98815 88.2   753.24827    6  3  4   704.44967 84.9   753.24907\\r\\n  4  1  4   738.23629 86.7   753.49641    6  3  4   704.69676 82.5   753.49616\\r\\n  4  1  4   738.50072 88.8   753.76084    5  1  4   729.40848 89.9   753.76102\\r\\n  4  1  4   738.62195 60.8   753.88207    5  1  4   729.52970 72.5   753.88224\\r\\n  4  1  4   738.62756 89.3   753.88768    5  1  4   729.53555 88.3   753.88809\\r\\n  4  1  4   738.63316 71.3   753.89328    5  1  4   729.54138 73.6   753.89392\\r\\n                                          6  3  4   705.09460 69.3   753.89400\\r\\n  4  1  4   738.91805 67.1   754.17817    6  3  4   705.37961 89.3   754.17901\\r\\n  4  1  4   739.29747 88.5   754.55759    6  3  4   705.75840 86.5   754.55780\\r\\n  4  1  4   739.43395 73.6   754.69407    5  1  4   730.34190 80.2   754.69444\\r\\n  4  1  4   739.50373 85.0   754.76385    6  3  4   705.96504 73.7   754.76444\\r\\n  4  1  4   739.55558 63.1   754.81570    5  1  4   730.46252 82.0   754.81506\\r\\n  4  1  4   739.61566 86.6   754.87578    6  3  4   706.07617 69.8   754.87557\\r\\n  4  1  4   739.77687 73.0   755.03699    5  1  4   730.68476 74.9   755.03730\\r\\n  4  1  4   739.89380 87.4   755.15392    5  1  4   730.80051 83.0   755.15305\\r\\n  4  1  4   739.95337 79.3   755.21349    5  1  4   730.86090 88.4   755.21344\\r\\n  4  1  4   740.28594 56.8   755.54606    5  1  4   731.19293 59.6   755.54547\\r\\n  4  1  4   740.52470 60.7   755.78482    6  3  4   706.98627 48.6   755.78567\\r\\n  4  1  4   741.41702 67.0   756.67714    6  3  4   707.87793 44.2   756.67733\\r\\n  4  1  4   741.87793 82.3   757.13805    5  1  4   732.78469 63.9   757.13723\\r\\n  4  1  4   743.28408 88.8   758.54420    6  3  4   709.74469 68.4   758.54409\\r\\n  5  1  4   724.26773 89.5   748.62027    6  3  4   699.82088 59.7   748.62028\\r\\n  5  1  4   724.40234 88.0   748.75488    6  3  4   699.95533 85.6   748.75473\\r\\n  5  1  4   725.25862 43.3   749.61116    6  3  4   700.81268 36.0   749.61208\\r\\n  5  1  4   725.30462 34.4   749.65716    6  3  4   700.85781 38.1   749.65721\\r\\n  5  1  4   725.43020 31.4   749.78274    6  3  4   700.98244  8.9   749.78184\\r\\n  5  1  4   725.81979 54.7   750.17233    6  3  4   701.37277 69.0   750.17217\\r\\n  5  1  4   725.97014 57.6   750.32268    6  3  4   701.52348 44.6   750.32288\\r\\n  5  1  4   726.74883 62.7   751.10137    6  3  4   702.30150 13.7   751.10090\\r\\n  5  1  4   726.78800 79.5   751.14054    6  3  4   702.34095 56.5   751.14035\\r\\n  5  1  4   727.19834 89.4   751.55088    6  3  4   702.75248 76.9   751.55188\\r\\n  5  1  4   727.28829 57.1   751.64083    6  3  4   702.84224 85.2   751.64164\\r\\n  5  1  4   727.65398 83.4   752.00652    6  3  4   703.20727 76.5   752.00667\\r\\n  5  1  4   728.39042 83.4   752.74296    6  3  4   703.94367 84.4   752.74307\\r\\n  5  1  4   728.39516 88.1   752.74770    6  3  4   703.94900 88.1   752.74840\\r\\n  5  1  4   728.67028 82.6   753.02282    6  3  4   704.22423 85.0   753.02363\\r\\n  5  1  4   728.76274 35.0   753.11528    6  3  4   704.31682 84.1   753.11622\\r\\n  5  1  4   729.54138 73.6   753.89392    6  3  4   705.09460 69.3   753.89400\\r\\n  5  1  4   729.58495 85.5   753.93749    6  3  4   705.13794 85.9   753.93734\\r\\n  5  1  4   730.22496 79.0   754.57750    6  3  4   705.77805 78.4   754.57745\\r\\n  5  1  4   730.31283 78.3   754.66537    6  3  4   705.86595 81.4   754.66535\\r\\n  5  1  4   730.76333 84.5   755.11587    6  3  4   706.31692 80.7   755.11632\\r\\n  5  1  4   730.78186 82.8   755.13440    6  3  4   706.33468 89.7   755.13408\\r\\n  5  1  4   730.80051 83.0   755.15305    6  3  4   706.35301 84.3   755.15241\\r\\n  5  1  4   730.95718 41.7   755.30972    6  3  4   706.51065 74.7   755.31005\\r\\n  5  1  4   731.00498 89.8   755.35752    6  3  4   706.55745 85.2   755.35685\\r\\n  5  1  4   732.37106 69.9   756.72360    6  3  4   707.92422 72.6   756.72362\\r\\n\\r\\n Searching   6  2  5 near    761.89832\\r\\n No   1:   5  1  5       21.78938  reg   735.109 -   745.109\\r\\n No   2:   6  1  5       33.17281  reg   723.726 -   733.726\\r\\n No   3:   7  3  5       58.66042  reg   698.238 -   708.238\\r\\n  5  1  5   735.13532 87.2   756.92470    7  3  5   698.26363 70.1   756.92405\\r\\n  5  1  5   735.18001 72.9   756.96939    6  1  5   723.79665 61.9   756.96946\\r\\n  5  1  5   735.39125 88.1   757.18063    6  1  5   724.00779 89.0   757.18060\\r\\n  5  1  5   735.54345 79.0   757.33283    7  3  5   698.67246 89.1   757.33288\\r\\n  5  1  5   735.64860 88.3   757.43798    7  3  5   698.77831 83.3   757.43873\\r\\n  5  1  5   735.99614 89.8   757.78552    6  1  5   724.61297 77.9   757.78578\\r\\n  5  1  5   736.20562 26.6   757.99500    6  1  5   724.82249 29.4   757.99530\\r\\n  5  1  5   736.33469 74.5   758.12407    6  1  5   724.95101 20.0   758.12382\\r\\n  5  1  5   736.34038 34.4   758.12976    6  1  5   724.95602 23.5   758.12883\\r\\n  5  1  5   736.34542 84.9   758.13480    6  1  5   724.96164 87.3   758.13445\\r\\n  5  1  5   736.81736 64.0   758.60674    6  1  5   725.43451 40.3   758.60732\\r\\n  5  1  5   736.85437 89.0   758.64375    6  1  5   725.47117 31.1   758.64398\\r\\n  5  1  5   737.13829 89.8   758.92767    7  3  5   700.26767 82.8   758.92809\\r\\n  5  1  5   737.20248 87.5   758.99186    6  1  5   725.81979 54.7   758.99260\\r\\n  5  1  5   737.27713 74.1   759.06651    6  1  5   725.89397 66.0   759.06678\\r\\n  5  1  5   737.42433 85.1   759.21371    6  1  5   726.04031 87.3   759.21312\\r\\n  5  1  5   737.71376 76.1   759.50314    7  3  5   700.84220  4.6   759.50262\\r\\n  5  1  5   738.29552 45.9   760.08490    7  3  5   701.42379 86.7   760.08421\\r\\n  5  1  5   738.35612 74.4   760.14550    6  1  5   726.97214 75.3   760.14495\\r\\n  5  1  5   738.39965 58.8   760.18903    6  1  5   727.01676 88.8   760.18957\\r\\n  5  1  5   738.63316 71.3   760.42254    6  1  5   727.24949 88.4   760.42230\\r\\n  5  1  5   739.21147 77.7   761.00085    7  3  5   702.34095 56.5   761.00137\\r\\n  5  1  5   739.38086 82.3   761.17024    6  1  5   727.99816 56.4   761.17097\\r\\n  5  1  5   739.47070 89.2   761.26008    7  3  5   702.60015 71.3   761.26057\\r\\n  5  1  5   739.67057 39.0   761.45995    6  1  5   728.28616 80.4   761.45897\\r\\n  5  1  5   739.89946 37.9   761.68884    7  3  5   703.02779 76.1   761.68821\\r\\n  5  1  5   740.49556 83.3   762.28494    7  3  5   703.62533 66.4   762.28575\\r\\n  5  1  5   740.81348 88.5   762.60286    6  1  5   729.43041 81.1   762.60322\\r\\n  5  1  5   740.91278 89.6   762.70216    6  1  5   729.52970 72.5   762.70251\\r\\n  5  1  5   741.07490 71.3   762.86428    7  3  5   704.20403 89.7   762.86445\\r\\n  5  1  5   741.87793 82.3   763.66731    6  1  5   730.49509 88.6   763.66790\\r\\n  5  1  5   741.94178 86.8   763.73116    7  3  5   705.07117 86.7   763.73159\\r\\n  5  1  5   744.50995 88.3   766.29933    6  1  5   733.12596 81.3   766.29877\\r\\n  6  1  5   723.83152 85.1   757.00433    7  3  5   698.34349 83.9   757.00391\\r\\n  6  1  5   724.14824 83.8   757.32105    7  3  5   698.66052 88.1   757.32094\\r\\n  6  1  5   724.40234 88.0   757.57515    7  3  5   698.91416 73.2   757.57458\\r\\n  6  1  5   724.51354 89.2   757.68635    7  3  5   699.02601 89.8   757.68643\\r\\n  6  1  5   724.62861 35.3   757.80142    7  3  5   699.14134 86.4   757.80176\\r\\n  6  1  5   725.56346 88.5   758.73627    7  3  5   700.07607 75.3   758.73649\\r\\n  6  1  5   725.90635 86.3   759.07916    7  3  5   700.41916 86.0   759.07958\\r\\n  6  1  5   726.02993 66.3   759.20274    7  3  5   700.54317 66.1   759.20359\\r\\n  6  1  5   726.26588 66.0   759.43869    7  3  5   700.77885 77.0   759.43927\\r\\n  6  1  5   726.28030 85.7   759.45311    7  3  5   700.79349 87.2   759.45391\\r\\n  6  1  5   726.30109 88.0   759.47390    7  3  5   700.81268 36.0   759.47310\\r\\n  6  1  5   727.40261 77.8   760.57542    7  3  5   701.91559 88.6   760.57601\\r\\n  6  1  5   727.40788 89.8   760.58069    7  3  5   701.92044 67.9   760.58086\\r\\n  6  1  5   727.55367 88.0   760.72648    7  3  5   702.06682 77.0   760.72724\\r\\n  6  1  5   727.60393 89.5   760.77674    7  3  5   702.11714 69.4   760.77756\\r\\n  6  1  5   727.69276 84.3   760.86557    7  3  5   702.20488 74.1   760.86530\\r\\n  6  1  5   729.02836 89.6   762.20117    7  3  5   703.53989 82.4   762.20031\\r\\n  6  1  5   729.38658 59.6   762.55939    7  3  5   703.89802 49.2   762.55844\\r\\n  6  1  5   729.43041 81.1   762.60322    7  3  5   703.94367 84.4   762.60409\\r\\n  6  1  5   729.46168 81.2   762.63449    7  3  5   703.97377 84.8   762.63419\\r\\n  6  1  5   729.56067 86.4   762.73348    7  3  5   704.07293 85.1   762.73335\\r\\n  6  1  5   729.83471 69.6   763.00752    7  3  5   704.34642 46.9   763.00684\\r\\n  6  1  5   731.09574 47.4   764.26855    7  3  5   705.60763 75.4   764.26805\\r\\n  6  1  5   731.26520 87.0   764.43801    7  3  5   705.77805 78.4   764.43847\\r\\n\\r\\n Searching   7  2  6 near    771.61722\\r\\n No   1:   6  1  6       29.60161  reg   737.016 -   747.016\\r\\n No   2:   7  1  6       43.41200  reg   723.205 -   733.205\\r\\n No   3:   8  3  6       69.93746  reg   696.680 -   706.680\\r\\n  6  1  6   737.15283 86.3   766.75444    8  3  6   696.81765 49.0   766.75511\\r\\n  6  1  6   737.57881 89.5   767.18042    7  1  6   723.76860 72.2   767.18060\\r\\n  6  1  6   737.85480 63.2   767.45641    8  3  6   697.51928 86.7   767.45674\\r\\n  6  1  6   737.95868 81.7   767.56029    7  1  6   724.14824 83.8   767.56024\\r\\n  6  1  6   738.28214 61.4   767.88375    7  1  6   724.47083 80.8   767.88283\\r\\n  6  1  6   738.31931 87.2   767.92092    7  1  6   724.50895 76.5   767.92095\\r\\n  6  1  6   738.35612 74.4   767.95773    7  1  6   724.54597 86.6   767.95797\\r\\n  6  1  6   738.39965 58.8   768.00126    7  1  6   724.58939 88.0   768.00139\\r\\n  6  1  6   738.63316 71.3   768.23477    7  1  6   724.82249 29.4   768.23449\\r\\n  6  1  6   738.76660 81.8   768.36821    7  1  6   724.95602 23.5   768.36802\\r\\n                                          8  3  6   698.43040 68.3   768.36786\\r\\n  6  1  6   738.89728 62.1   768.49889    7  1  6   725.08750 37.0   768.49950\\r\\n  6  1  6   739.43395 73.6   769.03556    7  1  6   725.62325 28.7   769.03525\\r\\n  6  1  6   739.50373 85.0   769.10534    7  1  6   725.69236 85.2   769.10436\\r\\n  6  1  6   739.52658 86.2   769.12819    7  1  6   725.71556 66.5   769.12756\\r\\n  6  1  6   739.59089 86.1   769.19250    7  1  6   725.78040 44.1   769.19240\\r\\n  6  1  6   739.59632 52.8   769.19793    7  1  6   725.78650 84.7   769.19850\\r\\n  6  1  6   739.61566 86.6   769.21727    7  1  6   725.80491 87.2   769.21691\\r\\n  6  1  6   739.67057 39.0   769.27218    7  1  6   725.86097 65.0   769.27297\\r\\n  6  1  6   739.84446 79.0   769.44607    7  1  6   726.03479 57.6   769.44679\\r\\n  6  1  6   739.85063 78.6   769.45224    7  1  6   726.04031 87.3   769.45231\\r\\n  6  1  6   739.89380 87.4   769.49541    7  1  6   726.08342 34.5   769.49542\\r\\n  6  1  6   740.00544 87.8   769.60705    7  1  6   726.19418 56.2   769.60618\\r\\n  6  1  6   740.02106 79.3   769.62267    7  1  6   726.21049 62.7   769.62249\\r\\n  6  1  6   740.30482 88.3   769.90643    8  3  6   699.96983 88.9   769.90729\\r\\n  6  1  6   740.31034 35.6   769.91195    7  1  6   726.49938 73.3   769.91138\\r\\n                                          8  3  6   699.97524 56.6   769.91270\\r\\n  6  1  6   740.54108 74.4   770.14269    7  1  6   726.73041 76.3   770.14241\\r\\n  6  1  6   740.54770 87.5   770.14931    7  1  6   726.73632 88.8   770.14832\\r\\n  6  1  6   740.76141 89.2   770.36302    7  1  6   726.95173 87.2   770.36373\\r\\n  6  1  6   741.27482 89.1   770.87643    7  1  6   727.46494 28.8   770.87694\\r\\n  6  1  6   741.65434 88.5   771.25595    7  1  6   727.84393 83.6   771.25593\\r\\n  6  1  6   742.63814 87.8   772.23975    8  3  6   702.30150 13.7   772.23896\\r\\n  6  1  6   743.28408 88.8   772.88569    8  3  6   702.94747 87.9   772.88493\\r\\n  6  1  6   743.31755 70.6   772.91916    7  1  6   729.50636 87.5   772.91836\\r\\n  6  1  6   743.89492 45.3   773.49653    7  1  6   730.08480 86.4   773.49680\\r\\n  6  1  6   744.48130 86.8   774.08291    8  3  6   704.14613 88.0   774.08359\\r\\n  6  1  6   744.54924 76.0   774.15085    8  3  6   704.21341 89.3   774.15087\\r\\n  6  1  6   744.74484 86.1   774.34645    8  3  6   704.40832 35.5   774.34578\\r\\n  6  1  6   744.90510 72.5   774.50671    8  3  6   704.57002 38.9   774.50748\\r\\n  6  1  6   745.35834 87.2   774.95995    7  1  6   731.54889 87.5   774.96089\\r\\n  6  1  6   745.49635 87.4   775.09796    8  3  6   705.16138 88.3   775.09884\\r\\n  6  1  6   746.04119 78.0   775.64280    7  1  6   732.23160 53.7   775.64360\\r\\n  6  1  6   746.11343 78.1   775.71504    8  3  6   705.77805 78.4   775.71551\\r\\n  6  1  6   746.51938 88.4   776.12099    7  1  6   732.70939 79.7   776.12139\\r\\n  6  1  6   746.54271 75.0   776.14432    7  1  6   732.73266 86.3   776.14466\\r\\n  6  1  6   746.60520 71.5   776.20681    7  1  6   732.79546 87.0   776.20746\\r\\n  6  1  6   746.76110 85.7   776.36271    7  1  6   732.95072 89.9   776.36272\\r\\n  7  1  6   723.31520 82.4   766.72720    8  3  6   696.79014 79.2   766.72760\\r\\n  7  1  6   723.59051 70.0   767.00251    8  3  6   697.06467 85.8   767.00213\\r\\n  7  1  6   723.59598 82.1   767.00798    8  3  6   697.07115 77.4   767.00861\\r\\n  7  1  6   724.11037 88.8   767.52237    8  3  6   697.58473 17.4   767.52219\\r\\n  7  1  6   724.56107 29.3   767.97307    8  3  6   698.03484 89.5   767.97230\\r\\n  7  1  6   724.60723 21.1   768.01923    8  3  6   698.08250 83.1   768.01996\\r\\n  7  1  6   724.95602 23.5   768.36802    8  3  6   698.43040 68.3   768.36786\\r\\n  7  1  6   725.15096 80.8   768.56296    8  3  6   698.62613 82.0   768.56359\\r\\n  7  1  6   725.19818 83.7   768.61018    8  3  6   698.67246 89.1   768.60992\\r\\n  7  1  6   725.30462 34.4   768.71662    8  3  6   698.77831 83.3   768.71577\\r\\n  7  1  6   727.30462 76.1   770.71662    8  3  6   700.77885 77.0   770.71631\\r\\n  7  1  6   727.63217 88.5   771.04417    8  3  6   701.10647 67.5   771.04393\\r\\n  7  1  6   728.83313 87.9   772.24513    8  3  6   702.30737 88.0   772.24483\\r\\n  7  1  6   729.43041 81.1   772.84241    8  3  6   702.90480 77.1   772.84226\\r\\n  7  1  6   730.87159 85.2   774.28359    8  3  6   704.34642 46.9   774.28388\\r\\n  7  1  6   731.02395 85.9   774.43595    8  3  6   704.49812 52.2   774.43558\\r\\n  7  1  6   731.09574 47.4   774.50774    8  3  6   704.57002 38.9   774.50748\\r\\n  7  1  6   732.27879 88.0   775.69079    8  3  6   705.75284 22.9   775.69030\\r\\n'}\n",
            "{'2': [-2.224, -0.586, -0.539, 0.269, 0.319, 0.764, 0.829, 1.323, 1.97], '3': [-2.111, -0.897, -0.744, -0.053, 0.203, 0.289, 0.423, 0.5, 0.667, 0.965, 1.099, 1.331, 1.379, 1.688], '4': [-1.811, -1.752, -1.731, -1.652, -1.645, -1.518, -0.886, 0.397, 0.489, 0.606, 1.037, 1.168], '5': [-1.728, -1.393, -1.354, -0.861, -0.43, -0.4, -0.297, -0.049, 0.215, 0.337, 0.342, 0.348, 0.633, 1.012, 1.149, 1.219, 1.269, 1.33, 1.492, 1.607, 1.668, 2.0], '6': [-1.814, -1.753, -1.709, -1.476, -0.897, -0.727, -0.638, -0.439, -0.21, 0.387, 0.705, 0.804, 0.966, 1.77, 1.833], '7': [-2.011, -1.995, -1.71, -1.706, -1.475, -1.469, -1.253, -0.74, -0.361, 0.622, 1.268, 1.301, 1.88]}\n",
            "{'2': 1, '3': 2, '4': 3, '5': 4, '6': 5, '7': 6}\n",
            "6\n"
          ],
          "name": "stdout"
        }
      ]
    },
    {
      "metadata": {
        "colab_type": "code",
        "id": "9aC6jZmVJX9s",
        "colab": {}
      },
      "cell_type": "code",
      "source": [
        "keys = list(deltas.keys())\n",
        "ini_key = keys[0]\n",
        "seq_ini = []\n",
        "sequence = []\n",
        "data = []\n",
        "\n",
        "def tree_2(k, seq_ini):\n",
        "    #print(k)\n",
        "    for v in deltas[k]:\n",
        "        #print(v)\n",
        "        sequence = seq_ini.copy()\n",
        "        \n",
        "        sequence.append([k, v])\n",
        "        #print(sequence, seq_ini)\n",
        "    \n",
        "        if len(sequence) == len(deltas.items()):\n",
        "                data.append(sequence)\n",
        "                #print(sequence)\n",
        "        else:\n",
        "                tree_2(str(int(k)+1), sequence)\n",
        "        \n",
        "\n",
        "tree_2(ini_key,sequence)\n",
        "  "
      ],
      "execution_count": 0,
      "outputs": []
    },
    {
      "metadata": {
        "colab_type": "code",
        "id": "E5dupmidPzuC",
        "outputId": "089b774d-13a1-4502-b100-afce0f123989",
        "colab": {
          "base_uri": "https://localhost:8080/",
          "height": 697
        }
      },
      "cell_type": "code",
      "source": [
        "for i in range(100,120):\n",
        "    print(data[i])\n",
        "    \n",
        "for i in range(-40,-20):\n",
        "    print(data[i])"
      ],
      "execution_count": 16,
      "outputs": [
        {
          "output_type": "stream",
          "text": [
            "[['2', -2.224], ['3', -2.111], ['4', -1.811], ['5', -1.728], ['6', -0.439], ['7', 0.622]]\n",
            "[['2', -2.224], ['3', -2.111], ['4', -1.811], ['5', -1.728], ['6', -0.439], ['7', 1.268]]\n",
            "[['2', -2.224], ['3', -2.111], ['4', -1.811], ['5', -1.728], ['6', -0.439], ['7', 1.301]]\n",
            "[['2', -2.224], ['3', -2.111], ['4', -1.811], ['5', -1.728], ['6', -0.439], ['7', 1.88]]\n",
            "[['2', -2.224], ['3', -2.111], ['4', -1.811], ['5', -1.728], ['6', -0.21], ['7', -2.011]]\n",
            "[['2', -2.224], ['3', -2.111], ['4', -1.811], ['5', -1.728], ['6', -0.21], ['7', -1.995]]\n",
            "[['2', -2.224], ['3', -2.111], ['4', -1.811], ['5', -1.728], ['6', -0.21], ['7', -1.71]]\n",
            "[['2', -2.224], ['3', -2.111], ['4', -1.811], ['5', -1.728], ['6', -0.21], ['7', -1.706]]\n",
            "[['2', -2.224], ['3', -2.111], ['4', -1.811], ['5', -1.728], ['6', -0.21], ['7', -1.475]]\n",
            "[['2', -2.224], ['3', -2.111], ['4', -1.811], ['5', -1.728], ['6', -0.21], ['7', -1.469]]\n",
            "[['2', -2.224], ['3', -2.111], ['4', -1.811], ['5', -1.728], ['6', -0.21], ['7', -1.253]]\n",
            "[['2', -2.224], ['3', -2.111], ['4', -1.811], ['5', -1.728], ['6', -0.21], ['7', -0.74]]\n",
            "[['2', -2.224], ['3', -2.111], ['4', -1.811], ['5', -1.728], ['6', -0.21], ['7', -0.361]]\n",
            "[['2', -2.224], ['3', -2.111], ['4', -1.811], ['5', -1.728], ['6', -0.21], ['7', 0.622]]\n",
            "[['2', -2.224], ['3', -2.111], ['4', -1.811], ['5', -1.728], ['6', -0.21], ['7', 1.268]]\n",
            "[['2', -2.224], ['3', -2.111], ['4', -1.811], ['5', -1.728], ['6', -0.21], ['7', 1.301]]\n",
            "[['2', -2.224], ['3', -2.111], ['4', -1.811], ['5', -1.728], ['6', -0.21], ['7', 1.88]]\n",
            "[['2', -2.224], ['3', -2.111], ['4', -1.811], ['5', -1.728], ['6', 0.387], ['7', -2.011]]\n",
            "[['2', -2.224], ['3', -2.111], ['4', -1.811], ['5', -1.728], ['6', 0.387], ['7', -1.995]]\n",
            "[['2', -2.224], ['3', -2.111], ['4', -1.811], ['5', -1.728], ['6', 0.387], ['7', -1.71]]\n",
            "[['2', 1.97], ['3', 1.688], ['4', 1.168], ['5', 2.0], ['6', 0.804], ['7', 1.88]]\n",
            "[['2', 1.97], ['3', 1.688], ['4', 1.168], ['5', 2.0], ['6', 0.966], ['7', -2.011]]\n",
            "[['2', 1.97], ['3', 1.688], ['4', 1.168], ['5', 2.0], ['6', 0.966], ['7', -1.995]]\n",
            "[['2', 1.97], ['3', 1.688], ['4', 1.168], ['5', 2.0], ['6', 0.966], ['7', -1.71]]\n",
            "[['2', 1.97], ['3', 1.688], ['4', 1.168], ['5', 2.0], ['6', 0.966], ['7', -1.706]]\n",
            "[['2', 1.97], ['3', 1.688], ['4', 1.168], ['5', 2.0], ['6', 0.966], ['7', -1.475]]\n",
            "[['2', 1.97], ['3', 1.688], ['4', 1.168], ['5', 2.0], ['6', 0.966], ['7', -1.469]]\n",
            "[['2', 1.97], ['3', 1.688], ['4', 1.168], ['5', 2.0], ['6', 0.966], ['7', -1.253]]\n",
            "[['2', 1.97], ['3', 1.688], ['4', 1.168], ['5', 2.0], ['6', 0.966], ['7', -0.74]]\n",
            "[['2', 1.97], ['3', 1.688], ['4', 1.168], ['5', 2.0], ['6', 0.966], ['7', -0.361]]\n",
            "[['2', 1.97], ['3', 1.688], ['4', 1.168], ['5', 2.0], ['6', 0.966], ['7', 0.622]]\n",
            "[['2', 1.97], ['3', 1.688], ['4', 1.168], ['5', 2.0], ['6', 0.966], ['7', 1.268]]\n",
            "[['2', 1.97], ['3', 1.688], ['4', 1.168], ['5', 2.0], ['6', 0.966], ['7', 1.301]]\n",
            "[['2', 1.97], ['3', 1.688], ['4', 1.168], ['5', 2.0], ['6', 0.966], ['7', 1.88]]\n",
            "[['2', 1.97], ['3', 1.688], ['4', 1.168], ['5', 2.0], ['6', 1.77], ['7', -2.011]]\n",
            "[['2', 1.97], ['3', 1.688], ['4', 1.168], ['5', 2.0], ['6', 1.77], ['7', -1.995]]\n",
            "[['2', 1.97], ['3', 1.688], ['4', 1.168], ['5', 2.0], ['6', 1.77], ['7', -1.71]]\n",
            "[['2', 1.97], ['3', 1.688], ['4', 1.168], ['5', 2.0], ['6', 1.77], ['7', -1.706]]\n",
            "[['2', 1.97], ['3', 1.688], ['4', 1.168], ['5', 2.0], ['6', 1.77], ['7', -1.475]]\n",
            "[['2', 1.97], ['3', 1.688], ['4', 1.168], ['5', 2.0], ['6', 1.77], ['7', -1.469]]\n"
          ],
          "name": "stdout"
        }
      ]
    },
    {
      "metadata": {
        "colab_type": "text",
        "id": "HQnI9ot9B5vW"
      },
      "cell_type": "markdown",
      "source": [
        "# Y = 1 Labels from v7"
      ]
    },
    {
      "metadata": {
        "colab_type": "code",
        "id": "RmWtnyX1DqOq",
        "colab": {}
      },
      "cell_type": "code",
      "source": [
        "def find_upper(J0, Ka0, Kc0):\n",
        "    file_res = open('res_v7.res')\n",
        "    \n",
        "    #print(uploaded)\n",
        "\n",
        "    \n",
        "    for line in file_res:\n",
        "        line = line.replace('J=', '').split()\n",
        "        \n",
        "        if [J0,Ka0, Kc0] == line[3:6]:\n",
        "            E = float(line[-1])\n",
        "            file_res.close()\n",
        "            return E\n",
        "            "
      ],
      "execution_count": 0,
      "outputs": []
    },
    {
      "metadata": {
        "id": "3Ym1KXAasrjN",
        "colab_type": "code",
        "colab": {
          "resources": {
            "http://localhost:8080/nbextensions/google.colab/files.js": {
              "data": "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",
              "ok": true,
              "headers": [
                [
                  "content-type",
                  "application/javascript"
                ]
              ],
              "status": 200,
              "status_text": ""
            }
          },
          "base_uri": "https://localhost:8080/",
          "height": 304
        },
        "outputId": "98c56095-dd25-4851-88d2-229892949138"
      },
      "cell_type": "code",
      "source": [
        "def make_sequences_y1(file_name):\n",
        "    #path = 'sources/'\n",
        "    uploaded = files.upload()\n",
        "    file = open(file_name, 'r')\n",
        "    uploaded = files.upload()\n",
        "    \n",
        "    \n",
        "    sequence = []\n",
        "    data_1 = []\n",
        "    flag = False\n",
        "\n",
        "    for line in file: \n",
        "        if line.find('New') != -1:\n",
        "            if len(sequence) != 0:\n",
        "                print(sequence)\n",
        "                data_1.append((J0,Ka0,Kc0, sequence))\n",
        "            sequence = []\n",
        "            continue\n",
        "        if line.find('Searching') != -1:\n",
        "            flag = False\n",
        "            J0, Ka0, Kc0, = line.split()[1], line.split()[2], line.split()[3]\n",
        "            E0 = find_upper(J0, Ka0, Kc0)\n",
        "            continue\n",
        "\n",
        "        if flag == True or line.find('No') != -1 or len(line.split()) == 0:\n",
        "            continue\n",
        "\n",
        "        try:\n",
        "            E = float(line[:78].split()[-1])\n",
        "            delta = round(E - E0, 3)\n",
        "            flag = True\n",
        "            sequence.append(delta)\n",
        "        except ValueError:\n",
        "            break\n",
        "    return data_1\n",
        "        \n",
        "data_1 = make_sequences_y1('v7')"
      ],
      "execution_count": 27,
      "outputs": [
        {
          "output_type": "display_data",
          "data": {
            "text/html": [
              "\n",
              "     <input type=\"file\" id=\"files-9d44b3e4-c6d6-4fd6-959c-2b224be84a37\" name=\"files[]\" multiple disabled />\n",
              "     <output id=\"result-9d44b3e4-c6d6-4fd6-959c-2b224be84a37\">\n",
              "      Upload widget is only available when the cell has been executed in the\n",
              "      current browser session. Please rerun this cell to enable.\n",
              "      </output>\n",
              "      <script src=\"/nbextensions/google.colab/files.js\"></script> "
            ],
            "text/plain": [
              "<IPython.core.display.HTML object>"
            ]
          },
          "metadata": {
            "tags": []
          }
        },
        {
          "output_type": "stream",
          "text": [
            "Saving v7 to v7 (4)\n"
          ],
          "name": "stdout"
        },
        {
          "output_type": "display_data",
          "data": {
            "text/html": [
              "\n",
              "     <input type=\"file\" id=\"files-ec6f672b-a018-4ef7-ac71-0a389e3a0f9e\" name=\"files[]\" multiple disabled />\n",
              "     <output id=\"result-ec6f672b-a018-4ef7-ac71-0a389e3a0f9e\">\n",
              "      Upload widget is only available when the cell has been executed in the\n",
              "      current browser session. Please rerun this cell to enable.\n",
              "      </output>\n",
              "      <script src=\"/nbextensions/google.colab/files.js\"></script> "
            ],
            "text/plain": [
              "<IPython.core.display.HTML object>"
            ]
          },
          "metadata": {
            "tags": []
          }
        },
        {
          "output_type": "stream",
          "text": [
            "Saving res_v7.res to res_v7 (2).res\n",
            "[0.126, 0.144, 0.171, 0.206, 0.247, 0.296, 0.356, 0.416, 0.482, 0.553, 0.627, 0.7, 0.779, 0.858, 0.94, 1.024, 1.11, 1.198, 1.29, 1.386, 1.483, 1.584, 1.687, 1.794, 1.903, 2.02]\n",
            "[0.269, 0.29, 0.315, 0.348, 0.388, 0.432, 0.481, 0.536, 0.594, 0.659, 0.724, 0.795, 0.872, 0.95, 1.029, 1.115, 1.205, 1.296, 1.384, 1.487, 1.589, 1.693, 1.801, 1.915, 2.04]\n",
            "[0.268, 0.289, 0.321, 0.358, 0.405, 0.461, 0.528, 0.599, 0.683, 0.77, 0.864, 0.963, 1.067, 1.172, 1.281, 1.384, 1.461]\n",
            "[0.504, 0.532, 0.566, 0.608, 0.654, 0.708, 0.769, 0.835, 0.906, 0.985, 1.068, 1.155, 1.245, 1.332, 1.406]\n",
            "[0.506, 0.531, 0.566, 0.604, 0.656, 0.713, 0.775, 0.85, 0.93, 1.021, 1.118, 1.225, 1.334, 1.453, 1.571, 1.693, 1.812, 1.912]\n",
            "[0.829, 0.863, 0.903, 0.949, 1.002, 1.063, 1.126, 1.197, 1.274, 1.357, 1.442, 1.526, 1.594, 1.729]\n",
            "[0.83, 0.864, 0.903, 0.948, 0.996, 1.061, 1.109, 1.158, 1.245, 1.37, 1.461, 1.578, 1.674, 1.784, 1.899, 2.02, 2.14, 2.26]\n",
            "[1.242, 1.279, 1.324, 1.372, 1.426, 1.487, 1.551, 1.621, 1.693, 1.765, 1.843, 1.924, 1.997]\n",
            "[1.24, 1.278, 1.323, 1.372, 1.427, 1.489, 1.556, 1.632, 1.712, 1.802, 1.891, 1.993, 2.095, 2.203, 2.31, 2.424, 2.533, 2.642, 2.743, 2.835]\n"
          ],
          "name": "stdout"
        }
      ]
    },
    {
      "metadata": {
        "id": "YKBoHpD_tFnD",
        "colab_type": "code",
        "colab": {}
      },
      "cell_type": "code",
      "source": [
        ""
      ],
      "execution_count": 0,
      "outputs": []
    }
  ]
}