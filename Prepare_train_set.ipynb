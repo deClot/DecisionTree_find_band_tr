{
 "cells": [
  {
   "cell_type": "code",
   "execution_count": 18,
   "metadata": {},
   "outputs": [],
   "source": []
  },
  {
   "cell_type": "code",
   "execution_count": 41,
   "metadata": {},
   "outputs": [],
   "source": [
    "file = open('search_v7', 'r')\n",
    "\n",
    "count = 0\n",
    "for line in file:\n",
    "    count +=1\n",
    "    if count == 5:\n",
    "        break\n",
    "    continue\n",
    "    \n",
    "deltas = {}\n",
    "upper = {}\n",
    "\n",
    "for line in file:\n",
    "    if line.find('Searching') != -1:\n",
    "        J0 = line.split()[1]\n",
    "        deltas[J0] = []\n",
    "        E0 = float(line.split()[-1])\n",
    "        upper[J0] = E0\n",
    "        continue\n",
    "\n",
    "    if line.find('No') != -1:\n",
    "        continue\n",
    "\n",
    "    if len(line.split()) == 0:\n",
    "        continue\n",
    "        \n",
    "    if int(line.split()[0]) != int(J0) - 1:\n",
    "        continue\n",
    "        \n",
    "    try:\n",
    "        E = float(line.split()[-1])\n",
    "        delta = round(E - E0, 3)\n",
    "        deltas[J0].append(delta)\n",
    "    except ValueError:\n",
    "        break\n"
   ]
  },
  {
   "cell_type": "code",
   "execution_count": 47,
   "metadata": {},
   "outputs": [
    {
     "name": "stdout",
     "output_type": "stream",
     "text": [
      "1.097\n",
      "1.115\n",
      "1.142\n",
      "1.177\n",
      "1.218\n",
      "1.267\n",
      "1.327\n",
      "1.387\n",
      "1.453\n",
      "1.524\n",
      "1.598\n",
      "1.671\n",
      "1.75\n",
      "1.829\n",
      "1.911\n",
      "1.995\n",
      "2.081\n",
      "2.169\n",
      "2.261\n",
      "2.357\n"
     ]
    }
   ],
   "source": [
    "file_v7 = open('v7', 'r')\n",
    "\n",
    "flag = False\n",
    "for line in file_v7:    \n",
    "    if line.find('Searching') != -1:\n",
    "        flag = False\n",
    "        J0 = line.split()[1]\n",
    "        deltas[J0] = []\n",
    "        E0 = upper[J0]\n",
    "        continue\n",
    "        \n",
    "    if flag == True:\n",
    "        continue\n",
    "\n",
    "    if line.find('No') != -1:\n",
    "        continue\n",
    "\n",
    "    if len(line.split()) == 0:\n",
    "        continue\n",
    "        \n",
    "    try:\n",
    "        E = float(line.split()[-1])\n",
    "        delta = round(E - E0, 3)\n",
    "        flag = True\n",
    "        print(delta)\n",
    "        \n",
    "    except ValueError:\n",
    "        break"
   ]
  },
  {
   "cell_type": "code",
   "execution_count": null,
   "metadata": {},
   "outputs": [],
   "source": []
  }
 ],
 "metadata": {
  "kernelspec": {
   "display_name": "Python 3",
   "language": "python",
   "name": "python3"
  },
  "language_info": {
   "codemirror_mode": {
    "name": "ipython",
    "version": 3
   },
   "file_extension": ".py",
   "mimetype": "text/x-python",
   "name": "python",
   "nbconvert_exporter": "python",
   "pygments_lexer": "ipython3",
   "version": "3.7.0"
  }
 },
 "nbformat": 4,
 "nbformat_minor": 2
}
