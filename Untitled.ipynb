{
 "cells": [
  {
   "cell_type": "code",
   "execution_count": 3,
   "metadata": {},
   "outputs": [],
   "source": [
    "import pandas as pd\n",
    "import numpy as np"
   ]
  },
  {
   "cell_type": "code",
   "execution_count": 174,
   "metadata": {},
   "outputs": [],
   "source": [
    "data_train = pd.read_csv('sources/train.csv')\\"
   ]
  },
  {
   "cell_type": "code",
   "execution_count": 175,
   "metadata": {},
   "outputs": [
    {
     "data": {
      "text/html": [
       "<div>\n",
       "<style scoped>\n",
       "    .dataframe tbody tr th:only-of-type {\n",
       "        vertical-align: middle;\n",
       "    }\n",
       "\n",
       "    .dataframe tbody tr th {\n",
       "        vertical-align: top;\n",
       "    }\n",
       "\n",
       "    .dataframe thead th {\n",
       "        text-align: right;\n",
       "    }\n",
       "</style>\n",
       "<table border=\"1\" class=\"dataframe\">\n",
       "  <thead>\n",
       "    <tr style=\"text-align: right;\">\n",
       "      <th></th>\n",
       "      <th>1</th>\n",
       "      <th>2</th>\n",
       "      <th>3</th>\n",
       "      <th>4</th>\n",
       "      <th>5</th>\n",
       "      <th>6</th>\n",
       "      <th>Y</th>\n",
       "    </tr>\n",
       "  </thead>\n",
       "  <tbody>\n",
       "    <tr>\n",
       "      <th>0</th>\n",
       "      <td>0.319</td>\n",
       "      <td>0.965</td>\n",
       "      <td>-1.811</td>\n",
       "      <td>-0.297</td>\n",
       "      <td>1.770</td>\n",
       "      <td>-1.706</td>\n",
       "      <td>0.0</td>\n",
       "    </tr>\n",
       "    <tr>\n",
       "      <th>1</th>\n",
       "      <td>1.323</td>\n",
       "      <td>1.688</td>\n",
       "      <td>1.168</td>\n",
       "      <td>0.337</td>\n",
       "      <td>-1.753</td>\n",
       "      <td>1.268</td>\n",
       "      <td>0.0</td>\n",
       "    </tr>\n",
       "    <tr>\n",
       "      <th>2</th>\n",
       "      <td>0.319</td>\n",
       "      <td>0.203</td>\n",
       "      <td>-1.731</td>\n",
       "      <td>0.633</td>\n",
       "      <td>-0.727</td>\n",
       "      <td>-1.706</td>\n",
       "      <td>0.0</td>\n",
       "    </tr>\n",
       "    <tr>\n",
       "      <th>3</th>\n",
       "      <td>-2.224</td>\n",
       "      <td>1.688</td>\n",
       "      <td>-1.731</td>\n",
       "      <td>1.330</td>\n",
       "      <td>0.387</td>\n",
       "      <td>1.268</td>\n",
       "      <td>0.0</td>\n",
       "    </tr>\n",
       "    <tr>\n",
       "      <th>4</th>\n",
       "      <td>0.764</td>\n",
       "      <td>-0.744</td>\n",
       "      <td>0.397</td>\n",
       "      <td>1.492</td>\n",
       "      <td>-0.210</td>\n",
       "      <td>1.268</td>\n",
       "      <td>0.0</td>\n",
       "    </tr>\n",
       "  </tbody>\n",
       "</table>\n",
       "</div>"
      ],
      "text/plain": [
       "       1      2      3      4      5      6    Y\n",
       "0  0.319  0.965 -1.811 -0.297  1.770 -1.706  0.0\n",
       "1  1.323  1.688  1.168  0.337 -1.753  1.268  0.0\n",
       "2  0.319  0.203 -1.731  0.633 -0.727 -1.706  0.0\n",
       "3 -2.224  1.688 -1.731  1.330  0.387  1.268  0.0\n",
       "4  0.764 -0.744  0.397  1.492 -0.210  1.268  0.0"
      ]
     },
     "execution_count": 175,
     "metadata": {},
     "output_type": "execute_result"
    }
   ],
   "source": [
    "data_train.head(5)"
   ]
  },
  {
   "cell_type": "code",
   "execution_count": 176,
   "metadata": {},
   "outputs": [],
   "source": [
    "X_ = data_train.drop(['Y'], axis='columns').values\n",
    "y = data_train['Y'].values\n",
    "\n",
    "#X_test = data_test.drop(['Y'], axis='columns').values\n",
    "#y_test = data_test['Y'].values"
   ]
  },
  {
   "cell_type": "code",
   "execution_count": 177,
   "metadata": {},
   "outputs": [],
   "source": [
    "from sklearn.preprocessing import StandardScaler\n",
    "\n",
    "ss = StandardScaler()\n",
    "X = ss.fit_transform(X)\n",
    "#X_test = ss.transform(X_test)\n"
   ]
  },
  {
   "cell_type": "code",
   "execution_count": 64,
   "metadata": {},
   "outputs": [],
   "source": [
    "from imblearn.over_sampling import RandomOverSampler, SMOTE, ADASYN\n",
    "\n",
    "X_replaced, y_replaced  = RandomOverSampler(random_state=228).fit_resample(X_train, y_train)\n",
    "#X_replaced, y_replaced = SMOTE(random_state=228, k_neighbors=5).fit_resample(X_train, y_train)\n",
    "#X_replaced, y_replaced = ADASYN(random_state=228, n_neighbors=4).fit_resample(X_norm, y_train)X_train = X_replaced\n",
    "\n"
   ]
  },
  {
   "cell_type": "code",
   "execution_count": 102,
   "metadata": {},
   "outputs": [],
   "source": [
    "def calculation_classes(y, y_test = None):\n",
    "    print ('\\t\\tTRAIN DATA\\tTEST DATA')\n",
    "    print ('Negative\\t', np.sum(y==0),'  ',\n",
    "           round(100*np.sum(y==0)/y.shape[0],2),'%',\n",
    "           '\\t',np.sum(y_test==0),'  ',\n",
    "           round(100*np.sum(y_test==0)/y_test.shape[0],2),'%'\n",
    "           '\\nPositive\\t ', np.sum(y==1),' ',\n",
    "           round(100*np.sum(y==1)/y.shape[0],2),'%'\n",
    "           '\\t',np.sum(y_test==1),' ',\n",
    "           round(100*np.sum(y_test==1)/y_test.shape[0],2),'%'\n",
    "      )"
   ]
  },
  {
   "cell_type": "code",
   "execution_count": 128,
   "metadata": {},
   "outputs": [],
   "source": [
    "import matplotlib.pyplot as plt\n",
    "import itertools\n",
    "\n",
    "def plot_confusion_matrix(cm, classes):\n",
    "    plt.imshow(cm, interpolation='nearest', cmap=plt.cm.Blues)\n",
    "    plt.title('Матрица ошибок')\n",
    "    plt.colorbar()\n",
    "    tick_marks = np.arange(len(classes))\n",
    "    plt.xticks(tick_marks, classes)\n",
    "    plt.yticks(tick_marks, classes)\n",
    "\n",
    "    thresh = cm.max() / 2.\n",
    "    for i, j in itertools.product(range(cm.shape[0]), range(cm.shape[1])):\n",
    "        plt.text(j, i, format(cm[i, j], 'd'),\n",
    "                 horizontalalignment=\"center\",\n",
    "                 color=\"white\" if cm[i, j] > thresh else \"black\")\n",
    "\n",
    "    plt.ylabel('True')\n",
    "    plt.xlabel('Predicted')\n",
    "    plt.tight_layout()\n"
   ]
  },
  {
   "cell_type": "code",
   "execution_count": 188,
   "metadata": {},
   "outputs": [],
   "source": [
    "from sklearn.model_selection import cross_val_score, train_test_split\n",
    "from sklearn import tree\n",
    "from sklearn.metrics import confusion_matrix, recall_score"
   ]
  },
  {
   "cell_type": "code",
   "execution_count": 204,
   "metadata": {},
   "outputs": [
    {
     "name": "stdout",
     "output_type": "stream",
     "text": [
      "Initial data\n",
      "\t\tTRAIN DATA\tTEST DATA\n",
      "Negative\t 899    89.9 % \t 101    90.18 %\n",
      "Positive\t  101   10.1 %\t 11   9.82 %\n"
     ]
    }
   ],
   "source": [
    "'''X_train, X_test, y_train, y_test = train_test_split(X, y, stratify=y, shuffle=True,\\\n",
    "                                                    test_size=0.1)\n",
    "\n",
    "print('Initial data')\n",
    "calculation_classes(y_train,y_test)\n",
    "\n",
    "dtc = tree.DecisionTreeClassifier(random_state=228, max_depth =7)\n",
    "dtc = dtc.fit(X_train, y_train)\n",
    "\n",
    "predictions = dtc.predict(X_train)\n",
    "cm = confusion_matrix(y_train, predictions)\n",
    "predictions = dtc.predict(X_test)\n",
    "cm2 = confusion_matrix(y_test, predictions)\n",
    "\n",
    "'''"
   ]
  },
  {
   "cell_type": "code",
   "execution_count": 205,
   "metadata": {},
   "outputs": [
    {
     "data": {
      "image/png": "[encoded data removed]",
      "text/plain": [
       "<Figure size 432x288 with 2 Axes>"
      ]
     },
     "metadata": {
      "needs_background": "light"
     },
     "output_type": "display_data"
    }
   ],
   "source": [
    "plot_confusion_matrix(cm, ['0', '1'])\n"
   ]
  },
  {
   "cell_type": "code",
   "execution_count": 206,
   "metadata": {},
   "outputs": [
    {
     "data": {
      "image/png": "[encoded data removed]",
      "text/plain": [
       "<Figure size 432x288 with 2 Axes>"
      ]
     },
     "metadata": {
      "needs_background": "light"
     },
     "output_type": "display_data"
    }
   ],
   "source": [
    "plot_confusion_matrix(cm2, ['0', '1'])"
   ]
  },
  {
   "cell_type": "code",
   "execution_count": 199,
   "metadata": {},
   "outputs": [
    {
     "data": {
      "image/png": "[encoded data removed]",
      "text/plain": [
       "<Figure size 720x504 with 1 Axes>"
      ]
     },
     "metadata": {
      "needs_background": "light"
     },
     "output_type": "display_data"
    }
   ],
   "source": [
    "max_depth = 15\n",
    "\n",
    "x_axis = np.linspace(1, max_depth, num=max_depth)\n",
    "plt.figure(figsize=(10, 7))\n",
    "\n",
    "y_rec_pos = np.zeros(x_axis.shape)\n",
    "\n",
    "for n in range(max_depth):\n",
    "    dtc = tree.DecisionTreeClassifier(random_state=228, max_depth = n+1)\n",
    "    y_rec_pos[n] = cross_val_score(dtc, X, y, scoring='recall',cv =5).mean()\n",
    "    \n",
    "plt.plot(x_axis, y_rec_pos, color='b', lw=3, alpha=0.7, label='Recall_positive')\n",
    "plt.title('Tree')\n",
    "plt.xlabel('depth')\n",
    "plt.ylabel('Metric, %')\n",
    "plt.legend(loc='upper right')\n",
    "plt.grid(True)\n",
    "plt.show()"
   ]
  },
  {
   "cell_type": "code",
   "execution_count": 200,
   "metadata": {},
   "outputs": [],
   "source": [
    "max_depth = 7"
   ]
  },
  {
   "cell_type": "code",
   "execution_count": null,
   "metadata": {},
   "outputs": [],
   "source": []
  }
 ],
 "metadata": {
  "kernelspec": {
   "display_name": "Python 3",
   "language": "python",
   "name": "python3"
  },
  "language_info": {
   "codemirror_mode": {
    "name": "ipython",
    "version": 3
   },
   "file_extension": ".py",
   "mimetype": "text/x-python",
   "name": "python",
   "nbconvert_exporter": "python",
   "pygments_lexer": "ipython3",
   "version": "3.7.0"
  }
 },
 "nbformat": 4,
 "nbformat_minor": 2
}
