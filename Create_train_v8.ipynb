{
 "cells": [
  {
   "cell_type": "code",
   "execution_count": 241,
   "metadata": {},
   "outputs": [],
   "source": [
    "import os\n",
    "import shutil \n",
    "import csv\n",
    "import numpy as np\n",
    "#import numpy as np\n",
    "#import pandas as pd\n",
    "#from sklearn.preprocessing import StandardScaler\n",
    "from utils import *"
   ]
  },
  {
   "cell_type": "code",
   "execution_count": 242,
   "metadata": {},
   "outputs": [],
   "source": [
    "band_name = 'v8'  \n",
    "window_size = 6 "
   ]
  },
  {
   "cell_type": "code",
   "execution_count": 265,
   "metadata": {},
   "outputs": [
    {
     "name": "stdout",
     "output_type": "stream",
     "text": [
      "10\n"
     ]
    }
   ],
   "source": [
    "path = 'sources/Ini_sources/'\n",
    "#print(os.getcwd())\n",
    "data_1 = make_sequences_y1(band_name, path, band_name)\n",
    "print(len(data_1))"
   ]
  },
  {
   "cell_type": "code",
   "execution_count": 266,
   "metadata": {},
   "outputs": [
    {
     "data": {
      "text/plain": [
       "\" Writing out initial sequences\\nfile_ini = open('sources/Ini_sources/sequences_'+band_name, 'w')\\nfor line in data_1:\\n    file_ini.write(str(line) +'\\n')\\n    \\nfile_ini.close()\\n\""
      ]
     },
     "execution_count": 266,
     "metadata": {},
     "output_type": "execute_result"
    }
   ],
   "source": [
    "''' Writing out initial sequences\n",
    "file_ini = open('sources/Ini_sources/sequences_'+band_name, 'w')\n",
    "for line in data_1:\n",
    "    file_ini.write(str(line) +'\\n')\n",
    "    \n",
    "file_ini.close()\n",
    "'''"
   ]
  },
  {
   "cell_type": "code",
   "execution_count": 267,
   "metadata": {},
   "outputs": [
    {
     "name": "stdout",
     "output_type": "stream",
     "text": [
      "[3, 8]\n"
     ]
    }
   ],
   "source": [
    "from decimal import Decimal, ROUND_HALF_UP, getcontext\n",
    "getcontext().rounding = ROUND_HALF_UP\n",
    "l = len(data_1)\n",
    "h = int(round(Decimal(l)/2,0))\n",
    "i = int(round(Decimal(h)/2,0))\n",
    "indexes = [i, l-(h-i)]\n",
    "print(indexes)"
   ]
  },
  {
   "cell_type": "code",
   "execution_count": 268,
   "metadata": {},
   "outputs": [
    {
     "name": "stdout",
     "output_type": "stream",
     "text": [
      "5\n"
     ]
    }
   ],
   "source": [
    "train = data_1[:indexes[0]] + data_1[indexes[1]:]\n",
    "test  = data_1[indexes[0]:indexes[1]]\n",
    "print(len(train))"
   ]
  },
  {
   "cell_type": "code",
   "execution_count": 71,
   "metadata": {},
   "outputs": [],
   "source": [
    "data_test_1 = get_x(test, window_size=window_size)\n",
    "\n",
    "file_csv = open('sources/test_y1_'+band_name+'.csv', 'w', newline='')\n",
    "filewriter = csv.writer(file_csv, delimiter=',',\n",
    "                            quotechar='|', quoting=csv.QUOTE_MINIMAL)\n",
    "filewriter.writerow([1,2,3,4,5,6,'Y'])\n",
    "for i in range(data_test_1.shape[0]):\n",
    "    filewriter.writerow(data_test_1[i,:])\n",
    "file_csv.close()"
   ]
  },
  {
   "cell_type": "markdown",
   "metadata": {},
   "source": [
    "# Creating additional samples for train set"
   ]
  },
  {
   "cell_type": "code",
   "execution_count": 269,
   "metadata": {},
   "outputs": [
    {
     "name": "stdout",
     "output_type": "stream",
     "text": [
      "61\n"
     ]
    }
   ],
   "source": [
    "data = get_x(train, window_size=window_size).tolist()\n",
    "print(len(data))"
   ]
  },
  {
   "cell_type": "markdown",
   "metadata": {},
   "source": [
    "# Negative sequence"
   ]
  },
  {
   "cell_type": "code",
   "execution_count": 270,
   "metadata": {},
   "outputs": [
    {
     "name": "stdout",
     "output_type": "stream",
     "text": [
      "122\n"
     ]
    }
   ],
   "source": [
    "data_add = []\n",
    "for el in data:\n",
    "    seq = []\n",
    "    for cell in el[:-1]:\n",
    "        seq.append(-cell)\n",
    "    seq.append(1.0)\n",
    "    data_add.append(seq)\n",
    "\n",
    "for el in data_add:\n",
    "    data.append(el)\n",
    "print(len(data))"
   ]
  },
  {
   "cell_type": "code",
   "execution_count": 271,
   "metadata": {},
   "outputs": [
    {
     "name": "stdout",
     "output_type": "stream",
     "text": [
      "244\n"
     ]
    }
   ],
   "source": [
    "data_add = []\n",
    "for el in data:\n",
    "    el = el[:-1]\n",
    "    el.reverse()\n",
    "    el.append(1.)\n",
    "    data_add.append(el)\n",
    "\n",
    "for el in data_add:\n",
    "    data.append(el)\n",
    "print(len(data))"
   ]
  },
  {
   "cell_type": "code",
   "execution_count": 272,
   "metadata": {},
   "outputs": [],
   "source": [
    "def create_deltas(line):\n",
    "    deltas = [0]\n",
    "    for i in range(len(line[:-1])-1):\n",
    "        delta = line[i] - line[i+1]\n",
    "        deltas.append(delta)\n",
    "    return deltas\n",
    "\n",
    "def create_shift_in_deltas(data, shift):\n",
    "    data_add = []\n",
    "\n",
    "    for line in data:\n",
    "        deltas = create_deltas(line)\n",
    "        new = [line[0]]\n",
    "        ini = line[0]\n",
    "        for i in range(1, len(line[:-1])):\n",
    "            ini = ini - deltas[i] - shift\n",
    "            new.append(ini)\n",
    "        new.append(1.)\n",
    "        data_add.append(new)\n",
    "    \n",
    "    return data_add"
   ]
  },
  {
   "cell_type": "code",
   "execution_count": 276,
   "metadata": {},
   "outputs": [
    {
     "name": "stdout",
     "output_type": "stream",
     "text": [
      "886416\n",
      "[[3.4878740000000334, 3.4870459999999865, 3.484436000000005, 3.4807840000000394, 3.476576999999997, 3.472749999999905, 1.0], [3.4620459999999866, 3.459436000000005, 3.4557840000000395, 3.4515769999999972, 3.447749999999905, 3.4449750000001127, 1.0], [3.434436000000005, 3.4307840000000396, 3.4265769999999973, 3.422749999999905, 3.419975000000113, 3.418734999999969, 1.0], [3.4057840000000397, 3.4015769999999974, 3.3977499999999052, 3.394975000000113, 3.3937349999999693, 3.392734999999902, 1.0], [3.3765769999999975, 3.3727499999999053, 3.369975000000113, 3.3687349999999694, 3.367734999999902, 3.369011, 1.0]]\n"
     ]
    }
   ],
   "source": [
    "shifts = [i for i in np.arange(-0.015, 0.015, 0.0005) if abs(i) > 0.00001]\n",
    "data_add_res = []\n",
    "for shift in shifts:\n",
    "    data_add = create_shift_in_deltas(data, shift)\n",
    "    data_add_res += data_add\n",
    "print(len(data_add_res))\n",
    "\n",
    "#print(data_add_res[2715:2720])"
   ]
  },
  {
   "cell_type": "code",
   "execution_count": 274,
   "metadata": {},
   "outputs": [
    {
     "name": "stdout",
     "output_type": "stream",
     "text": [
      "384\n"
     ]
    }
   ],
   "source": [
    "data_add = []\n",
    "for line in data:\n",
    "    deltas = create_deltas(line)\n",
    "    #print(line)\n",
    "    #print('d ', deltas)\n",
    "    if all(delta <= 0.1 for delta in deltas) is True:\n",
    "        cell_max = max(map(abs,deltas))\n",
    "        cell_min = min(map(abs,deltas[1:]))\n",
    "        while (cell_max < 0.05):\n",
    "            deltas = [d*10 for d in deltas]\n",
    "            #print('d ', deltas)\n",
    "            cell_max *= 10\n",
    "            new = []\n",
    "            ini = line[0]\n",
    "            for i in range(len(deltas)):\n",
    "                ini = ini - deltas[i]\n",
    "                new.append(ini)\n",
    "            new.append(1.)\n",
    "            #print('n ',new)\n",
    "            data_add.append(new)\n",
    "            \n",
    "            if cell_min >= 0.002:\n",
    "                deltas2 = [d/2 for d in deltas]\n",
    "                new = []\n",
    "                #print('1', deltas)\n",
    "                #print('2',deltas2)\n",
    "                ini = line[0]\n",
    "                for i in range(len(deltas2)):\n",
    "                    ini = ini - deltas2[i]\n",
    "                    new.append(ini)\n",
    "                new.append(1.)\n",
    "                #print('n ',new)\n",
    "                data_add.append(new)\n",
    "            \n",
    "print(len(data_add))"
   ]
  },
  {
   "cell_type": "code",
   "execution_count": 275,
   "metadata": {},
   "outputs": [
    {
     "name": "stdout",
     "output_type": "stream",
     "text": [
      "15024\n"
     ]
    }
   ],
   "source": [
    "for el in data_add_res:\n",
    "    data.append(el)\n",
    "\n",
    "for el in data_add:\n",
    "    data.append(el)\n",
    "print(len(data))   "
   ]
  },
  {
   "cell_type": "code",
   "execution_count": 25,
   "metadata": {},
   "outputs": [
    {
     "data": {
      "text/plain": [
       "'\\ndata_add = []\\nfor el in data:\\n    multiplicate = [2,2.5,3,0.5,0.2,0.1]\\n    for value in multiplicate:\\n        line_add = el.copy()\\n    \\n        for i in range(len(line_add)-1):\\n            line_add[i] = round(line_add[i] * value, 3)\\n        data_add.append(line_add)\\n        \\n    increase = [0.5,1,1.5,2,2.5,3,-0.5,-1,-1.5,-2,-2.5,-3]\\n    for value in increase:\\n        line_add = el.copy()\\n    \\n        for i in range(len(line_add)-1):\\n            line_add[i] = round(line_add[i] + value, 3)\\n        data_add.append(line_add)\\n'"
      ]
     },
     "execution_count": 25,
     "metadata": {},
     "output_type": "execute_result"
    }
   ],
   "source": [
    "'''\n",
    "data_add = []\n",
    "for el in data:\n",
    "    multiplicate = [2,2.5,3,0.5,0.2,0.1]\n",
    "    for value in multiplicate:\n",
    "        line_add = el.copy()\n",
    "    \n",
    "        for i in range(len(line_add)-1):\n",
    "            line_add[i] = round(line_add[i] * value, 3)\n",
    "        data_add.append(line_add)\n",
    "        \n",
    "    increase = [0.5,1,1.5,2,2.5,3,-0.5,-1,-1.5,-2,-2.5,-3]\n",
    "    for value in increase:\n",
    "        line_add = el.copy()\n",
    "    \n",
    "        for i in range(len(line_add)-1):\n",
    "            line_add[i] = round(line_add[i] + value, 3)\n",
    "        data_add.append(line_add)\n",
    "'''"
   ]
  },
  {
   "cell_type": "code",
   "execution_count": null,
   "metadata": {},
   "outputs": [],
   "source": [
    "'''\n",
    "for el in data_add:\n",
    "    data.append(el)\n",
    "print(len(data))\n",
    "'''"
   ]
  },
  {
   "cell_type": "markdown",
   "metadata": {},
   "source": [
    "# y=0"
   ]
  },
  {
   "cell_type": "code",
   "execution_count": null,
   "metadata": {},
   "outputs": [],
   "source": [
    "def change_one_value_in_sequence(line_ini, delta=0):\n",
    "    line_add = line_ini.copy()\n",
    "    line_add[i] = round(line_ini[i-1] + delta, 3)\n",
    "    line_add[-1] = 0.\n",
    "    return line_add\n",
    "    "
   ]
  },
  {
   "cell_type": "code",
   "execution_count": null,
   "metadata": {},
   "outputs": [],
   "source": [
    "data_add = []\n",
    "for i in range(1, 6):\n",
    "    for line in data:\n",
    "        line_add = change_one_value_in_sequence(line, delta=0.002)\n",
    "        data_add.append(line_add)\n",
    "        \n",
    "        line_add = change_one_value_in_sequence(line, delta=-0.002)\n",
    "        data_add.append(line_add)\n",
    "        \n",
    "for line in data_add:\n",
    "        data.append(line)\n",
    "        \n",
    "print(len(data))\n"
   ]
  },
  {
   "cell_type": "markdown",
   "metadata": {},
   "source": [
    "# Write out"
   ]
  },
  {
   "cell_type": "code",
   "execution_count": 277,
   "metadata": {},
   "outputs": [],
   "source": [
    "data_train = np.array(data)\n",
    "\n",
    "file_csv = open('sources/train_y1_'+band_name+'.csv', 'w', newline='')\n",
    "filewriter = csv.writer(file_csv, delimiter=',',\n",
    "                            quotechar='|', quoting=csv.QUOTE_MINIMAL)\n",
    "filewriter.writerow([1,2,3,4,5,6,'Y'])\n",
    "for i in range(data_train.shape[0]):\n",
    "    filewriter.writerow(data_train[i,:])\n",
    "    '''negative = list(map(lambda x: (-1)*x, data_train_1[i,:-1]))\n",
    "    negative = np.flip(negative)\n",
    "    add = data_train_1[i,:].copy()\n",
    "    add[:-1] = negative\n",
    "    filewriter.writerow(add)'''\n",
    "'''for i in range(data_train_1.shape[0]):\n",
    "    rand = data_train_1[i,:-1].copy()\n",
    "    np.random.shuffle(rand)\n",
    "    add = data_train_1[0,:].copy()\n",
    "    add[:-1] = rand\n",
    "    add[-1] = 0\n",
    "    filewriter.writerow(add)\n",
    "'''\n",
    "file_csv.close()"
   ]
  },
  {
   "cell_type": "code",
   "execution_count": null,
   "metadata": {},
   "outputs": [],
   "source": []
  }
 ],
 "metadata": {
  "kernelspec": {
   "display_name": "Python 3",
   "language": "python",
   "name": "python3"
  },
  "language_info": {
   "codemirror_mode": {
    "name": "ipython",
    "version": 3
   },
   "file_extension": ".py",
   "mimetype": "text/x-python",
   "name": "python",
   "nbconvert_exporter": "python",
   "pygments_lexer": "ipython3",
   "version": "3.7.0"
  }
 },
 "nbformat": 4,
 "nbformat_minor": 2
}
