{
 "cells": [
  {
   "cell_type": "code",
   "execution_count": 8,
   "metadata": {},
   "outputs": [
    {
     "name": "stdout",
     "output_type": "stream",
     "text": [
      "18\n"
     ]
    }
   ],
   "source": [
    "data = '''0.084,0.076,0.065,0.051,0.033,0.012,1.\n",
    "0.576,0.565,0.551,0.533,0.512,0.488,1.0\n",
    "0.565,0.551,0.533,0.512,0.488,0.462,1.0\n",
    "0.551,0.533,0.512,0.488,0.462,0.434,1.0\n",
    "3.533,3.512,3.488,3.462,3.434,3.406,1.0\n",
    "3.512,3.488,3.462,3.434,3.406,3.377,1.0\n",
    "3.488,3.462,3.434,3.406,3.377,3.348,1.0\n",
    "3.462,3.434,3.406,3.377,3.348,3.32,1.0\n",
    "3.434,3.406,3.377,3.348,3.32,3.294,1.0\n",
    "3.406,3.377,3.348,3.32,3.294,3.268,1.0\n",
    "3.377,3.348,3.32,3.294,3.268,3.244,1.0\n",
    "3.348,3.32,3.294,3.268,3.244,3.222,1.0\n",
    "3.32,3.294,3.268,3.244,3.222,3.201,1.0\n",
    "3.294,3.268,3.244,3.222,3.201,3.178,1.0\n",
    "3.268,3.244,3.222,3.201,3.178,3.162,1.0\n",
    "3.244,3.222,3.201,3.178,3.162,3.146,1.0\n",
    "3.222,3.201,3.178,3.162,3.146,3.127,1.0\n",
    "3.201,3.178,3.162,3.146,3.127,3.111,1.0'''\n",
    "data = data.split()\n",
    "print(len(data))"
   ]
  },
  {
   "cell_type": "code",
   "execution_count": 9,
   "metadata": {},
   "outputs": [
    {
     "name": "stdout",
     "output_type": "stream",
     "text": [
      "32\n"
     ]
    }
   ],
   "source": [
    "for i in range(len(data)):\n",
    "    data[i] = list(map(float, data[i].split(',')))\n",
    "    if data[i][0] > 3:\n",
    "        seq = []\n",
    "        for el in data[i][:-1]:\n",
    "            seq.append(round(el-3.500,3))\n",
    "        seq.append(1.0)\n",
    "        data.append(seq)\n",
    "            \n",
    "print(len(data))"
   ]
  },
  {
   "cell_type": "code",
   "execution_count": 10,
   "metadata": {},
   "outputs": [
    {
     "name": "stdout",
     "output_type": "stream",
     "text": [
      "32\n"
     ]
    }
   ],
   "source": [
    "data_add = []\n",
    "for el in data:\n",
    "    seq = []\n",
    "    for cell in el[:-1]:\n",
    "        seq.append(-cell)\n",
    "    seq.append(1.0)\n",
    "    data_add.append(seq)\n",
    "print(len(data_add))"
   ]
  },
  {
   "cell_type": "code",
   "execution_count": 11,
   "metadata": {},
   "outputs": [
    {
     "name": "stdout",
     "output_type": "stream",
     "text": [
      "64\n"
     ]
    }
   ],
   "source": [
    "for el in data_add:\n",
    "    data.append(el)\n",
    "print(len(data))"
   ]
  },
  {
   "cell_type": "code",
   "execution_count": 12,
   "metadata": {},
   "outputs": [
    {
     "name": "stdout",
     "output_type": "stream",
     "text": [
      "96\n"
     ]
    }
   ],
   "source": [
    "for el in data_add:\n",
    "    el = el[:-1]\n",
    "    el.reverse()\n",
    "    el.append(1.)\n",
    "    data.append(el)\n",
    "print(len(data))"
   ]
  },
  {
   "cell_type": "code",
   "execution_count": 22,
   "metadata": {},
   "outputs": [],
   "source": [
    "data_add = []\n",
    "for el in data:\n",
    "    multiplicate = [2,2.5,3,0.5,0.2,0.1]\n",
    "    for value in multiplicate:\n",
    "        line_add = el.copy()\n",
    "    \n",
    "        for i in range(len(line_add)-1):\n",
    "            line_add[i] = round(line_add[i] * value, 3)\n",
    "        data_add.append(line_add)\n",
    "        \n",
    "    increase = [0.5,1,1.5,2,2.5,3,-0.5,-1,-1.5,-2,-2.5,-3]\n",
    "    for value in increase:\n",
    "        line_add = el.copy()\n",
    "    \n",
    "        for i in range(len(line_add)-1):\n",
    "            line_add[i] = round(line_add[i] + value, 3)\n",
    "        data_add.append(line_add)\n"
   ]
  },
  {
   "cell_type": "code",
   "execution_count": 23,
   "metadata": {},
   "outputs": [
    {
     "name": "stdout",
     "output_type": "stream",
     "text": [
      "1824\n"
     ]
    }
   ],
   "source": [
    "for el in data_add:\n",
    "    data.append(el)\n",
    "print(len(data))"
   ]
  },
  {
   "cell_type": "markdown",
   "metadata": {},
   "source": [
    "# y=0"
   ]
  },
  {
   "cell_type": "code",
   "execution_count": 113,
   "metadata": {},
   "outputs": [],
   "source": [
    "def change_one_value_in_sequence(line_ini, delta=0):\n",
    "    line_add = line_ini.copy()\n",
    "    line_add[i] = round(line_ini[i-1] + delta, 3)\n",
    "    line_add[-1] = 0.\n",
    "    return line_add\n",
    "    "
   ]
  },
  {
   "cell_type": "code",
   "execution_count": 114,
   "metadata": {},
   "outputs": [
    {
     "name": "stdout",
     "output_type": "stream",
     "text": [
      "1056\n"
     ]
    }
   ],
   "source": [
    "data_add = []\n",
    "for i in range(1, 6):\n",
    "    for line in data:\n",
    "        line_add = change_one_value_in_sequence(line, delta=0.002)\n",
    "        data_add.append(line_add)\n",
    "        \n",
    "        line_add = change_one_value_in_sequence(line, delta=-0.002)\n",
    "        data_add.append(line_add)\n",
    "        \n",
    "for line in data_add:\n",
    "        data.append(line)\n",
    "        \n",
    "print(len(data))\n"
   ]
  },
  {
   "cell_type": "markdown",
   "metadata": {},
   "source": [
    "# Write out"
   ]
  },
  {
   "cell_type": "code",
   "execution_count": 24,
   "metadata": {},
   "outputs": [],
   "source": [
    "file_out = open('v8_train_y1', 'w')\n",
    "\n",
    "for el in data:\n",
    "    el = list(map(str, el))\n",
    "    el = ','.join(el)\n",
    "    file_out.write(el+\"\\n\")\n",
    "    \n",
    "file_out.close()"
   ]
  },
  {
   "cell_type": "code",
   "execution_count": null,
   "metadata": {},
   "outputs": [],
   "source": []
  },
  {
   "cell_type": "code",
   "execution_count": null,
   "metadata": {},
   "outputs": [],
   "source": []
  }
 ],
 "metadata": {
  "kernelspec": {
   "display_name": "Python 3",
   "language": "python",
   "name": "python3"
  },
  "language_info": {
   "codemirror_mode": {
    "name": "ipython",
    "version": 3
   },
   "file_extension": ".py",
   "mimetype": "text/x-python",
   "name": "python",
   "nbconvert_exporter": "python",
   "pygments_lexer": "ipython3",
   "version": "3.7.0"
  }
 },
 "nbformat": 4,
 "nbformat_minor": 2
}
