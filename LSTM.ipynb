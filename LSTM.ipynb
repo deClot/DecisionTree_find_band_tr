{
  "nbformat": 4,
  "nbformat_minor": 0,
  "metadata": {
    "colab": {
      "name": "LSTM.ipynb",
      "version": "0.3.2",
      "provenance": [],
      "collapsed_sections": []
    },
    "language_info": {
      "codemirror_mode": {
        "name": "ipython",
        "version": 3
      },
      "file_extension": ".py",
      "mimetype": "text/x-python",
      "name": "python",
      "nbconvert_exporter": "python",
      "pygments_lexer": "ipython3",
      "version": "3.7.0"
    },
    "kernelspec": {
      "display_name": "Python 3",
      "language": "python",
      "name": "python3"
    }
  },
  "cells": [
    {
      "metadata": {
        "id": "GDtJzrsw_P9P",
        "colab_type": "code",
        "outputId": "f09f6e87-ed50-48bd-a708-ecc46618f7f7",
        "colab": {
          "resources": {
            "http://localhost:8080/nbextensions/google.colab/files.js": {
              "data": "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",
              "ok": true,
              "headers": [
                [
                  "content-type",
                  "application/javascript"
                ]
              ],
              "status": 200,
              "status_text": ""
            }
          },
          "base_uri": "https://localhost:8080/",
          "height": 108
        }
      },
      "cell_type": "code",
      "source": [
        "#files to open: train and test data,\n",
        "\n",
        "from google.colab import files\n",
        "\n",
        "uploaded = files.upload()\n"
      ],
      "execution_count": 83,
      "outputs": [
        {
          "output_type": "display_data",
          "data": {
            "text/html": [
              "\n",
              "     <input type=\"file\" id=\"files-010bdd7a-1e49-4572-8f37-a0b243a1836b\" name=\"files[]\" multiple disabled />\n",
              "     <output id=\"result-010bdd7a-1e49-4572-8f37-a0b243a1836b\">\n",
              "      Upload widget is only available when the cell has been executed in the\n",
              "      current browser session. Please rerun this cell to enable.\n",
              "      </output>\n",
              "      <script src=\"/nbextensions/google.colab/files.js\"></script> "
            ],
            "text/plain": [
              "<IPython.core.display.HTML object>"
            ]
          },
          "metadata": {
            "tags": []
          }
        },
        {
          "output_type": "stream",
          "text": [
            "Saving test_v7_v8.csv to test_v7_v8.csv\n",
            "Saving test_v3.csv to test_v3.csv\n"
          ],
          "name": "stdout"
        }
      ]
    },
    {
      "metadata": {
        "id": "XiZyQ_BR_No6",
        "colab_type": "code",
        "colab": {}
      },
      "cell_type": "code",
      "source": [
        "import pandas as pd\n",
        "import numpy as np\n",
        "\n",
        "from sklearn.model_selection import train_test_split\n",
        "from sklearn.preprocessing import StandardScaler\n",
        "\n",
        "from sklearn.utils import class_weight\n",
        "from sklearn.metrics import recall_score, precision_score, confusion_matrix"
      ],
      "execution_count": 0,
      "outputs": []
    },
    {
      "metadata": {
        "id": "IbPTiaHb_NpC",
        "colab_type": "code",
        "colab": {}
      },
      "cell_type": "code",
      "source": [
        "import numpy as np\n",
        "from keras.models import Model\n",
        "from keras.layers import Dense, Input, Dropout, LSTM, Activation"
      ],
      "execution_count": 0,
      "outputs": []
    },
    {
      "metadata": {
        "id": "bfeW1EwG_NpF",
        "colab_type": "code",
        "colab": {}
      },
      "cell_type": "code",
      "source": [
        "import matplotlib.pyplot as plt\n",
        "%matplotlib inline\n",
        "\n",
        "def plot_loss(epochs, loss, val_loss):\n",
        "    plt.figure(figsize=(10, 7))\n",
        "    plt.plot(np.arange(epochs), loss, label='loss')\n",
        "    plt.plot(np.arange(epochs), val_loss, label='val_loss')\n",
        "    plt.legend()\n",
        "    plt.grid(True)\n",
        "def acc_graph(epochs, train_acc, val_acc):\n",
        "    x_axis = np.linspace(1, epochs, num=epochs)\n",
        "    \n",
        "    plt.figure(figsize=(10, 7))\n",
        "    plt.plot(x_axis, train_acc, color='g', lw=3, alpha=0.7, label='Train Accuracy')\n",
        "    plt.plot(x_axis, val_acc, color='orange', lw=3, alpha=0.7, label='Val Accuracy')\n",
        "    plt.title('Accuracy graph')\n",
        "    plt.xlabel('Epoch')\n",
        "    plt.ylabel('Accuracy')\n",
        "    plt.legend(loc='lower right')\n",
        "    plt.grid(True)"
      ],
      "execution_count": 0,
      "outputs": []
    },
    {
      "metadata": {
        "id": "5_hj_szh_NpH",
        "colab_type": "code",
        "colab": {}
      },
      "cell_type": "code",
      "source": [
        "def calculation_classes(y, y_test = None):\n",
        "    print ('\\t\\tTRAIN DATA\\tTEST DATA')\n",
        "    print ('Negative\\t', np.sum(y==0),'  ',\n",
        "           round(100*np.sum(y==0)/y.shape[0],2),'%',\n",
        "           '\\t',np.sum(y_test==0),'  ',\n",
        "           round(100*np.sum(y_test==0)/y_test.shape[0],2),'%'\n",
        "           '\\nPositive\\t ', np.sum(y==1),' ',\n",
        "           round(100*np.sum(y==1)/y.shape[0],2),'%'\n",
        "           '\\t',np.sum(y_test==1),' ',\n",
        "           round(100*np.sum(y_test==1)/y_test.shape[0],2),'%'\n",
        "      )"
      ],
      "execution_count": 0,
      "outputs": []
    },
    {
      "metadata": {
        "id": "j4ZUJDQE_NpK",
        "colab_type": "code",
        "colab": {}
      },
      "cell_type": "code",
      "source": [
        "#from utils import model"
      ],
      "execution_count": 0,
      "outputs": []
    },
    {
      "metadata": {
        "id": "6OnpKlvHkRTW",
        "colab_type": "code",
        "colab": {}
      },
      "cell_type": "code",
      "source": [
        "def make_predictions(X, y, out=False, model=GRU_model, X_ini=X_ini):\n",
        "  preds = model.predict(X)\n",
        "  y_predict = np.where(preds > 0.5, 1, 0)\n",
        "  recall = recall_score(y, y_predict)\n",
        "  print('Recall = ', recall, 'Precision = ', precision_score(y, y_predict))\n",
        "  cm  = confusion_matrix(y, y_predict)\n",
        "  print(cm)\n",
        "  if out is True:\n",
        "    for i in range(X.shape[0]):\n",
        "      if abs(y_predict[i] - y[i])!= 0:\n",
        "        print(y[i], preds[i], X_ini[i], np.ndarray.tolist(X[i]))\n",
        "    "
      ],
      "execution_count": 0,
      "outputs": []
    },
    {
      "metadata": {
        "id": "p0FREjTx_NpO",
        "colab_type": "text"
      },
      "cell_type": "markdown",
      "source": [
        "# Import data sets"
      ]
    },
    {
      "metadata": {
        "id": "fdz_7GPb_NpP",
        "colab_type": "code",
        "colab": {}
      },
      "cell_type": "code",
      "source": [
        "#data_train = pd.read_csv('sources/train.csv')\n",
        "#data_test = pd.read_csv('sources/test_v7_v8.csv')\n",
        "\n",
        "data_train = pd.read_csv('train.csv')\n"
      ],
      "execution_count": 0,
      "outputs": []
    },
    {
      "metadata": {
        "id": "lAtb7uNZKwLr",
        "colab_type": "code",
        "colab": {}
      },
      "cell_type": "code",
      "source": [
        "data_test = pd.read_csv('test_v7_v8.csv')\n"
      ],
      "execution_count": 0,
      "outputs": []
    },
    {
      "metadata": {
        "id": "gK6YT84J_NpS",
        "colab_type": "code",
        "colab": {}
      },
      "cell_type": "code",
      "source": [
        "#data_test = pd.read_csv('sources/test_v3.csv')\n",
        "data_test2 = pd.read_csv('test_v3.csv')\n"
      ],
      "execution_count": 0,
      "outputs": []
    },
    {
      "metadata": {
        "id": "KNBJy1ei_NpU",
        "colab_type": "code",
        "colab": {}
      },
      "cell_type": "code",
      "source": [
        "X = data_train.drop(['Y'], axis='columns').values\n",
        "y = data_train['Y'].values\n",
        "#print(y)\n",
        "X_ini = data_train.drop(['Y'], axis='columns').values"
      ],
      "execution_count": 0,
      "outputs": []
    },
    {
      "metadata": {
        "id": "vls1bFvRlWz-",
        "colab_type": "code",
        "colab": {}
      },
      "cell_type": "code",
      "source": [
        "X_test = data_test.drop(['Y'], axis='columns').values\n",
        "test =  data_test.drop(['Y'], axis='columns').values\n",
        "y_test = data_test['Y'].values\n",
        "\n",
        "X_test2 = data_test2.drop(['Y'], axis='columns').values\n",
        "test2 =  data_test2.drop(['Y'], axis='columns').values\n",
        "y_test2 = data_test2['Y'].values\n"
      ],
      "execution_count": 0,
      "outputs": []
    },
    {
      "metadata": {
        "id": "66Y9OHfQbGA0",
        "colab_type": "code",
        "colab": {}
      },
      "cell_type": "code",
      "source": [
        "m = X.shape[0]\n",
        "X_mean = np.zeros((m,1))\n",
        "for i in range(m):\n",
        "  X_mean[i] = np.mean(X[i,:], axis=0)"
      ],
      "execution_count": 0,
      "outputs": []
    },
    {
      "metadata": {
        "id": "52X-5x1i_Npb",
        "colab_type": "code",
        "colab": {}
      },
      "cell_type": "code",
      "source": [
        "ss = StandardScaler()\n",
        "ss.fit(X_mean)\n",
        "\n",
        "X = ss.transform(X)\n",
        "\n",
        "X_test = ss.transform(X_test)\n",
        "X_test2 = ss.transform(X_test2)"
      ],
      "execution_count": 0,
      "outputs": []
    },
    {
      "metadata": {
        "id": "6JBfWMGNIFbs",
        "colab_type": "code",
        "colab": {}
      },
      "cell_type": "code",
      "source": [
        "#print(ss.mean_, ss.var_)\n",
        "#print(X_test)"
      ],
      "execution_count": 0,
      "outputs": []
    },
    {
      "metadata": {
        "id": "NWqmweVuGDa-",
        "colab_type": "code",
        "colab": {
          "base_uri": "https://localhost:8080/",
          "height": 51
        },
        "outputId": "25747a19-b0dc-47bb-fdce-00ee0438ecfc"
      },
      "cell_type": "code",
      "source": [
        "X_train,X_dev,y_train,y_dev = train_test_split(X, y, test_size=0.2, \\\n",
        "                                               shuffle=True, stratify=y)\n",
        "\n",
        "class_weights_train = class_weight.compute_class_weight('balanced',\n",
        "                                                 np.unique(y_train),\n",
        "                                                 y_train)\n",
        "\n",
        "class_weights = class_weight.compute_class_weight('balanced',\n",
        "                                                 np.unique(y), y)\n",
        "print(class_weights)\n",
        "print(class_weights[0]/(class_weights[1]+class_weights[0]))\n"
      ],
      "execution_count": 145,
      "outputs": [
        {
          "output_type": "stream",
          "text": [
            "[ 0.51310078 19.5828305 ]\n",
            "0.02553257048418045\n"
          ],
          "name": "stdout"
        }
      ]
    },
    {
      "metadata": {
        "id": "BKUklXRrhSVy",
        "colab_type": "code",
        "colab": {
          "base_uri": "https://localhost:8080/",
          "height": 204
        },
        "outputId": "4f10e197-e71f-4b2f-aa3a-1b940a2dd69b"
      },
      "cell_type": "code",
      "source": [
        "print(X_train[0], X_dev[0])"
      ],
      "execution_count": 151,
      "outputs": [
        {
          "output_type": "stream",
          "text": [
            "[[ 0.17556581]\n",
            " [ 0.07228878]\n",
            " [-0.11533115]\n",
            " [ 0.11876345]\n",
            " [ 0.0275354 ]\n",
            " [-0.07057777]] [[ 0.12564858]\n",
            " [ 0.16179554]\n",
            " [ 0.14286142]\n",
            " [ 0.0705675 ]\n",
            " [-0.12221629]\n",
            " [ 0.16351683]]\n"
          ],
          "name": "stdout"
        }
      ]
    },
    {
      "metadata": {
        "id": "8fDqnowBio5t",
        "colab_type": "code",
        "colab": {}
      },
      "cell_type": "code",
      "source": [
        "#calculation_classes(y, y_dev)\n",
        "#calculation_classes(y_train, y_dev)"
      ],
      "execution_count": 0,
      "outputs": []
    },
    {
      "metadata": {
        "id": "pPFeRp8m_Npg",
        "colab_type": "code",
        "outputId": "2348bce4-6c28-4cb5-b73e-c388ef24657b",
        "colab": {
          "base_uri": "https://localhost:8080/",
          "height": 51
        }
      },
      "cell_type": "code",
      "source": [
        "X = np.expand_dims(X, axis=2)\n",
        "X_train = np.expand_dims(X_train, axis=2)\n",
        "X_dev = np.expand_dims(X_dev, axis=2)\n",
        "\n",
        "print(X_test.shape)\n",
        "X_test = np.expand_dims(X_test, axis=2)\n",
        "X_test2 = np.expand_dims(X_test2, axis=2)\n",
        "print(X_test.shape)"
      ],
      "execution_count": 146,
      "outputs": [
        {
          "output_type": "stream",
          "text": [
            "(59, 6)\n",
            "(59, 6, 1)\n"
          ],
          "name": "stdout"
        }
      ]
    },
    {
      "metadata": {
        "id": "isw2ZdzFUxKV",
        "colab_type": "code",
        "colab": {
          "base_uri": "https://localhost:8080/",
          "height": 34
        },
        "outputId": "7b5298e3-8c5e-490e-d33c-10414c258a49"
      },
      "cell_type": "code",
      "source": [
        "print(X.shape)"
      ],
      "execution_count": 147,
      "outputs": [
        {
          "output_type": "stream",
          "text": [
            "(71399, 6, 1)\n"
          ],
          "name": "stdout"
        }
      ]
    },
    {
      "metadata": {
        "id": "LwZN3_Nm_Npj",
        "colab_type": "text"
      },
      "cell_type": "markdown",
      "source": [
        "# NN on train/dev sets"
      ]
    },
    {
      "metadata": {
        "id": "FFJ0lUqb_NpM",
        "colab_type": "code",
        "colab": {}
      },
      "cell_type": "code",
      "source": [
        "from keras.models import Model, Sequential\n",
        "from keras.layers import Dense, Input, GRU, LSTM\n",
        "from keras.optimizers import Adam\n",
        "from keras.callbacks import LearningRateScheduler\n",
        "\n",
        "\n",
        "def model_GRU(input_shape, Ty, hidden_size):\n",
        "    i = Input(shape=input_shape, dtype='float32')\n",
        "    X = GRU(hidden_size, return_sequences=False)(i)\n",
        "    \n",
        "    X = Dense(Ty, activation='sigmoid')(X)\n",
        "    model = Model(inputs=[i], outputs=X)\n",
        "    \n",
        "    return model\n",
        "  \n",
        "def model_LSTM(hidden_size):  \n",
        "  model = Sequential()\n",
        "  model.add(LSTM(hidden_size, return_sequences=False))\n",
        "  model.add(Dense(units=1, activation='sigmoid'))\n",
        "  \n",
        "  return model\n"
      ],
      "execution_count": 0,
      "outputs": []
    },
    {
      "metadata": {
        "id": "UXEstYQtR2lI",
        "colab_type": "code",
        "colab": {}
      },
      "cell_type": "code",
      "source": [
        "# For ready model\n",
        "GRU_model = model_GRU((Tx,1),Ty)#LSTM_model.summary()\n",
        "GRU_model.compile(loss='binary_crossentropy', optimizer='adam', metrics=['accuracy'])\n",
        "\n",
        "\n",
        "GRU_model.load_weights('GRU_sequence_weights.h5')"
      ],
      "execution_count": 0,
      "outputs": []
    },
    {
      "metadata": {
        "id": "W6dszbna_Npk",
        "colab_type": "code",
        "colab": {}
      },
      "cell_type": "code",
      "source": [
        "Tx=  6\n",
        "Ty = 1\n",
        "epochs = 20\n",
        "batch_size = 32"
      ],
      "execution_count": 0,
      "outputs": []
    },
    {
      "metadata": {
        "id": "jncFQcYy_Npn",
        "colab_type": "code",
        "outputId": "f348d538-9f8b-4048-bb0d-48d078530423",
        "colab": {
          "base_uri": "https://localhost:8080/",
          "height": 374
        }
      },
      "cell_type": "code",
      "source": [
        "GRU_model = model_LSTM(16)\n",
        "opt = Adam(lr=0.01, beta_1=0.9, beta_2=0.999)\n",
        "GRU_model.compile(loss='binary_crossentropy', optimizer=opt, metrics=['accuracy'])\n",
        "logs = GRU_model.fit(X, y , epochs=epochs, batch_size=batch_size, shuffle=True,\\\n",
        "                    validation_data=(X_dev, y_dev), verbose=2, class_weight=class_weights_train, \\\n",
        "                    initial_epoch=0)"
      ],
      "execution_count": 59,
      "outputs": [
        {
          "output_type": "stream",
          "text": [
            "Train on 71399 samples, validate on 14280 samples\n",
            "Epoch 1/10\n",
            " - 9s - loss: 0.0424 - acc: 0.9871 - val_loss: 0.0317 - val_acc: 0.9888\n",
            "Epoch 2/10\n",
            " - 8s - loss: 0.0335 - acc: 0.9883 - val_loss: 0.0314 - val_acc: 0.9904\n",
            "Epoch 3/10\n",
            " - 8s - loss: 0.0323 - acc: 0.9882 - val_loss: 0.0312 - val_acc: 0.9879\n",
            "Epoch 4/10\n",
            " - 8s - loss: 0.0259 - acc: 0.9894 - val_loss: 0.0203 - val_acc: 0.9905\n",
            "Epoch 5/10\n",
            " - 8s - loss: 0.0190 - acc: 0.9906 - val_loss: 0.0198 - val_acc: 0.9863\n",
            "Epoch 6/10\n",
            " - 8s - loss: 0.0178 - acc: 0.9911 - val_loss: 0.0164 - val_acc: 0.9908\n",
            "Epoch 7/10\n",
            " - 8s - loss: 0.0166 - acc: 0.9919 - val_loss: 0.0149 - val_acc: 0.9919\n",
            "Epoch 8/10\n",
            " - 8s - loss: 0.0160 - acc: 0.9921 - val_loss: 0.0155 - val_acc: 0.9924\n",
            "Epoch 9/10\n",
            " - 8s - loss: 0.0160 - acc: 0.9922 - val_loss: 0.0167 - val_acc: 0.9888\n",
            "Epoch 10/10\n",
            " - 8s - loss: 0.0158 - acc: 0.9919 - val_loss: 0.0139 - val_acc: 0.9936\n"
          ],
          "name": "stdout"
        }
      ]
    },
    {
      "metadata": {
        "id": "NW-in0amJ5DR",
        "colab_type": "code",
        "colab": {}
      },
      "cell_type": "code",
      "source": [
        "opt = Adam(lr=0.001, beta_1=0.9, beta_2=0.999)\n",
        "GRU_model.compile(loss='binary_crossentropy', optimizer=opt, metrics=['accuracy'])\n",
        "\n"
      ],
      "execution_count": 0,
      "outputs": []
    },
    {
      "metadata": {
        "id": "9FUVkbjfKh0H",
        "colab_type": "code",
        "colab": {
          "base_uri": "https://localhost:8080/",
          "height": 714
        },
        "outputId": "8cde2231-bf09-4b9f-da9d-768524f02d3c"
      },
      "cell_type": "code",
      "source": [
        "n_epochs = 20\n",
        "logs = GRU_model.fit(X_train, y_train , epochs=n_epochs, batch_size=batch_size, shuffle=True,\\\n",
        "                    validation_data=(X_dev, y_dev), verbose=2, class_weight=class_weights_train)"
      ],
      "execution_count": 156,
      "outputs": [
        {
          "output_type": "stream",
          "text": [
            "Train on 57119 samples, validate on 14280 samples\n",
            "Epoch 1/20\n",
            " - 11s - loss: 0.0063 - acc: 0.9977 - val_loss: 0.0058 - val_acc: 0.9976\n",
            "Epoch 2/20\n",
            " - 7s - loss: 0.0063 - acc: 0.9977 - val_loss: 0.0062 - val_acc: 0.9975\n",
            "Epoch 3/20\n",
            " - 7s - loss: 0.0062 - acc: 0.9978 - val_loss: 0.0060 - val_acc: 0.9973\n",
            "Epoch 4/20\n",
            " - 7s - loss: 0.0062 - acc: 0.9977 - val_loss: 0.0064 - val_acc: 0.9973\n",
            "Epoch 5/20\n",
            " - 7s - loss: 0.0061 - acc: 0.9978 - val_loss: 0.0061 - val_acc: 0.9971\n",
            "Epoch 6/20\n",
            " - 7s - loss: 0.0062 - acc: 0.9978 - val_loss: 0.0063 - val_acc: 0.9973\n",
            "Epoch 7/20\n",
            " - 7s - loss: 0.0061 - acc: 0.9978 - val_loss: 0.0059 - val_acc: 0.9975\n",
            "Epoch 8/20\n",
            " - 7s - loss: 0.0060 - acc: 0.9979 - val_loss: 0.0060 - val_acc: 0.9976\n",
            "Epoch 9/20\n",
            " - 7s - loss: 0.0060 - acc: 0.9978 - val_loss: 0.0065 - val_acc: 0.9973\n",
            "Epoch 10/20\n",
            " - 7s - loss: 0.0061 - acc: 0.9977 - val_loss: 0.0062 - val_acc: 0.9975\n",
            "Epoch 11/20\n",
            " - 7s - loss: 0.0060 - acc: 0.9979 - val_loss: 0.0058 - val_acc: 0.9979\n",
            "Epoch 12/20\n",
            " - 7s - loss: 0.0060 - acc: 0.9978 - val_loss: 0.0061 - val_acc: 0.9976\n",
            "Epoch 13/20\n",
            " - 7s - loss: 0.0060 - acc: 0.9978 - val_loss: 0.0063 - val_acc: 0.9977\n",
            "Epoch 14/20\n",
            " - 7s - loss: 0.0059 - acc: 0.9979 - val_loss: 0.0056 - val_acc: 0.9978\n",
            "Epoch 15/20\n",
            " - 7s - loss: 0.0059 - acc: 0.9979 - val_loss: 0.0059 - val_acc: 0.9977\n",
            "Epoch 16/20\n",
            " - 7s - loss: 0.0059 - acc: 0.9979 - val_loss: 0.0058 - val_acc: 0.9977\n",
            "Epoch 17/20\n",
            " - 7s - loss: 0.0059 - acc: 0.9978 - val_loss: 0.0062 - val_acc: 0.9977\n",
            "Epoch 18/20\n",
            " - 7s - loss: 0.0058 - acc: 0.9979 - val_loss: 0.0068 - val_acc: 0.9975\n",
            "Epoch 19/20\n",
            " - 7s - loss: 0.0058 - acc: 0.9979 - val_loss: 0.0061 - val_acc: 0.9977\n",
            "Epoch 20/20\n",
            " - 7s - loss: 0.0058 - acc: 0.9979 - val_loss: 0.0065 - val_acc: 0.9976\n"
          ],
          "name": "stdout"
        }
      ]
    },
    {
      "metadata": {
        "id": "qWip3visjS9M",
        "colab_type": "code",
        "colab": {
          "base_uri": "https://localhost:8080/",
          "height": 68
        },
        "outputId": "e03cc929-7b4d-47fe-e64a-5ce38c48fbc7"
      },
      "cell_type": "code",
      "source": [
        "make_predictions(X,y, out=False, model=GRU_model)"
      ],
      "execution_count": 160,
      "outputs": [
        {
          "output_type": "stream",
          "text": [
            "Recall =  0.929786066922655 Precision =  0.9918080748976009\n",
            "[[69562    14]\n",
            " [  128  1695]]\n"
          ],
          "name": "stdout"
        }
      ]
    },
    {
      "metadata": {
        "id": "HWZGW_EPepGL",
        "colab_type": "code",
        "colab": {}
      },
      "cell_type": "code",
      "source": [
        "#make_predictions(X_dev,y_dev, out=True, model=GRU_model)"
      ],
      "execution_count": 0,
      "outputs": []
    },
    {
      "metadata": {
        "id": "4s53hYsv2Jbo",
        "colab_type": "code",
        "colab": {
          "base_uri": "https://localhost:8080/",
          "height": 646
        },
        "outputId": "885576e7-7632-45c8-c546-4032d6ed8b07"
      },
      "cell_type": "code",
      "source": [
        "make_predictions(X_test, y_test, out=True, model=GRU_model, X_ini=test)"
      ],
      "execution_count": 161,
      "outputs": [
        {
          "output_type": "stream",
          "text": [
            "Recall =  0.5217391304347826 Precision =  0.6666666666666666\n",
            "[[ 1 12]\n",
            " [22 24]]\n",
            "0.0 [0.99998224] [-0.499 -0.472 -0.478 -0.465 -0.105 -0.304] [[-0.8279426555208718], [-0.7814679923192585], [-0.7917956952529502], [-0.7694190055632847], [-0.14975682954177363], [-0.49229231017588665]]\n",
            "0.0 [0.99998146] [-0.499 -0.472 -0.478 -0.465 -0.105 -0.253] [[-0.8279426555208718], [-0.7814679923192585], [-0.7917956952529502], [-0.7694190055632847], [-0.14975682954177363], [-0.4045068352395059]]\n",
            "0.0 [0.9999831] [-0.499 -0.472 -0.478 -0.465 -0.105 -0.231] [[-0.8279426555208718], [-0.7814679923192585], [-0.7917956952529502], [-0.7694190055632847], [-0.14975682954177363], [-0.3666385911493025]]\n",
            "0.0 [0.9999709] [-0.499 -0.472 -0.478 -0.465 -0.048 -0.444] [[-0.8279426555208718], [-0.7814679923192585], [-0.7917956952529502], [-0.7694190055632847], [-0.051643651671701096], [-0.7332720452953632]]\n",
            "0.0 [0.9999666] [-0.499 -0.472 -0.478 -0.465 -0.048 -0.394] [[-0.8279426555208718], [-0.7814679923192585], [-0.7917956952529502], [-0.7694190055632847], [-0.051643651671701096], [-0.6472078541812644]]\n",
            "0.0 [0.9999665] [-0.499 -0.472 -0.478 -0.465 -0.048 -0.378] [[-0.8279426555208718], [-0.7814679923192585], [-0.7917956952529502], [-0.7694190055632847], [-0.051643651671701096], [-0.6196673130247526]]\n",
            "0.0 [0.9999666] [-0.499 -0.472 -0.478 -0.465 -0.048 -0.371] [[-0.8279426555208718], [-0.7814679923192585], [-0.7917956952529502], [-0.7694190055632847], [-0.051643651671701096], [-0.607618326268779]]\n",
            "0.0 [0.99997246] [-0.499 -0.472 -0.478 -0.465 -0.048 -0.327] [[-0.8279426555208718], [-0.7814679923192585], [-0.7917956952529502], [-0.7694190055632847], [-0.051643651671701096], [-0.5318818380883721]]\n",
            "0.0 [0.9999787] [-0.499 -0.472 -0.478 -0.465 -0.048 -0.304] [[-0.8279426555208718], [-0.7814679923192585], [-0.7917956952529502], [-0.7694190055632847], [-0.051643651671701096], [-0.49229231017588665]]\n",
            "0.0 [0.9999924] [-0.499 -0.472 -0.478 -0.465 -0.048 -0.253] [[-0.8279426555208718], [-0.7814679923192585], [-0.7917956952529502], [-0.7694190055632847], [-0.051643651671701096], [-0.4045068352395059]]\n",
            "0.0 [0.9999962] [-0.499 -0.472 -0.478 -0.465 -0.048 -0.231] [[-0.8279426555208718], [-0.7814679923192585], [-0.7917956952529502], [-0.7694190055632847], [-0.051643651671701096], [-0.3666385911493025]]\n",
            "0.0 [0.99981207] [-0.499 -0.472 -0.478 -0.465  0.004 -0.444] [[-0.8279426555208718], [-0.7814679923192585], [-0.7917956952529502], [-0.7694190055632847], [0.0378631070869616], [-0.7332720452953632]]\n",
            "1.0 [0.3928579] [3.574 3.574 3.574 3.575 3.578 3.579] [[6.182846352633612], [6.182846352633612], [6.182846352633612], [6.184567636455895], [6.1897314879227405], [6.191452771745022]]\n",
            "1.0 [0.39508444] [3.574 3.574 3.575 3.578 3.579 3.582] [[6.182846352633612], [6.182846352633612], [6.184567636455895], [6.1897314879227405], [6.191452771745022], [6.196616623211868]]\n",
            "1.0 [0.39835346] [3.574 3.575 3.578 3.579 3.582 3.586] [[6.182846352633612], [6.184567636455895], [6.1897314879227405], [6.191452771745022], [6.196616623211868], [6.203501758500996]]\n",
            "1.0 [0.4032114] [3.575 3.578 3.579 3.582 3.586 3.592] [[6.184567636455895], [6.1897314879227405], [6.191452771745022], [6.196616623211868], [6.203501758500996], [6.213829461434687]]\n",
            "1.0 [0.3433662] [3.584 3.576 3.565 3.551 3.533 3.512] [[6.200059190856431], [6.186288920278176], [6.167354798233074], [6.143256824721127], [6.11227371592005], [6.07612675565213]]\n",
            "1.0 [0.32390356] [3.576 3.565 3.551 3.533 3.512 3.488] [[6.186288920278176], [6.167354798233074], [6.143256824721127], [6.11227371592005], [6.07612675565213], [6.034815943917362]]\n",
            "1.0 [0.302976] [3.565 3.551 3.533 3.512 3.488 3.462] [[6.167354798233074], [6.143256824721127], [6.11227371592005], [6.07612675565213], [6.034815943917362], [5.9900625645380305]]\n",
            "1.0 [0.2809977] [3.551 3.533 3.512 3.488 3.462 3.434] [[6.143256824721127], [6.11227371592005], [6.07612675565213], [6.034815943917362], [5.9900625645380305], [5.941866617514135]]\n",
            "1.0 [0.25937128] [3.533 3.512 3.488 3.462 3.434 3.406] [[6.11227371592005], [6.07612675565213], [6.034815943917362], [5.9900625645380305], [5.941866617514135], [5.89367067049024]]\n",
            "1.0 [0.23808661] [3.512 3.488 3.462 3.434 3.406 3.377] [[6.07612675565213], [6.034815943917362], [5.9900625645380305], [5.941866617514135], [5.89367067049024], [5.843753439644062]]\n",
            "1.0 [0.21775043] [3.488 3.462 3.434 3.406 3.377 3.348] [[6.034815943917362], [5.9900625645380305], [5.941866617514135], [5.89367067049024], [5.843753439644062], [5.793836208797886]]\n",
            "1.0 [0.1989797] [3.462 3.434 3.406 3.377 3.348 3.32 ] [[5.9900625645380305], [5.941866617514135], [5.89367067049024], [5.843753439644062], [5.793836208797886], [5.74564026177399]]\n",
            "1.0 [0.18231118] [3.434 3.406 3.377 3.348 3.32  3.294] [[5.941866617514135], [5.89367067049024], [5.843753439644062], [5.793836208797886], [5.74564026177399], [5.700886882394658]]\n",
            "1.0 [0.18569309] [3.406 3.377 3.348 3.32  3.294 3.268] [[5.89367067049024], [5.843753439644062], [5.793836208797886], [5.74564026177399], [5.700886882394658], [5.656133503015328]]\n",
            "1.0 [0.209059] [3.377 3.348 3.32  3.294 3.268 3.244] [[5.843753439644062], [5.793836208797886], [5.74564026177399], [5.700886882394658], [5.656133503015328], [5.61482269128056]]\n",
            "1.0 [0.23265779] [3.348 3.32  3.294 3.268 3.244 3.222] [[5.793836208797886], [5.74564026177399], [5.700886882394658], [5.656133503015328], [5.61482269128056], [5.5769544471903565]]\n",
            "1.0 [0.25889474] [3.32  3.294 3.268 3.244 3.222 3.201] [[5.74564026177399], [5.700886882394658], [5.656133503015328], [5.61482269128056], [5.5769544471903565], [5.540807486922436]]\n",
            "1.0 [0.3042924] [3.294 3.268 3.244 3.222 3.201 3.178] [[5.700886882394658], [5.656133503015328], [5.61482269128056], [5.5769544471903565], [5.540807486922436], [5.50121795900995]]\n",
            "1.0 [0.3449337] [3.268 3.244 3.222 3.201 3.178 3.162] [[5.656133503015328], [5.61482269128056], [5.5769544471903565], [5.540807486922436], [5.50121795900995], [5.473677417853438]]\n",
            "1.0 [0.38418555] [3.244 3.222 3.201 3.178 3.162 3.146] [[5.61482269128056], [5.5769544471903565], [5.540807486922436], [5.50121795900995], [5.473677417853438], [5.446136876696928]]\n",
            "1.0 [0.4281824] [3.222 3.201 3.178 3.162 3.146 3.127] [[5.5769544471903565], [5.540807486922436], [5.50121795900995], [5.473677417853438], [5.446136876696928], [5.413432484073569]]\n",
            "1.0 [0.4805374] [3.201 3.178 3.162 3.146 3.127 3.111] [[5.540807486922436], [5.50121795900995], [5.473677417853438], [5.446136876696928], [5.413432484073569], [5.385891942917058]]\n"
          ],
          "name": "stdout"
        }
      ]
    },
    {
      "metadata": {
        "id": "KAVqJ0Etc1B8",
        "colab_type": "code",
        "colab": {
          "base_uri": "https://localhost:8080/",
          "height": 527
        },
        "outputId": "58c8da10-1868-4640-c6fe-0f9a61fb8c1d"
      },
      "cell_type": "code",
      "source": [
        "make_predictions(X_test2, y_test2, out=True, model=GRU_model, X_ini=test2)"
      ],
      "execution_count": 162,
      "outputs": [
        {
          "output_type": "stream",
          "text": [
            "Recall =  0.8490566037735849 Precision =  0.703125\n",
            "[[ 0 19]\n",
            " [ 8 45]]\n",
            "0.0 [0.99983644] [-0.377 -0.231 -0.2   -0.155  0.027  0.208] [[-0.6179460292024708], [-0.3666385911493025], [-0.3132787926585613], [-0.2358210206558724], [0.07745263499944702], [0.3890050068324845]]\n",
            "0.0 [0.9998486] [-0.377 -0.231 -0.2   -0.155  0.027  0.227] [[-0.6179460292024708], [-0.3666385911493025], [-0.3132787926585613], [-0.2358210206558724], [0.07745263499944702], [0.42170939945584196]]\n",
            "0.0 [0.99985975] [-0.377 -0.231 -0.2   -0.155  0.027  0.242] [[-0.6179460292024708], [-0.3666385911493025], [-0.3132787926585613], [-0.2358210206558724], [0.07745263499944702], [0.4475286567900716]]\n",
            "0.0 [0.99987173] [-0.377 -0.231 -0.2   -0.155  0.027  0.261] [[-0.6179460292024708], [-0.3666385911493025], [-0.3132787926585613], [-0.2358210206558724], [0.07745263499944702], [0.48023304941342915]]\n",
            "0.0 [0.9998816] [-0.377 -0.231 -0.2   -0.155  0.027  0.279] [[-0.6179460292024708], [-0.3666385911493025], [-0.3132787926585613], [-0.2358210206558724], [0.07745263499944702], [0.5112161582145046]]\n",
            "0.0 [0.999898] [-0.377 -0.231 -0.2   -0.155  0.027  0.317] [[-0.6179460292024708], [-0.3666385911493025], [-0.3132787926585613], [-0.2358210206558724], [0.07745263499944702], [0.5766249434612197]]\n",
            "0.0 [0.99990356] [-0.377 -0.231 -0.2   -0.155  0.027  0.333] [[-0.6179460292024708], [-0.3666385911493025], [-0.3132787926585613], [-0.2358210206558724], [0.07745263499944702], [0.6041654846177312]]\n",
            "0.0 [0.9999155] [-0.377 -0.231 -0.2   -0.155  0.027  0.378] [[-0.6179460292024708], [-0.3666385911493025], [-0.3132787926585613], [-0.2358210206558724], [0.07745263499944702], [0.6816232566204201]]\n",
            "0.0 [0.99992] [-0.377 -0.231 -0.2   -0.155  0.027  0.402] [[-0.6179460292024708], [-0.3666385911493025], [-0.3132787926585613], [-0.2358210206558724], [0.07745263499944702], [0.7229340683551876]]\n",
            "0.0 [0.54753876] [-0.493 -0.493 -0.476 -0.46  -0.425  0.008] [[-0.8176149525871799], [-0.8176149525871799], [-0.7883531276083864], [-0.7608125864518748], [-0.7005676526720056], [0.0447482423760895]]\n",
            "0.0 [0.9172011] [-0.493 -0.493 -0.476 -0.46  -0.425  0.056] [[-0.8176149525871799], [-0.8176149525871799], [-0.7883531276083864], [-0.7608125864518748], [-0.7005676526720056], [0.1273698658456243]]\n",
            "0.0 [0.92952776] [-0.493 -0.493 -0.476 -0.46  -0.425  0.059] [[-0.8176149525871799], [-0.8176149525871799], [-0.7883531276083864], [-0.7608125864518748], [-0.7005676526720056], [0.1325337173124702]]\n",
            "0.0 [0.9814879] [-0.493 -0.493 -0.476 -0.46  -0.425  0.088] [[-0.8176149525871799], [-0.8176149525871799], [-0.7883531276083864], [-0.7608125864518748], [-0.7005676526720056], [0.1824509481586475]]\n",
            "0.0 [0.981526] [-0.493 -0.493 -0.476 -0.46  -0.425  0.093] [[-0.8176149525871799], [-0.8176149525871799], [-0.7883531276083864], [-0.7608125864518748], [-0.7005676526720056], [0.1910573672700574]]\n",
            "0.0 [0.98157966] [-0.493 -0.493 -0.476 -0.46  -0.425  0.1  ] [[-0.8176149525871799], [-0.8176149525871799], [-0.7883531276083864], [-0.7608125864518748], [-0.7005676526720056], [0.2031063540260312]]\n",
            "0.0 [0.9816257] [-0.493 -0.493 -0.476 -0.46  -0.425  0.106] [[-0.8176149525871799], [-0.8176149525871799], [-0.7883531276083864], [-0.7608125864518748], [-0.7005676526720056], [0.21343405695972303]]\n",
            "0.0 [0.98177004] [-0.493 -0.493 -0.476 -0.46  -0.425  0.125] [[-0.8176149525871799], [-0.8176149525871799], [-0.7883531276083864], [-0.7608125864518748], [-0.7005676526720056], [0.24613844958308057]]\n",
            "0.0 [0.98180723] [-0.493 -0.493 -0.476 -0.46  -0.425  0.13 ] [[-0.8176149525871799], [-0.8176149525871799], [-0.7883531276083864], [-0.7608125864518748], [-0.7005676526720056], [0.2547448686944904]]\n",
            "0.0 [0.98187315] [-0.493 -0.493 -0.476 -0.46  -0.425  0.139] [[-0.8176149525871799], [-0.8176149525871799], [-0.7883531276083864], [-0.7608125864518748], [-0.7005676526720056], [0.2702364230950282]]\n",
            "1.0 [0.37279588] [-0.659 -0.625 -0.59  -0.552 -0.51  -0.466] [[-1.1033480670859879], [-1.0448244171284007], [-0.9845794833485315], [-0.9191706981018166], [-0.8468767775659735], [-0.7711402893855666]]\n",
            "1.0 [0.4116558] [-0.625 -0.59  -0.552 -0.51  -0.466 -0.417] [[-1.0448244171284007], [-0.9845794833485315], [-0.9191706981018166], [-0.8468767775659735], [-0.7711402893855666], [-0.6867973820937499]]\n",
            "1.0 [0.08296338] [-0.642 -0.612 -0.58  -0.544 -0.505 -0.461] [[-1.0740862421071942], [-1.022447727438735], [-0.9673666451257117], [-0.9054004275235608], [-0.8382703584545635], [-0.7625338702741568]]\n",
            "1.0 [0.20838138] [-0.612 -0.58  -0.544 -0.505 -0.461 -0.414] [[-1.022447727438735], [-0.9673666451257117], [-0.9054004275235608], [-0.8382703584545635], [-0.7625338702741568], [-0.6816335306269038]]\n",
            "1.0 [0.4298753] [-0.666 -0.637 -0.605 -0.564 -0.512 -0.466] [[-1.1153970538419615], [-1.0654798229957845], [-1.010398740682761], [-0.9398261039692001], [-0.8503193452105374], [-0.7711402893855666]]\n",
            "1.0 [0.4519487] [-0.637 -0.605 -0.564 -0.512 -0.466 -0.408] [[-1.0654798229957845], [-1.010398740682761], [-0.9398261039692001], [-0.8503193452105374], [-0.7711402893855666], [-0.671305827693212]]\n",
            "1.0 [0.14608929] [-0.598 -0.58  -0.556 -0.527 -0.492 -0.452] [[-0.9983497539267873], [-0.9673666451257117], [-0.9260558333909444], [-0.8761386025447672], [-0.815893668764898], [-0.7470423158736189]]\n",
            "1.0 [0.0756959] [-0.58  -0.556 -0.527 -0.492 -0.452 -0.406] [[-0.9673666451257117], [-0.9260558333909444], [-0.8761386025447672], [-0.815893668764898], [-0.7470423158736189], [-0.6678632600486482]]\n"
          ],
          "name": "stdout"
        }
      ]
    },
    {
      "metadata": {
        "id": "GZSplb-P_Npv",
        "colab_type": "code",
        "colab": {}
      },
      "cell_type": "code",
      "source": [
        "#plot_loss(epochs, logplot_loss(epos.history.get('loss'), logs.history.get('val_loss'))"
      ],
      "execution_count": 0,
      "outputs": []
    },
    {
      "metadata": {
        "id": "SPeSwZ7d_Npy",
        "colab_type": "code",
        "colab": {}
      },
      "cell_type": "code",
      "source": [
        "#acc_graph(epochs, logs.history.get('acc'), logs.history.get('val_acc'))"
      ],
      "execution_count": 0,
      "outputs": []
    },
    {
      "metadata": {
        "id": "CmrNU65L_NqA",
        "colab_type": "code",
        "colab": {}
      },
      "cell_type": "code",
      "source": [
        "GRU_model.save_weights('GRU_sequence_weights.h5')"
      ],
      "execution_count": 0,
      "outputs": []
    },
    {
      "metadata": {
        "id": "g392u_wAK9zd",
        "colab_type": "code",
        "colab": {}
      },
      "cell_type": "code",
      "source": [
        "files.download('GRU_sequence_weights.h5')"
      ],
      "execution_count": 0,
      "outputs": []
    },
    {
      "metadata": {
        "id": "MmNRobJa_NqE",
        "colab_type": "code",
        "colab": {}
      },
      "cell_type": "code",
      "source": [
        "LSTM_model = model((Tx,1),Ty)\n",
        "#LSTM_model.summary()\n",
        "LSTM_model.compile(loss='binary_crossentropy', optimizer='adam', metrics=['accuracy'])\n",
        "logs = LSTM_model.fit(X_train, y_train , epochs=epochs, batch_size=batch_size, shuffle=True,\\\n",
        "               validation_data=(X_dev, y_dev), verbose=0, class_weight=class_weights_train)"
      ],
      "execution_count": 0,
      "outputs": []
    },
    {
      "metadata": {
        "id": "Qh-CPRLQ_NqG",
        "colab_type": "text"
      },
      "cell_type": "markdown",
      "source": [
        "# Final fit NN on all train set"
      ]
    },
    {
      "metadata": {
        "id": "isNoPp6K_NqH",
        "colab_type": "code",
        "colab": {}
      },
      "cell_type": "code",
      "source": [
        "Tx=  6\n",
        "Ty = 1\n",
        "epochs = 250\n",
        "batch_size = 32"
      ],
      "execution_count": 0,
      "outputs": []
    },
    {
      "metadata": {
        "id": "ks1Usr1x_NqK",
        "colab_type": "code",
        "colab": {}
      },
      "cell_type": "code",
      "source": [
        "LSTM_model = model((Tx,1),Ty)\n",
        "#LSTM_model.summary()\n",
        "LSTM_model.compile(loss='binary_crossentropy', optimizer='adam', metrics=['accuracy'])\n",
        "LSTM_model.fit(X, y , epochs=epochs, batch_size=batch_size, shuffle=True,\\\n",
        "               verbose=0, class_weight=class_weights)\n",
        "LSTM_model.save_weights('sources/LSTM_sequence_weights.h5')"
      ],
      "execution_count": 0,
      "outputs": []
    },
    {
      "metadata": {
        "id": "_R7AAT5T_NqM",
        "colab_type": "code",
        "colab": {}
      },
      "cell_type": "code",
      "source": [
        "print(LSTM_model.summary())\n",
        "test_preds = LSTM_model.predict(X_test)"
      ],
      "execution_count": 0,
      "outputs": []
    },
    {
      "metadata": {
        "id": "crGaA4yU_NqN",
        "colab_type": "code",
        "colab": {}
      },
      "cell_type": "code",
      "source": [
        "for i in range(X_test.shape[0]):\n",
        "    if test_preds[i] > 0.5:\n",
        "        print(i)"
      ],
      "execution_count": 0,
      "outputs": []
    },
    {
      "metadata": {
        "id": "u9-v1zer_NqR",
        "colab_type": "code",
        "colab": {}
      },
      "cell_type": "code",
      "source": [
        "LSTM_model = model((Tx,1),Ty)\n",
        "LSTM_model.compile(loss='binary_crossentropy', optimizer='adam', metrics=['accuracy'])\n",
        "\n",
        "LSTM_model.load_weights('LSTM_sequence_weights.h5')"
      ],
      "execution_count": 0,
      "outputs": []
    },
    {
      "metadata": {
        "id": "zIhaqheq_NqT",
        "colab_type": "code",
        "colab": {}
      },
      "cell_type": "code",
      "source": [
        "test_preds = LSTM_model.predict(X_test)\n",
        "\n",
        "for i in range(X_test.shape[0]):\n",
        "    if test_preds[i] > 0.5:\n",
        "        print(i)"
      ],
      "execution_count": 0,
      "outputs": []
    },
    {
      "metadata": {
        "id": "jDXYk528_NqY",
        "colab_type": "code",
        "colab": {}
      },
      "cell_type": "code",
      "source": [
        ""
      ],
      "execution_count": 0,
      "outputs": []
    }
  ]
}