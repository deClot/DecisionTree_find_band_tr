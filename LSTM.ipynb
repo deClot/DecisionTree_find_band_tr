{
  "nbformat": 4,
  "nbformat_minor": 0,
  "metadata": {
    "colab": {
      "name": "LSTM.ipynb",
      "version": "0.3.2",
      "provenance": [],
      "collapsed_sections": [],
      "toc_visible": true
    },
    "language_info": {
      "codemirror_mode": {
        "name": "ipython",
        "version": 3
      },
      "file_extension": ".py",
      "mimetype": "text/x-python",
      "name": "python",
      "nbconvert_exporter": "python",
      "pygments_lexer": "ipython3",
      "version": "3.7.0"
    },
    "kernelspec": {
      "name": "python3",
      "display_name": "Python 3"
    }
  },
  "cells": [
    {
      "metadata": {
        "id": "GDtJzrsw_P9P",
        "colab_type": "code",
        "outputId": "ecbb3b3b-0d47-46e9-b85f-379590b7f4bc",
        "colab": {
          "resources": {
            "http://localhost:8080/nbextensions/google.colab/files.js": {
              "data": "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",
              "ok": true,
              "headers": [
                [
                  "content-type",
                  "application/javascript"
                ]
              ],
              "status": 200,
              "status_text": ""
            }
          },
          "base_uri": "https://localhost:8080/",
          "height": 176
        }
      },
      "cell_type": "code",
      "source": [
        "#files to open: train and test data,\n",
        "\n",
        "from google.colab import files\n",
        "\n",
        "uploaded = files.upload()\n"
      ],
      "execution_count": 40,
      "outputs": [
        {
          "output_type": "display_data",
          "data": {
            "text/html": [
              "\n",
              "     <input type=\"file\" id=\"files-54fcbbeb-b6b5-4b07-9730-13a131abc65e\" name=\"files[]\" multiple disabled />\n",
              "     <output id=\"result-54fcbbeb-b6b5-4b07-9730-13a131abc65e\">\n",
              "      Upload widget is only available when the cell has been executed in the\n",
              "      current browser session. Please rerun this cell to enable.\n",
              "      </output>\n",
              "      <script src=\"/nbextensions/google.colab/files.js\"></script> "
            ],
            "text/plain": [
              "<IPython.core.display.HTML object>"
            ]
          },
          "metadata": {
            "tags": []
          }
        },
        {
          "output_type": "stream",
          "text": [
            "Saving test_y1_v8.csv to test_y1_v8.csv\n",
            "Saving test_v4_7615.csv to test_v4_7615.csv\n",
            "Saving test_v3.csv to test_v3.csv\n",
            "Saving test_v7_v8.csv to test_v7_v8.csv\n"
          ],
          "name": "stdout"
        }
      ]
    },
    {
      "metadata": {
        "id": "21d8nmrzFEED",
        "colab_type": "text"
      },
      "cell_type": "markdown",
      "source": [
        "# Imports and functions"
      ]
    },
    {
      "metadata": {
        "id": "XiZyQ_BR_No6",
        "colab_type": "code",
        "colab": {}
      },
      "cell_type": "code",
      "source": [
        "import pandas as pd\n",
        "import numpy as np\n",
        "\n",
        "from sklearn.model_selection import train_test_split\n",
        "from sklearn.preprocessing import StandardScaler\n",
        "from sklearn.preprocessing import MinMaxScaler\n",
        "\n",
        "from sklearn.utils import class_weight\n",
        "from sklearn.metrics import recall_score, precision_score, confusion_matrix"
      ],
      "execution_count": 0,
      "outputs": []
    },
    {
      "metadata": {
        "id": "IbPTiaHb_NpC",
        "colab_type": "code",
        "outputId": "1f73cbcd-c370-46bf-9df8-4fa5e9cb058c",
        "colab": {
          "base_uri": "https://localhost:8080/",
          "height": 34
        }
      },
      "cell_type": "code",
      "source": [
        "import numpy as np\n",
        "from keras.models import Model\n",
        "from keras.layers import Dense, Input, Dropout, LSTM, Activation"
      ],
      "execution_count": 3,
      "outputs": [
        {
          "output_type": "stream",
          "text": [
            "Using TensorFlow backend.\n"
          ],
          "name": "stderr"
        }
      ]
    },
    {
      "metadata": {
        "id": "bfeW1EwG_NpF",
        "colab_type": "code",
        "colab": {}
      },
      "cell_type": "code",
      "source": [
        "import matplotlib.pyplot as plt\n",
        "%matplotlib inline\n",
        "\n",
        "def plot_loss(epochs, loss, val_loss):\n",
        "    plt.figure(figsize=(10, 7))\n",
        "    plt.plot(np.arange(epochs), loss, label='loss')\n",
        "    plt.plot(np.arange(epochs), val_loss, label='val_loss')\n",
        "    plt.legend()\n",
        "    plt.grid(True)\n",
        "def acc_graph(epochs, train_acc, val_acc):\n",
        "    x_axis = np.linspace(1, epochs, num=epochs)\n",
        "    \n",
        "    plt.figure(figsize=(10, 7))\n",
        "    plt.plot(x_axis, train_acc, color='g', lw=3, alpha=0.7, label='Train Accuracy')\n",
        "    plt.plot(x_axis, val_acc, color='orange', lw=3, alpha=0.7, label='Val Accuracy')\n",
        "    plt.title('Accuracy graph')\n",
        "    plt.xlabel('Epoch')\n",
        "    plt.ylabel('Accuracy')\n",
        "    plt.legend(loc='lower right')\n",
        "    plt.grid(True)"
      ],
      "execution_count": 0,
      "outputs": []
    },
    {
      "metadata": {
        "id": "5_hj_szh_NpH",
        "colab_type": "code",
        "colab": {}
      },
      "cell_type": "code",
      "source": [
        "def calculation_classes(y, y_test = None):\n",
        "    print ('\\t\\tTRAIN DATA\\tTEST DATA')\n",
        "    print ('Negative\\t', np.sum(y==0),'  ',\n",
        "           round(100*np.sum(y==0)/y.shape[0],2),'%',\n",
        "           '\\t',np.sum(y_test==0),'  ',\n",
        "           round(100*np.sum(y_test==0)/y_test.shape[0],2),'%'\n",
        "           '\\nPositive\\t ', np.sum(y==1),' ',\n",
        "           round(100*np.sum(y==1)/y.shape[0],2),'%'\n",
        "           '\\t',np.sum(y_test==1),' ',\n",
        "           round(100*np.sum(y_test==1)/y_test.shape[0],2),'%'\n",
        "      )"
      ],
      "execution_count": 0,
      "outputs": []
    },
    {
      "metadata": {
        "id": "j4ZUJDQE_NpK",
        "colab_type": "code",
        "colab": {}
      },
      "cell_type": "code",
      "source": [
        "#from utils import model"
      ],
      "execution_count": 0,
      "outputs": []
    },
    {
      "metadata": {
        "id": "_-zc8IV-QyDA",
        "colab_type": "code",
        "colab": {}
      },
      "cell_type": "code",
      "source": [
        "def scale_0_1_for_samples(X):\n",
        "  mm = MinMaxScaler()\n",
        "\n",
        "  for i in range(X.shape[0]):\n",
        "    line = X[i]\n",
        "    #print(line)\n",
        "  \n",
        "    line = line.reshape(-1, 1)\n",
        "    X[i] = mm.fit_transform(line).reshape(1,-1)\n",
        "  return X\n",
        " \n",
        "def scale_standard_for_1sample(X):\n",
        "  ss = StandardScaler()\n",
        "\n",
        "  for i in range(X.shape[0]):\n",
        "    line = X[i]\n",
        "    X[i] = ss.fit_transform(line.reshape(-1,1)).reshape(1,-1)\n",
        "  return X\n",
        "\n",
        "def scale_substraction_mean_for_1sample(X):\n",
        "  for i in range(X.shape[0]):\n",
        "    line = X[i]\n",
        "    #print(line)\n",
        "    mean = np.mean(line)\n",
        "    #print(mean)\n",
        "    X[i] = line - mean \n",
        "    #if min(X[i]) < 0:\n",
        "    #  X[i] -= min(X[i])*1.2\n",
        "    #print(X[i])\n",
        "    \n",
        "  return X\n",
        "    "
      ],
      "execution_count": 0,
      "outputs": []
    },
    {
      "metadata": {
        "id": "66Y9OHfQbGA0",
        "colab_type": "code",
        "colab": {}
      },
      "cell_type": "code",
      "source": [
        "def get_mean_for_features(X):\n",
        "  m = X.shape[0]\n",
        "  X_mean = np.zeros((m,1))\n",
        "  for i in range(m):\n",
        "    X_mean[i] = np.mean(X[i,:], axis=0)\n",
        "  return X_mean\n",
        "\n",
        "def scale_standard_for_samples(X, X_mean):\n",
        "  ss = StandardScaler()\n",
        "  ss.fit(X_mean)\n",
        "\n",
        "  X = ss.transform(X)\n",
        "  return X"
      ],
      "execution_count": 0,
      "outputs": []
    },
    {
      "metadata": {
        "id": "6OnpKlvHkRTW",
        "colab_type": "code",
        "colab": {}
      },
      "cell_type": "code",
      "source": [
        "def make_predictions(X, y, model, X_ini,out=False,):\n",
        "  preds = model.predict(X)\n",
        "  y_predict = np.where(preds > 0.5, 1, 0)\n",
        "  recall = recall_score(y, y_predict)\n",
        "  print('Recall = ', recall, 'Precision = ', precision_score(y, y_predict))\n",
        "  cm  = confusion_matrix(y, y_predict)\n",
        "  print(cm)\n",
        "  if out is True:\n",
        "    for i in range(X.shape[0]):\n",
        "      if abs(y_predict[i] - y[i])!= 0:\n",
        "        print(y[i], preds[i], X_ini[i], np.ndarray.tolist(X[i]))\n",
        "    "
      ],
      "execution_count": 0,
      "outputs": []
    },
    {
      "metadata": {
        "id": "p0FREjTx_NpO",
        "colab_type": "text"
      },
      "cell_type": "markdown",
      "source": [
        "# Import data sets"
      ]
    },
    {
      "metadata": {
        "id": "fdz_7GPb_NpP",
        "colab_type": "code",
        "colab": {}
      },
      "cell_type": "code",
      "source": [
        "#data_train = pd.read_csv('sources/train.csv')\n",
        "#data_test = pd.read_csv('sources/test_v7_v8.csv')\n",
        "\n",
        "data1_train = pd.read_csv('train_y1_v8.csv')\n",
        "data0_train = pd.read_csv('train_y0_v8.csv')\n",
        "data0_train_rand = pd.read_csv('train_y0_rand_v8.csv')\n",
        "\n",
        "\n",
        "X = np.vstack((data1_train.drop(['Y'], axis='columns').values, data0_train.drop(['Y'], axis='columns').values))\n",
        "X = np.vstack((X, data0_train_rand.drop(['Y'], axis='columns').values))\n",
        "\n",
        "\n",
        "y = np.hstack((data1_train['Y'].values, data0_train['Y'].values))\n",
        "y = np.hstack((y, data0_train_rand['Y'].values))\n",
        "\n",
        "X_ini = X.copy()"
      ],
      "execution_count": 0,
      "outputs": []
    },
    {
      "metadata": {
        "id": "oCSpZao5ePFE",
        "colab_type": "code",
        "colab": {}
      },
      "cell_type": "code",
      "source": [
        "data_add = pd.read_csv('train_0_change_1_to_close.csv')\n",
        "\n",
        "X_add = data_add.drop(['Y'], axis='columns').values\n",
        "y_add = data_add['Y'].values\n",
        "\n",
        "X = np.vstack((X, X_add))\n",
        "y = np.hstack((y, y_add))"
      ],
      "execution_count": 0,
      "outputs": []
    },
    {
      "metadata": {
        "id": "VAqN3pkFFUsW",
        "colab_type": "code",
        "colab": {}
      },
      "cell_type": "code",
      "source": [
        "data_v4 = pd.read_csv('train_0_v4.csv')\n",
        "\n",
        "X_add = data_add.drop(['Y'], axis='columns').values\n",
        "y_add = data_add['Y'].values\n",
        "\n",
        "X = np.vstack((X, X_add))\n",
        "y = np.hstack((y, y_add))"
      ],
      "execution_count": 0,
      "outputs": []
    },
    {
      "metadata": {
        "id": "h0RDqrhyPqbG",
        "colab_type": "code",
        "colab": {}
      },
      "cell_type": "code",
      "source": [
        "scale_X = scale_substraction_mean_for_1sample"
      ],
      "execution_count": 0,
      "outputs": []
    },
    {
      "metadata": {
        "id": "6yWkLvtCGJL8",
        "colab_type": "code",
        "outputId": "c3858f15-5f11-4047-a36d-8c0104d42055",
        "colab": {
          "base_uri": "https://localhost:8080/",
          "height": 102
        }
      },
      "cell_type": "code",
      "source": [
        "X = scale_X(X)\n",
        "\n",
        "X_train,X_dev,y_train,y_dev = train_test_split(X, y, test_size=0.2, \\\n",
        "                                               shuffle=True, stratify=y)\n",
        "\n",
        "class_weights_train = class_weight.compute_class_weight('balanced',\n",
        "                                                 np.unique(y_train),\n",
        "                                                 y_train)\n",
        "class_weights = class_weight.compute_class_weight('balanced',\n",
        "                                                 np.unique(y), y)\n",
        "print(class_weights)\n",
        "print(class_weights[0]/(class_weights[1]+class_weights[0]))\n",
        "calculation_classes(y, y_dev)\n",
        "\n",
        "X = np.expand_dims(X, axis=2)\n",
        "X_train = np.expand_dims(X_train, axis=2)\n",
        "X_dev = np.expand_dims(X_dev, axis=2)"
      ],
      "execution_count": 158,
      "outputs": [
        {
          "output_type": "stream",
          "text": [
            "[0.57129108 4.00674995]\n",
            "0.12478941942621506\n",
            "\t\tTRAIN DATA\tTEST DATA\n",
            "Negative\t 69616    87.52 % \t 13924    87.52 %\n",
            "Positive\t  9926   12.48 %\t 1985   12.48 %\n"
          ],
          "name": "stdout"
        }
      ]
    },
    {
      "metadata": {
        "id": "ky7G0n5cmC6Y",
        "colab_type": "code",
        "colab": {
          "base_uri": "https://localhost:8080/",
          "height": 11900
        },
        "outputId": "9e7ed02e-0caa-481e-f6d4-7c572507f772"
      },
      "cell_type": "code",
      "source": [
        "print(X[300:400])"
      ],
      "execution_count": 159,
      "outputs": [
        {
          "output_type": "stream",
          "text": [
            "[[[-1.33992500e-01]\n",
            "  [-8.54025000e-02]\n",
            "  [-3.22225000e-02]\n",
            "  [ 2.12095000e-02]\n",
            "  [ 8.25225000e-02]\n",
            "  [ 1.47885500e-01]]\n",
            "\n",
            " [[-1.44050667e-01]\n",
            "  [-9.08706667e-02]\n",
            "  [-3.74386667e-02]\n",
            "  [ 2.38743333e-02]\n",
            "  [ 8.92373333e-02]\n",
            "  [ 1.59248333e-01]]\n",
            "\n",
            " [[-1.54176000e-01]\n",
            "  [-1.00744000e-01]\n",
            "  [-3.94310000e-02]\n",
            "  [ 2.59320000e-02]\n",
            "  [ 9.59430000e-02]\n",
            "  [ 1.72476000e-01]]\n",
            "\n",
            " [[-1.68497667e-01]\n",
            "  [-1.07184667e-01]\n",
            "  [-4.18216667e-02]\n",
            "  [ 2.81893333e-02]\n",
            "  [ 1.04722333e-01]\n",
            "  [ 1.84592333e-01]]\n",
            "\n",
            " [[-1.80784667e-01]\n",
            "  [-1.15421667e-01]\n",
            "  [-4.54106667e-02]\n",
            "  [ 3.11223333e-02]\n",
            "  [ 1.10992333e-01]\n",
            "  [ 1.99502333e-01]]\n",
            "\n",
            " [[-1.94202333e-01]\n",
            "  [-1.24191333e-01]\n",
            "  [-4.76583333e-02]\n",
            "  [ 3.22116667e-02]\n",
            "  [ 1.20721667e-01]\n",
            "  [ 2.13118667e-01]]\n",
            "\n",
            " [[-2.08317667e-01]\n",
            "  [-1.31784667e-01]\n",
            "  [-5.19146667e-02]\n",
            "  [ 3.65953333e-02]\n",
            "  [ 1.28992333e-01]\n",
            "  [ 2.26429333e-01]]\n",
            "\n",
            " [[-2.21379500e-01]\n",
            "  [-1.41509500e-01]\n",
            "  [-5.29995000e-02]\n",
            "  [ 3.93975000e-02]\n",
            "  [ 1.36834500e-01]\n",
            "  [ 2.39656500e-01]]\n",
            "\n",
            " [[-2.36491333e-01]\n",
            "  [-1.47981333e-01]\n",
            "  [-5.55843333e-02]\n",
            "  [ 4.18526667e-02]\n",
            "  [ 1.44674667e-01]\n",
            "  [ 2.53529667e-01]]\n",
            "\n",
            " [[-2.48059000e-01]\n",
            "  [-1.55662000e-01]\n",
            "  [-5.82250000e-02]\n",
            "  [ 4.45970000e-02]\n",
            "  [ 1.53452000e-01]\n",
            "  [ 2.63897000e-01]]\n",
            "\n",
            " [[-2.59066500e-01]\n",
            "  [-1.61629500e-01]\n",
            "  [-5.88075000e-02]\n",
            "  [ 5.00475000e-02]\n",
            "  [ 1.60492500e-01]\n",
            "  [ 2.68963500e-01]]\n",
            "\n",
            " [[-7.89511667e-02]\n",
            "  [-5.14771667e-02]\n",
            "  [-1.94151667e-02]\n",
            "  [ 1.41048333e-02]\n",
            "  [ 4.88468333e-02]\n",
            "  [ 8.68918333e-02]]\n",
            "\n",
            " [[-7.92736667e-02]\n",
            "  [-4.31656667e-02]\n",
            "  [-1.02146667e-02]\n",
            "  [ 1.96813333e-02]\n",
            "  [ 4.49963333e-02]\n",
            "  [ 6.79763333e-02]]\n",
            "\n",
            " [[-8.69495000e-02]\n",
            "  [-4.82885000e-02]\n",
            "  [-1.21805000e-02]\n",
            "  [ 2.07705000e-02]\n",
            "  [ 5.06665000e-02]\n",
            "  [ 7.59815000e-02]]\n",
            "\n",
            " [[-9.38176667e-02]\n",
            "  [-5.29896667e-02]\n",
            "  [-1.43286667e-02]\n",
            "  [ 2.17793333e-02]\n",
            "  [ 5.47303333e-02]\n",
            "  [ 8.46263333e-02]]\n",
            "\n",
            " [[-9.95853333e-02]\n",
            "  [-5.69753333e-02]\n",
            "  [-1.61473333e-02]\n",
            "  [ 2.25136667e-02]\n",
            "  [ 5.86216667e-02]\n",
            "  [ 9.15726667e-02]]\n",
            "\n",
            " [[-1.04102333e-01]\n",
            "  [-6.04503333e-02]\n",
            "  [-1.78403333e-02]\n",
            "  [ 2.29876667e-02]\n",
            "  [ 6.16486667e-02]\n",
            "  [ 9.77566667e-02]]\n",
            "\n",
            " [[-1.07298333e-01]\n",
            "  [-6.30913333e-02]\n",
            "  [-1.94393333e-02]\n",
            "  [ 2.31706667e-02]\n",
            "  [ 6.39986667e-02]\n",
            "  [ 1.02659667e-01]]\n",
            "\n",
            " [[-1.08827833e-01]\n",
            "  [-6.50008333e-02]\n",
            "  [-2.07938333e-02]\n",
            "  [ 2.28581667e-02]\n",
            "  [ 6.54681667e-02]\n",
            "  [ 1.06296167e-01]]\n",
            "\n",
            " [[-1.08619667e-01]\n",
            "  [-6.58446667e-02]\n",
            "  [-2.20176667e-02]\n",
            "  [ 2.21893333e-02]\n",
            "  [ 6.58413333e-02]\n",
            "  [ 1.08451333e-01]]\n",
            "\n",
            " [[-1.06807833e-01]\n",
            "  [-6.55678333e-02]\n",
            "  [-2.27928333e-02]\n",
            "  [ 2.10341667e-02]\n",
            "  [ 6.52411667e-02]\n",
            "  [ 1.08893167e-01]]\n",
            "\n",
            " [[-1.05024333e-01]\n",
            "  [-6.40243333e-02]\n",
            "  [-2.27843333e-02]\n",
            "  [ 1.99906667e-02]\n",
            "  [ 6.38176667e-02]\n",
            "  [ 1.08024667e-01]]\n",
            "\n",
            " [[-1.01786167e-01]\n",
            "  [-6.30621667e-02]\n",
            "  [-2.20621667e-02]\n",
            "  [ 1.91778333e-02]\n",
            "  [ 6.19528333e-02]\n",
            "  [ 1.05779833e-01]]\n",
            "\n",
            " [[-9.83635000e-02]\n",
            "  [-6.09575000e-02]\n",
            "  [-2.22335000e-02]\n",
            "  [ 1.87665000e-02]\n",
            "  [ 6.00065000e-02]\n",
            "  [ 1.02781500e-01]]\n",
            "\n",
            " [[-9.47901667e-02]\n",
            "  [-5.88491667e-02]\n",
            "  [-2.14431667e-02]\n",
            "  [ 1.72808333e-02]\n",
            "  [ 5.82808333e-02]\n",
            "  [ 9.95208333e-02]]\n",
            "\n",
            " [[-9.33883333e-02]\n",
            "  [-5.62083333e-02]\n",
            "  [-2.02673333e-02]\n",
            "  [ 1.71386667e-02]\n",
            "  [ 5.58626667e-02]\n",
            "  [ 9.68626667e-02]]\n",
            "\n",
            " [[-8.78415000e-02]\n",
            "  [-5.64475000e-02]\n",
            "  [-1.92675000e-02]\n",
            "  [ 1.66735000e-02]\n",
            "  [ 5.40795000e-02]\n",
            "  [ 9.28035000e-02]]\n",
            "\n",
            " [[-8.37190000e-02]\n",
            "  [-5.25370000e-02]\n",
            "  [-2.11430000e-02]\n",
            "  [ 1.60370000e-02]\n",
            "  [ 5.19780000e-02]\n",
            "  [ 8.93840000e-02]]\n",
            "\n",
            " [[-8.29793333e-02]\n",
            "  [-4.92463333e-02]\n",
            "  [-1.80643333e-02]\n",
            "  [ 1.33296667e-02]\n",
            "  [ 5.05096667e-02]\n",
            "  [ 8.64506667e-02]]\n",
            "\n",
            " [[-8.09110000e-02]\n",
            "  [-4.95070000e-02]\n",
            "  [-1.57740000e-02]\n",
            "  [ 1.54080000e-02]\n",
            "  [ 4.68020000e-02]\n",
            "  [ 8.39820000e-02]]\n",
            "\n",
            " [[-9.36081667e-02]\n",
            "  [-5.19411667e-02]\n",
            "  [-1.33471667e-02]\n",
            "  [ 2.08068333e-02]\n",
            "  [ 5.35378333e-02]\n",
            "  [ 8.45518333e-02]]\n",
            "\n",
            " [[-1.00869000e-01]\n",
            "  [-5.65240000e-02]\n",
            "  [-1.48570000e-02]\n",
            "  [ 2.37370000e-02]\n",
            "  [ 5.78910000e-02]\n",
            "  [ 9.06220000e-02]]\n",
            "\n",
            " [[-1.09445500e-01]\n",
            "  [-6.08555000e-02]\n",
            "  [-1.65105000e-02]\n",
            "  [ 2.51565000e-02]\n",
            "  [ 6.37505000e-02]\n",
            "  [ 9.79045000e-02]]\n",
            "\n",
            " [[-1.19203833e-01]\n",
            "  [-6.60238333e-02]\n",
            "  [-1.74338333e-02]\n",
            "  [ 2.69111667e-02]\n",
            "  [ 6.85781667e-02]\n",
            "  [ 1.07172167e-01]]\n",
            "\n",
            " [[-1.26001167e-01]\n",
            "  [-7.25691667e-02]\n",
            "  [-1.93891667e-02]\n",
            "  [ 2.92008333e-02]\n",
            "  [ 7.35458333e-02]\n",
            "  [ 1.15212833e-01]]\n",
            "\n",
            " [[-1.36893000e-01]\n",
            "  [-7.55800000e-02]\n",
            "  [-2.21480000e-02]\n",
            "  [ 3.10320000e-02]\n",
            "  [ 7.96220000e-02]\n",
            "  [ 1.23967000e-01]]\n",
            "\n",
            " [[-1.47885500e-01]\n",
            "  [-8.25225000e-02]\n",
            "  [-2.12095000e-02]\n",
            "  [ 3.22225000e-02]\n",
            "  [ 8.54025000e-02]\n",
            "  [ 1.33992500e-01]]\n",
            "\n",
            " [[-1.59248333e-01]\n",
            "  [-8.92373333e-02]\n",
            "  [-2.38743333e-02]\n",
            "  [ 3.74386667e-02]\n",
            "  [ 9.08706667e-02]\n",
            "  [ 1.44050667e-01]]\n",
            "\n",
            " [[-1.72476000e-01]\n",
            "  [-9.59430000e-02]\n",
            "  [-2.59320000e-02]\n",
            "  [ 3.94310000e-02]\n",
            "  [ 1.00744000e-01]\n",
            "  [ 1.54176000e-01]]\n",
            "\n",
            " [[-1.84592333e-01]\n",
            "  [-1.04722333e-01]\n",
            "  [-2.81893333e-02]\n",
            "  [ 4.18216667e-02]\n",
            "  [ 1.07184667e-01]\n",
            "  [ 1.68497667e-01]]\n",
            "\n",
            " [[-1.99502333e-01]\n",
            "  [-1.10992333e-01]\n",
            "  [-3.11223333e-02]\n",
            "  [ 4.54106667e-02]\n",
            "  [ 1.15421667e-01]\n",
            "  [ 1.80784667e-01]]\n",
            "\n",
            " [[-2.13118667e-01]\n",
            "  [-1.20721667e-01]\n",
            "  [-3.22116667e-02]\n",
            "  [ 4.76583333e-02]\n",
            "  [ 1.24191333e-01]\n",
            "  [ 1.94202333e-01]]\n",
            "\n",
            " [[-2.26429333e-01]\n",
            "  [-1.28992333e-01]\n",
            "  [-3.65953333e-02]\n",
            "  [ 5.19146667e-02]\n",
            "  [ 1.31784667e-01]\n",
            "  [ 2.08317667e-01]]\n",
            "\n",
            " [[-2.39656500e-01]\n",
            "  [-1.36834500e-01]\n",
            "  [-3.93975000e-02]\n",
            "  [ 5.29995000e-02]\n",
            "  [ 1.41509500e-01]\n",
            "  [ 2.21379500e-01]]\n",
            "\n",
            " [[-2.53529667e-01]\n",
            "  [-1.44674667e-01]\n",
            "  [-4.18526667e-02]\n",
            "  [ 5.55843333e-02]\n",
            "  [ 1.47981333e-01]\n",
            "  [ 2.36491333e-01]]\n",
            "\n",
            " [[-2.63897000e-01]\n",
            "  [-1.53452000e-01]\n",
            "  [-4.45970000e-02]\n",
            "  [ 5.82250000e-02]\n",
            "  [ 1.55662000e-01]\n",
            "  [ 2.48059000e-01]]\n",
            "\n",
            " [[-2.68963500e-01]\n",
            "  [-1.60492500e-01]\n",
            "  [-5.00475000e-02]\n",
            "  [ 5.88075000e-02]\n",
            "  [ 1.61629500e-01]\n",
            "  [ 2.59066500e-01]]\n",
            "\n",
            " [[-8.68918333e-02]\n",
            "  [-4.88468333e-02]\n",
            "  [-1.41048333e-02]\n",
            "  [ 1.94151667e-02]\n",
            "  [ 5.14771667e-02]\n",
            "  [ 7.89511667e-02]]\n",
            "\n",
            " [[ 2.45853333e-02]\n",
            "  [ 1.19753333e-02]\n",
            "  [ 1.14733333e-03]\n",
            "  [-7.51366667e-03]\n",
            "  [-1.36216667e-02]\n",
            "  [-1.65726667e-02]]\n",
            "\n",
            " [[ 2.91023333e-02]\n",
            "  [ 1.54503333e-02]\n",
            "  [ 2.84033333e-03]\n",
            "  [-7.98766667e-03]\n",
            "  [-1.66486667e-02]\n",
            "  [-2.27566667e-02]]\n",
            "\n",
            " [[ 3.22983333e-02]\n",
            "  [ 1.80913333e-02]\n",
            "  [ 4.43933333e-03]\n",
            "  [-8.17066667e-03]\n",
            "  [-1.89986667e-02]\n",
            "  [-2.76596667e-02]]\n",
            "\n",
            " [[ 3.38278333e-02]\n",
            "  [ 2.00008333e-02]\n",
            "  [ 5.79383333e-03]\n",
            "  [-7.85816667e-03]\n",
            "  [-2.04681667e-02]\n",
            "  [-3.12961667e-02]]\n",
            "\n",
            " [[ 3.36196667e-02]\n",
            "  [ 2.08446667e-02]\n",
            "  [ 7.01766667e-03]\n",
            "  [-7.18933333e-03]\n",
            "  [-2.08413333e-02]\n",
            "  [-3.34513333e-02]]\n",
            "\n",
            " [[ 3.18078333e-02]\n",
            "  [ 2.05678333e-02]\n",
            "  [ 7.79283333e-03]\n",
            "  [-6.03416667e-03]\n",
            "  [-2.02411667e-02]\n",
            "  [-3.38931667e-02]]\n",
            "\n",
            " [[ 3.00243333e-02]\n",
            "  [ 1.90243333e-02]\n",
            "  [ 7.78433333e-03]\n",
            "  [-4.99066667e-03]\n",
            "  [-1.88176667e-02]\n",
            "  [-3.30246667e-02]]\n",
            "\n",
            " [[ 2.67861667e-02]\n",
            "  [ 1.80621667e-02]\n",
            "  [ 7.06216667e-03]\n",
            "  [-4.17783333e-03]\n",
            "  [-1.69528333e-02]\n",
            "  [-3.07798333e-02]]\n",
            "\n",
            " [[ 2.33635000e-02]\n",
            "  [ 1.59575000e-02]\n",
            "  [ 7.23350000e-03]\n",
            "  [-3.76650000e-03]\n",
            "  [-1.50065000e-02]\n",
            "  [-2.77815000e-02]]\n",
            "\n",
            " [[ 1.97901667e-02]\n",
            "  [ 1.38491667e-02]\n",
            "  [ 6.44316667e-03]\n",
            "  [-2.28083333e-03]\n",
            "  [-1.32808333e-02]\n",
            "  [-2.45208333e-02]]\n",
            "\n",
            " [[ 1.83883333e-02]\n",
            "  [ 1.12083333e-02]\n",
            "  [ 5.26733333e-03]\n",
            "  [-2.13866667e-03]\n",
            "  [-1.08626667e-02]\n",
            "  [-2.18626667e-02]]\n",
            "\n",
            " [[ 1.28415000e-02]\n",
            "  [ 1.14475000e-02]\n",
            "  [ 4.26750000e-03]\n",
            "  [-1.67350000e-03]\n",
            "  [-9.07950000e-03]\n",
            "  [-1.78035000e-02]]\n",
            "\n",
            " [[ 8.71900000e-03]\n",
            "  [ 7.53700000e-03]\n",
            "  [ 6.14300000e-03]\n",
            "  [-1.03700000e-03]\n",
            "  [-6.97800000e-03]\n",
            "  [-1.43840000e-02]]\n",
            "\n",
            " [[ 7.97933333e-03]\n",
            "  [ 4.24633333e-03]\n",
            "  [ 3.06433333e-03]\n",
            "  [ 1.67033333e-03]\n",
            "  [-5.50966667e-03]\n",
            "  [-1.14506667e-02]]\n",
            "\n",
            " [[ 5.91100000e-03]\n",
            "  [ 4.50700000e-03]\n",
            "  [ 7.74000000e-04]\n",
            "  [-4.08000000e-04]\n",
            "  [-1.80200000e-03]\n",
            "  [-8.98200000e-03]]\n",
            "\n",
            " [[ 1.86081667e-02]\n",
            "  [ 6.94116667e-03]\n",
            "  [-1.65283333e-03]\n",
            "  [-5.80683333e-03]\n",
            "  [-8.53783333e-03]\n",
            "  [-9.55183333e-03]]\n",
            "\n",
            " [[ 2.58690000e-02]\n",
            "  [ 1.15240000e-02]\n",
            "  [-1.43000000e-04]\n",
            "  [-8.73700000e-03]\n",
            "  [-1.28910000e-02]\n",
            "  [-1.56220000e-02]]\n",
            "\n",
            " [[ 3.44455000e-02]\n",
            "  [ 1.58555000e-02]\n",
            "  [ 1.51050000e-03]\n",
            "  [-1.01565000e-02]\n",
            "  [-1.87505000e-02]\n",
            "  [-2.29045000e-02]]\n",
            "\n",
            " [[ 4.42038333e-02]\n",
            "  [ 2.10238333e-02]\n",
            "  [ 2.43383333e-03]\n",
            "  [-1.19111667e-02]\n",
            "  [-2.35781667e-02]\n",
            "  [-3.21721667e-02]]\n",
            "\n",
            " [[ 5.10011667e-02]\n",
            "  [ 2.75691667e-02]\n",
            "  [ 4.38916667e-03]\n",
            "  [-1.42008333e-02]\n",
            "  [-2.85458333e-02]\n",
            "  [-4.02128333e-02]]\n",
            "\n",
            " [[ 6.18930000e-02]\n",
            "  [ 3.05800000e-02]\n",
            "  [ 7.14800000e-03]\n",
            "  [-1.60320000e-02]\n",
            "  [-3.46220000e-02]\n",
            "  [-4.89670000e-02]]\n",
            "\n",
            " [[ 7.28855000e-02]\n",
            "  [ 3.75225000e-02]\n",
            "  [ 6.20950000e-03]\n",
            "  [-1.72225000e-02]\n",
            "  [-4.04025000e-02]\n",
            "  [-5.89925000e-02]]\n",
            "\n",
            " [[ 8.42483333e-02]\n",
            "  [ 4.42373333e-02]\n",
            "  [ 8.87433333e-03]\n",
            "  [-2.24386667e-02]\n",
            "  [-4.58706667e-02]\n",
            "  [-6.90506667e-02]]\n",
            "\n",
            " [[ 9.74760000e-02]\n",
            "  [ 5.09430000e-02]\n",
            "  [ 1.09320000e-02]\n",
            "  [-2.44310000e-02]\n",
            "  [-5.57440000e-02]\n",
            "  [-7.91760000e-02]]\n",
            "\n",
            " [[ 1.09592333e-01]\n",
            "  [ 5.97223333e-02]\n",
            "  [ 1.31893333e-02]\n",
            "  [-2.68216667e-02]\n",
            "  [-6.21846667e-02]\n",
            "  [-9.34976667e-02]]\n",
            "\n",
            " [[ 1.24502333e-01]\n",
            "  [ 6.59923333e-02]\n",
            "  [ 1.61223333e-02]\n",
            "  [-3.04106667e-02]\n",
            "  [-7.04216667e-02]\n",
            "  [-1.05784667e-01]]\n",
            "\n",
            " [[ 1.38118667e-01]\n",
            "  [ 7.57216667e-02]\n",
            "  [ 1.72116667e-02]\n",
            "  [-3.26583333e-02]\n",
            "  [-7.91913333e-02]\n",
            "  [-1.19202333e-01]]\n",
            "\n",
            " [[ 1.51429333e-01]\n",
            "  [ 8.39923333e-02]\n",
            "  [ 2.15953333e-02]\n",
            "  [-3.69146667e-02]\n",
            "  [-8.67846667e-02]\n",
            "  [-1.33317667e-01]]\n",
            "\n",
            " [[ 1.64656500e-01]\n",
            "  [ 9.18345000e-02]\n",
            "  [ 2.43975000e-02]\n",
            "  [-3.79995000e-02]\n",
            "  [-9.65095000e-02]\n",
            "  [-1.46379500e-01]]\n",
            "\n",
            " [[ 1.78529667e-01]\n",
            "  [ 9.96746667e-02]\n",
            "  [ 2.68526667e-02]\n",
            "  [-4.05843333e-02]\n",
            "  [-1.02981333e-01]\n",
            "  [-1.61491333e-01]]\n",
            "\n",
            " [[ 1.88897000e-01]\n",
            "  [ 1.08452000e-01]\n",
            "  [ 2.95970000e-02]\n",
            "  [-4.32250000e-02]\n",
            "  [-1.10662000e-01]\n",
            "  [-1.73059000e-01]]\n",
            "\n",
            " [[ 1.93963500e-01]\n",
            "  [ 1.15492500e-01]\n",
            "  [ 3.50475000e-02]\n",
            "  [-4.38075000e-02]\n",
            "  [-1.16629500e-01]\n",
            "  [-1.84066500e-01]]\n",
            "\n",
            " [[ 1.08763333e-02]\n",
            "  [ 1.04803333e-02]\n",
            "  [ 7.02933333e-03]\n",
            "  [ 4.21333333e-04]\n",
            "  [-8.73966667e-03]\n",
            "  [-2.00676667e-02]]\n",
            "\n",
            " [[ 1.78226667e-02]\n",
            "  [ 1.43716667e-02]\n",
            "  [ 7.76366667e-03]\n",
            "  [-1.39733333e-03]\n",
            "  [-1.27253333e-02]\n",
            "  [-2.58353333e-02]]\n",
            "\n",
            " [[ 2.40066667e-02]\n",
            "  [ 1.73986667e-02]\n",
            "  [ 8.23766667e-03]\n",
            "  [-3.09033333e-03]\n",
            "  [-1.62003333e-02]\n",
            "  [-3.03523333e-02]]\n",
            "\n",
            " [[ 2.89096667e-02]\n",
            "  [ 1.97486667e-02]\n",
            "  [ 8.42066667e-03]\n",
            "  [-4.68933333e-03]\n",
            "  [-1.88413333e-02]\n",
            "  [-3.35483333e-02]]\n",
            "\n",
            " [[ 3.25461667e-02]\n",
            "  [ 2.12181667e-02]\n",
            "  [ 8.10816667e-03]\n",
            "  [-6.04383333e-03]\n",
            "  [-2.07508333e-02]\n",
            "  [-3.50778333e-02]]\n",
            "\n",
            " [[ 3.47013333e-02]\n",
            "  [ 2.15913333e-02]\n",
            "  [ 7.43933333e-03]\n",
            "  [-7.26766667e-03]\n",
            "  [-2.15946667e-02]\n",
            "  [-3.48696667e-02]]\n",
            "\n",
            " [[ 3.51431667e-02]\n",
            "  [ 2.09911667e-02]\n",
            "  [ 6.28416667e-03]\n",
            "  [-8.04283333e-03]\n",
            "  [-2.13178333e-02]\n",
            "  [-3.30578333e-02]]\n",
            "\n",
            " [[ 3.42746667e-02]\n",
            "  [ 1.95676667e-02]\n",
            "  [ 5.24066667e-03]\n",
            "  [-8.03433333e-03]\n",
            "  [-1.97743333e-02]\n",
            "  [-3.12743333e-02]]\n",
            "\n",
            " [[ 3.20298333e-02]\n",
            "  [ 1.77028333e-02]\n",
            "  [ 4.42783333e-03]\n",
            "  [-7.31216667e-03]\n",
            "  [-1.88121667e-02]\n",
            "  [-2.80361667e-02]]\n",
            "\n",
            " [[ 2.90315000e-02]\n",
            "  [ 1.57565000e-02]\n",
            "  [ 4.01650000e-03]\n",
            "  [-7.48350000e-03]\n",
            "  [-1.67075000e-02]\n",
            "  [-2.46135000e-02]]\n",
            "\n",
            " [[ 2.57708333e-02]\n",
            "  [ 1.40308333e-02]\n",
            "  [ 2.53083333e-03]\n",
            "  [-6.69316667e-03]\n",
            "  [-1.45991667e-02]\n",
            "  [-2.10401667e-02]]\n",
            "\n",
            " [[ 2.31126667e-02]\n",
            "  [ 1.16126667e-02]\n",
            "  [ 2.38866667e-03]\n",
            "  [-5.51733333e-03]\n",
            "  [-1.19583333e-02]\n",
            "  [-1.96383333e-02]]\n",
            "\n",
            " [[ 1.90535000e-02]\n",
            "  [ 9.82950000e-03]\n",
            "  [ 1.92350000e-03]\n",
            "  [-4.51750000e-03]\n",
            "  [-1.21975000e-02]\n",
            "  [-1.40915000e-02]]\n",
            "\n",
            " [[ 1.56340000e-02]\n",
            "  [ 7.72800000e-03]\n",
            "  [ 1.28700000e-03]\n",
            "  [-6.39300000e-03]\n",
            "  [-8.28700000e-03]\n",
            "  [-9.96900000e-03]]\n",
            "\n",
            " [[ 1.27006667e-02]\n",
            "  [ 6.25966667e-03]\n",
            "  [-1.42033333e-03]\n",
            "  [-3.31433333e-03]\n",
            "  [-4.99633333e-03]\n",
            "  [-9.22933333e-03]]\n",
            "\n",
            " [[ 1.02320000e-02]\n",
            "  [ 2.55200000e-03]\n",
            "  [ 6.58000000e-04]\n",
            "  [-1.02400000e-03]\n",
            "  [-5.25700000e-03]\n",
            "  [-7.16100000e-03]]\n",
            "\n",
            " [[ 1.08018333e-02]\n",
            "  [ 9.28783333e-03]\n",
            "  [ 6.05683333e-03]\n",
            "  [ 1.40283333e-03]\n",
            "  [-7.69116667e-03]\n",
            "  [-1.98581667e-02]]\n",
            "\n",
            " [[ 1.68720000e-02]\n",
            "  [ 1.36410000e-02]\n",
            "  [ 8.98700000e-03]\n",
            "  [-1.07000000e-04]\n",
            "  [-1.22740000e-02]\n",
            "  [-2.71190000e-02]]\n",
            "\n",
            " [[ 2.41545000e-02]\n",
            "  [ 1.95005000e-02]\n",
            "  [ 1.04065000e-02]\n",
            "  [-1.76050000e-03]\n",
            "  [-1.66055000e-02]\n",
            "  [-3.56955000e-02]]\n",
            "\n",
            " [[ 3.34221667e-02]\n",
            "  [ 2.43281667e-02]\n",
            "  [ 1.21611667e-02]\n",
            "  [-2.68383333e-03]\n",
            "  [-2.17738333e-02]\n",
            "  [-4.54538333e-02]]]\n"
          ],
          "name": "stdout"
        }
      ]
    },
    {
      "metadata": {
        "id": "oPZjFAaNGvc_",
        "colab_type": "code",
        "colab": {}
      },
      "cell_type": "code",
      "source": [
        "data_v4_test = pd.read_csv('test_v4_7615.csv')\n",
        "X_v4 = data_v4_test.drop(['Y'], axis='columns').values\n",
        "y_v4 = data_v4_test['Y'].values\n",
        "test_v4 =  data_v4_test.drop(['Y'], axis='columns').values\n",
        "\n",
        "X_v4 = scale_X(X_v4)\n",
        "X_v4 = np.expand_dims(X_v4, axis=2)"
      ],
      "execution_count": 0,
      "outputs": []
    },
    {
      "metadata": {
        "id": "lAtb7uNZKwLr",
        "colab_type": "code",
        "colab": {}
      },
      "cell_type": "code",
      "source": [
        "data_v7v8 = pd.read_csv('test_v7_v8.csv')\n",
        "\n",
        "X_v7v8 = data_v7v8.drop(['Y'], axis='columns').values\n",
        "test_v7v8 =  data_v7v8.drop(['Y'], axis='columns').values\n",
        "y_v7v8 = data_v7v8['Y'].values\n",
        "\n",
        "X_v7v8 = scale_X(X_v7v8)\n",
        "X_v7v8 = np.expand_dims(X_v7v8, axis=2)"
      ],
      "execution_count": 0,
      "outputs": []
    },
    {
      "metadata": {
        "id": "gK6YT84J_NpS",
        "colab_type": "code",
        "colab": {}
      },
      "cell_type": "code",
      "source": [
        "#data_test = pd.read_csv('sources/test_v3.csv')\n",
        "data_v3 = pd.read_csv('test_v3.csv')\n",
        "\n",
        "X_v3 = data_v3.drop(['Y'], axis='columns').values\n",
        "test_v3 =  data_v3.drop(['Y'], axis='columns').values\n",
        "y_v3 = data_v3['Y'].values\n",
        "\n",
        "X_v3 = scale_X(X_v3)\n",
        "X_v3 = np.expand_dims(X_v3, axis=2)"
      ],
      "execution_count": 0,
      "outputs": []
    },
    {
      "metadata": {
        "id": "LwZN3_Nm_Npj",
        "colab_type": "text"
      },
      "cell_type": "markdown",
      "source": [
        "# NN on train/dev sets"
      ]
    },
    {
      "metadata": {
        "id": "FFJ0lUqb_NpM",
        "colab_type": "code",
        "colab": {}
      },
      "cell_type": "code",
      "source": [
        "from keras.models import Model, Sequential\n",
        "from keras.layers import Dense, Input, GRU, LSTM\n",
        "from keras.optimizers import Adam\n",
        "from keras.callbacks import LearningRateScheduler\n",
        "\n",
        "\n",
        "def model_GRU(input_shape, Ty, hidden_size):\n",
        "    i = Input(shape=input_shape, dtype='float32')\n",
        "    X = GRU(hidden_size, return_sequences=False)(i)\n",
        "    \n",
        "    X = Dense(Ty, activation='sigmoid')(X)\n",
        "    model = Model(inputs=[i], outputs=X)\n",
        "    \n",
        "    return model\n",
        "  \n",
        "def model_LSTM(hidden_size):  \n",
        "  model = Sequential()\n",
        "  model.add(LSTM(hidden_size, return_sequences=False, input_shape=(Tx,1)))\n",
        "  model.add(Dense(units=1, activation='sigmoid'))\n",
        "  \n",
        "  return model\n"
      ],
      "execution_count": 0,
      "outputs": []
    },
    {
      "metadata": {
        "id": "DeKxC1_c4OXW",
        "colab_type": "code",
        "colab": {
          "base_uri": "https://localhost:8080/",
          "height": 204
        },
        "outputId": "85308f2e-26cc-4c47-f6c7-88e8734fe644"
      },
      "cell_type": "code",
      "source": [
        "GRU_model = model_LSTM(16)\n",
        "GRU_model.summary()"
      ],
      "execution_count": 91,
      "outputs": [
        {
          "output_type": "stream",
          "text": [
            "_________________________________________________________________\n",
            "Layer (type)                 Output Shape              Param #   \n",
            "=================================================================\n",
            "lstm_3 (LSTM)                (None, 16)                1152      \n",
            "_________________________________________________________________\n",
            "dense_3 (Dense)              (None, 1)                 17        \n",
            "=================================================================\n",
            "Total params: 1,169\n",
            "Trainable params: 1,169\n",
            "Non-trainable params: 0\n",
            "_________________________________________________________________\n"
          ],
          "name": "stdout"
        }
      ]
    },
    {
      "metadata": {
        "id": "UXEstYQtR2lI",
        "colab_type": "code",
        "colab": {}
      },
      "cell_type": "code",
      "source": [
        "# For ready model\n",
        "#GRU_model = model_GRU((Tx,1),Ty)#LSTM_model.summary()\n",
        "GRU_model.compile(loss='binary_crossentropy', optimizer='adam', metrics=['accuracy'])\n",
        "\n",
        "\n",
        "GRU_model.load_weights('LSTM_sequence_weights.h5')"
      ],
      "execution_count": 0,
      "outputs": []
    },
    {
      "metadata": {
        "id": "W6dszbna_Npk",
        "colab_type": "code",
        "colab": {}
      },
      "cell_type": "code",
      "source": [
        "Tx=  6\n",
        "Ty = 1\n",
        "epochs = 5\n",
        "batch_size = 32"
      ],
      "execution_count": 0,
      "outputs": []
    },
    {
      "metadata": {
        "id": "jncFQcYy_Npn",
        "colab_type": "code",
        "outputId": "dd06da33-bfe7-43da-f25b-1d5726d01b1c",
        "colab": {
          "base_uri": "https://localhost:8080/",
          "height": 204
        }
      },
      "cell_type": "code",
      "source": [
        "GRU_model = model_LSTM(16)\n",
        "opt = Adam(lr=0.02, beta_1=0.9, beta_2=0.999)\n",
        "GRU_model.compile(loss='binary_crossentropy', optimizer=opt, metrics=['accuracy'])\n",
        "logs = GRU_model.fit(X_train, y_train, epochs=epochs, batch_size=batch_size, shuffle=True,\\\n",
        "                    validation_data=(X_dev, y_dev), verbose=2, class_weight=class_weights_train, \\\n",
        "                    initial_epoch=0)"
      ],
      "execution_count": 165,
      "outputs": [
        {
          "output_type": "stream",
          "text": [
            "Train on 63633 samples, validate on 15909 samples\n",
            "Epoch 1/5\n",
            " - 11s - loss: 0.1633 - acc: 0.9438 - val_loss: 0.0124 - val_acc: 0.9970\n",
            "Epoch 2/5\n",
            " - 7s - loss: 0.0111 - acc: 0.9965 - val_loss: 0.0063 - val_acc: 0.9979\n",
            "Epoch 3/5\n",
            " - 7s - loss: 0.0083 - acc: 0.9975 - val_loss: 0.0073 - val_acc: 0.9974\n",
            "Epoch 4/5\n",
            " - 7s - loss: 0.0066 - acc: 0.9981 - val_loss: 0.0052 - val_acc: 0.9992\n",
            "Epoch 5/5\n",
            " - 7s - loss: 0.0064 - acc: 0.9981 - val_loss: 0.0054 - val_acc: 0.9989\n"
          ],
          "name": "stdout"
        }
      ]
    },
    {
      "metadata": {
        "id": "NW-in0amJ5DR",
        "colab_type": "code",
        "colab": {}
      },
      "cell_type": "code",
      "source": [
        "opt = Adam(lr=0.0003, beta_1=0.9, beta_2=0.999, decay=0.001)\n",
        "GRU_model.compile(loss='binary_crossentropy', optimizer=opt, metrics=['accuracy'])"
      ],
      "execution_count": 0,
      "outputs": []
    },
    {
      "metadata": {
        "id": "9FUVkbjfKh0H",
        "colab_type": "code",
        "outputId": "4f55d67f-1fc5-45a7-b325-5655c4d05aff",
        "colab": {
          "base_uri": "https://localhost:8080/",
          "height": 204
        }
      },
      "cell_type": "code",
      "source": [
        "n_epochs = 5\n",
        "logs = GRU_model.fit(X_train, y_train , epochs=n_epochs, batch_size=batch_size, shuffle=True,\\\n",
        "                    validation_data=(X_dev, y_dev), verbose=2, class_weight=class_weights_train)"
      ],
      "execution_count": 172,
      "outputs": [
        {
          "output_type": "stream",
          "text": [
            "Train on 63633 samples, validate on 15909 samples\n",
            "Epoch 1/5\n",
            " - 7s - loss: 3.6560e-04 - acc: 0.9999 - val_loss: 6.8111e-04 - val_acc: 0.9997\n",
            "Epoch 2/5\n",
            " - 7s - loss: 3.6228e-04 - acc: 0.9999 - val_loss: 6.7895e-04 - val_acc: 0.9997\n",
            "Epoch 3/5\n",
            " - 7s - loss: 3.5831e-04 - acc: 0.9999 - val_loss: 6.7732e-04 - val_acc: 0.9997\n",
            "Epoch 4/5\n",
            " - 7s - loss: 3.5654e-04 - acc: 0.9999 - val_loss: 6.7366e-04 - val_acc: 0.9997\n",
            "Epoch 5/5\n",
            " - 7s - loss: 3.5244e-04 - acc: 0.9999 - val_loss: 6.7414e-04 - val_acc: 0.9997\n"
          ],
          "name": "stdout"
        }
      ]
    },
    {
      "metadata": {
        "id": "qWip3visjS9M",
        "colab_type": "code",
        "outputId": "710fe931-0cc3-4378-9a61-db947f814138",
        "colab": {
          "base_uri": "https://localhost:8080/",
          "height": 258
        }
      },
      "cell_type": "code",
      "source": [
        "make_predictions(X,y, GRU_model,X_ini, out=True)"
      ],
      "execution_count": 173,
      "outputs": [
        {
          "output_type": "stream",
          "text": [
            "Recall =  1.0 Precision =  0.9989935587761675\n",
            "[[69606    10]\n",
            " [    0  9926]]\n",
            "0.0 [0.77351594] [-0.08  -0.044 -0.01   0.023  0.07   0.106] [[-0.09083333333333334], [-0.05483333333333334], [-0.020833333333333332], [0.012166666666666668], [0.05916666666666667], [0.09516666666666666]]\n",
            "0.0 [0.77351594] [-0.08  -0.044 -0.01   0.023  0.07   0.106] [[-0.09083333333333334], [-0.05483333333333334], [-0.020833333333333332], [0.012166666666666668], [0.05916666666666667], [0.09516666666666666]]\n",
            "0.0 [0.54393864] [-0.08  -0.044  0.008  0.051  0.07   0.106] [[-0.0985], [-0.0625], [-0.010499999999999999], [0.0325], [0.051500000000000004], [0.0875]]\n",
            "0.0 [0.6399604] [-0.032 -0.006  0.008  0.023  0.033  0.077] [[-0.049166666666666664], [-0.02316666666666667], [-0.009166666666666667], [0.005833333333333333], [0.015833333333333335], [0.059833333333333336]]\n",
            "0.0 [0.6399604] [-0.032 -0.006  0.008  0.023  0.033  0.077] [[-0.049166666666666664], [-0.02316666666666667], [-0.009166666666666667], [0.005833333333333333], [0.015833333333333335], [0.059833333333333336]]\n",
            "0.0 [0.9052548] [ 0.084  0.076  0.065  0.051  0.033 -0.031] [[0.03766666666666667], [0.02966666666666666], [0.018666666666666665], [0.004666666666666659], [-0.013333333333333336], [-0.07733333333333334]]\n",
            "0.0 [0.99093944] [ 0.084  0.076  0.065  0.051  0.033 -0.017] [[0.035333333333333335], [0.027333333333333328], [0.01633333333333333], [0.002333333333333326], [-0.01566666666666667], [-0.06566666666666668]]\n",
            "0.0 [0.5744595] [0.084 0.076 0.065 0.051 0.033 0.077] [[0.019666666666666666], [0.011666666666666659], [0.0006666666666666626], [-0.013333333333333343], [-0.03133333333333334], [0.01266666666666666]]\n",
            "0.0 [0.8344264] [3.04056945 3.15098815 3.21195344 3.29056752 3.37736117 3.54631686] [[-0.2290566491407513], [-0.11863794514064008], [-0.05767266054130227], [0.020941419913641734], [0.10773507539877514], [0.27669075951027855]]\n",
            "0.0 [0.932559] [1.65329636 1.54287766 1.48191237 1.40329829 1.31650464 1.14754895] [[0.22905664914075108], [0.1186379451406403], [0.05767266054130182], [-0.02094141991364129], [-0.10773507539877536], [-0.27669075951027855]]\n"
          ],
          "name": "stdout"
        }
      ]
    },
    {
      "metadata": {
        "id": "HWZGW_EPepGL",
        "colab_type": "code",
        "colab": {}
      },
      "cell_type": "code",
      "source": [
        "#make_predictions(X_dev,y_dev, out=True, model=GRU_model)"
      ],
      "execution_count": 0,
      "outputs": []
    },
    {
      "metadata": {
        "id": "4s53hYsv2Jbo",
        "colab_type": "code",
        "outputId": "8cdc0620-8745-4dfa-bfe3-cb8582f51b1f",
        "colab": {
          "base_uri": "https://localhost:8080/",
          "height": 68
        }
      },
      "cell_type": "code",
      "source": [
        "make_predictions(X_v7v8, y_v7v8, out=True, model=GRU_model, X_ini=test_v7v8)"
      ],
      "execution_count": 174,
      "outputs": [
        {
          "output_type": "stream",
          "text": [
            "Recall =  1.0 Precision =  1.0\n",
            "[[13  0]\n",
            " [ 0 46]]\n"
          ],
          "name": "stdout"
        }
      ]
    },
    {
      "metadata": {
        "id": "KAVqJ0Etc1B8",
        "colab_type": "code",
        "outputId": "73689bce-3a74-47cc-da6c-83c07b5d3cdb",
        "colab": {
          "base_uri": "https://localhost:8080/",
          "height": 68
        }
      },
      "cell_type": "code",
      "source": [
        "make_predictions(X_v3, y_v3, out=True, model=GRU_model, X_ini=test_v3)"
      ],
      "execution_count": 175,
      "outputs": [
        {
          "output_type": "stream",
          "text": [
            "Recall =  1.0 Precision =  1.0\n",
            "[[42  0]\n",
            " [ 0 53]]\n"
          ],
          "name": "stdout"
        }
      ]
    },
    {
      "metadata": {
        "id": "m23acahMtsOu",
        "colab_type": "code",
        "colab": {
          "base_uri": "https://localhost:8080/",
          "height": 207
        },
        "outputId": "afb89783-31a3-440a-aae3-1aa7826ed011"
      },
      "cell_type": "code",
      "source": [
        "make_predictions(X_v4, y_v4, out=True, model=GRU_model, X_ini=test_v4)"
      ],
      "execution_count": 176,
      "outputs": [
        {
          "output_type": "stream",
          "text": [
            "Recall =  0.0 Precision =  0.0\n",
            "[[66  5]\n",
            " [ 0  0]]\n",
            "0.0 [0.69436234] [-0.4   -0.334 -0.226 -0.11   0.023  0.169] [[-0.2536666666666667], [-0.18766666666666662], [-0.07966666666666666], [0.03633333333333334], [0.16933333333333334], [0.31533333333333335]]\n",
            "0.0 [0.84127694] [-0.38  -0.334 -0.226 -0.11   0.023  0.169] [[-0.237], [-0.19099999999999995], [-0.08299999999999999], [0.033000000000000015], [0.166], [0.312]]\n",
            "0.0 [0.6637162] [-0.38  -0.299 -0.226 -0.11   0.023  0.169] [[-0.24283333333333332], [-0.1618333333333333], [-0.08883333333333332], [0.027166666666666686], [0.16016666666666668], [0.3061666666666667]]\n",
            "0.0 [0.5773528] [-0.308 -0.299 -0.226 -0.11   0.023  0.169] [[-0.18283333333333335], [-0.17383333333333334], [-0.10083333333333336], [0.015166666666666648], [0.14816666666666664], [0.29416666666666663]]\n",
            "0.0 [0.93948776] [ 0.284  0.274  0.192  0.09   0.023 -0.065] [[0.15099999999999997], [0.14099999999999996], [0.059], [-0.04300000000000001], [-0.11000000000000001], [-0.198]]\n"
          ],
          "name": "stdout"
        },
        {
          "output_type": "stream",
          "text": [
            "/usr/local/lib/python3.6/dist-packages/sklearn/metrics/classification.py:1145: UndefinedMetricWarning: Recall is ill-defined and being set to 0.0 due to no true samples.\n",
            "  'recall', 'true', average, warn_for)\n"
          ],
          "name": "stderr"
        }
      ]
    },
    {
      "metadata": {
        "id": "A0pyJZ9beuDl",
        "colab_type": "code",
        "colab": {}
      },
      "cell_type": "code",
      "source": [
        "#make_predictions(X_add, y_add, out=True, model=GRU_model, X_ini=X_ini_add)"
      ],
      "execution_count": 0,
      "outputs": []
    },
    {
      "metadata": {
        "id": "GZSplb-P_Npv",
        "colab_type": "code",
        "colab": {}
      },
      "cell_type": "code",
      "source": [
        "#plot_loss(epochs, logplot_loss(epos.history.get('loss'), logs.history.get('val_loss'))"
      ],
      "execution_count": 0,
      "outputs": []
    },
    {
      "metadata": {
        "id": "SPeSwZ7d_Npy",
        "colab_type": "code",
        "colab": {}
      },
      "cell_type": "code",
      "source": [
        "#acc_graph(epochs, logs.history.get('acc'), logs.history.get('val_acc'))"
      ],
      "execution_count": 0,
      "outputs": []
    },
    {
      "metadata": {
        "id": "CmrNU65L_NqA",
        "colab_type": "code",
        "colab": {}
      },
      "cell_type": "code",
      "source": [
        "GRU_model.save_weights('LSTM_sequence_weights.h5')"
      ],
      "execution_count": 0,
      "outputs": []
    },
    {
      "metadata": {
        "id": "g392u_wAK9zd",
        "colab_type": "code",
        "colab": {}
      },
      "cell_type": "code",
      "source": [
        "files.download('LSTM_sequence_weights.h5')"
      ],
      "execution_count": 0,
      "outputs": []
    },
    {
      "metadata": {
        "id": "MmNRobJa_NqE",
        "colab_type": "code",
        "colab": {}
      },
      "cell_type": "code",
      "source": [
        "LSTM_model = model((Tx,1),Ty)\n",
        "#LSTM_model.summary()\n",
        "LSTM_model.compile(loss='binary_crossentropy', optimizer='adam', metrics=['accuracy'])\n",
        "logs = LSTM_model.fit(X_train, y_train , epochs=epochs, batch_size=batch_size, shuffle=True,\\\n",
        "               validation_data=(X_dev, y_dev), verbose=0, class_weight=class_weights_train)"
      ],
      "execution_count": 0,
      "outputs": []
    },
    {
      "metadata": {
        "id": "Qh-CPRLQ_NqG",
        "colab_type": "text"
      },
      "cell_type": "markdown",
      "source": [
        "# Final fit NN on all train set"
      ]
    },
    {
      "metadata": {
        "id": "isNoPp6K_NqH",
        "colab_type": "code",
        "colab": {}
      },
      "cell_type": "code",
      "source": [
        "Tx=  6\n",
        "Ty = 1\n",
        "epochs = 250\n",
        "batch_size = 32"
      ],
      "execution_count": 0,
      "outputs": []
    },
    {
      "metadata": {
        "id": "ks1Usr1x_NqK",
        "colab_type": "code",
        "colab": {}
      },
      "cell_type": "code",
      "source": [
        "LSTM_model = model((Tx,1),Ty)\n",
        "#LSTM_model.summary()\n",
        "LSTM_model.compile(loss='binary_crossentropy', optimizer='adam', metrics=['accuracy'])\n",
        "LSTM_model.fit(X, y , epochs=epochs, batch_size=batch_size, shuffle=True,\\\n",
        "               verbose=0, class_weight=class_weights)\n",
        "LSTM_model.save_weights('sources/LSTM_sequence_weights.h5')"
      ],
      "execution_count": 0,
      "outputs": []
    },
    {
      "metadata": {
        "id": "_R7AAT5T_NqM",
        "colab_type": "code",
        "colab": {}
      },
      "cell_type": "code",
      "source": [
        "print(LSTM_model.summary())\n",
        "test_preds = LSTM_model.predict(X_test)"
      ],
      "execution_count": 0,
      "outputs": []
    },
    {
      "metadata": {
        "id": "crGaA4yU_NqN",
        "colab_type": "code",
        "colab": {}
      },
      "cell_type": "code",
      "source": [
        "for i in range(X_test.shape[0]):\n",
        "    if test_preds[i] > 0.5:\n",
        "        print(i)"
      ],
      "execution_count": 0,
      "outputs": []
    },
    {
      "metadata": {
        "id": "u9-v1zer_NqR",
        "colab_type": "code",
        "colab": {}
      },
      "cell_type": "code",
      "source": [
        "LSTM_model = model((Tx,1),Ty)\n",
        "LSTM_model.compile(loss='binary_crossentropy', optimizer='adam', metrics=['accuracy'])\n",
        "\n",
        "LSTM_model.load_weights('LSTM_sequence_weights.h5')"
      ],
      "execution_count": 0,
      "outputs": []
    },
    {
      "metadata": {
        "id": "zIhaqheq_NqT",
        "colab_type": "code",
        "colab": {}
      },
      "cell_type": "code",
      "source": [
        "test_preds = LSTM_model.predict(X_test)\n",
        "\n",
        "for i in range(X_test.shape[0]):\n",
        "    if test_preds[i] > 0.5:\n",
        "        print(i)"
      ],
      "execution_count": 0,
      "outputs": []
    },
    {
      "metadata": {
        "id": "jDXYk528_NqY",
        "colab_type": "code",
        "colab": {}
      },
      "cell_type": "code",
      "source": [
        ""
      ],
      "execution_count": 0,
      "outputs": []
    }
  ]
}