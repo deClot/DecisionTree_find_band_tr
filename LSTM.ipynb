{
 "cells": [
  {
   "cell_type": "code",
   "execution_count": 2,
   "metadata": {},
   "outputs": [],
   "source": [
    "import pandas as pd\n",
    "import numpy as np\n",
    "\n",
    "from sklearn.model_selection import train_test_split\n",
    "from sklearn.preprocessing import StandardScaler\n",
    "\n",
    "from sklearn.utils import class_weight"
   ]
  },
  {
   "cell_type": "code",
   "execution_count": 3,
   "metadata": {},
   "outputs": [],
   "source": [
    "import numpy as np\n",
    "np.random.seed(0)\n",
    "from keras.models import Model\n",
    "from keras.layers import Dense, Input, Dropout, LSTM, Activation\n",
    "#from keras.preprocessing import sequence\n",
    "#from keras.initializers import glorot_uniform\n",
    "np.random.seed(1)"
   ]
  },
  {
   "cell_type": "code",
   "execution_count": 4,
   "metadata": {},
   "outputs": [],
   "source": [
    "import matplotlib.pyplot as plt\n",
    "%matplotlib inline\n",
    "\n",
    "def plot_loss(epochs, loss, val_loss):\n",
    "    plt.figure(figsize=(10, 7))\n",
    "    plt.plot(np.arange(epochs), loss, label='loss')\n",
    "    plt.plot(np.arange(epochs), val_loss, label='val_loss')\n",
    "    plt.legend()\n",
    "    plt.grid(True)\n",
    "def acc_graph(epochs, train_acc, val_acc):\n",
    "    x_axis = np.linspace(1, epochs, num=epochs)\n",
    "    \n",
    "    plt.figure(figsize=(10, 7))\n",
    "    plt.plot(x_axis, train_acc, color='g', lw=3, alpha=0.7, label='Train Accuracy')\n",
    "    plt.plot(x_axis, val_acc, color='orange', lw=3, alpha=0.7, label='Val Accuracy')\n",
    "    plt.title('Accuracy graph')\n",
    "    plt.xlabel('Epoch')\n",
    "    plt.ylabel('Accuracy')\n",
    "    plt.legend(loc='lower right')\n",
    "    plt.grid(True)"
   ]
  },
  {
   "cell_type": "code",
   "execution_count": 5,
   "metadata": {},
   "outputs": [],
   "source": [
    "def calculation_classes(y, y_test = None):\n",
    "    print ('\\t\\tTRAIN DATA\\tTEST DATA')\n",
    "    print ('Negative\\t', np.sum(y==0),'  ',\n",
    "           round(100*np.sum(y==0)/y.shape[0],2),'%',\n",
    "           '\\t',np.sum(y_test==0),'  ',\n",
    "           round(100*np.sum(y_test==0)/y_test.shape[0],2),'%'\n",
    "           '\\nPositive\\t ', np.sum(y==1),' ',\n",
    "           round(100*np.sum(y==1)/y.shape[0],2),'%'\n",
    "           '\\t',np.sum(y_test==1),' ',\n",
    "           round(100*np.sum(y_test==1)/y_test.shape[0],2),'%'\n",
    "      )"
   ]
  },
  {
   "cell_type": "code",
   "execution_count": 6,
   "metadata": {},
   "outputs": [],
   "source": [
    "#from utils import model"
   ]
  },
  {
   "cell_type": "code",
   "execution_count": 16,
   "metadata": {},
   "outputs": [],
   "source": [
    "from keras.models import Model\n",
    "from keras.layers import Dense, Input, GRU\n",
    "\n",
    "\n",
    "def model_GRU(input_shape, Ty):\n",
    "    i = Input(shape=input_shape, dtype='float32')\n",
    "    X = GRU(16, return_sequences=False)(i)\n",
    "    #X = LSTM(16, return_sequences=Flase)(i)\n",
    "    X = Dense(Ty, activation='sigmoid')(X)\n",
    "    model = Model(inputs=[i], outputs=X)\n",
    "    \n",
    "    return model\n"
   ]
  },
  {
   "cell_type": "markdown",
   "metadata": {},
   "source": [
    "# Import data sets"
   ]
  },
  {
   "cell_type": "code",
   "execution_count": 85,
   "metadata": {},
   "outputs": [],
   "source": [
    "data_train = pd.read_csv('sources/train.csv')\n",
    "data_test = pd.read_csv('sources/test_v7_v8.csv')"
   ]
  },
  {
   "cell_type": "code",
   "execution_count": 90,
   "metadata": {},
   "outputs": [],
   "source": [
    "data_test = pd.read_csv('sources/test_v3.csv')\n",
    "test = data_test.values"
   ]
  },
  {
   "cell_type": "code",
   "execution_count": 91,
   "metadata": {},
   "outputs": [
    {
     "name": "stdout",
     "output_type": "stream",
     "text": [
      "71\n",
      "\t\tTRAIN DATA\tTEST DATA\n",
      "Negative\t 1173    79.53 % \t 235    79.66 %\n",
      "Positive\t  302   20.47 %\t 60   20.34 %\n"
     ]
    }
   ],
   "source": [
    "X = data_train.drop(['Y'], axis='columns').values\n",
    "y = data_train['Y'].values\n",
    "\n",
    "X_train,X_dev,y_train,y_dev = train_test_split(X, y, test_size=0.2, \\\n",
    "                                               random_state=227, shuffle=True, stratify=y)\n",
    "X_test = data_test.values\n",
    "test = data_test.values\n",
    "print(len(X_test))\n",
    "\n",
    "\n",
    "class_weights_train = class_weight.compute_class_weight('balanced',\n",
    "                                                 np.unique(y_train),\n",
    "                                                 y_train)\n",
    "class_weights = class_weight.compute_class_weight('balanced',\n",
    "                                                 np.unique(y), y)\n",
    "#print(class_weights_train)\n",
    "calculation_classes(y, y_dev)"
   ]
  },
  {
   "cell_type": "code",
   "execution_count": 92,
   "metadata": {},
   "outputs": [
    {
     "name": "stdout",
     "output_type": "stream",
     "text": [
      "{'copy': True, 'with_mean': True, 'with_std': True}\n"
     ]
    }
   ],
   "source": [
    "ss = StandardScaler()\n",
    "\n",
    "X = ss.fit_transform(X)\n",
    "X_train = ss.fit_transform(X_train)\n",
    "ss_params = ss.get_params()\n",
    "print(ss_params)\n",
    "X_dev = ss.transform(X_dev)\n",
    "\n",
    "X_test = ss.transform(X_test)\n"
   ]
  },
  {
   "cell_type": "code",
   "execution_count": 93,
   "metadata": {},
   "outputs": [
    {
     "name": "stdout",
     "output_type": "stream",
     "text": [
      "(71, 6)\n",
      "(71, 6, 1)\n"
     ]
    }
   ],
   "source": [
    "X = np.expand_dims(X, axis=2)\n",
    "X_train = np.expand_dims(X_train, axis=2)\n",
    "X_dev = np.expand_dims(X_dev, axis=2)\n",
    "\n",
    "print(X_test.shape)\n",
    "X_test = np.expand_dims(X_test, axis=2)\n",
    "print(X_test.shape)"
   ]
  },
  {
   "cell_type": "markdown",
   "metadata": {},
   "source": [
    "# NN on train/dev sets"
   ]
  },
  {
   "cell_type": "code",
   "execution_count": 70,
   "metadata": {},
   "outputs": [],
   "source": [
    "Tx=  6\n",
    "Ty = 1\n",
    "epochs = 350\n",
    "batch_size = 16"
   ]
  },
  {
   "cell_type": "code",
   "execution_count": 71,
   "metadata": {},
   "outputs": [],
   "source": [
    "GRU_model = model_GRU((Tx,1),Ty)\n",
    "#LSTM_model.summary()\n",
    "GRU_model.compile(loss='binary_crossentropy', optimizer='adam', metrics=['accuracy'])\n",
    "logs = GRU_model.fit(X_train, y_train , epochs=epochs, batch_size=batch_size, shuffle=True,\\\n",
    "               validation_data=(X_dev, y_dev), verbose=0, class_weight=class_weights_train)"
   ]
  },
  {
   "cell_type": "code",
   "execution_count": 72,
   "metadata": {},
   "outputs": [],
   "source": [
    "#print(GRU_model.summary())"
   ]
  },
  {
   "cell_type": "code",
   "execution_count": 73,
   "metadata": {},
   "outputs": [
    {
     "data": {
      "image/png": "[encoded data removed]",
      "text/plain": [
       "<Figure size 720x504 with 1 Axes>"
      ]
     },
     "metadata": {
      "needs_background": "light"
     },
     "output_type": "display_data"
    }
   ],
   "source": [
    "plot_loss(epochs, logs.history.get('loss'), logs.history.get('val_loss'))"
   ]
  },
  {
   "cell_type": "code",
   "execution_count": 74,
   "metadata": {},
   "outputs": [
    {
     "data": {
      "image/png": "[encoded data removed]",
      "text/plain": [
       "<Figure size 720x504 with 1 Axes>"
      ]
     },
     "metadata": {
      "needs_background": "light"
     },
     "output_type": "display_data"
    }
   ],
   "source": [
    "acc_graph(epochs, logs.history.get('acc'), logs.history.get('val_acc'))"
   ]
  },
  {
   "cell_type": "code",
   "execution_count": 54,
   "metadata": {},
   "outputs": [
    {
     "ename": "NameError",
     "evalue": "name 'LSTM_model' is not defined",
     "output_type": "error",
     "traceback": [
      "\u001b[0;31m---------------------------------------------------------------------------\u001b[0m",
      "\u001b[0;31mNameError\u001b[0m                                 Traceback (most recent call last)",
      "\u001b[0;32m<ipython-input-54-1be5c3b29c0d>\u001b[0m in \u001b[0;36m<module>\u001b[0;34m\u001b[0m\n\u001b[0;32m----> 1\u001b[0;31m \u001b[0mtrain_preds\u001b[0m \u001b[0;34m=\u001b[0m \u001b[0mLSTM_model\u001b[0m\u001b[0;34m.\u001b[0m\u001b[0mpredict\u001b[0m\u001b[0;34m(\u001b[0m\u001b[0mX_train\u001b[0m\u001b[0;34m)\u001b[0m\u001b[0;34m\u001b[0m\u001b[0m\n\u001b[0m",
      "\u001b[0;31mNameError\u001b[0m: name 'LSTM_model' is not defined"
     ]
    }
   ],
   "source": [
    "train_preds = LSTM_model.predict(X_train)"
   ]
  },
  {
   "cell_type": "code",
   "execution_count": null,
   "metadata": {
    "scrolled": true
   },
   "outputs": [],
   "source": [
    "for i in range(X_train.shape[0]):\n",
    "    if train_preds[i] > 0.5:\n",
    "        print(i)"
   ]
  },
  {
   "cell_type": "code",
   "execution_count": 94,
   "metadata": {},
   "outputs": [
    {
     "name": "stdout",
     "output_type": "stream",
     "text": [
      "[ True] 0 [0.9980488] [-0.377 -0.231 -0.2   -0.155  0.027  0.227]\n",
      "[ True] 1 [0.9981012] [-0.377 -0.231 -0.2   -0.155  0.027  0.242]\n",
      "[ True] 2 [0.9981629] [-0.377 -0.231 -0.2   -0.155  0.027  0.261]\n",
      "[ True] 3 [0.9982167] [-0.377 -0.231 -0.2   -0.155  0.027  0.279]\n",
      "[ True] 4 [0.99831736] [-0.377 -0.231 -0.2   -0.155  0.027  0.317]\n",
      "[ True] 5 [0.99835485] [-0.377 -0.231 -0.2   -0.155  0.027  0.333]\n",
      "[ True] 6 [0.9984464] [-0.377 -0.231 -0.2   -0.155  0.027  0.378]\n",
      "[ True] 7 [0.9984876] [-0.377 -0.231 -0.2   -0.155  0.027  0.402]\n",
      "[False] 8 [0.01129149] [-0.493 -0.493 -0.476 -0.46  -0.425  0.008]\n",
      "[False] 9 [0.01158426] [-0.493 -0.493 -0.476 -0.46  -0.425  0.056]\n",
      "[False] 10 [0.01160067] [-0.493 -0.493 -0.476 -0.46  -0.425  0.059]\n",
      "[False] 11 [0.01174722] [-0.493 -0.493 -0.476 -0.46  -0.425  0.088]\n",
      "[False] 12 [0.01177025] [-0.493 -0.493 -0.476 -0.46  -0.425  0.093]\n",
      "[False] 13 [0.01180139] [-0.493 -0.493 -0.476 -0.46  -0.425  0.1  ]\n",
      "[False] 14 [0.01182703] [-0.493 -0.493 -0.476 -0.46  -0.425  0.106]\n",
      "[False] 15 [0.01190179] [-0.493 -0.493 -0.476 -0.46  -0.425  0.125]\n",
      "[False] 16 [0.01191981] [-0.493 -0.493 -0.476 -0.46  -0.425  0.13 ]\n",
      "[False] 17 [0.01195051] [-0.493 -0.493 -0.476 -0.46  -0.425  0.139]\n",
      "[ True] 18 [0.9998667] [-0.739 -0.733 -0.722 -0.705 -0.683 -0.659]\n",
      "[ True] 19 [0.9998952] [-0.733 -0.722 -0.705 -0.683 -0.659 -0.625]\n",
      "[ True] 20 [0.9998778] [-0.722 -0.705 -0.683 -0.659 -0.625 -0.59 ]\n",
      "[ True] 21 [0.9997714] [-0.705 -0.683 -0.659 -0.625 -0.59  -0.552]\n",
      "[ True] 22 [0.9994288] [-0.683 -0.659 -0.625 -0.59  -0.552 -0.51 ]\n",
      "[ True] 23 [0.99829227] [-0.659 -0.625 -0.59  -0.552 -0.51  -0.466]\n",
      "[ True] 24 [0.9887145] [-0.625 -0.59  -0.552 -0.51  -0.466 -0.417]\n",
      "[ True] 25 [0.9442747] [-0.59  -0.552 -0.51  -0.466 -0.417 -0.365]\n",
      "[ True] 26 [0.84029067] [-0.552 -0.51  -0.466 -0.417 -0.365 -0.31 ]\n",
      "[ True] 27 [0.85734034] [-0.51  -0.466 -0.417 -0.365 -0.31  -0.262]\n",
      "[ True] 28 [0.9763292] [-0.466 -0.417 -0.365 -0.31  -0.262 -0.194]\n",
      "[ True] 29 [0.98886675] [-0.417 -0.365 -0.31  -0.262 -0.194 -0.126]\n",
      "[ True] 30 [0.99554753] [-0.365 -0.31  -0.262 -0.194 -0.126 -0.056]\n",
      "[ True] 31 [0.99780804] [-0.31  -0.262 -0.194 -0.126 -0.056  0.017]\n",
      "[ True] 32 [0.99890697] [-0.262 -0.194 -0.126 -0.056  0.017  0.095]\n",
      "[ True] 33 [0.99897575] [-0.703 -0.695 -0.679 -0.663 -0.642 -0.612]\n",
      "[ True] 34 [0.9988311] [-0.695 -0.679 -0.663 -0.642 -0.612 -0.58 ]\n",
      "[ True] 35 [0.99770516] [-0.679 -0.663 -0.642 -0.612 -0.58  -0.544]\n",
      "[ True] 36 [0.99668723] [-0.663 -0.642 -0.612 -0.58  -0.544 -0.505]\n",
      "[ True] 37 [0.9922395] [-0.642 -0.612 -0.58  -0.544 -0.505 -0.461]\n",
      "[ True] 38 [0.9632188] [-0.612 -0.58  -0.544 -0.505 -0.461 -0.414]\n",
      "[ True] 39 [0.8807264] [-0.58  -0.544 -0.505 -0.461 -0.414 -0.363]\n",
      "[ True] 40 [0.99942195] [-0.7   -0.687 -0.666 -0.637 -0.605 -0.564]\n",
      "[ True] 41 [0.9993444] [-0.687 -0.666 -0.637 -0.605 -0.564 -0.512]\n",
      "[ True] 42 [0.99855965] [-0.666 -0.637 -0.605 -0.564 -0.512 -0.466]\n",
      "[ True] 43 [0.99612075] [-0.637 -0.605 -0.564 -0.512 -0.466 -0.408]\n",
      "[ True] 44 [0.9888855] [-0.605 -0.564 -0.512 -0.466 -0.408 -0.343]\n",
      "[ True] 45 [0.9626291] [-0.564 -0.512 -0.466 -0.408 -0.343 -0.274]\n",
      "[ True] 46 [0.95513284] [-0.512 -0.466 -0.408 -0.343 -0.274 -0.203]\n",
      "[ True] 47 [0.9949669] [-0.466 -0.408 -0.343 -0.274 -0.203 -0.123]\n",
      "[ True] 48 [0.99629104] [-0.408 -0.343 -0.274 -0.203 -0.123 -0.045]\n",
      "[ True] 49 [0.9976228] [-0.343 -0.274 -0.203 -0.123 -0.045  0.04 ]\n",
      "[ True] 50 [0.99870896] [-0.274 -0.203 -0.123 -0.045  0.04   0.127]\n",
      "[ True] 51 [0.99947447] [-0.203 -0.123 -0.045  0.04   0.127  0.221]\n",
      "[ True] 52 [0.99970645] [-0.123 -0.045  0.04   0.127  0.221  0.315]\n",
      "[ True] 53 [0.9997563] [-0.045  0.04   0.127  0.221  0.315  0.417]\n",
      "[ True] 54 [0.99959296] [0.04  0.127 0.221 0.315 0.417 0.526]\n",
      "[ True] 55 [0.9987012] [0.127 0.221 0.315 0.417 0.526 0.642]\n",
      "[ True] 56 [0.9984675] [0.221 0.315 0.417 0.526 0.642 0.764]\n",
      "[ True] 57 [0.9993709] [0.315 0.417 0.526 0.642 0.764 0.9  ]\n",
      "[ True] 58 [0.60420567] [-0.598 -0.58  -0.556 -0.527 -0.492 -0.452]\n",
      "[ True] 59 [0.5741932] [-0.58  -0.556 -0.527 -0.492 -0.452 -0.406]\n",
      "[False] 60 [0.48454925] [-0.556 -0.527 -0.492 -0.452 -0.406 -0.353]\n",
      "[ True] 61 [0.5100157] [-0.527 -0.492 -0.452 -0.406 -0.353 -0.3  ]\n",
      "[ True] 62 [0.85265243] [-0.492 -0.452 -0.406 -0.353 -0.3   -0.241]\n",
      "[ True] 63 [0.9789443] [-0.452 -0.406 -0.353 -0.3   -0.241 -0.177]\n",
      "[ True] 64 [0.9918236] [-0.406 -0.353 -0.3   -0.241 -0.177 -0.108]\n",
      "[ True] 65 [0.9962536] [-0.353 -0.3   -0.241 -0.177 -0.108 -0.036]\n",
      "[ True] 66 [0.9982668] [-0.3   -0.241 -0.177 -0.108 -0.036  0.043]\n",
      "[ True] 67 [0.9991441] [-0.241 -0.177 -0.108 -0.036  0.043  0.125]\n",
      "[ True] 68 [0.99959] [-0.177 -0.108 -0.036  0.043  0.125  0.212]\n",
      "[ True] 69 [0.9997372] [-0.108 -0.036  0.043  0.125  0.212  0.305]\n",
      "[ True] 70 [0.9997619] [-0.036  0.043  0.125  0.212  0.305  0.402]\n"
     ]
    }
   ],
   "source": [
    "train_preds = GRU_model.predict(X_test)\n",
    "for i in range(X_test.shape[0]):\n",
    "    print(train_preds[i]>0.5, i, train_preds[i],test[i])"
   ]
  },
  {
   "cell_type": "code",
   "execution_count": 97,
   "metadata": {},
   "outputs": [],
   "source": [
    "GRU_model.save_weights('sources/GRU_sequence_weights.h5')"
   ]
  },
  {
   "cell_type": "code",
   "execution_count": null,
   "metadata": {},
   "outputs": [],
   "source": [
    "LSTM_model = model((Tx,1),Ty)\n",
    "#LSTM_model.summary()\n",
    "LSTM_model.compile(loss='binary_crossentropy', optimizer='adam', metrics=['accuracy'])\n",
    "logs = LSTM_model.fit(X_train, y_train , epochs=epochs, batch_size=batch_size, shuffle=True,\\\n",
    "               validation_data=(X_dev, y_dev), verbose=0, class_weight=class_weights_train)"
   ]
  },
  {
   "cell_type": "markdown",
   "metadata": {},
   "source": [
    "# Final fit NN on all train set"
   ]
  },
  {
   "cell_type": "code",
   "execution_count": null,
   "metadata": {},
   "outputs": [],
   "source": [
    "Tx=  6\n",
    "Ty = 1\n",
    "epochs = 250\n",
    "batch_size = 32"
   ]
  },
  {
   "cell_type": "code",
   "execution_count": null,
   "metadata": {},
   "outputs": [],
   "source": [
    "LSTM_model = model((Tx,1),Ty)\n",
    "#LSTM_model.summary()\n",
    "LSTM_model.compile(loss='binary_crossentropy', optimizer='adam', metrics=['accuracy'])\n",
    "LSTM_model.fit(X, y , epochs=epochs, batch_size=batch_size, shuffle=True,\\\n",
    "               verbose=0, class_weight=class_weights)\n",
    "LSTM_model.save_weights('sources/LSTM_sequence_weights.h5')"
   ]
  },
  {
   "cell_type": "code",
   "execution_count": null,
   "metadata": {},
   "outputs": [],
   "source": [
    "print(LSTM_model.summary())\n",
    "test_preds = LSTM_model.predict(X_test)"
   ]
  },
  {
   "cell_type": "code",
   "execution_count": null,
   "metadata": {},
   "outputs": [],
   "source": [
    "for i in range(X_test.shape[0]):\n",
    "    if test_preds[i] > 0.5:\n",
    "        print(i)"
   ]
  },
  {
   "cell_type": "code",
   "execution_count": null,
   "metadata": {},
   "outputs": [],
   "source": [
    "LSTM_model = model((Tx,1),Ty)\n",
    "LSTM_model.compile(loss='binary_crossentropy', optimizer='adam', metrics=['accuracy'])\n",
    "\n",
    "LSTM_model.load_weights('sources/LSTM_sequence_weights.h5')"
   ]
  },
  {
   "cell_type": "code",
   "execution_count": null,
   "metadata": {},
   "outputs": [],
   "source": [
    "test_preds = LSTM_model.predict(X_test)\n",
    "\n",
    "for i in range(X_test.shape[0]):\n",
    "    if test_preds[i] > 0.5:\n",
    "        print(i)"
   ]
  },
  {
   "cell_type": "code",
   "execution_count": null,
   "metadata": {},
   "outputs": [],
   "source": []
  }
 ],
 "metadata": {
  "kernelspec": {
   "display_name": "Python 3",
   "language": "python",
   "name": "python3"
  },
  "language_info": {
   "codemirror_mode": {
    "name": "ipython",
    "version": 3
   },
   "file_extension": ".py",
   "mimetype": "text/x-python",
   "name": "python",
   "nbconvert_exporter": "python",
   "pygments_lexer": "ipython3",
   "version": "3.7.0"
  }
 },
 "nbformat": 4,
 "nbformat_minor": 2
}
