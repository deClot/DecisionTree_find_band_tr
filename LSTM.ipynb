{
 "cells": [
  {
   "cell_type": "code",
   "execution_count": 1,
   "metadata": {},
   "outputs": [],
   "source": [
    "import pandas as pd\n",
    "import numpy as np\n",
    "\n",
    "from sklearn.model_selection import train_test_split"
   ]
  },
  {
   "cell_type": "code",
   "execution_count": 2,
   "metadata": {},
   "outputs": [],
   "source": [
    "data_train = pd.read_csv('sources/train.csv')\n",
    "data_test = pd.read_csv('sources/test2.csv')"
   ]
  },
  {
   "cell_type": "code",
   "execution_count": 3,
   "metadata": {},
   "outputs": [
    {
     "name": "stdout",
     "output_type": "stream",
     "text": [
      "(1112, 6)\n",
      "(1112, 6, 1)\n"
     ]
    }
   ],
   "source": [
    "X = data_train.drop(['Y'], axis='columns').values\n",
    "print(X.shape)\n",
    "X = np.expand_dims(X, axis=2)\n",
    "print(X.shape)\n",
    "\n",
    "y = data_train['Y'].values\n",
    "\n",
    "X_train,X_dev,y_train,y_dev = train_test_split(X, y, test_size=0.2, \\\n",
    "                                               random_state=227, shuffle=True, stratify=y)\n",
    "\n",
    "X_test = data_test.values\n"
   ]
  },
  {
   "cell_type": "code",
   "execution_count": 4,
   "metadata": {},
   "outputs": [],
   "source": [
    "def calculation_classes(y, y_test = None):\n",
    "    print ('\\t\\tTRAIN DATA\\tTEST DATA')\n",
    "    print ('Negative\\t', np.sum(y==0),'  ',\n",
    "           round(100*np.sum(y==0)/y.shape[0],2),'%',\n",
    "           '\\t',np.sum(y_test==0),'  ',\n",
    "           round(100*np.sum(y_test==0)/y_test.shape[0],2),'%'\n",
    "           '\\nPositive\\t ', np.sum(y==1),' ',\n",
    "           round(100*np.sum(y==1)/y.shape[0],2),'%'\n",
    "           '\\t',np.sum(y_test==1),' ',\n",
    "           round(100*np.sum(y_test==1)/y_test.shape[0],2),'%'\n",
    "      )"
   ]
  },
  {
   "cell_type": "code",
   "execution_count": 5,
   "metadata": {},
   "outputs": [
    {
     "name": "stdout",
     "output_type": "stream",
     "text": [
      "\t\tTRAIN DATA\tTEST DATA\n",
      "Negative\t 1000    89.93 % \t 201    90.13 %\n",
      "Positive\t  112   10.07 %\t 22   9.87 %\n"
     ]
    }
   ],
   "source": [
    "calculation_classes(y, y_dev)"
   ]
  },
  {
   "cell_type": "code",
   "execution_count": 6,
   "metadata": {},
   "outputs": [
    {
     "name": "stderr",
     "output_type": "stream",
     "text": [
      "Using TensorFlow backend.\n"
     ]
    },
    {
     "name": "stdout",
     "output_type": "stream",
     "text": [
      "\n"
     ]
    }
   ],
   "source": [
    "import numpy as np\n",
    "np.random.seed(0)\n",
    "from keras.models import Model\n",
    "from keras.layers import Dense, Input, Dropout, LSTM, Activation\n",
    "#from keras.preprocessing import sequence\n",
    "#from keras.initializers import glorot_uniform\n",
    "np.random.seed(1)\n",
    "print('')"
   ]
  },
  {
   "cell_type": "code",
   "execution_count": 7,
   "metadata": {},
   "outputs": [],
   "source": [
    "Tx=  6\n",
    "Ty = 1"
   ]
  },
  {
   "cell_type": "code",
   "execution_count": 8,
   "metadata": {},
   "outputs": [],
   "source": [
    "def model(input_shape, Ty):\n",
    "    i = Input(shape=input_shape, dtype='float32')\n",
    "    X = LSTM(32, return_sequences=False)(i)\n",
    "    X = Dense(Ty, activation=None)(X)\n",
    "    #X = Activation('softmax')(X)\n",
    "    model = Model(inputs=[i], outputs=X)\n",
    "    \n",
    "    return model\n",
    "    \n"
   ]
  },
  {
   "cell_type": "code",
   "execution_count": 9,
   "metadata": {},
   "outputs": [
    {
     "name": "stdout",
     "output_type": "stream",
     "text": [
      "_________________________________________________________________\n",
      "Layer (type)                 Output Shape              Param #   \n",
      "=================================================================\n",
      "input_1 (InputLayer)         (None, 6, 1)              0         \n",
      "_________________________________________________________________\n",
      "lstm_1 (LSTM)                (None, 32)                4352      \n",
      "_________________________________________________________________\n",
      "dense_1 (Dense)              (None, 1)                 33        \n",
      "=================================================================\n",
      "Total params: 4,385\n",
      "Trainable params: 4,385\n",
      "Non-trainable params: 0\n",
      "_________________________________________________________________\n"
     ]
    }
   ],
   "source": [
    "LSTM_model = model((Tx,1),Ty)\n",
    "LSTM_model.summary()"
   ]
  },
  {
   "cell_type": "code",
   "execution_count": 10,
   "metadata": {},
   "outputs": [],
   "source": [
    "LSTM_model.compile(loss='binary_crossentropy', optimizer='adam', metrics=['accuracy'])"
   ]
  },
  {
   "cell_type": "code",
   "execution_count": 11,
   "metadata": {},
   "outputs": [
    {
     "name": "stdout",
     "output_type": "stream",
     "text": [
      "Train on 889 samples, validate on 223 samples\n",
      "Epoch 1/50\n",
      "889/889 [==============================] - 1s 1ms/step - loss: 0.1929 - acc: 0.9123 - val_loss: 0.1560 - val_acc: 0.9372\n",
      "Epoch 2/50\n",
      "889/889 [==============================] - 0s 123us/step - loss: 0.1428 - acc: 0.9426 - val_loss: 0.1354 - val_acc: 0.9417\n",
      "Epoch 3/50\n",
      "889/889 [==============================] - 0s 139us/step - loss: 0.1265 - acc: 0.9438 - val_loss: 0.1303 - val_acc: 0.9507\n",
      "Epoch 4/50\n",
      "889/889 [==============================] - 0s 149us/step - loss: 0.1199 - acc: 0.9449 - val_loss: 0.1279 - val_acc: 0.9372\n",
      "Epoch 5/50\n",
      "889/889 [==============================] - 0s 152us/step - loss: 0.1137 - acc: 0.9449 - val_loss: 0.1225 - val_acc: 0.9417\n",
      "Epoch 6/50\n",
      "889/889 [==============================] - 0s 153us/step - loss: 0.1091 - acc: 0.9393 - val_loss: 0.1180 - val_acc: 0.9327\n",
      "Epoch 7/50\n",
      "889/889 [==============================] - 0s 163us/step - loss: 0.1042 - acc: 0.9314 - val_loss: 0.1145 - val_acc: 0.9103\n",
      "Epoch 8/50\n",
      "889/889 [==============================] - 0s 165us/step - loss: 0.1019 - acc: 0.9134 - val_loss: 0.1086 - val_acc: 0.9103\n",
      "Epoch 9/50\n",
      "889/889 [==============================] - 0s 150us/step - loss: 0.0949 - acc: 0.8841 - val_loss: 0.1050 - val_acc: 0.8744\n",
      "Epoch 10/50\n",
      "889/889 [==============================] - 0s 153us/step - loss: 0.0912 - acc: 0.8346 - val_loss: 0.0998 - val_acc: 0.8251\n",
      "Epoch 11/50\n",
      "889/889 [==============================] - 0s 152us/step - loss: 0.0855 - acc: 0.7728 - val_loss: 0.0943 - val_acc: 0.7399\n",
      "Epoch 12/50\n",
      "889/889 [==============================] - 0s 161us/step - loss: 0.0800 - acc: 0.7222 - val_loss: 0.0946 - val_acc: 0.6592\n",
      "Epoch 13/50\n",
      "889/889 [==============================] - 0s 142us/step - loss: 0.0831 - acc: 0.6232 - val_loss: 0.0838 - val_acc: 0.5650\n",
      "Epoch 14/50\n",
      "889/889 [==============================] - 0s 163us/step - loss: 0.1251 - acc: 0.5636 - val_loss: 0.4755 - val_acc: 0.5067\n",
      "Epoch 15/50\n",
      "889/889 [==============================] - 0s 148us/step - loss: 0.3152 - acc: 0.5883 - val_loss: 0.1398 - val_acc: 0.6637\n",
      "Epoch 16/50\n",
      "889/889 [==============================] - 0s 147us/step - loss: 0.1272 - acc: 0.6997 - val_loss: 0.1133 - val_acc: 0.7130\n",
      "Epoch 17/50\n",
      "889/889 [==============================] - 0s 148us/step - loss: 0.1065 - acc: 0.7357 - val_loss: 0.1032 - val_acc: 0.7444\n",
      "Epoch 18/50\n",
      "889/889 [==============================] - 0s 155us/step - loss: 0.0964 - acc: 0.7582 - val_loss: 0.0962 - val_acc: 0.7578\n",
      "Epoch 19/50\n",
      "889/889 [==============================] - 0s 154us/step - loss: 0.0891 - acc: 0.7672 - val_loss: 0.0916 - val_acc: 0.7803\n",
      "Epoch 20/50\n",
      "889/889 [==============================] - 0s 157us/step - loss: 0.0838 - acc: 0.7807 - val_loss: 0.0883 - val_acc: 0.7803\n",
      "Epoch 21/50\n",
      "889/889 [==============================] - 0s 156us/step - loss: 0.0797 - acc: 0.7773 - val_loss: 0.0866 - val_acc: 0.7848\n",
      "Epoch 22/50\n",
      "889/889 [==============================] - 0s 155us/step - loss: 0.0769 - acc: 0.7807 - val_loss: 0.0858 - val_acc: 0.7758\n",
      "Epoch 23/50\n",
      "889/889 [==============================] - 0s 156us/step - loss: 0.0749 - acc: 0.7762 - val_loss: 0.0856 - val_acc: 0.7713\n",
      "Epoch 24/50\n",
      "889/889 [==============================] - 0s 162us/step - loss: 0.0738 - acc: 0.7750 - val_loss: 0.0856 - val_acc: 0.7668\n",
      "Epoch 25/50\n",
      "889/889 [==============================] - 0s 157us/step - loss: 0.0728 - acc: 0.7728 - val_loss: 0.0856 - val_acc: 0.7534\n",
      "Epoch 26/50\n",
      "889/889 [==============================] - 0s 156us/step - loss: 0.0723 - acc: 0.7660 - val_loss: 0.0856 - val_acc: 0.7399\n",
      "Epoch 27/50\n",
      "889/889 [==============================] - 0s 187us/step - loss: 0.0718 - acc: 0.7593 - val_loss: 0.0855 - val_acc: 0.7399\n",
      "Epoch 28/50\n",
      "889/889 [==============================] - 0s 193us/step - loss: 0.0714 - acc: 0.7469 - val_loss: 0.0853 - val_acc: 0.7265\n",
      "Epoch 29/50\n",
      "889/889 [==============================] - 0s 162us/step - loss: 0.0710 - acc: 0.7312 - val_loss: 0.0851 - val_acc: 0.7175\n",
      "Epoch 30/50\n",
      "889/889 [==============================] - 0s 155us/step - loss: 0.0707 - acc: 0.7278 - val_loss: 0.0851 - val_acc: 0.7085\n",
      "Epoch 31/50\n",
      "889/889 [==============================] - 0s 152us/step - loss: 0.0703 - acc: 0.7154 - val_loss: 0.0849 - val_acc: 0.6996\n",
      "Epoch 32/50\n",
      "889/889 [==============================] - 0s 154us/step - loss: 0.0701 - acc: 0.7030 - val_loss: 0.0845 - val_acc: 0.6951\n",
      "Epoch 33/50\n",
      "889/889 [==============================] - 0s 162us/step - loss: 0.0698 - acc: 0.6997 - val_loss: 0.0842 - val_acc: 0.6861\n",
      "Epoch 34/50\n",
      "889/889 [==============================] - 0s 168us/step - loss: 0.0696 - acc: 0.6985 - val_loss: 0.0844 - val_acc: 0.6726\n",
      "Epoch 35/50\n",
      "889/889 [==============================] - 0s 168us/step - loss: 0.0692 - acc: 0.6918 - val_loss: 0.0837 - val_acc: 0.6682\n",
      "Epoch 36/50\n",
      "889/889 [==============================] - 0s 204us/step - loss: 0.0689 - acc: 0.6850 - val_loss: 0.0836 - val_acc: 0.6592\n",
      "Epoch 37/50\n",
      "889/889 [==============================] - 0s 179us/step - loss: 0.0686 - acc: 0.6794 - val_loss: 0.0834 - val_acc: 0.6547\n",
      "Epoch 38/50\n",
      "889/889 [==============================] - 0s 142us/step - loss: 0.0684 - acc: 0.6727 - val_loss: 0.0829 - val_acc: 0.6457\n",
      "Epoch 39/50\n",
      "889/889 [==============================] - 0s 157us/step - loss: 0.0680 - acc: 0.6659 - val_loss: 0.0829 - val_acc: 0.6323\n",
      "Epoch 40/50\n",
      "889/889 [==============================] - 0s 145us/step - loss: 0.0678 - acc: 0.6580 - val_loss: 0.0824 - val_acc: 0.6278\n",
      "Epoch 41/50\n",
      "889/889 [==============================] - 0s 153us/step - loss: 0.0674 - acc: 0.6502 - val_loss: 0.0822 - val_acc: 0.6143\n",
      "Epoch 42/50\n",
      "889/889 [==============================] - 0s 141us/step - loss: 0.0671 - acc: 0.6400 - val_loss: 0.0820 - val_acc: 0.6054\n",
      "Epoch 43/50\n",
      "889/889 [==============================] - 0s 150us/step - loss: 0.0668 - acc: 0.6277 - val_loss: 0.0816 - val_acc: 0.6009\n",
      "Epoch 44/50\n",
      "889/889 [==============================] - 0s 154us/step - loss: 0.0666 - acc: 0.6265 - val_loss: 0.0810 - val_acc: 0.6054\n",
      "Epoch 45/50\n",
      "889/889 [==============================] - 0s 153us/step - loss: 0.0663 - acc: 0.6175 - val_loss: 0.0804 - val_acc: 0.5874\n",
      "Epoch 46/50\n",
      "889/889 [==============================] - 0s 168us/step - loss: 0.0660 - acc: 0.6130 - val_loss: 0.0805 - val_acc: 0.5785\n",
      "Epoch 47/50\n",
      "889/889 [==============================] - 0s 156us/step - loss: 0.0656 - acc: 0.6074 - val_loss: 0.0798 - val_acc: 0.5695\n",
      "Epoch 48/50\n",
      "889/889 [==============================] - 0s 159us/step - loss: 0.0654 - acc: 0.6029 - val_loss: 0.0798 - val_acc: 0.5605\n",
      "Epoch 49/50\n",
      "889/889 [==============================] - 0s 158us/step - loss: 0.0650 - acc: 0.5996 - val_loss: 0.0792 - val_acc: 0.5605\n",
      "Epoch 50/50\n",
      "889/889 [==============================] - 0s 181us/step - loss: 0.0647 - acc: 0.5973 - val_loss: 0.0790 - val_acc: 0.5605\n"
     ]
    },
    {
     "data": {
      "text/plain": [
       "<keras.callbacks.History at 0x7fde49ddf978>"
      ]
     },
     "execution_count": 11,
     "metadata": {},
     "output_type": "execute_result"
    }
   ],
   "source": [
    "LSTM_model.fit(X_train, y_train , epochs = 50, batch_size = 32, shuffle=True,validation_data=(X_dev, y_dev))"
   ]
  },
  {
   "cell_type": "code",
   "execution_count": null,
   "metadata": {},
   "outputs": [],
   "source": []
  },
  {
   "cell_type": "code",
   "execution_count": null,
   "metadata": {},
   "outputs": [],
   "source": []
  }
 ],
 "metadata": {
  "kernelspec": {
   "display_name": "Python 3",
   "language": "python",
   "name": "python3"
  },
  "language_info": {
   "codemirror_mode": {
    "name": "ipython",
    "version": 3
   },
   "file_extension": ".py",
   "mimetype": "text/x-python",
   "name": "python",
   "nbconvert_exporter": "python",
   "pygments_lexer": "ipython3",
   "version": "3.7.0"
  }
 },
 "nbformat": 4,
 "nbformat_minor": 2
}
