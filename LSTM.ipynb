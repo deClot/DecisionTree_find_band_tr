{
  "nbformat": 4,
  "nbformat_minor": 0,
  "metadata": {
    "colab": {
      "name": "LSTM.ipynb",
      "version": "0.3.2",
      "provenance": [],
      "collapsed_sections": [],
      "toc_visible": true
    },
    "language_info": {
      "codemirror_mode": {
        "name": "ipython",
        "version": 3
      },
      "file_extension": ".py",
      "mimetype": "text/x-python",
      "name": "python",
      "nbconvert_exporter": "python",
      "pygments_lexer": "ipython3",
      "version": "3.7.0"
    },
    "kernelspec": {
      "name": "python3",
      "display_name": "Python 3"
    }
  },
  "cells": [
    {
      "metadata": {
        "id": "GDtJzrsw_P9P",
        "colab_type": "code",
        "outputId": "cfe00d45-3068-47fb-f643-e8de2be9e1ea",
        "colab": {
          "resources": {
            "http://localhost:8080/nbextensions/google.colab/files.js": {
              "data": "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",
              "ok": true,
              "headers": [
                [
                  "content-type",
                  "application/javascript"
                ]
              ],
              "status": 200,
              "status_text": ""
            }
          },
          "base_uri": "https://localhost:8080/",
          "height": 74
        }
      },
      "cell_type": "code",
      "source": [
        "#files to open: train and test data,\n",
        "\n",
        "from google.colab import files\n",
        "\n",
        "uploaded = files.upload()\n"
      ],
      "execution_count": 201,
      "outputs": [
        {
          "output_type": "display_data",
          "data": {
            "text/html": [
              "\n",
              "     <input type=\"file\" id=\"files-d7b2c679-f297-40bf-b22e-e8c31d40bbf5\" name=\"files[]\" multiple disabled />\n",
              "     <output id=\"result-d7b2c679-f297-40bf-b22e-e8c31d40bbf5\">\n",
              "      Upload widget is only available when the cell has been executed in the\n",
              "      current browser session. Please rerun this cell to enable.\n",
              "      </output>\n",
              "      <script src=\"/nbextensions/google.colab/files.js\"></script> "
            ],
            "text/plain": [
              "<IPython.core.display.HTML object>"
            ]
          },
          "metadata": {
            "tags": []
          }
        },
        {
          "output_type": "stream",
          "text": [
            "Saving train_y0_rand_v8.csv to train_y0_rand_v8.csv\n"
          ],
          "name": "stdout"
        }
      ]
    },
    {
      "metadata": {
        "id": "21d8nmrzFEED",
        "colab_type": "text"
      },
      "cell_type": "markdown",
      "source": [
        "# Imports and functions"
      ]
    },
    {
      "metadata": {
        "id": "XiZyQ_BR_No6",
        "colab_type": "code",
        "colab": {}
      },
      "cell_type": "code",
      "source": [
        "import pandas as pd\n",
        "import numpy as np\n",
        "\n",
        "from sklearn.model_selection import train_test_split\n",
        "from sklearn.preprocessing import StandardScaler\n",
        "from sklearn.preprocessing import MinMaxScaler\n",
        "\n",
        "from sklearn.utils import class_weight\n",
        "from sklearn.metrics import recall_score, precision_score, confusion_matrix"
      ],
      "execution_count": 0,
      "outputs": []
    },
    {
      "metadata": {
        "id": "IbPTiaHb_NpC",
        "colab_type": "code",
        "outputId": "0ba4dd67-0631-4211-cb98-fe624de22c6f",
        "colab": {
          "base_uri": "https://localhost:8080/",
          "height": 34
        }
      },
      "cell_type": "code",
      "source": [
        "import numpy as np\n",
        "from keras.models import Model\n",
        "from keras.layers import Dense, Input, Dropout, LSTM, Activation"
      ],
      "execution_count": 5,
      "outputs": [
        {
          "output_type": "stream",
          "text": [
            "Using TensorFlow backend.\n"
          ],
          "name": "stderr"
        }
      ]
    },
    {
      "metadata": {
        "id": "bfeW1EwG_NpF",
        "colab_type": "code",
        "colab": {}
      },
      "cell_type": "code",
      "source": [
        "import matplotlib.pyplot as plt\n",
        "%matplotlib inline\n",
        "\n",
        "def plot_loss(epochs, loss, val_loss):\n",
        "    plt.figure(figsize=(10, 7))\n",
        "    plt.plot(np.arange(epochs), loss, label='loss')\n",
        "    plt.plot(np.arange(epochs), val_loss, label='val_loss')\n",
        "    plt.legend()\n",
        "    plt.grid(True)\n",
        "def acc_graph(epochs, train_acc, val_acc):\n",
        "    x_axis = np.linspace(1, epochs, num=epochs)\n",
        "    \n",
        "    plt.figure(figsize=(10, 7))\n",
        "    plt.plot(x_axis, train_acc, color='g', lw=3, alpha=0.7, label='Train Accuracy')\n",
        "    plt.plot(x_axis, val_acc, color='orange', lw=3, alpha=0.7, label='Val Accuracy')\n",
        "    plt.title('Accuracy graph')\n",
        "    plt.xlabel('Epoch')\n",
        "    plt.ylabel('Accuracy')\n",
        "    plt.legend(loc='lower right')\n",
        "    plt.grid(True)"
      ],
      "execution_count": 0,
      "outputs": []
    },
    {
      "metadata": {
        "id": "5_hj_szh_NpH",
        "colab_type": "code",
        "colab": {}
      },
      "cell_type": "code",
      "source": [
        "def calculation_classes(y, y_test = None):\n",
        "    print ('\\t\\tTRAIN DATA\\tTEST DATA')\n",
        "    print ('Negative\\t', np.sum(y==0),'  ',\n",
        "           round(100*np.sum(y==0)/y.shape[0],2),'%',\n",
        "           '\\t',np.sum(y_test==0),'  ',\n",
        "           round(100*np.sum(y_test==0)/y_test.shape[0],2),'%'\n",
        "           '\\nPositive\\t ', np.sum(y==1),' ',\n",
        "           round(100*np.sum(y==1)/y.shape[0],2),'%'\n",
        "           '\\t',np.sum(y_test==1),' ',\n",
        "           round(100*np.sum(y_test==1)/y_test.shape[0],2),'%'\n",
        "      )"
      ],
      "execution_count": 0,
      "outputs": []
    },
    {
      "metadata": {
        "id": "j4ZUJDQE_NpK",
        "colab_type": "code",
        "colab": {}
      },
      "cell_type": "code",
      "source": [
        "#from utils import model"
      ],
      "execution_count": 0,
      "outputs": []
    },
    {
      "metadata": {
        "id": "_-zc8IV-QyDA",
        "colab_type": "code",
        "colab": {}
      },
      "cell_type": "code",
      "source": [
        "def scale_0_1_for_samples(X):\n",
        "  mm = MinMaxScaler()\n",
        "\n",
        "  for i in range(X.shape[0]):\n",
        "    line = X[i]\n",
        "    #print(line)\n",
        "  \n",
        "    line = line.reshape(-1, 1)\n",
        "    X[i] = mm.fit_transform(line).reshape(1,-1)\n",
        "  return X\n",
        " \n",
        "def scale_standard_for_1sample(X):\n",
        "  ss = StandardScaler()\n",
        "\n",
        "  for i in range(X.shape[0]):\n",
        "    line = X[i]\n",
        "    X[i] = ss.fit_transform(line.reshape(-1,1)).reshape(1,-1)\n",
        "  return X\n",
        "\n",
        "def scale_substraction_mean_for_1sample(X):\n",
        "  for i in range(X.shape[0]):\n",
        "    line = X[i]\n",
        "    #print(line)\n",
        "    mean = np.mean(line)\n",
        "    #print(mean)\n",
        "    X[i] = line - mean\n",
        "    #print(X[i])\n",
        "    \n",
        "  return X\n",
        "    "
      ],
      "execution_count": 0,
      "outputs": []
    },
    {
      "metadata": {
        "id": "66Y9OHfQbGA0",
        "colab_type": "code",
        "colab": {}
      },
      "cell_type": "code",
      "source": [
        "def get_mean_for_features(X):\n",
        "  m = X.shape[0]\n",
        "  X_mean = np.zeros((m,1))\n",
        "  for i in range(m):\n",
        "    X_mean[i] = np.mean(X[i,:], axis=0)\n",
        "  return X_mean\n",
        "\n",
        "def scale_standard_for_samples(X, X_mean):\n",
        "  ss = StandardScaler()\n",
        "  ss.fit(X_mean)\n",
        "\n",
        "  X = ss.transform(X)\n",
        "  return X"
      ],
      "execution_count": 0,
      "outputs": []
    },
    {
      "metadata": {
        "id": "6OnpKlvHkRTW",
        "colab_type": "code",
        "colab": {}
      },
      "cell_type": "code",
      "source": [
        "def make_predictions(X, y, model, X_ini,out=False,):\n",
        "  preds = model.predict(X)\n",
        "  y_predict = np.where(preds > 0.5, 1, 0)\n",
        "  recall = recall_score(y, y_predict)\n",
        "  print('Recall = ', recall, 'Precision = ', precision_score(y, y_predict))\n",
        "  cm  = confusion_matrix(y, y_predict)\n",
        "  print(cm)\n",
        "  if out is True:\n",
        "    for i in range(X.shape[0]):\n",
        "      if abs(y_predict[i] - y[i])!= 0:\n",
        "        print(y[i], preds[i], X_ini[i], np.ndarray.tolist(X[i]))\n",
        "    "
      ],
      "execution_count": 0,
      "outputs": []
    },
    {
      "metadata": {
        "id": "p0FREjTx_NpO",
        "colab_type": "text"
      },
      "cell_type": "markdown",
      "source": [
        "# Import data sets"
      ]
    },
    {
      "metadata": {
        "id": "fdz_7GPb_NpP",
        "colab_type": "code",
        "colab": {}
      },
      "cell_type": "code",
      "source": [
        "#data_train = pd.read_csv('sources/train.csv')\n",
        "#data_test = pd.read_csv('sources/test_v7_v8.csv')\n",
        "\n",
        "data1_train = pd.read_csv('train_y1_v8.csv')\n",
        "data0_train = pd.read_csv('train_y0_v8.csv')\n",
        "data0_train_rand = pd.read_csv('train_y0_rand_v8.csv')\n",
        "\n",
        "\n",
        "X = np.vstack((data1_train.drop(['Y'], axis='columns').values, data0_train.drop(['Y'], axis='columns').values))\n",
        "X = np.vstack((X, data0_train_rand.drop(['Y'], axis='columns').values))\n",
        "\n",
        "\n",
        "y = np.hstack((data1_train['Y'].values, data0_train['Y'].values))\n",
        "y = np.hstack((y, data0_train_rand['Y'].values))\n",
        "\n",
        "X_ini = X.copy()"
      ],
      "execution_count": 0,
      "outputs": []
    },
    {
      "metadata": {
        "id": "oCSpZao5ePFE",
        "colab_type": "code",
        "colab": {}
      },
      "cell_type": "code",
      "source": [
        "data_add = pd.read_csv('train_0_change_1_to_close.csv')\n",
        "\n",
        "X_add = data_add.drop(['Y'], axis='columns').values\n",
        "y_add = data_add['Y'].values\n",
        "\n",
        "X = np.vstack((X, X_add))\n",
        "y = np.hstack((y, y_add))"
      ],
      "execution_count": 0,
      "outputs": []
    },
    {
      "metadata": {
        "id": "VAqN3pkFFUsW",
        "colab_type": "code",
        "colab": {}
      },
      "cell_type": "code",
      "source": [
        "data_v4 = pd.read_csv('train_0_v4.csv')\n",
        "\n",
        "X_add = data_add.drop(['Y'], axis='columns').values\n",
        "y_add = data_add['Y'].values\n",
        "\n",
        "X = np.vstack((X, X_add))\n",
        "y = np.hstack((y, y_add))"
      ],
      "execution_count": 0,
      "outputs": []
    },
    {
      "metadata": {
        "id": "h0RDqrhyPqbG",
        "colab_type": "code",
        "colab": {}
      },
      "cell_type": "code",
      "source": [
        "scale_X = scale_substraction_mean_for_1sample"
      ],
      "execution_count": 0,
      "outputs": []
    },
    {
      "metadata": {
        "id": "6yWkLvtCGJL8",
        "colab_type": "code",
        "outputId": "9045a744-a75d-46df-a64f-d431a74c1727",
        "colab": {
          "base_uri": "https://localhost:8080/",
          "height": 102
        }
      },
      "cell_type": "code",
      "source": [
        "X = scale_X(X)\n",
        "\n",
        "X_train,X_dev,y_train,y_dev = train_test_split(X, y, test_size=0.2, \\\n",
        "                                               shuffle=True, stratify=y)\n",
        "\n",
        "class_weights_train = class_weight.compute_class_weight('balanced',\n",
        "                                                 np.unique(y_train),\n",
        "                                                 y_train)\n",
        "class_weights = class_weight.compute_class_weight('balanced',\n",
        "                                                 np.unique(y), y)\n",
        "print(class_weights)\n",
        "print(class_weights[0]/(class_weights[1]+class_weights[0]))\n",
        "calculation_classes(y, y_dev)\n",
        "\n",
        "X = np.expand_dims(X, axis=2)\n",
        "X_train = np.expand_dims(X_train, axis=2)\n",
        "X_dev = np.expand_dims(X_dev, axis=2)"
      ],
      "execution_count": 211,
      "outputs": [
        {
          "output_type": "stream",
          "text": [
            "[0.55257412 5.25519126]\n",
            "0.0951440158053447\n",
            "\t\tTRAIN DATA\tTEST DATA\n",
            "Negative\t 69616    90.49 % \t 13924    90.49 %\n",
            "Positive\t  7320   9.51 %\t 1464   9.51 %\n"
          ],
          "name": "stdout"
        }
      ]
    },
    {
      "metadata": {
        "id": "oPZjFAaNGvc_",
        "colab_type": "code",
        "colab": {}
      },
      "cell_type": "code",
      "source": [
        "data_v4_test = pd.read_csv('test_v4_7615.csv')\n",
        "X_v4 = data_v4_test.drop(['Y'], axis='columns').values\n",
        "y_v4 = data_v4_test['Y'].values\n",
        "test_v4 =  data_v4_test.drop(['Y'], axis='columns').values\n",
        "\n",
        "X_v4 = scale_X(X_v4)\n",
        "X_v4 = np.expand_dims(X_v4, axis=2)"
      ],
      "execution_count": 0,
      "outputs": []
    },
    {
      "metadata": {
        "id": "lAtb7uNZKwLr",
        "colab_type": "code",
        "colab": {}
      },
      "cell_type": "code",
      "source": [
        "data_v7v8 = pd.read_csv('test_v7_v8.csv')\n",
        "\n",
        "X_v7v8 = data_v7v8.drop(['Y'], axis='columns').values\n",
        "test_v7v8 =  data_v7v8.drop(['Y'], axis='columns').values\n",
        "y_v7v8 = data_v7v8['Y'].values\n",
        "\n",
        "X_v7v8 = scale_X(X_v7v8)\n",
        "X_v7v8 = np.expand_dims(X_v7v8, axis=2)"
      ],
      "execution_count": 0,
      "outputs": []
    },
    {
      "metadata": {
        "id": "gK6YT84J_NpS",
        "colab_type": "code",
        "colab": {}
      },
      "cell_type": "code",
      "source": [
        "#data_test = pd.read_csv('sources/test_v3.csv')\n",
        "data_v3 = pd.read_csv('test_v3.csv')\n",
        "\n",
        "X_v3 = data_v3.drop(['Y'], axis='columns').values\n",
        "test_v3 =  data_v3.drop(['Y'], axis='columns').values\n",
        "y_v3 = data_v3['Y'].values\n",
        "\n",
        "X_v3 = scale_X(X_v3)\n",
        "X_v3 = np.expand_dims(X_v3, axis=2)"
      ],
      "execution_count": 0,
      "outputs": []
    },
    {
      "metadata": {
        "id": "LwZN3_Nm_Npj",
        "colab_type": "text"
      },
      "cell_type": "markdown",
      "source": [
        "# NN on train/dev sets"
      ]
    },
    {
      "metadata": {
        "id": "FFJ0lUqb_NpM",
        "colab_type": "code",
        "colab": {}
      },
      "cell_type": "code",
      "source": [
        "from keras.models import Model, Sequential\n",
        "from keras.layers import Dense, Input, GRU, LSTM\n",
        "from keras.optimizers import Adam\n",
        "from keras.callbacks import LearningRateScheduler\n",
        "\n",
        "\n",
        "def model_GRU(input_shape, Ty, hidden_size):\n",
        "    i = Input(shape=input_shape, dtype='float32')\n",
        "    X = GRU(hidden_size, return_sequences=False)(i)\n",
        "    \n",
        "    X = Dense(Ty, activation='sigmoid')(X)\n",
        "    model = Model(inputs=[i], outputs=X)\n",
        "    \n",
        "    return model\n",
        "  \n",
        "def model_LSTM(hidden_size):  \n",
        "  model = Sequential()\n",
        "  model.add(LSTM(hidden_size, return_sequences=False, input_shape=(Tx,1)))\n",
        "  model.add(Dense(units=1, activation='sigmoid'))\n",
        "  \n",
        "  return model\n"
      ],
      "execution_count": 0,
      "outputs": []
    },
    {
      "metadata": {
        "id": "UXEstYQtR2lI",
        "colab_type": "code",
        "outputId": "74dfdafb-ba6d-4aef-8668-646e09afd45f",
        "colab": {
          "base_uri": "https://localhost:8080/",
          "height": 54
        }
      },
      "cell_type": "code",
      "source": [
        "# For ready model\n",
        "'''GRU_model = model_GRU((Tx,1),Ty)#LSTM_model.summary()\n",
        "GRU_model.compile(loss='binary_crossentropy', optimizer='adam', metrics=['accuracy'])\n",
        "\n",
        "\n",
        "GRU_model.load_weights('GRU_sequence_weights.h5')'''"
      ],
      "execution_count": 165,
      "outputs": [
        {
          "output_type": "execute_result",
          "data": {
            "text/plain": [
              "\"GRU_model = model_GRU((Tx,1),Ty)#LSTM_model.summary()\\nGRU_model.compile(loss='binary_crossentropy', optimizer='adam', metrics=['accuracy'])\\n\\n\\nGRU_model.load_weights('GRU_sequence_weights.h5')\""
            ]
          },
          "metadata": {
            "tags": []
          },
          "execution_count": 165
        }
      ]
    },
    {
      "metadata": {
        "id": "W6dszbna_Npk",
        "colab_type": "code",
        "colab": {}
      },
      "cell_type": "code",
      "source": [
        "Tx=  6\n",
        "Ty = 1\n",
        "epochs = 5\n",
        "batch_size = 32"
      ],
      "execution_count": 0,
      "outputs": []
    },
    {
      "metadata": {
        "id": "jncFQcYy_Npn",
        "colab_type": "code",
        "outputId": "f097ffa3-424f-4390-bebc-0e33c61576bd",
        "colab": {
          "base_uri": "https://localhost:8080/",
          "height": 204
        }
      },
      "cell_type": "code",
      "source": [
        "GRU_model = model_LSTM(16)\n",
        "opt = Adam(lr=0.02, beta_1=0.9, beta_2=0.999)\n",
        "GRU_model.compile(loss='binary_crossentropy', optimizer=opt, metrics=['accuracy'])\n",
        "logs = GRU_model.fit(X_train, y_train, epochs=epochs, batch_size=batch_size, shuffle=True,\\\n",
        "                    validation_data=(X_dev, y_dev), verbose=2, class_weight=class_weights_train, \\\n",
        "                    initial_epoch=0)"
      ],
      "execution_count": 212,
      "outputs": [
        {
          "output_type": "stream",
          "text": [
            "Train on 61548 samples, validate on 15388 samples\n",
            "Epoch 1/5\n",
            " - 12s - loss: 0.2226 - acc: 0.9319 - val_loss: 0.0124 - val_acc: 0.9972\n",
            "Epoch 2/5\n",
            " - 8s - loss: 0.0119 - acc: 0.9965 - val_loss: 0.0055 - val_acc: 0.9985\n",
            "Epoch 3/5\n",
            " - 8s - loss: 0.0061 - acc: 0.9982 - val_loss: 0.0019 - val_acc: 0.9992\n",
            "Epoch 4/5\n",
            " - 8s - loss: 0.0055 - acc: 0.9986 - val_loss: 0.0063 - val_acc: 0.9982\n",
            "Epoch 5/5\n",
            " - 8s - loss: 0.0064 - acc: 0.9982 - val_loss: 0.0335 - val_acc: 0.9903\n"
          ],
          "name": "stdout"
        }
      ]
    },
    {
      "metadata": {
        "id": "NW-in0amJ5DR",
        "colab_type": "code",
        "colab": {}
      },
      "cell_type": "code",
      "source": [
        "opt = Adam(lr=0.005, beta_1=0.9, beta_2=0.999, decay=0.0005)\n",
        "GRU_model.compile(loss='binary_crossentropy', optimizer=opt, metrics=['accuracy'])"
      ],
      "execution_count": 0,
      "outputs": []
    },
    {
      "metadata": {
        "id": "9FUVkbjfKh0H",
        "colab_type": "code",
        "outputId": "af9e2047-37b9-4c04-80d6-6f407049fd6b",
        "colab": {
          "base_uri": "https://localhost:8080/",
          "height": 204
        }
      },
      "cell_type": "code",
      "source": [
        "n_epochs = 5\n",
        "logs = GRU_model.fit(X_train, y_train , epochs=n_epochs, batch_size=batch_size, shuffle=True,\\\n",
        "                    validation_data=(X_dev, y_dev), verbose=2, class_weight=class_weights_train)"
      ],
      "execution_count": 219,
      "outputs": [
        {
          "output_type": "stream",
          "text": [
            "Train on 61548 samples, validate on 15388 samples\n",
            "Epoch 1/5\n",
            " - 12s - loss: 9.0021e-04 - acc: 0.9998 - val_loss: 6.2915e-04 - val_acc: 0.9999\n",
            "Epoch 2/5\n",
            " - 8s - loss: 5.4814e-04 - acc: 0.9999 - val_loss: 3.2927e-04 - val_acc: 0.9999\n",
            "Epoch 3/5\n",
            " - 8s - loss: 2.7902e-04 - acc: 0.9999 - val_loss: 1.9602e-04 - val_acc: 0.9999\n",
            "Epoch 4/5\n",
            " - 8s - loss: 2.5352e-04 - acc: 0.9999 - val_loss: 1.5884e-04 - val_acc: 0.9999\n",
            "Epoch 5/5\n",
            " - 8s - loss: 2.0089e-04 - acc: 1.0000 - val_loss: 1.2681e-04 - val_acc: 0.9999\n"
          ],
          "name": "stdout"
        }
      ]
    },
    {
      "metadata": {
        "id": "qWip3visjS9M",
        "colab_type": "code",
        "outputId": "ef9d41db-e3ec-4310-c53b-13843e81c382",
        "colab": {
          "base_uri": "https://localhost:8080/",
          "height": 68
        }
      },
      "cell_type": "code",
      "source": [
        "make_predictions(X,y, GRU_model,X_ini, out=False)"
      ],
      "execution_count": 220,
      "outputs": [
        {
          "output_type": "stream",
          "text": [
            "Recall =  1.0 Precision =  0.9997268505872713\n",
            "[[69614     2]\n",
            " [    0  7320]]\n"
          ],
          "name": "stdout"
        }
      ]
    },
    {
      "metadata": {
        "id": "HWZGW_EPepGL",
        "colab_type": "code",
        "colab": {}
      },
      "cell_type": "code",
      "source": [
        "#make_predictions(X_dev,y_dev, out=True, model=GRU_model)"
      ],
      "execution_count": 0,
      "outputs": []
    },
    {
      "metadata": {
        "id": "4s53hYsv2Jbo",
        "colab_type": "code",
        "outputId": "07097dd0-3ed3-4aeb-999d-12225007b9d1",
        "colab": {
          "base_uri": "https://localhost:8080/",
          "height": 68
        }
      },
      "cell_type": "code",
      "source": [
        "make_predictions(X_v7v8, y_v7v8, out=True, model=GRU_model, X_ini=test_v7v8)"
      ],
      "execution_count": 222,
      "outputs": [
        {
          "output_type": "stream",
          "text": [
            "Recall =  1.0 Precision =  1.0\n",
            "[[13  0]\n",
            " [ 0 46]]\n"
          ],
          "name": "stdout"
        }
      ]
    },
    {
      "metadata": {
        "id": "KAVqJ0Etc1B8",
        "colab_type": "code",
        "outputId": "63d72d15-291e-4c6b-f11d-b6c7557a07e7",
        "colab": {
          "base_uri": "https://localhost:8080/",
          "height": 122
        }
      },
      "cell_type": "code",
      "source": [
        "make_predictions(X_v3, y_v3, out=True, model=GRU_model, X_ini=test_v3)"
      ],
      "execution_count": 223,
      "outputs": [
        {
          "output_type": "stream",
          "text": [
            "Recall =  0.9622641509433962 Precision =  1.0\n",
            "[[42  0]\n",
            " [ 2 51]]\n",
            "1.0 [0.03236437] [-0.365 -0.31  -0.262 -0.194 -0.126 -0.056] [[-0.14616666666666664], [-0.09116666666666665], [-0.04316666666666666], [0.024833333333333374], [0.09283333333333335], [0.16283333333333336]]\n",
            "1.0 [0.12937868] [0.315 0.417 0.526 0.642 0.764 0.9  ] [[-0.27899999999999997], [-0.17699999999999994], [-0.06799999999999995], [0.04800000000000004], [0.17000000000000004], [0.30600000000000005]]\n"
          ],
          "name": "stdout"
        }
      ]
    },
    {
      "metadata": {
        "id": "m23acahMtsOu",
        "colab_type": "code",
        "colab": {
          "base_uri": "https://localhost:8080/",
          "height": 51
        },
        "outputId": "782dbf61-19b6-43f8-cc2a-f7fb2e51b60a"
      },
      "cell_type": "code",
      "source": [
        "make_predictions(X_v4, y_v4, out=True, model=GRU_model, X_ini=test_v4)"
      ],
      "execution_count": 224,
      "outputs": [
        {
          "output_type": "stream",
          "text": [
            "Recall =  0.0 Precision =  0.0\n",
            "[[71]]\n"
          ],
          "name": "stdout"
        }
      ]
    },
    {
      "metadata": {
        "id": "A0pyJZ9beuDl",
        "colab_type": "code",
        "colab": {}
      },
      "cell_type": "code",
      "source": [
        "#make_predictions(X_add, y_add, out=True, model=GRU_model, X_ini=X_ini_add)"
      ],
      "execution_count": 0,
      "outputs": []
    },
    {
      "metadata": {
        "id": "GZSplb-P_Npv",
        "colab_type": "code",
        "colab": {}
      },
      "cell_type": "code",
      "source": [
        "#plot_loss(epochs, logplot_loss(epos.history.get('loss'), logs.history.get('val_loss'))"
      ],
      "execution_count": 0,
      "outputs": []
    },
    {
      "metadata": {
        "id": "SPeSwZ7d_Npy",
        "colab_type": "code",
        "colab": {}
      },
      "cell_type": "code",
      "source": [
        "#acc_graph(epochs, logs.history.get('acc'), logs.history.get('val_acc'))"
      ],
      "execution_count": 0,
      "outputs": []
    },
    {
      "metadata": {
        "id": "CmrNU65L_NqA",
        "colab_type": "code",
        "colab": {}
      },
      "cell_type": "code",
      "source": [
        "GRU_model.save_weights('LSTM_sequence_weights.h5')"
      ],
      "execution_count": 0,
      "outputs": []
    },
    {
      "metadata": {
        "id": "g392u_wAK9zd",
        "colab_type": "code",
        "colab": {}
      },
      "cell_type": "code",
      "source": [
        "files.download('LSTM_sequence_weights.h5')"
      ],
      "execution_count": 0,
      "outputs": []
    },
    {
      "metadata": {
        "id": "MmNRobJa_NqE",
        "colab_type": "code",
        "colab": {}
      },
      "cell_type": "code",
      "source": [
        "LSTM_model = model((Tx,1),Ty)\n",
        "#LSTM_model.summary()\n",
        "LSTM_model.compile(loss='binary_crossentropy', optimizer='adam', metrics=['accuracy'])\n",
        "logs = LSTM_model.fit(X_train, y_train , epochs=epochs, batch_size=batch_size, shuffle=True,\\\n",
        "               validation_data=(X_dev, y_dev), verbose=0, class_weight=class_weights_train)"
      ],
      "execution_count": 0,
      "outputs": []
    },
    {
      "metadata": {
        "id": "Qh-CPRLQ_NqG",
        "colab_type": "text"
      },
      "cell_type": "markdown",
      "source": [
        "# Final fit NN on all train set"
      ]
    },
    {
      "metadata": {
        "id": "isNoPp6K_NqH",
        "colab_type": "code",
        "colab": {}
      },
      "cell_type": "code",
      "source": [
        "Tx=  6\n",
        "Ty = 1\n",
        "epochs = 250\n",
        "batch_size = 32"
      ],
      "execution_count": 0,
      "outputs": []
    },
    {
      "metadata": {
        "id": "ks1Usr1x_NqK",
        "colab_type": "code",
        "colab": {}
      },
      "cell_type": "code",
      "source": [
        "LSTM_model = model((Tx,1),Ty)\n",
        "#LSTM_model.summary()\n",
        "LSTM_model.compile(loss='binary_crossentropy', optimizer='adam', metrics=['accuracy'])\n",
        "LSTM_model.fit(X, y , epochs=epochs, batch_size=batch_size, shuffle=True,\\\n",
        "               verbose=0, class_weight=class_weights)\n",
        "LSTM_model.save_weights('sources/LSTM_sequence_weights.h5')"
      ],
      "execution_count": 0,
      "outputs": []
    },
    {
      "metadata": {
        "id": "_R7AAT5T_NqM",
        "colab_type": "code",
        "colab": {}
      },
      "cell_type": "code",
      "source": [
        "print(LSTM_model.summary())\n",
        "test_preds = LSTM_model.predict(X_test)"
      ],
      "execution_count": 0,
      "outputs": []
    },
    {
      "metadata": {
        "id": "crGaA4yU_NqN",
        "colab_type": "code",
        "colab": {}
      },
      "cell_type": "code",
      "source": [
        "for i in range(X_test.shape[0]):\n",
        "    if test_preds[i] > 0.5:\n",
        "        print(i)"
      ],
      "execution_count": 0,
      "outputs": []
    },
    {
      "metadata": {
        "id": "u9-v1zer_NqR",
        "colab_type": "code",
        "colab": {}
      },
      "cell_type": "code",
      "source": [
        "LSTM_model = model((Tx,1),Ty)\n",
        "LSTM_model.compile(loss='binary_crossentropy', optimizer='adam', metrics=['accuracy'])\n",
        "\n",
        "LSTM_model.load_weights('LSTM_sequence_weights.h5')"
      ],
      "execution_count": 0,
      "outputs": []
    },
    {
      "metadata": {
        "id": "zIhaqheq_NqT",
        "colab_type": "code",
        "colab": {}
      },
      "cell_type": "code",
      "source": [
        "test_preds = LSTM_model.predict(X_test)\n",
        "\n",
        "for i in range(X_test.shape[0]):\n",
        "    if test_preds[i] > 0.5:\n",
        "        print(i)"
      ],
      "execution_count": 0,
      "outputs": []
    },
    {
      "metadata": {
        "id": "jDXYk528_NqY",
        "colab_type": "code",
        "colab": {}
      },
      "cell_type": "code",
      "source": [
        ""
      ],
      "execution_count": 0,
      "outputs": []
    }
  ]
}