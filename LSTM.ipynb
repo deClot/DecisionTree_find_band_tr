{
  "nbformat": 4,
  "nbformat_minor": 0,
  "metadata": {
    "colab": {
      "name": "LSTM.ipynb",
      "version": "0.3.2",
      "provenance": [],
      "collapsed_sections": [
        "21d8nmrzFEED"
      ],
      "toc_visible": true
    },
    "language_info": {
      "codemirror_mode": {
        "name": "ipython",
        "version": 3
      },
      "file_extension": ".py",
      "mimetype": "text/x-python",
      "name": "python",
      "nbconvert_exporter": "python",
      "pygments_lexer": "ipython3",
      "version": "3.7.0"
    },
    "kernelspec": {
      "name": "python3",
      "display_name": "Python 3"
    }
  },
  "cells": [
    {
      "cell_type": "code",
      "metadata": {
        "id": "GDtJzrsw_P9P",
        "colab_type": "code",
        "outputId": "4f6a1bda-9f0e-4150-cb14-501acbeb0d21",
        "colab": {
          "resources": {
            "http://localhost:8080/nbextensions/google.colab/files.js": {
              "data": "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",
              "ok": true,
              "headers": [
                [
                  "content-type",
                  "application/javascript"
                ]
              ],
              "status": 200,
              "status_text": ""
            }
          },
          "base_uri": "https://localhost:8080/",
          "height": 142
        }
      },
      "source": [
        "#files to open: train and test data,\n",
        "\n",
        "from google.colab import files\n",
        "\n",
        "uploaded = files.upload()\n"
      ],
      "execution_count": 2,
      "outputs": [
        {
          "output_type": "display_data",
          "data": {
            "text/html": [
              "\n",
              "     <input type=\"file\" id=\"files-e7fe3a29-5696-4f14-b9c9-af4c68249f90\" name=\"files[]\" multiple disabled />\n",
              "     <output id=\"result-e7fe3a29-5696-4f14-b9c9-af4c68249f90\">\n",
              "      Upload widget is only available when the cell has been executed in the\n",
              "      current browser session. Please rerun this cell to enable.\n",
              "      </output>\n",
              "      <script src=\"/nbextensions/google.colab/files.js\"></script> "
            ],
            "text/plain": [
              "<IPython.core.display.HTML object>"
            ]
          },
          "metadata": {
            "tags": []
          }
        },
        {
          "output_type": "stream",
          "text": [
            "Saving test_y1_v3.csv to test_y1_v3.csv\n",
            "Saving test_y1_v8.csv to test_y1_v8.csv\n",
            "Saving test_y1_v7.csv to test_y1_v7.csv\n"
          ],
          "name": "stdout"
        }
      ]
    },
    {
      "cell_type": "markdown",
      "metadata": {
        "id": "21d8nmrzFEED",
        "colab_type": "text"
      },
      "source": [
        "# Imports and functions"
      ]
    },
    {
      "cell_type": "code",
      "metadata": {
        "id": "XiZyQ_BR_No6",
        "colab_type": "code",
        "colab": {
          "base_uri": "https://localhost:8080/",
          "height": 34
        },
        "outputId": "e1331a9b-b242-4bd1-aa09-ba2f27bc7bf9"
      },
      "source": [
        "import pandas as pd\n",
        "import numpy as np\n",
        "\n",
        "from sklearn.model_selection import train_test_split\n",
        "from sklearn.preprocessing import StandardScaler\n",
        "from sklearn.preprocessing import MinMaxScaler\n",
        "\n",
        "from sklearn.utils import class_weight\n",
        "from sklearn.metrics import recall_score, precision_score, confusion_matrix\n",
        "\n",
        "from keras.models import Model\n",
        "from keras.layers import Dense, Input, Dropout, LSTM, Activation"
      ],
      "execution_count": 3,
      "outputs": [
        {
          "output_type": "stream",
          "text": [
            "Using TensorFlow backend.\n"
          ],
          "name": "stderr"
        }
      ]
    },
    {
      "cell_type": "code",
      "metadata": {
        "id": "bfeW1EwG_NpF",
        "colab_type": "code",
        "colab": {}
      },
      "source": [
        "import matplotlib.pyplot as plt\n",
        "%matplotlib inline\n",
        "\n",
        "def plot_loss(epochs, loss, val_loss):\n",
        "    plt.figure(figsize=(10, 7))\n",
        "    plt.plot(np.arange(epochs), loss, label='loss')\n",
        "    plt.plot(np.arange(epochs), val_loss, label='val_loss')\n",
        "    plt.legend()\n",
        "    plt.grid(True)\n",
        "def acc_graph(epochs, train_acc, val_acc):\n",
        "    x_axis = np.linspace(1, epochs, num=epochs)\n",
        "    \n",
        "    plt.figure(figsize=(10, 7))\n",
        "    plt.plot(x_axis, train_acc, color='g', lw=3, alpha=0.7, label='Train Accuracy')\n",
        "    plt.plot(x_axis, val_acc, color='orange', lw=3, alpha=0.7, label='Val Accuracy')\n",
        "    plt.title('Accuracy graph')\n",
        "    plt.xlabel('Epoch')\n",
        "    plt.ylabel('Accuracy')\n",
        "    plt.legend(loc='lower right')\n",
        "    plt.grid(True)"
      ],
      "execution_count": 0,
      "outputs": []
    },
    {
      "cell_type": "code",
      "metadata": {
        "id": "5_hj_szh_NpH",
        "colab_type": "code",
        "colab": {}
      },
      "source": [
        "def calculation_classes(y, y_test = None):\n",
        "    print ('\\t\\tTRAIN DATA\\tTEST DATA')\n",
        "    print ('Negative\\t', np.sum(y==0),'  ',\n",
        "           round(100*np.sum(y==0)/y.shape[0],2),'%',\n",
        "           '\\t',np.sum(y_test==0),'  ',\n",
        "           round(100*np.sum(y_test==0)/y_test.shape[0],2),'%'\n",
        "           '\\nPositive\\t ', np.sum(y==1),' ',\n",
        "           round(100*np.sum(y==1)/y.shape[0],2),'%'\n",
        "           '\\t',np.sum(y_test==1),' ',\n",
        "           round(100*np.sum(y_test==1)/y_test.shape[0],2),'%'\n",
        "      )"
      ],
      "execution_count": 0,
      "outputs": []
    },
    {
      "cell_type": "code",
      "metadata": {
        "id": "_-zc8IV-QyDA",
        "colab_type": "code",
        "colab": {}
      },
      "source": [
        "def scale_0_1_for_samples(X):\n",
        "  mm = MinMaxScaler()\n",
        "\n",
        "  for i in range(X.shape[0]):\n",
        "    line = X[i]\n",
        "    #print(line)\n",
        "  \n",
        "    line = line.reshape(-1, 1)\n",
        "    X[i] = mm.fit_transform(line).reshape(1,-1)\n",
        "  return X\n",
        " \n",
        "def scale_standard_for_1sample(X):\n",
        "  ss = StandardScaler()\n",
        "\n",
        "  for i in range(X.shape[0]):\n",
        "    line = X[i]\n",
        "    X[i] = ss.fit_transform(line.reshape(-1,1)).reshape(1,-1)\n",
        "  return X\n",
        "\n",
        "def scale_substraction_mean_for_1sample(X):\n",
        "  for i in range(X.shape[0]):\n",
        "    line = X[i]\n",
        "    #print(line)\n",
        "    mean = np.mean(line)\n",
        "    #print(mean)\n",
        "    X[i] = line - mean \n",
        "    #if min(X[i]) < 0:\n",
        "    #  X[i] -= min(X[i])*1.2\n",
        "    #print(X[i])\n",
        "    \n",
        "  return X\n",
        "    "
      ],
      "execution_count": 0,
      "outputs": []
    },
    {
      "cell_type": "code",
      "metadata": {
        "id": "66Y9OHfQbGA0",
        "colab_type": "code",
        "colab": {}
      },
      "source": [
        "def get_mean_for_features(X):\n",
        "  m = X.shape[0]\n",
        "  X_mean = np.zeros((m,1))\n",
        "  for i in range(m):\n",
        "    X_mean[i] = np.mean(X[i,:], axis=0)\n",
        "  return X_mean\n",
        "\n",
        "def scale_standard_for_samples(X, X_mean):\n",
        "  ss = StandardScaler()\n",
        "  ss.fit(X_mean)\n",
        "\n",
        "  X = ss.transform(X)\n",
        "  return X"
      ],
      "execution_count": 0,
      "outputs": []
    },
    {
      "cell_type": "code",
      "metadata": {
        "id": "6OnpKlvHkRTW",
        "colab_type": "code",
        "colab": {}
      },
      "source": [
        "def make_predictions(X, y, model, X_ini,out=False,):\n",
        "  preds = model.predict(X)\n",
        "  y_predict = np.where(preds > 0.5, 1, 0)\n",
        "  recall = recall_score(y, y_predict)\n",
        "  print('Recall = ', recall, 'Precision = ', precision_score(y, y_predict))\n",
        "  cm  = confusion_matrix(y, y_predict)\n",
        "  print(cm)\n",
        "  if out is True:\n",
        "    for i in range(X.shape[0]):\n",
        "      if abs(y_predict[i] - y[i])!= 0:\n",
        "        print(y[i], preds[i], X_ini[i], np.ndarray.tolist(X[i]))\n",
        "    "
      ],
      "execution_count": 0,
      "outputs": []
    },
    {
      "cell_type": "code",
      "metadata": {
        "id": "VLgUqEjFM_8q",
        "colab_type": "code",
        "colab": {}
      },
      "source": [
        "def calculate_deltas(line):\n",
        "    deltas = [0]\n",
        "    for i in range(len(line)-1):\n",
        "        delta = line[i] - line[i+1]\n",
        "        deltas.append(delta)\n",
        "    return deltas"
      ],
      "execution_count": 0,
      "outputs": []
    },
    {
      "cell_type": "code",
      "metadata": {
        "id": "D4SIWGSWlRVm",
        "colab_type": "code",
        "colab": {}
      },
      "source": [
        "def make_prediction_many_to_many(X,y,model,X_ini, out=False):\n",
        "  pred = model.predict(X)[:,-1,:]\n",
        "  #pred = np.where(pred > 0.5, 1, 0)\n",
        "  pred = np.argmax(pred, axis=-1)\n",
        "  y_true = np.argmax(y[:,-1,:], axis=-1)\n",
        "  print(confusion_matrix(y_true, pred))\n",
        "  if out is True:\n",
        "    for i in range(X.shape[0]):\n",
        "      if abs(pred[i] - y_true[i]) != 0:\n",
        "        full_pred = model.predict(X[i:i+1,:,:])\n",
        "        print(y[i].tolist(), full_pred.tolist())\n",
        "        print(X_ini[i], X[i].tolist())\n",
        "        deltas = calculate_deltas(X_ini[i])\n",
        "        print('d', deltas)\n",
        "        print('d2', calculate_deltas(deltas[1:]))\n",
        "        \n",
        "        print('---------------------------')\n",
        "    "
      ],
      "execution_count": 0,
      "outputs": []
    },
    {
      "cell_type": "code",
      "metadata": {
        "id": "We4x_7vvSsC1",
        "colab_type": "code",
        "colab": {}
      },
      "source": [
        "def mismatching_pred(X, yoh, X_ini, *classes, model=model, flag_out=False):\n",
        "  print(classes)\n",
        "  class1, class0 = classes\n",
        "  pred = model.predict(X)\n",
        "  pred = np.argmax(pred, axis=-1)\n",
        "  y_cl = np.argmax(yoh, axis=-1)\n",
        "  counter1 = 0\n",
        "  counter0 = 0\n",
        "  for i in range(X.shape[0]):\n",
        "    for j in range(6):\n",
        "      if y_cl[i,j] == 1 and pred[i,j] == 0:\n",
        "        counter1 += 1\n",
        "        if flag_out is True:\n",
        "          print(counter1)\n",
        "          print(pred[i].tolist())\n",
        "          print(y_cl[i].tolist())\n",
        "          print(X[i,:,0])\n",
        "          print(X_ini[i])\n",
        "          d = calculate_deltas(X[i,:,0])\n",
        "          print(d)\n",
        "          print(calculate_deltas(d[1:]))\n",
        "          \n",
        "          print('--------------------')\n",
        "          break\n",
        "      elif y_cl[i,j] == 0 and pred[i,j] == 1:\n",
        "        counter0 += 1\n",
        "  print(counter1, counter1/class1)\n",
        "  if class0 == 0:\n",
        "    return None\n",
        "  print(counter0, counter0/class0)\n",
        "  \n",
        "def counter_classes(y):\n",
        "  class1 = 0\n",
        "  class0 = 0\n",
        "  \n",
        "  y_cl = np.argmax(y, axis=-1)\n",
        "  for line in y_cl:\n",
        "    for el in line:\n",
        "      if el == 1:\n",
        "        class1 += 1\n",
        "      else:\n",
        "        class0 += 1\n",
        "  \n",
        "  print('1:', class1)\n",
        "  print('0:', class0)\n",
        "  \n",
        "  return class1, class0"
      ],
      "execution_count": 0,
      "outputs": []
    },
    {
      "cell_type": "code",
      "metadata": {
        "id": "xbGKdmOsVmYo",
        "colab_type": "code",
        "colab": {}
      },
      "source": [
        "from keras.utils import to_categorical\n",
        "\n",
        "def preprocess_data(Y):\n",
        "    num = 2\n",
        "    Yoh = np.array(list(map(lambda x: to_categorical(x, num_classes=num), Y)))\n",
        "\n",
        "    return Yoh\n"
      ],
      "execution_count": 0,
      "outputs": []
    },
    {
      "cell_type": "code",
      "metadata": {
        "id": "9WRLPWu7RiZK",
        "colab_type": "code",
        "colab": {}
      },
      "source": [
        "x_columns = ['Y1','Y2','Y3','Y4','Y5','Y6']\n",
        "y_columns = ['1','2','3','4','5','6']\n",
        "\n",
        "def import_train_set(*file_names):\n",
        "  x_columns = ['Y1','Y2','Y3','Y4','Y5','Y6']\n",
        "  y_columns = ['1','2','3','4','5','6']\n",
        "  \n",
        "  X = np.zeros((0,6))\n",
        "  y = np.zeros((0,6))\n",
        "  for file in file_names:\n",
        "    data_train = pd.read_csv(file)\n",
        "    X = np.vstack((X, data_train.drop(x_columns, axis='columns').values))\n",
        "    y = np.vstack((y, data_train.drop(y_columns, axis='columns').values))\n",
        "  \n",
        "  X_ini = X.copy()\n",
        "  \n",
        "  return X,y, X_ini"
      ],
      "execution_count": 0,
      "outputs": []
    },
    {
      "cell_type": "markdown",
      "metadata": {
        "id": "p0FREjTx_NpO",
        "colab_type": "text"
      },
      "source": [
        "# Import data sets"
      ]
    },
    {
      "cell_type": "code",
      "metadata": {
        "id": "4jwOgKk19cKg",
        "colab_type": "code",
        "colab": {}
      },
      "source": [
        "train_files = ['train_y1_v8.csv',\n",
        "               'train_y0_rand.csv',\n",
        "               'train_y0_change_1_to_close.csv']"
      ],
      "execution_count": 0,
      "outputs": []
    },
    {
      "cell_type": "code",
      "metadata": {
        "id": "oisyG9j-9t0j",
        "colab_type": "code",
        "colab": {}
      },
      "source": [
        "X, y, X_ini = import_train_set(*train_files)"
      ],
      "execution_count": 0,
      "outputs": []
    },
    {
      "cell_type": "code",
      "metadata": {
        "id": "h0RDqrhyPqbG",
        "colab_type": "code",
        "colab": {}
      },
      "source": [
        "scale_X = scale_substraction_mean_for_1sample"
      ],
      "execution_count": 0,
      "outputs": []
    },
    {
      "cell_type": "code",
      "metadata": {
        "id": "6yWkLvtCGJL8",
        "colab_type": "code",
        "outputId": "a4cbe586-bc0d-4c4d-c702-c30df502caed",
        "colab": {
          "base_uri": "https://localhost:8080/",
          "height": 85
        }
      },
      "source": [
        "X = scale_X(X)\n",
        "\n",
        "X_train,X_dev,y_train,y_dev = train_test_split(X, y, test_size=0.2, \\\n",
        "                                               shuffle=True, stratify=y)\n",
        "\n",
        "'''\n",
        "class_weights_train = class_weight.compute_class_weight('balanced',\n",
        "                                                 np.unique(y_train[:,-1]),\n",
        "                                                 y_train[:,-1])\n",
        "class_weights = class_weight.compute_class_weight('balanced',\n",
        "                                                 np.unique(y[:,-1]), y[:,-1])\n",
        "print(class_weights)\n",
        "print(class_weights[0]/(class_weights[1]+class_weights[0]))\n",
        "'''\n",
        "calculation_classes(y[:,-1], y_dev[:,-1])\n",
        "\n",
        "X = np.expand_dims(X, axis=2)\n",
        "X_train = np.expand_dims(X_train, axis=2)\n",
        "X_dev = np.expand_dims(X_dev, axis=2)\n",
        "print(X_train.shape)"
      ],
      "execution_count": 17,
      "outputs": [
        {
          "output_type": "stream",
          "text": [
            "\t\tTRAIN DATA\tTEST DATA\n",
            "Negative\t 43267    81.79 % \t 8654    81.79 %\n",
            "Positive\t  9636   18.21 %\t 1927   18.21 %\n",
            "(42322, 6, 1)\n"
          ],
          "name": "stdout"
        }
      ]
    },
    {
      "cell_type": "code",
      "metadata": {
        "id": "2usUQdOvXf2l",
        "colab_type": "code",
        "outputId": "7f1ea50a-3ec1-49b8-a993-9b36fd15c672",
        "colab": {
          "base_uri": "https://localhost:8080/",
          "height": 34
        }
      },
      "source": [
        "yoh = preprocess_data(y)\n",
        "yoh_train = preprocess_data(y_train)\n",
        "yoh_dev = preprocess_data(y_dev)\n",
        "print(yoh.shape)"
      ],
      "execution_count": 18,
      "outputs": [
        {
          "output_type": "stream",
          "text": [
            "(52903, 6, 2)\n"
          ],
          "name": "stdout"
        }
      ]
    },
    {
      "cell_type": "code",
      "metadata": {
        "id": "oPZjFAaNGvc_",
        "colab_type": "code",
        "colab": {}
      },
      "source": [
        "data_v4_test = pd.read_csv('test_v4_7615_to_prediction.csv')\n",
        "X_v4 = data_v4_test.drop(x_columns, axis='columns').values\n",
        "y_v4 = data_v4_test.drop(y_columns, axis='columns').values\n",
        "test_v4 =  X_v4.copy()\n",
        "\n",
        "X_v4 = scale_X(X_v4)\n",
        "X_v4 = np.expand_dims(X_v4, axis=2)"
      ],
      "execution_count": 0,
      "outputs": []
    },
    {
      "cell_type": "code",
      "metadata": {
        "id": "lAtb7uNZKwLr",
        "colab_type": "code",
        "colab": {}
      },
      "source": [
        "data_v7 = pd.read_csv('test_y1_v7.csv')\n",
        "\n",
        "X_v7 = data_v7.drop(x_columns, axis='columns').values\n",
        "test_v7 =  X_v7.copy()\n",
        "y_v7 = data_v7.drop(y_columns, axis='columns').values\n",
        "\n",
        "X_v7 = scale_X(X_v7)\n",
        "X_v7 = np.expand_dims(X_v7, axis=2)\n",
        "#y_v7 = np.expand_dims(y_v7, axis=2)\n",
        "y_v7 = preprocess_data(y_v7)\n"
      ],
      "execution_count": 0,
      "outputs": []
    },
    {
      "cell_type": "code",
      "metadata": {
        "id": "FfkAsm0AUdTs",
        "colab_type": "code",
        "colab": {}
      },
      "source": [
        "data_v8 = pd.read_csv('test_y1_v8.csv')\n",
        "\n",
        "X_v8 = data_v8.drop(x_columns, axis='columns').values\n",
        "test_v8 =  X_v8.copy()\n",
        "y_v8 = data_v8.drop(y_columns, axis='columns').values\n",
        "\n",
        "X_v8 = scale_X(X_v8)\n",
        "X_v8 = np.expand_dims(X_v8, axis=2)\n",
        "#y_v8 = np.expand_dims(y_v8, axis=2)\n",
        "y_v8 = preprocess_data(y_v8)"
      ],
      "execution_count": 0,
      "outputs": []
    },
    {
      "cell_type": "code",
      "metadata": {
        "id": "gK6YT84J_NpS",
        "colab_type": "code",
        "colab": {}
      },
      "source": [
        "data_v3 = pd.read_csv('test_y1_v3.csv')\n",
        "\n",
        "X_v3 = data_v3.drop(x_columns, axis='columns').values\n",
        "test_v3 =  X_v3.copy()\n",
        "y_v3 = data_v3.drop(y_columns, axis='columns').values\n",
        "\n",
        "X_v3 = scale_X(X_v3)\n",
        "X_v3 = np.expand_dims(X_v3, axis=2)\n",
        "#y_v3 = np.expand_dims(y_v3, axis=2)\n",
        "y_v3 = preprocess_data(y_v3)\n"
      ],
      "execution_count": 0,
      "outputs": []
    },
    {
      "cell_type": "markdown",
      "metadata": {
        "id": "LwZN3_Nm_Npj",
        "colab_type": "text"
      },
      "source": [
        "# NN on train/dev sets"
      ]
    },
    {
      "cell_type": "code",
      "metadata": {
        "id": "FFJ0lUqb_NpM",
        "colab_type": "code",
        "colab": {}
      },
      "source": [
        "from keras.models import Model, Sequential\n",
        "from keras.layers import Dense, Input, GRU, LSTM, TimeDistributed\n",
        "from keras.optimizers import Adam\n",
        "from keras.callbacks import LearningRateScheduler\n",
        "\n",
        "\n",
        "def model_GRU(input_shape, Ty, hidden_size):\n",
        "    i = Input(shape=input_shape, dtype='float32')\n",
        "    X = GRU(hidden_size, return_sequences=False)(i)\n",
        "    \n",
        "    X = Dense(Ty, activation='sigmoid')(X)\n",
        "    model = Model(inputs=[i], outputs=X)\n",
        "    \n",
        "    return model\n",
        "  \n",
        "def model_LSTM(hidden_size):  \n",
        "  model = Sequential()\n",
        "  model.add(LSTM(hidden_size, return_sequences=False, input_shape=(Tx,1)))\n",
        "  model.add(Dense(units=1, activation='sigmoid'))\n",
        "  \n",
        "  return model\n",
        "\n",
        "def model_LSTM_many_to_many(hidden_size):\n",
        "  X = Input(shape=(6, 1))\n",
        "  h = LSTM(hidden_size, return_sequences=True)(X)\n",
        "  output = Dense(units=2, activation='softmax')(h)        \n",
        "    \n",
        "  model = Model(inputs=X, outputs=output)\n",
        "  \n",
        "  return model\n",
        "\n",
        "def model_LSTM_many_to_many_dence2(hidden_size, dence2):\n",
        "  X = Input(shape=(6, 1))\n",
        "  h = LSTM(hidden_size, return_sequences=True)(X)\n",
        "  print(h.shape)\n",
        "  h = Dense(units=dence2, activation='tanh')(h) \n",
        "  print(h.shape)\n",
        "  output = Dense(units=2, activation='softmax')(h)        \n",
        "    \n",
        "  model = Model(inputs=X, outputs=output)\n",
        "  \n",
        "  return model\n",
        "\n",
        "\n",
        "def model_LSTM_many_to_many_TD(hidden_size):\n",
        "  X = Input(shape=(6, 1))\n",
        "  h = LSTM(hidden_size, return_sequences=True)(X)\n",
        "  output = TimeDistributed(Dense(units=2, activation='softmax'))(h)        \n",
        "    \n",
        "  model = Model(inputs=X, outputs=output)\n",
        "  \n",
        "  return model\n",
        "\n",
        "hidden_size = 16\n",
        "LSTM_cell = LSTM(hidden_size, return_state = True)\n",
        "\n",
        "def model_LSTM_many_to_many_0(hidden_size):\n",
        "    X = Input(shape=(6, 1))\n",
        "    s0 = Input(shape=(hidden_size,), name='s0')\n",
        "    c0 = Input(shape=(hidden_size,), name='c0')\n",
        "    s = s0\n",
        "    c = c0\n",
        "    \n",
        "    outputs = []\n",
        "    \n",
        "    for t in range(6):\n",
        "        s, _, c = LSTM_cell(X, initial_state=[s,c])\n",
        "        \n",
        "        out = Dense(units=2, activation='softmax')(s)\n",
        "        \n",
        "        outputs.append(out)\n",
        "    \n",
        "    model = Model(inputs=[X, s0, c0], outputs=outputs)\n",
        "   \n",
        "    return model"
      ],
      "execution_count": 0,
      "outputs": []
    },
    {
      "cell_type": "code",
      "metadata": {
        "id": "UXEstYQtR2lI",
        "colab_type": "code",
        "colab": {}
      },
      "source": [
        "# For ready model\n",
        "#GRU_model = model_GRU((Tx,1),Ty)#GRU_model.summary()\n",
        "#GRU_model.compile(loss='binary_crossentropy', optimizer='adam', metrics=['accuracy'])\n",
        "\n",
        "\n",
        "#GRU_model.load_weights('LSTM_sequence_weights.h5')"
      ],
      "execution_count": 0,
      "outputs": []
    },
    {
      "cell_type": "code",
      "metadata": {
        "id": "1q-1Tokzs8YH",
        "colab_type": "code",
        "outputId": "eaf99df6-8b34-4ac8-9896-4e5217392f2d",
        "colab": {
          "base_uri": "https://localhost:8080/",
          "height": 34
        }
      },
      "source": [
        "hidden_size = 16\n",
        "epochs = 5\n",
        "batch_size = 32\n",
        "\n",
        "print(X_train.shape)"
      ],
      "execution_count": 25,
      "outputs": [
        {
          "output_type": "stream",
          "text": [
            "(42322, 6, 1)\n"
          ],
          "name": "stdout"
        }
      ]
    },
    {
      "cell_type": "code",
      "metadata": {
        "id": "jncFQcYy_Npn",
        "colab_type": "code",
        "outputId": "01916411-1798-482c-b30e-108ffe0b10ac",
        "colab": {
          "base_uri": "https://localhost:8080/",
          "height": 204
        }
      },
      "source": [
        "model = model_LSTM_many_to_many(hidden_size)\n",
        "opt = Adam(lr=0.01, beta_1=0.9, beta_2=0.999,decay=0.0)\n",
        "model.compile(loss='categorical_crossentropy', optimizer=opt, metrics=['accuracy'])\n",
        "\n",
        "logs = model.fit(X_train, yoh_train, epochs=epochs, batch_size=batch_size, shuffle=True,\\\n",
        "                     validation_data=(X_dev, yoh_dev), verbose=2) #, class_weight=class_weights_train, \\\n",
        "                   # initial_epoch=0) "
      ],
      "execution_count": 29,
      "outputs": [
        {
          "output_type": "stream",
          "text": [
            "Train on 42322 samples, validate on 10581 samples\n",
            "Epoch 1/5\n",
            " - 7s - loss: 0.3190 - acc: 0.8463 - val_loss: 0.2847 - val_acc: 0.8586\n",
            "Epoch 2/5\n",
            " - 5s - loss: 0.2799 - acc: 0.8597 - val_loss: 0.2789 - val_acc: 0.8589\n",
            "Epoch 3/5\n",
            " - 5s - loss: 0.2752 - acc: 0.8607 - val_loss: 0.2761 - val_acc: 0.8596\n",
            "Epoch 4/5\n",
            " - 5s - loss: 0.2721 - acc: 0.8619 - val_loss: 0.2743 - val_acc: 0.8600\n",
            "Epoch 5/5\n",
            " - 5s - loss: 0.2702 - acc: 0.8621 - val_loss: 0.2720 - val_acc: 0.8575\n"
          ],
          "name": "stdout"
        }
      ]
    },
    {
      "cell_type": "code",
      "metadata": {
        "id": "jlj4DR113zHL",
        "colab_type": "code",
        "colab": {
          "base_uri": "https://localhost:8080/",
          "height": 204
        },
        "outputId": "1b8955f9-5a1c-43ab-ef17-0113c6d7f93c"
      },
      "source": [
        "model_TD = model_LSTM_many_to_many_TD(hidden_size)\n",
        "opt = Adam(lr=0.01, beta_1=0.9, beta_2=0.999,decay=0.0)\n",
        "model_TD.compile(loss='categorical_crossentropy', optimizer=opt, metrics=['accuracy'])\n",
        "\n",
        "logs = model_TD.fit(X_train, yoh_train, epochs=epochs, batch_size=batch_size, shuffle=True,\\\n",
        "                     validation_data=(X_dev, yoh_dev), verbose=2) #, class_weight=class_weights_train, \\\n",
        "                   # initial_epoch=0) "
      ],
      "execution_count": 30,
      "outputs": [
        {
          "output_type": "stream",
          "text": [
            "Train on 42322 samples, validate on 10581 samples\n",
            "Epoch 1/5\n",
            " - 6s - loss: 0.3166 - acc: 0.8465 - val_loss: 0.2886 - val_acc: 0.8569\n",
            "Epoch 2/5\n",
            " - 5s - loss: 0.2810 - acc: 0.8588 - val_loss: 0.2774 - val_acc: 0.8605\n",
            "Epoch 3/5\n",
            " - 5s - loss: 0.2767 - acc: 0.8603 - val_loss: 0.2833 - val_acc: 0.8596\n",
            "Epoch 4/5\n",
            " - 5s - loss: 0.2728 - acc: 0.8611 - val_loss: 0.2804 - val_acc: 0.8524\n",
            "Epoch 5/5\n",
            " - 5s - loss: 0.2704 - acc: 0.8619 - val_loss: 0.2716 - val_acc: 0.8610\n"
          ],
          "name": "stdout"
        }
      ]
    },
    {
      "cell_type": "code",
      "metadata": {
        "id": "ZBzbavbc31lQ",
        "colab_type": "code",
        "colab": {
          "base_uri": "https://localhost:8080/",
          "height": 238
        },
        "outputId": "0b631995-34f4-4937-8c2f-5bfe35058d5c"
      },
      "source": [
        "model_dence2 = model_LSTM_many_to_many_dence2(hidden_size=32, dence2=16)\n",
        "opt = Adam(lr=0.01, beta_1=0.9, beta_2=0.999,decay=0.0)\n",
        "model_dence2.compile(loss='categorical_crossentropy', optimizer=opt, metrics=['accuracy'])\n",
        "\n",
        "logs = model_dence2.fit(X_train, yoh_train, epochs=epochs, batch_size=batch_size, shuffle=True,\\\n",
        "                     validation_data=(X_dev, yoh_dev), verbose=2) #, class_weight=class_weights_train, \\\n",
        "                   # initial_epoch=0) "
      ],
      "execution_count": 97,
      "outputs": [
        {
          "output_type": "stream",
          "text": [
            "(?, ?, 32)\n",
            "(?, 6, 16)\n",
            "Train on 42322 samples, validate on 10581 samples\n",
            "Epoch 1/5\n",
            " - 9s - loss: 0.3070 - acc: 0.8478 - val_loss: 0.2795 - val_acc: 0.8590\n",
            "Epoch 2/5\n",
            " - 6s - loss: 0.2770 - acc: 0.8595 - val_loss: 0.2740 - val_acc: 0.8617\n",
            "Epoch 3/5\n",
            " - 6s - loss: 0.2731 - acc: 0.8606 - val_loss: 0.2703 - val_acc: 0.8616\n",
            "Epoch 4/5\n",
            " - 6s - loss: 0.2700 - acc: 0.8611 - val_loss: 0.2714 - val_acc: 0.8615\n",
            "Epoch 5/5\n",
            " - 6s - loss: 0.2665 - acc: 0.8622 - val_loss: 0.2627 - val_acc: 0.8639\n"
          ],
          "name": "stdout"
        }
      ]
    },
    {
      "cell_type": "code",
      "metadata": {
        "id": "NW-in0amJ5DR",
        "colab_type": "code",
        "colab": {
          "base_uri": "https://localhost:8080/",
          "height": 34
        },
        "outputId": "0dacc505-b9e8-40c2-9a4c-9b73e4d81396"
      },
      "source": [
        "l_rate = 0.0002\n",
        "decay = 0.015\n",
        "rate = l_rate\n",
        "for i in range(n_epochs):\n",
        "  i += 1\n",
        "  rate = rate/(1+decay * i)\n",
        "print(rate)\n",
        "opt = Adam(lr=l_rate, beta_1=0.9, beta_2=0.999, decay=decay)\n",
        "GRU_model.compile(loss='categorical_crossentropy', optimizer=opt, metrics=['accuracy'])"
      ],
      "execution_count": 131,
      "outputs": [
        {
          "output_type": "stream",
          "text": [
            "9.124217057522553e-05\n"
          ],
          "name": "stdout"
        }
      ]
    },
    {
      "cell_type": "code",
      "metadata": {
        "id": "9FUVkbjfKh0H",
        "colab_type": "code",
        "outputId": "9bca48d0-fb7b-4604-aeb2-d4e3641957a0",
        "colab": {
          "base_uri": "https://localhost:8080/",
          "height": 374
        }
      },
      "source": [
        "n_epochs = 10\n",
        "logs = model_dence2.fit(X_train, yoh_train, epochs=n_epochs, batch_size=batch_size, shuffle=True,\\\n",
        "                        validation_data=(X_dev, yoh_dev), verbose=2) #, class_weight=class_weights_train, \\"
      ],
      "execution_count": 132,
      "outputs": [
        {
          "output_type": "stream",
          "text": [
            "Train on 42322 samples, validate on 10581 samples\n",
            "Epoch 1/10\n",
            " - 8s - loss: 0.0117 - acc: 0.9960 - val_loss: 0.0133 - val_acc: 0.9957\n",
            "Epoch 2/10\n",
            " - 6s - loss: 0.0104 - acc: 0.9964 - val_loss: 0.0174 - val_acc: 0.9936\n",
            "Epoch 3/10\n",
            " - 6s - loss: 0.0107 - acc: 0.9962 - val_loss: 0.0160 - val_acc: 0.9941\n",
            "Epoch 4/10\n",
            " - 6s - loss: 0.0099 - acc: 0.9965 - val_loss: 0.0085 - val_acc: 0.9973\n",
            "Epoch 5/10\n",
            " - 6s - loss: 0.0114 - acc: 0.9961 - val_loss: 0.0148 - val_acc: 0.9949\n",
            "Epoch 6/10\n",
            " - 6s - loss: 0.0099 - acc: 0.9965 - val_loss: 0.0113 - val_acc: 0.9963\n",
            "Epoch 7/10\n",
            " - 6s - loss: 0.0102 - acc: 0.9964 - val_loss: 0.0120 - val_acc: 0.9956\n",
            "Epoch 8/10\n",
            " - 6s - loss: 0.0110 - acc: 0.9960 - val_loss: 0.0180 - val_acc: 0.9937\n",
            "Epoch 9/10\n",
            " - 6s - loss: 0.0098 - acc: 0.9966 - val_loss: 0.0303 - val_acc: 0.9916\n",
            "Epoch 10/10\n",
            " - 6s - loss: 0.0101 - acc: 0.9964 - val_loss: 0.0126 - val_acc: 0.9953\n"
          ],
          "name": "stdout"
        }
      ]
    },
    {
      "cell_type": "code",
      "metadata": {
        "id": "GPpZk0YwdvVf",
        "colab_type": "code",
        "colab": {
          "base_uri": "https://localhost:8080/",
          "height": 34
        },
        "outputId": "f39449e9-6c2f-411e-fcb1-f51968da7b64"
      },
      "source": [
        "print(X.shape)\n",
        "#print(pred.shape, y_cl.shape)"
      ],
      "execution_count": 67,
      "outputs": [
        {
          "output_type": "stream",
          "text": [
            "(52903, 6, 1)\n"
          ],
          "name": "stdout"
        }
      ]
    },
    {
      "cell_type": "code",
      "metadata": {
        "id": "zzfyC3_h4hnT",
        "colab_type": "code",
        "outputId": "931326df-0638-4d9b-b6cc-ef4cea1bacac",
        "colab": {
          "base_uri": "https://localhost:8080/",
          "height": 153
        }
      },
      "source": [
        "class1, class0 = counter_classes(yoh)\n",
        "class1_v3, class0_v3 = counter_classes(y_v3)\n",
        "class1_v7, class0_v7 = counter_classes(y_v7)\n",
        "class1_v8, class0_v8 = counter_classes(y_v8)"
      ],
      "execution_count": 71,
      "outputs": [
        {
          "output_type": "stream",
          "text": [
            "1: 160257\n",
            "0: 157161\n",
            "1: 618\n",
            "0: 0\n",
            "1: 1044\n",
            "0: 0\n",
            "1: 606\n",
            "0: 0\n"
          ],
          "name": "stdout"
        }
      ]
    },
    {
      "cell_type": "code",
      "metadata": {
        "id": "99MKVd86_ZPj",
        "colab_type": "code",
        "colab": {}
      },
      "source": [
        "out = False"
      ],
      "execution_count": 0,
      "outputs": []
    },
    {
      "cell_type": "code",
      "metadata": {
        "id": "9DTJR7ttydKi",
        "colab_type": "code",
        "outputId": "a78477c0-1339-4002-b020-ad42adfc2699",
        "colab": {
          "base_uri": "https://localhost:8080/",
          "height": 68
        }
      },
      "source": [
        "mismatching_pred(X, yoh, X_ini, *[class1, class0], model=model_dence2, flag_out=False)"
      ],
      "execution_count": 126,
      "outputs": [
        {
          "output_type": "stream",
          "text": [
            "(160257, 157161)\n",
            "761 0.004748622525069108\n",
            "475 0.0030223783254115207\n"
          ],
          "name": "stdout"
        }
      ]
    },
    {
      "cell_type": "code",
      "metadata": {
        "id": "RyRCuO1nnJvk",
        "colab_type": "code",
        "outputId": "2f9ee44b-f343-4657-8725-4b9a3fdba420",
        "colab": {
          "base_uri": "https://localhost:8080/",
          "height": 51
        }
      },
      "source": [
        "make_prediction_many_to_many(X,yoh,out=out,model=model_dence2,X_ini=X_ini)"
      ],
      "execution_count": 127,
      "outputs": [
        {
          "output_type": "stream",
          "text": [
            "[[43267     0]\n",
            " [    1  9635]]\n"
          ],
          "name": "stdout"
        }
      ]
    },
    {
      "cell_type": "code",
      "metadata": {
        "id": "HWZGW_EPepGL",
        "colab_type": "code",
        "outputId": "7437aae3-dfa0-4599-ee6a-31c3135cc16f",
        "colab": {
          "base_uri": "https://localhost:8080/",
          "height": 85
        }
      },
      "source": [
        "make_prediction_many_to_many(X_v3,y_v3,out=out,model=model_dence2,X_ini=test_v3)\n",
        "mismatching_pred(X_v3, y_v3, test_v3, *[class1_v3, class0_v3],model=model_dence2, flag_out=out)\n"
      ],
      "execution_count": 128,
      "outputs": [
        {
          "output_type": "stream",
          "text": [
            "[[ 0  0]\n",
            " [27 76]]\n",
            "(618, 0)\n",
            "83 0.1343042071197411\n"
          ],
          "name": "stdout"
        }
      ]
    },
    {
      "cell_type": "code",
      "metadata": {
        "id": "z_sWoDNa_MvL",
        "colab_type": "code",
        "outputId": "2b9b0bb2-be84-4344-ec6b-5bc1b3efda3b",
        "colab": {
          "base_uri": "https://localhost:8080/",
          "height": 85
        }
      },
      "source": [
        "make_prediction_many_to_many(X_v8, y_v8, out=out, model=model_dence2, X_ini=test_v8)\n",
        "mismatching_pred(X_v8, y_v8, test_v8, *[class1_v8, class0_v8], model=model_dence2, flag_out=out)"
      ],
      "execution_count": 129,
      "outputs": [
        {
          "output_type": "stream",
          "text": [
            "[[ 0  0]\n",
            " [ 6 95]]\n",
            "(606, 0)\n",
            "25 0.041254125412541254\n"
          ],
          "name": "stdout"
        }
      ]
    },
    {
      "cell_type": "code",
      "metadata": {
        "id": "NSiHOq11_yEg",
        "colab_type": "code",
        "outputId": "e64f93a1-3583-4863-b80d-02724c9e31eb",
        "colab": {
          "base_uri": "https://localhost:8080/",
          "height": 85
        }
      },
      "source": [
        "make_prediction_many_to_many(X_v7, y_v7, out=out, model=model_dence2, X_ini=test_v7)\n",
        "mismatching_pred(X_v7, y_v7, test_v7, *[class1_v7, class0_v7], model=model_dence2, flag_out=out)"
      ],
      "execution_count": 130,
      "outputs": [
        {
          "output_type": "stream",
          "text": [
            "[[  0   0]\n",
            " [ 29 145]]\n",
            "(1044, 0)\n",
            "98 0.09386973180076628\n"
          ],
          "name": "stdout"
        }
      ]
    },
    {
      "cell_type": "code",
      "metadata": {
        "id": "yPLhWZX9_SLw",
        "colab_type": "code",
        "colab": {}
      },
      "source": [
        " make_prediction_many_to_many(X_v4, y_v4, out=out, model=GRU_model, X_ini=test_v4)"
      ],
      "execution_count": 0,
      "outputs": []
    },
    {
      "cell_type": "code",
      "metadata": {
        "id": "qWip3visjS9M",
        "colab_type": "code",
        "colab": {}
      },
      "source": [
        "make_predictions(X,y, GRU_model,X_ini, out=False)\n",
        "make_predictions(X_v7v8, y_v7v8, out=True, model=GRU_model, X_ini=test_v7v8)\n",
        "make_predictions(X_v3, y_v3, out=True, model=GRU_model, X_ini=test_v3)\n",
        "make_predictions(X_v4, y_v4, out=True, model=GRU_model, X_ini=test_v4)"
      ],
      "execution_count": 0,
      "outputs": []
    },
    {
      "cell_type": "code",
      "metadata": {
        "id": "GZSplb-P_Npv",
        "colab_type": "code",
        "colab": {}
      },
      "source": [
        "#plot_loss(epochs, logplot_loss(epos.history.get('loss'), logs.history.get('val_loss'))"
      ],
      "execution_count": 0,
      "outputs": []
    },
    {
      "cell_type": "code",
      "metadata": {
        "id": "SPeSwZ7d_Npy",
        "colab_type": "code",
        "colab": {}
      },
      "source": [
        "#acc_graph(epochs, logs.history.get('acc'), logs.history.get('val_acc'))"
      ],
      "execution_count": 0,
      "outputs": []
    },
    {
      "cell_type": "code",
      "metadata": {
        "id": "CmrNU65L_NqA",
        "colab_type": "code",
        "colab": {}
      },
      "source": [
        "GRU_model.save_weights('LSTM_sequence_weights.h5')"
      ],
      "execution_count": 0,
      "outputs": []
    },
    {
      "cell_type": "code",
      "metadata": {
        "id": "g392u_wAK9zd",
        "colab_type": "code",
        "colab": {}
      },
      "source": [
        "files.download('LSTM_sequence_weights.h5')"
      ],
      "execution_count": 0,
      "outputs": []
    },
    {
      "cell_type": "markdown",
      "metadata": {
        "id": "Qh-CPRLQ_NqG",
        "colab_type": "text"
      },
      "source": [
        "# Final fit NN on all train set"
      ]
    },
    {
      "cell_type": "code",
      "metadata": {
        "id": "isNoPp6K_NqH",
        "colab_type": "code",
        "colab": {}
      },
      "source": [
        "Tx=  6\n",
        "Ty = 1\n",
        "epochs = 250\n",
        "batch_size = 32"
      ],
      "execution_count": 0,
      "outputs": []
    },
    {
      "cell_type": "code",
      "metadata": {
        "id": "ks1Usr1x_NqK",
        "colab_type": "code",
        "colab": {}
      },
      "source": [
        "LSTM_model = model((Tx,1),Ty)\n",
        "#LSTM_model.summary()\n",
        "LSTM_model.compile(loss='binary_crossentropy', optimizer='adam', metrics=['accuracy'])\n",
        "LSTM_model.fit(X, y , epochs=epochs, batch_size=batch_size, shuffle=True,\\\n",
        "               verbose=0, class_weight=class_weights)\n",
        "LSTM_model.save_weights('sources/LSTM_sequence_weights.h5')"
      ],
      "execution_count": 0,
      "outputs": []
    },
    {
      "cell_type": "code",
      "metadata": {
        "id": "_R7AAT5T_NqM",
        "colab_type": "code",
        "colab": {}
      },
      "source": [
        "print(LSTM_model.summary())\n",
        "test_preds = LSTM_model.predict(X_test)"
      ],
      "execution_count": 0,
      "outputs": []
    },
    {
      "cell_type": "code",
      "metadata": {
        "id": "crGaA4yU_NqN",
        "colab_type": "code",
        "colab": {}
      },
      "source": [
        "for i in range(X_test.shape[0]):\n",
        "    if test_preds[i] > 0.5:\n",
        "        print(i)"
      ],
      "execution_count": 0,
      "outputs": []
    },
    {
      "cell_type": "code",
      "metadata": {
        "id": "u9-v1zer_NqR",
        "colab_type": "code",
        "colab": {}
      },
      "source": [
        "LSTM_model = model((Tx,1),Ty)\n",
        "LSTM_model.compile(loss='binary_crossentropy', optimizer='adam', metrics=['accuracy'])\n",
        "\n",
        "LSTM_model.load_weights('LSTM_sequence_weights.h5')"
      ],
      "execution_count": 0,
      "outputs": []
    },
    {
      "cell_type": "code",
      "metadata": {
        "id": "zIhaqheq_NqT",
        "colab_type": "code",
        "colab": {}
      },
      "source": [
        "test_preds = LSTM_model.predict(X_test)\n",
        "\n",
        "for i in range(X_test.shape[0]):\n",
        "    if test_preds[i] > 0.5:\n",
        "        print(i)"
      ],
      "execution_count": 0,
      "outputs": []
    },
    {
      "cell_type": "code",
      "metadata": {
        "id": "jDXYk528_NqY",
        "colab_type": "code",
        "colab": {}
      },
      "source": [
        ""
      ],
      "execution_count": 0,
      "outputs": []
    }
  ]
}