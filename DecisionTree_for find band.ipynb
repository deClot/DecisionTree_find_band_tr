{
 "cells": [
  {
   "cell_type": "code",
   "execution_count": null,
   "metadata": {},
   "outputs": [],
   "source": [
    "file = open('search', 'r')\n",
    "file_res = open('results.RES', 'w')\n",
    "file_delta = open('deltas', 'w')\n",
    "\n",
    "count = 0\n",
    "for line in file:\n",
    "    count +=1\n",
    "    if count == 5:\n",
    "        break\n",
    "    continue\n",
    "\n",
    "deltas = {}\n",
    "for line in file:\n",
    "    if line.find('Searching') != -1:\n",
    "        J0 = line.split()[1]\n",
    "        deltas[J0] = []\n",
    "        E0 = float(line.split()[-1])\n",
    "        file_res.write(line)\n",
    "        continue\n",
    "\n",
    "    if line.find('No') != -1:\n",
    "        continue\n",
    "\n",
    "    if len(line.split()) == 0:\n",
    "        file_res.write(line)\n",
    "        continue\n",
    "\n",
    "    try:\n",
    "        E = float(line.split()[-1])\n",
    "        delta = round(E - E0, 3)\n",
    "        file_res.write(line[:-1]+ \"\\t\"+ str(delta) + \"\\n\")\n",
    "        deltas[J0].append(delta)\n",
    "    except ValueError:\n",
    "        break\n",
    "\n",
    "for k,v in deltas.items():\n",
    "    file_delta.write(k + '\\t' + '  '.join(map(str,v)) + '\\n')\n",
    "        \n",
    "        #file_res.write(line[:-1]+ \"\\t\"+ delta + \"\\n\")\n",
    "        # = round(str(float(line.split()[-1]) - E0)), 3)\n",
    "\n",
    "    \n"
   ]
  }
 ],
 "metadata": {
  "kernelspec": {
   "display_name": "Python 3",
   "language": "python",
   "name": "python3"
  },
  "language_info": {
   "codemirror_mode": {
    "name": "ipython",
    "version": 3
   },
   "file_extension": ".py",
   "mimetype": "text/x-python",
   "name": "python",
   "nbconvert_exporter": "python",
   "pygments_lexer": "ipython3",
   "version": "3.7.0"
  }
 },
 "nbformat": 4,
 "nbformat_minor": 2
}
